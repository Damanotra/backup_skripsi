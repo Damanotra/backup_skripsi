{
 "cells": [
  {
   "cell_type": "code",
   "execution_count": 2,
   "id": "321d5ecf",
   "metadata": {},
   "outputs": [],
   "source": [
    "import scipy.io as sio\n",
    "from torch.utils.data import TensorDataset, DataLoader\n",
    "import numpy as np\n",
    "import torch\n",
    "import torch.nn as nn\n",
    "from torch.autograd import Variable\n",
    "import torch.nn.functional as F\n",
    "import matplotlib.pyplot as plt\n",
    "import math\n",
    "import time\n",
    "import torch\n",
    "from torch import nn\n",
    "from torch.autograd import Variable\n",
    "import numpy as np\n",
    "import matplotlib.pyplot as plt\n",
    "import scipy.io as sio\n",
    "from torch.utils.data import TensorDataset, DataLoader\n",
    "import numpy as np\n",
    "import torch\n",
    "import torch.nn as nn\n",
    "from torch.autograd import Variable\n",
    "import torch.nn.functional as F\n",
    "import matplotlib.pyplot as plt\n",
    "import math\n",
    "import time\n",
    "\n",
    "\n",
    "from tqdm import tqdm\n",
    "\n",
    "from models.apl import *\n",
    "# from models.apl_plus import *"
   ]
  },
  {
   "cell_type": "code",
   "execution_count": 3,
   "id": "8911b003",
   "metadata": {},
   "outputs": [],
   "source": [
    "batch_size = 128\n",
    "num_epochs = 200"
   ]
  },
  {
   "cell_type": "markdown",
   "id": "6b43910f",
   "metadata": {},
   "source": [
    "# load data"
   ]
  },
  {
   "cell_type": "code",
   "execution_count": 5,
   "id": "a3764d0f",
   "metadata": {},
   "outputs": [],
   "source": [
    "data_amp = sio.loadmat('data/train_data_split_amp.mat')\n",
    "train_data_amp = data_amp['train_data']\n",
    "train_data = train_data_amp\n",
    "# data_pha = sio.loadmat('data/train_data_split_pha.mat')\n",
    "# train_data_pha = data_pha['train_data']\n",
    "# train_data = np.concatenate((train_data_amp,train_data_pha),1)\n",
    "\n",
    "train_activity_label = data_amp['train_activity_label']\n",
    "train_location_label = data_amp['train_location_label']\n",
    "train_label = np.concatenate((train_activity_label, train_location_label), 1)\n",
    "\n",
    "num_train_instances = len(train_data)\n",
    "\n",
    "train_data = torch.from_numpy(train_data).type(torch.FloatTensor)\n",
    "train_label = torch.from_numpy(train_label).type(torch.LongTensor)\n",
    "# train_data = train_data.view(num_train_instances, 1, -1)\n",
    "# train_label = train_label.view(num_train_instances, 2)\n",
    "\n",
    "train_dataset = TensorDataset(train_data, train_label)\n",
    "train_data_loader = DataLoader(dataset=train_dataset, batch_size=batch_size, shuffle=True)"
   ]
  },
  {
   "cell_type": "code",
   "execution_count": 6,
   "id": "fc721cb1",
   "metadata": {},
   "outputs": [],
   "source": [
    "data_amp = sio.loadmat('data/test_data_split_amp.mat')\n",
    "test_data_amp = data_amp['test_data']\n",
    "test_data = test_data_amp\n",
    "# data_pha = sio.loadmat('data/test_data_split_pha.mat')\n",
    "# test_data_pha = data_pha['test_data']\n",
    "# test_data = np.concatenate((test_data_amp,test_data_pha), 1)\n",
    "\n",
    "test_activity_label = data_amp['test_activity_label']\n",
    "test_location_label = data_amp['test_location_label']\n",
    "test_label = np.concatenate((test_activity_label, test_location_label), 1)\n",
    "\n",
    "num_test_instances = len(test_data)\n",
    "\n",
    "test_data = torch.from_numpy(test_data).type(torch.FloatTensor)\n",
    "test_label = torch.from_numpy(test_label).type(torch.LongTensor)\n",
    "# test_data = test_data.view(num_test_instances, 1, -1)\n",
    "# test_label = test_label.view(num_test_instances, 2)\n",
    "\n",
    "test_dataset = TensorDataset(test_data, test_label)\n",
    "test_data_loader = DataLoader(dataset=test_dataset, batch_size=batch_size, shuffle=False)"
   ]
  },
  {
   "cell_type": "code",
   "execution_count": 7,
   "id": "679d46b3",
   "metadata": {},
   "outputs": [
    {
     "name": "stderr",
     "output_type": "stream",
     "text": [
      "/home/user2/miniconda3/envs/torch_cuda111/lib/python3.8/site-packages/torch/nn/_reduction.py:42: UserWarning: size_average and reduce args will be deprecated, please use reduction='sum' instead.\n",
      "  warnings.warn(warning.format(ret))\n"
     ]
    }
   ],
   "source": [
    "aplnet = ResNet(block=BasicBlock, layers=[1, 1, 1, 1], inchannel=52)\n",
    "# aplnet = ResNet(block=BasicBlock, layers=[2, 2, 2, 2], inchannel=52)\n",
    "# aplnet = ResNet(block=BasicBlock, layers=[3, 4, 6, 3], inchannel=52)\n",
    "#\n",
    "\n",
    "# aplnet = ResNet(block=Bottleneck, layers=[2, 3, 4, 6])\n",
    "\n",
    "aplnet = aplnet.cuda()\n",
    "\n",
    "criterion = nn.CrossEntropyLoss(size_average=False).cuda()\n",
    "\n",
    "optimizer = torch.optim.Adam(aplnet.parameters(), lr=0.005)\n",
    "scheduler = torch.optim.lr_scheduler.MultiStepLR(optimizer,\n",
    "                                                 milestones=[10, 20, 30, 40, 60, 70, 80, 90, 100, 110, 120, 130,\n",
    "                                                             140, 150, 160, 170, 180, 190, 200, 250, 300],\n",
    "                                                 gamma=0.5)"
   ]
  },
  {
   "cell_type": "code",
   "execution_count": 8,
   "id": "f9cf688a",
   "metadata": {},
   "outputs": [],
   "source": [
    "train_loss_act = np.zeros([num_epochs, 1])\n",
    "train_loss_loc = np.zeros([num_epochs, 1])\n",
    "test_loss_act = np.zeros([num_epochs, 1])\n",
    "test_loss_loc = np.zeros([num_epochs, 1])\n",
    "train_acc_act = np.zeros([num_epochs, 1])\n",
    "train_acc_loc = np.zeros([num_epochs, 1])\n",
    "test_acc_act = np.zeros([num_epochs, 1])\n",
    "test_acc_loc = np.zeros([num_epochs, 1])"
   ]
  },
  {
   "cell_type": "code",
   "execution_count": 9,
   "id": "7f97a01e",
   "metadata": {},
   "outputs": [
    {
     "name": "stderr",
     "output_type": "stream",
     "text": [
      "/home/user2/miniconda3/envs/torch_cuda111/lib/python3.8/site-packages/torch/optim/lr_scheduler.py:129: UserWarning: Detected call of `lr_scheduler.step()` before `optimizer.step()`. In PyTorch 1.1.0 and later, you should call them in the opposite order: `optimizer.step()` before `lr_scheduler.step()`.  Failure to do this will result in PyTorch skipping the first value of the learning rate schedule. See more details at https://pytorch.org/docs/stable/optim.html#how-to-adjust-learning-rate\n",
      "  warnings.warn(\"Detected call of `lr_scheduler.step()` before `optimizer.step()`. \"\n"
     ]
    },
    {
     "name": "stdout",
     "output_type": "stream",
     "text": [
      "Epoch: 0\n"
     ]
    },
    {
     "name": "stderr",
     "output_type": "stream",
     "text": [
      "100%|████████████████████████████████████████████████████████████████████████████████████████████████████████████████████████████████████████████████████████████████████████████████| 9/9 [00:01<00:00,  6.89it/s]\n"
     ]
    },
    {
     "name": "stdout",
     "output_type": "stream",
     "text": [
      "Activity Training accuracy: 15.14336917562724\n",
      "Location Training accuracy: 11.469534050179211\n",
      "Activity Training loss: 2.126258590315405\n",
      "Location Training loss: 2.085430610137174\n",
      "Activity Test accuracy: 14.748201438848922\n",
      "Location Test accuracy: 9.352517985611511\n",
      "Activity Test loss: 1.9301319396753105\n",
      "Location Test loss: 4.452474443174952\n",
      "Epoch: 1\n"
     ]
    },
    {
     "name": "stderr",
     "output_type": "stream",
     "text": [
      "100%|████████████████████████████████████████████████████████████████████████████████████████████████████████████████████████████████████████████████████████████████████████████████| 9/9 [00:00<00:00, 48.02it/s]\n"
     ]
    },
    {
     "name": "stdout",
     "output_type": "stream",
     "text": [
      "Activity Training accuracy: 17.025089605734767\n",
      "Location Training accuracy: 8.512544802867383\n",
      "Activity Training loss: 1.8270119150906907\n",
      "Location Training loss: 1.2139756876080694\n",
      "Activity Test accuracy: 16.906474820143885\n",
      "Location Test accuracy: 8.992805755395683\n",
      "Activity Test loss: 1.9639230837924875\n",
      "Location Test loss: 9.714547740469733\n",
      "Epoch: 2\n"
     ]
    },
    {
     "name": "stderr",
     "output_type": "stream",
     "text": [
      "100%|████████████████████████████████████████████████████████████████████████████████████████████████████████████████████████████████████████████████████████████████████████████████| 9/9 [00:00<00:00, 49.59it/s]\n"
     ]
    },
    {
     "name": "stdout",
     "output_type": "stream",
     "text": [
      "Activity Training accuracy: 17.293906810035843\n",
      "Location Training accuracy: 6.630824372759856\n",
      "Activity Training loss: 1.779933573951858\n",
      "Location Training loss: 1.0890124262874699\n",
      "Activity Test accuracy: 16.18705035971223\n",
      "Location Test accuracy: 6.115107913669065\n",
      "Activity Test loss: 1.8132561882622809\n",
      "Location Test loss: 8.98383951530182\n",
      "Epoch: 3\n"
     ]
    },
    {
     "name": "stderr",
     "output_type": "stream",
     "text": [
      "100%|████████████████████████████████████████████████████████████████████████████████████████████████████████████████████████████████████████████████████████████████████████████████| 9/9 [00:00<00:00, 48.28it/s]\n"
     ]
    },
    {
     "name": "stdout",
     "output_type": "stream",
     "text": [
      "Activity Training accuracy: 24.10394265232975\n",
      "Location Training accuracy: 33.422939068100355\n",
      "Activity Training loss: 1.7305952639562683\n",
      "Location Training loss: 0.935992900615952\n",
      "Activity Test accuracy: 21.58273381294964\n",
      "Location Test accuracy: 28.776978417266186\n",
      "Activity Test loss: 1.7880920163161462\n",
      "Location Test loss: 2.736782650295779\n",
      "Epoch: 4\n"
     ]
    },
    {
     "name": "stderr",
     "output_type": "stream",
     "text": [
      "100%|████████████████████████████████████████████████████████████████████████████████████████████████████████████████████████████████████████████████████████████████████████████████| 9/9 [00:00<00:00, 47.88it/s]\n"
     ]
    },
    {
     "name": "stdout",
     "output_type": "stream",
     "text": [
      "Activity Training accuracy: 23.835125448028673\n",
      "Location Training accuracy: 32.795698924731184\n",
      "Activity Training loss: 1.6331204786950115\n",
      "Location Training loss: 0.7948183381002009\n",
      "Activity Test accuracy: 21.58273381294964\n",
      "Location Test accuracy: 28.057553956834532\n",
      "Activity Test loss: 1.766994805644742\n",
      "Location Test loss: 1.8490257949280224\n",
      "Epoch: 5\n"
     ]
    },
    {
     "name": "stderr",
     "output_type": "stream",
     "text": [
      "100%|████████████████████████████████████████████████████████████████████████████████████████████████████████████████████████████████████████████████████████████████████████████████| 9/9 [00:00<00:00, 47.66it/s]\n"
     ]
    },
    {
     "name": "stdout",
     "output_type": "stream",
     "text": [
      "Activity Training accuracy: 30.28673835125448\n",
      "Location Training accuracy: 41.12903225806452\n",
      "Activity Training loss: 1.5866521883181774\n",
      "Location Training loss: 0.7209861919444095\n",
      "Activity Test accuracy: 26.97841726618705\n",
      "Location Test accuracy: 41.007194244604314\n",
      "Activity Test loss: 1.8463424023964423\n",
      "Location Test loss: 2.538946261508859\n",
      "Epoch: 6\n"
     ]
    },
    {
     "name": "stderr",
     "output_type": "stream",
     "text": [
      "100%|████████████████████████████████████████████████████████████████████████████████████████████████████████████████████████████████████████████████████████████████████████████████| 9/9 [00:00<00:00, 49.35it/s]\n"
     ]
    },
    {
     "name": "stdout",
     "output_type": "stream",
     "text": [
      "Activity Training accuracy: 21.863799283154123\n",
      "Location Training accuracy: 34.76702508960574\n",
      "Activity Training loss: 1.5237883427664372\n",
      "Location Training loss: 0.7818455439741894\n",
      "Activity Test accuracy: 21.58273381294964\n",
      "Location Test accuracy: 33.81294964028777\n",
      "Activity Test loss: 2.993554094712511\n",
      "Location Test loss: 4.810942505761016\n",
      "Epoch: 7\n"
     ]
    },
    {
     "name": "stderr",
     "output_type": "stream",
     "text": [
      "100%|████████████████████████████████████████████████████████████████████████████████████████████████████████████████████████████████████████████████████████████████████████████████| 9/9 [00:00<00:00, 47.95it/s]\n"
     ]
    },
    {
     "name": "stdout",
     "output_type": "stream",
     "text": [
      "Activity Training accuracy: 29.480286738351253\n",
      "Location Training accuracy: 22.043010752688172\n",
      "Activity Training loss: 1.397336173655739\n",
      "Location Training loss: 0.6275329384752499\n",
      "Activity Test accuracy: 29.136690647482013\n",
      "Location Test accuracy: 21.223021582733814\n",
      "Activity Test loss: 1.8899518843177412\n",
      "Location Test loss: 7.77949243998356\n",
      "Epoch: 8\n"
     ]
    },
    {
     "name": "stderr",
     "output_type": "stream",
     "text": [
      "100%|████████████████████████████████████████████████████████████████████████████████████████████████████████████████████████████████████████████████████████████████████████████████| 9/9 [00:00<00:00, 48.96it/s]\n"
     ]
    },
    {
     "name": "stdout",
     "output_type": "stream",
     "text": [
      "Activity Training accuracy: 31.72043010752688\n",
      "Location Training accuracy: 47.939068100358426\n",
      "Activity Training loss: 1.3359981591556234\n",
      "Location Training loss: 0.5935462042422277\n",
      "Activity Test accuracy: 34.172661870503596\n",
      "Location Test accuracy: 47.12230215827338\n",
      "Activity Test loss: 1.835857418801287\n",
      "Location Test loss: 2.4303993526980174\n",
      "Epoch: 9\n"
     ]
    },
    {
     "name": "stderr",
     "output_type": "stream",
     "text": [
      "100%|████████████████████████████████████████████████████████████████████████████████████████████████████████████████████████████████████████████████████████████████████████████████| 9/9 [00:00<00:00, 49.78it/s]\n"
     ]
    },
    {
     "name": "stdout",
     "output_type": "stream",
     "text": [
      "Activity Training accuracy: 41.666666666666664\n",
      "Location Training accuracy: 63.35125448028674\n",
      "Activity Training loss: 1.25301756226461\n",
      "Location Training loss: 0.40801468203144686\n",
      "Activity Test accuracy: 38.489208633093526\n",
      "Location Test accuracy: 61.510791366906474\n",
      "Activity Test loss: 1.5179995598552896\n",
      "Location Test loss: 1.7921657425036532\n",
      "Epoch: 10\n"
     ]
    },
    {
     "name": "stderr",
     "output_type": "stream",
     "text": [
      "100%|████████████████████████████████████████████████████████████████████████████████████████████████████████████████████████████████████████████████████████████████████████████████| 9/9 [00:00<00:00, 49.94it/s]\n"
     ]
    },
    {
     "name": "stdout",
     "output_type": "stream",
     "text": [
      "Activity Training accuracy: 50.448028673835125\n",
      "Location Training accuracy: 65.68100358422939\n",
      "Activity Training loss: 1.1109579147831086\n",
      "Location Training loss: 0.33893085124244826\n",
      "Activity Test accuracy: 44.96402877697842\n",
      "Location Test accuracy: 66.18705035971223\n",
      "Activity Test loss: 1.3376736126357702\n",
      "Location Test loss: 1.1980209144756948\n",
      "Epoch: 11\n"
     ]
    },
    {
     "name": "stderr",
     "output_type": "stream",
     "text": [
      "100%|████████████████████████████████████████████████████████████████████████████████████████████████████████████████████████████████████████████████████████████████████████████████| 9/9 [00:00<00:00, 49.06it/s]\n"
     ]
    },
    {
     "name": "stdout",
     "output_type": "stream",
     "text": [
      "Activity Training accuracy: 54.56989247311828\n",
      "Location Training accuracy: 71.32616487455198\n",
      "Activity Training loss: 1.0182120073653464\n",
      "Location Training loss: 0.283991032603821\n",
      "Activity Test accuracy: 49.280575539568346\n",
      "Location Test accuracy: 70.50359712230215\n",
      "Activity Test loss: 1.283943711424903\n",
      "Location Test loss: 1.2519335643850642\n",
      "Epoch: 12\n"
     ]
    },
    {
     "name": "stderr",
     "output_type": "stream",
     "text": [
      "100%|████████████████████████████████████████████████████████████████████████████████████████████████████████████████████████████████████████████████████████████████████████████████| 9/9 [00:00<00:00, 49.89it/s]\n"
     ]
    },
    {
     "name": "stdout",
     "output_type": "stream",
     "text": [
      "Activity Training accuracy: 52.77777777777778\n",
      "Location Training accuracy: 65.14336917562724\n",
      "Activity Training loss: 0.9616364236373628\n",
      "Location Training loss: 0.311342646144197\n",
      "Activity Test accuracy: 45.68345323741007\n",
      "Location Test accuracy: 62.23021582733813\n",
      "Activity Test loss: 1.433181913636571\n",
      "Location Test loss: 1.5368955598460685\n",
      "Epoch: 13\n"
     ]
    },
    {
     "name": "stderr",
     "output_type": "stream",
     "text": [
      "100%|████████████████████████████████████████████████████████████████████████████████████████████████████████████████████████████████████████████████████████████████████████████████| 9/9 [00:00<00:00, 50.08it/s]\n"
     ]
    },
    {
     "name": "stdout",
     "output_type": "stream",
     "text": [
      "Activity Training accuracy: 28.942652329749105\n",
      "Location Training accuracy: 32.61648745519713\n",
      "Activity Training loss: 0.9311230157011299\n",
      "Location Training loss: 0.2890077098723381\n",
      "Activity Test accuracy: 26.97841726618705\n",
      "Location Test accuracy: 33.45323741007194\n",
      "Activity Test loss: 2.4195717255846203\n",
      "Location Test loss: 6.43223725462989\n",
      "Epoch: 14\n"
     ]
    },
    {
     "name": "stderr",
     "output_type": "stream",
     "text": [
      "100%|████████████████████████████████████████████████████████████████████████████████████████████████████████████████████████████████████████████████████████████████████████████████| 9/9 [00:00<00:00, 49.64it/s]\n"
     ]
    },
    {
     "name": "stdout",
     "output_type": "stream",
     "text": [
      "Activity Training accuracy: 50.53763440860215\n",
      "Location Training accuracy: 68.27956989247312\n",
      "Activity Training loss: 0.8352689435405116\n",
      "Location Training loss: 0.21773328063308553\n",
      "Activity Test accuracy: 49.280575539568346\n",
      "Location Test accuracy: 67.62589928057554\n",
      "Activity Test loss: 1.4483141658975065\n",
      "Location Test loss: 1.1609178618561449\n",
      "Epoch: 15\n"
     ]
    },
    {
     "name": "stderr",
     "output_type": "stream",
     "text": [
      "100%|████████████████████████████████████████████████████████████████████████████████████████████████████████████████████████████████████████████████████████████████████████████████| 9/9 [00:00<00:00, 49.93it/s]\n"
     ]
    },
    {
     "name": "stdout",
     "output_type": "stream",
     "text": [
      "Activity Training accuracy: 67.92114695340501\n",
      "Location Training accuracy: 85.66308243727599\n",
      "Activity Training loss: 0.8256893294686485\n",
      "Location Training loss: 0.2081033593864851\n",
      "Activity Test accuracy: 60.07194244604317\n",
      "Location Test accuracy: 81.65467625899281\n",
      "Activity Test loss: 1.007126067182143\n",
      "Location Test loss: 0.4552333663693435\n",
      "Epoch: 16\n"
     ]
    },
    {
     "name": "stderr",
     "output_type": "stream",
     "text": [
      "100%|████████████████████████████████████████████████████████████████████████████████████████████████████████████████████████████████████████████████████████████████████████████████| 9/9 [00:00<00:00, 50.15it/s]\n"
     ]
    },
    {
     "name": "stdout",
     "output_type": "stream",
     "text": [
      "Activity Training accuracy: 41.666666666666664\n",
      "Location Training accuracy: 50.448028673835125\n",
      "Activity Training loss: 0.7498541049205274\n",
      "Location Training loss: 0.17007532341933165\n",
      "Activity Test accuracy: 37.05035971223022\n",
      "Location Test accuracy: 50.0\n",
      "Activity Test loss: 2.3861089678977034\n",
      "Location Test loss: 3.751729924044163\n",
      "Epoch: 17\n"
     ]
    },
    {
     "name": "stderr",
     "output_type": "stream",
     "text": [
      "100%|████████████████████████████████████████████████████████████████████████████████████████████████████████████████████████████████████████████████████████████████████████████████| 9/9 [00:00<00:00, 49.74it/s]\n"
     ]
    },
    {
     "name": "stdout",
     "output_type": "stream",
     "text": [
      "Activity Training accuracy: 62.992831541218635\n",
      "Location Training accuracy: 61.738351254480285\n",
      "Activity Training loss: 0.7005572643758575\n",
      "Location Training loss: 0.1826106126163168\n",
      "Activity Test accuracy: 56.115107913669064\n",
      "Location Test accuracy: 57.9136690647482\n",
      "Activity Test loss: 1.2620059260361487\n",
      "Location Test loss: 1.319341810487157\n",
      "Epoch: 18\n"
     ]
    },
    {
     "name": "stderr",
     "output_type": "stream",
     "text": [
      "100%|████████████████████████████████████████████████████████████████████████████████████████████████████████████████████████████████████████████████████████████████████████████████| 9/9 [00:00<00:00, 49.74it/s]\n"
     ]
    },
    {
     "name": "stdout",
     "output_type": "stream",
     "text": [
      "Activity Training accuracy: 67.74193548387096\n",
      "Location Training accuracy: 76.7921146953405\n",
      "Activity Training loss: 0.6479987653780155\n",
      "Location Training loss: 0.18760016827600404\n",
      "Activity Test accuracy: 60.79136690647482\n",
      "Location Test accuracy: 75.53956834532374\n",
      "Activity Test loss: 1.0877577966923335\n",
      "Location Test loss: 0.599694709983661\n",
      "Epoch: 19\n"
     ]
    },
    {
     "name": "stderr",
     "output_type": "stream",
     "text": [
      "100%|████████████████████████████████████████████████████████████████████████████████████████████████████████████████████████████████████████████████████████████████████████████████| 9/9 [00:00<00:00, 49.49it/s]\n"
     ]
    },
    {
     "name": "stdout",
     "output_type": "stream",
     "text": [
      "Activity Training accuracy: 56.541218637992834\n",
      "Location Training accuracy: 71.68458781362007\n",
      "Activity Training loss: 0.5697967501951375\n",
      "Location Training loss: 0.14829378657870823\n",
      "Activity Test accuracy: 51.798561151079134\n",
      "Location Test accuracy: 67.98561151079137\n",
      "Activity Test loss: 1.766908199667073\n",
      "Location Test loss: 1.6104424565816098\n",
      "Epoch: 20\n"
     ]
    },
    {
     "name": "stderr",
     "output_type": "stream",
     "text": [
      "100%|████████████████████████████████████████████████████████████████████████████████████████████████████████████████████████████████████████████████████████████████████████████████| 9/9 [00:00<00:00, 49.82it/s]\n"
     ]
    },
    {
     "name": "stdout",
     "output_type": "stream",
     "text": [
      "Activity Training accuracy: 66.48745519713262\n",
      "Location Training accuracy: 80.82437275985663\n",
      "Activity Training loss: 0.5740819131174395\n",
      "Location Training loss: 0.13262346653955384\n",
      "Activity Test accuracy: 60.79136690647482\n",
      "Location Test accuracy: 76.97841726618705\n",
      "Activity Test loss: 1.196918751696031\n",
      "Location Test loss: 0.9400582073403777\n",
      "Epoch: 21\n"
     ]
    },
    {
     "name": "stderr",
     "output_type": "stream",
     "text": [
      "100%|████████████████████████████████████████████████████████████████████████████████████████████████████████████████████████████████████████████████████████████████████████████████| 9/9 [00:00<00:00, 49.99it/s]\n"
     ]
    },
    {
     "name": "stdout",
     "output_type": "stream",
     "text": [
      "Activity Training accuracy: 63.799283154121866\n",
      "Location Training accuracy: 71.50537634408602\n",
      "Activity Training loss: 0.49655851411990365\n",
      "Location Training loss: 0.13077299996516184\n",
      "Activity Test accuracy: 55.39568345323741\n",
      "Location Test accuracy: 68.70503597122303\n",
      "Activity Test loss: 1.3566220269786369\n",
      "Location Test loss: 1.8227966226262153\n",
      "Epoch: 22\n"
     ]
    },
    {
     "name": "stderr",
     "output_type": "stream",
     "text": [
      "100%|████████████████████████████████████████████████████████████████████████████████████████████████████████████████████████████████████████████████████████████████████████████████| 9/9 [00:00<00:00, 49.87it/s]\n"
     ]
    },
    {
     "name": "stdout",
     "output_type": "stream",
     "text": [
      "Activity Training accuracy: 59.946236559139784\n",
      "Location Training accuracy: 54.48028673835125\n",
      "Activity Training loss: 0.42654516363656647\n",
      "Location Training loss: 0.12003203959447936\n",
      "Activity Test accuracy: 55.03597122302158\n",
      "Location Test accuracy: 51.43884892086331\n",
      "Activity Test loss: 1.3246789630368458\n",
      "Location Test loss: 1.5536746772930776\n",
      "Epoch: 23\n"
     ]
    },
    {
     "name": "stderr",
     "output_type": "stream",
     "text": [
      "100%|████████████████████████████████████████████████████████████████████████████████████████████████████████████████████████████████████████████████████████████████████████████████| 9/9 [00:00<00:00, 49.91it/s]\n"
     ]
    },
    {
     "name": "stdout",
     "output_type": "stream",
     "text": [
      "Activity Training accuracy: 63.799283154121866\n",
      "Location Training accuracy: 78.94265232974911\n",
      "Activity Training loss: 0.4643388392677444\n",
      "Location Training loss: 0.13762999563661527\n",
      "Activity Test accuracy: 55.39568345323741\n",
      "Location Test accuracy: 75.89928057553956\n",
      "Activity Test loss: 1.5840417875660409\n",
      "Location Test loss: 1.4840280683778173\n",
      "Epoch: 24\n"
     ]
    },
    {
     "name": "stderr",
     "output_type": "stream",
     "text": [
      "100%|████████████████████████████████████████████████████████████████████████████████████████████████████████████████████████████████████████████████████████████████████████████████| 9/9 [00:00<00:00, 49.64it/s]\n"
     ]
    },
    {
     "name": "stdout",
     "output_type": "stream",
     "text": [
      "Activity Training accuracy: 51.702508960573475\n",
      "Location Training accuracy: 61.64874551971326\n",
      "Activity Training loss: 0.40263768678070394\n",
      "Location Training loss: 0.10465293887695531\n",
      "Activity Test accuracy: 46.76258992805755\n",
      "Location Test accuracy: 58.992805755395686\n",
      "Activity Test loss: 1.910958976196728\n",
      "Location Test loss: 2.418277479761796\n",
      "Epoch: 25\n"
     ]
    },
    {
     "name": "stderr",
     "output_type": "stream",
     "text": [
      "100%|████████████████████████████████████████████████████████████████████████████████████████████████████████████████████████████████████████████████████████████████████████████████| 9/9 [00:00<00:00, 49.62it/s]\n"
     ]
    },
    {
     "name": "stdout",
     "output_type": "stream",
     "text": [
      "Activity Training accuracy: 61.111111111111114\n",
      "Location Training accuracy: 82.43727598566308\n",
      "Activity Training loss: 0.3899964363344254\n",
      "Location Training loss: 0.10941358962793932\n",
      "Activity Test accuracy: 52.51798561151079\n",
      "Location Test accuracy: 80.2158273381295\n",
      "Activity Test loss: 1.670850287238471\n",
      "Location Test loss: 1.2458133148632462\n",
      "Epoch: 26\n"
     ]
    },
    {
     "name": "stderr",
     "output_type": "stream",
     "text": [
      "100%|████████████████████████████████████████████████████████████████████████████████████████████████████████████████████████████████████████████████████████████████████████████████| 9/9 [00:00<00:00, 49.98it/s]\n"
     ]
    },
    {
     "name": "stdout",
     "output_type": "stream",
     "text": [
      "Activity Training accuracy: 85.57347670250896\n",
      "Location Training accuracy: 94.35483870967742\n",
      "Activity Training loss: 0.33681245858524006\n",
      "Location Training loss: 0.10282177651654863\n",
      "Activity Test accuracy: 74.10071942446044\n",
      "Location Test accuracy: 91.72661870503597\n",
      "Activity Test loss: 0.723397229215224\n",
      "Location Test loss: 0.23699561812037187\n",
      "Epoch: 27\n"
     ]
    },
    {
     "name": "stderr",
     "output_type": "stream",
     "text": [
      "100%|████████████████████████████████████████████████████████████████████████████████████████████████████████████████████████████████████████████████████████████████████████████████| 9/9 [00:00<00:00, 49.63it/s]\n"
     ]
    },
    {
     "name": "stdout",
     "output_type": "stream",
     "text": [
      "Activity Training accuracy: 85.75268817204301\n",
      "Location Training accuracy: 91.84587813620071\n",
      "Activity Training loss: 0.3269748944108204\n",
      "Location Training loss: 0.09839238829937459\n",
      "Activity Test accuracy: 74.46043165467626\n",
      "Location Test accuracy: 87.76978417266187\n",
      "Activity Test loss: 0.7210014501063944\n",
      "Location Test loss: 0.2919706946654285\n",
      "Epoch: 28\n"
     ]
    },
    {
     "name": "stderr",
     "output_type": "stream",
     "text": [
      "100%|████████████████████████████████████████████████████████████████████████████████████████████████████████████████████████████████████████████████████████████████████████████████| 9/9 [00:00<00:00, 50.11it/s]\n"
     ]
    },
    {
     "name": "stdout",
     "output_type": "stream",
     "text": [
      "Activity Training accuracy: 76.7921146953405\n",
      "Location Training accuracy: 84.58781362007169\n",
      "Activity Training loss: 0.26540971400489943\n",
      "Location Training loss: 0.09114373285710597\n",
      "Activity Test accuracy: 67.98561151079137\n",
      "Location Test accuracy: 80.93525179856115\n",
      "Activity Test loss: 1.0068304212830907\n",
      "Location Test loss: 0.4867448721000617\n",
      "Epoch: 29\n"
     ]
    },
    {
     "name": "stderr",
     "output_type": "stream",
     "text": [
      "100%|████████████████████████████████████████████████████████████████████████████████████████████████████████████████████████████████████████████████████████████████████████████████| 9/9 [00:00<00:00, 50.14it/s]\n"
     ]
    },
    {
     "name": "stdout",
     "output_type": "stream",
     "text": [
      "Activity Training accuracy: 77.59856630824373\n",
      "Location Training accuracy: 83.78136200716845\n",
      "Activity Training loss: 0.2646988079112063\n",
      "Location Training loss: 0.09051079049332594\n",
      "Activity Test accuracy: 66.18705035971223\n",
      "Location Test accuracy: 81.65467625899281\n",
      "Activity Test loss: 1.1872948673989276\n",
      "Location Test loss: 0.6105015260710133\n",
      "Epoch: 30\n"
     ]
    },
    {
     "name": "stderr",
     "output_type": "stream",
     "text": [
      "100%|████████████████████████████████████████████████████████████████████████████████████████████████████████████████████████████████████████████████████████████████████████████████| 9/9 [00:00<00:00, 49.92it/s]\n"
     ]
    },
    {
     "name": "stdout",
     "output_type": "stream",
     "text": [
      "Activity Training accuracy: 68.99641577060932\n",
      "Location Training accuracy: 69.71326164874552\n",
      "Activity Training loss: 0.22087750383602675\n",
      "Location Training loss: 0.08531036300043907\n",
      "Activity Test accuracy: 63.30935251798561\n",
      "Location Test accuracy: 66.90647482014388\n",
      "Activity Test loss: 1.4962991210196515\n",
      "Location Test loss: 1.5253789888011466\n",
      "Epoch: 31\n"
     ]
    },
    {
     "name": "stderr",
     "output_type": "stream",
     "text": [
      "100%|████████████████████████████████████████████████████████████████████████████████████████████████████████████████████████████████████████████████████████████████████████████████| 9/9 [00:00<00:00, 49.80it/s]\n"
     ]
    },
    {
     "name": "stdout",
     "output_type": "stream",
     "text": [
      "Activity Training accuracy: 85.48387096774194\n",
      "Location Training accuracy: 92.74193548387096\n",
      "Activity Training loss: 0.20649956460494723\n",
      "Location Training loss: 0.0878342719060973\n",
      "Activity Test accuracy: 71.94244604316546\n",
      "Location Test accuracy: 92.80575539568345\n",
      "Activity Test loss: 0.8687699715868175\n",
      "Location Test loss: 0.22489234354856202\n",
      "Epoch: 32\n"
     ]
    },
    {
     "name": "stderr",
     "output_type": "stream",
     "text": [
      "100%|████████████████████████████████████████████████████████████████████████████████████████████████████████████████████████████████████████████████████████████████████████████████| 9/9 [00:00<00:00, 49.84it/s]\n"
     ]
    },
    {
     "name": "stdout",
     "output_type": "stream",
     "text": [
      "Activity Training accuracy: 75.80645161290323\n",
      "Location Training accuracy: 80.19713261648745\n",
      "Activity Training loss: 0.23680725405293127\n",
      "Location Training loss: 0.09602588009236107\n",
      "Activity Test accuracy: 66.90647482014388\n",
      "Location Test accuracy: 79.13669064748201\n",
      "Activity Test loss: 1.090368037601169\n",
      "Location Test loss: 0.7003106762179367\n",
      "Epoch: 33\n"
     ]
    },
    {
     "name": "stderr",
     "output_type": "stream",
     "text": [
      "100%|████████████████████████████████████████████████████████████████████████████████████████████████████████████████████████████████████████████████████████████████████████████████| 9/9 [00:00<00:00, 50.12it/s]\n"
     ]
    },
    {
     "name": "stdout",
     "output_type": "stream",
     "text": [
      "Activity Training accuracy: 68.45878136200717\n",
      "Location Training accuracy: 81.89964157706093\n",
      "Activity Training loss: 0.17927894113738904\n",
      "Location Training loss: 0.08460875352223714\n",
      "Activity Test accuracy: 57.9136690647482\n",
      "Location Test accuracy: 79.13669064748201\n",
      "Activity Test loss: 1.6720197252232394\n",
      "Location Test loss: 1.2061073111115599\n",
      "Epoch: 34\n"
     ]
    },
    {
     "name": "stderr",
     "output_type": "stream",
     "text": [
      "100%|████████████████████████████████████████████████████████████████████████████████████████████████████████████████████████████████████████████████████████████████████████████████| 9/9 [00:00<00:00, 49.97it/s]\n"
     ]
    },
    {
     "name": "stdout",
     "output_type": "stream",
     "text": [
      "Activity Training accuracy: 73.5663082437276\n",
      "Location Training accuracy: 69.9820788530466\n",
      "Activity Training loss: 0.15959324973458458\n",
      "Location Training loss: 0.06393272859648565\n",
      "Activity Test accuracy: 66.18705035971223\n",
      "Location Test accuracy: 66.90647482014388\n",
      "Activity Test loss: 1.4360454648518735\n",
      "Location Test loss: 1.3832210156557372\n",
      "Epoch: 35\n"
     ]
    },
    {
     "name": "stderr",
     "output_type": "stream",
     "text": [
      "100%|████████████████████████████████████████████████████████████████████████████████████████████████████████████████████████████████████████████████████████████████████████████████| 9/9 [00:00<00:00, 50.18it/s]\n"
     ]
    },
    {
     "name": "stdout",
     "output_type": "stream",
     "text": [
      "Activity Training accuracy: 89.33691756272401\n",
      "Location Training accuracy: 93.45878136200717\n",
      "Activity Training loss: 0.20525612540569785\n",
      "Location Training loss: 0.10260034291120412\n",
      "Activity Test accuracy: 75.53956834532374\n",
      "Location Test accuracy: 92.80575539568345\n",
      "Activity Test loss: 0.6826682219402396\n",
      "Location Test loss: 0.23209728268410662\n",
      "Epoch: 36\n"
     ]
    },
    {
     "name": "stderr",
     "output_type": "stream",
     "text": [
      "100%|████████████████████████████████████████████████████████████████████████████████████████████████████████████████████████████████████████████████████████████████████████████████| 9/9 [00:00<00:00, 50.02it/s]\n"
     ]
    },
    {
     "name": "stdout",
     "output_type": "stream",
     "text": [
      "Activity Training accuracy: 79.56989247311827\n",
      "Location Training accuracy: 93.9068100358423\n",
      "Activity Training loss: 0.13471802502977379\n",
      "Location Training loss: 0.0746760804166076\n",
      "Activity Test accuracy: 68.70503597122303\n",
      "Location Test accuracy: 90.64748201438849\n",
      "Activity Test loss: 1.1379686688347685\n",
      "Location Test loss: 0.278104653461374\n",
      "Epoch: 37\n"
     ]
    },
    {
     "name": "stderr",
     "output_type": "stream",
     "text": [
      "100%|████████████████████████████████████████████████████████████████████████████████████████████████████████████████████████████████████████████████████████████████████████████████| 9/9 [00:00<00:00, 50.07it/s]\n"
     ]
    },
    {
     "name": "stdout",
     "output_type": "stream",
     "text": [
      "Activity Training accuracy: 80.46594982078852\n",
      "Location Training accuracy: 91.93548387096774\n",
      "Activity Training loss: 0.1560467152612611\n",
      "Location Training loss: 0.07729246411272274\n",
      "Activity Test accuracy: 70.50359712230215\n",
      "Location Test accuracy: 87.76978417266187\n",
      "Activity Test loss: 1.0646163199445327\n",
      "Location Test loss: 0.3009378644202253\n",
      "Epoch: 38\n"
     ]
    },
    {
     "name": "stderr",
     "output_type": "stream",
     "text": [
      "100%|████████████████████████████████████████████████████████████████████████████████████████████████████████████████████████████████████████████████████████████████████████████████| 9/9 [00:00<00:00, 49.77it/s]\n"
     ]
    },
    {
     "name": "stdout",
     "output_type": "stream",
     "text": [
      "Activity Training accuracy: 70.25089605734767\n",
      "Location Training accuracy: 65.23297491039426\n",
      "Activity Training loss: 0.15700017765004148\n",
      "Location Training loss: 0.08588490135780799\n",
      "Activity Test accuracy: 64.02877697841727\n",
      "Location Test accuracy: 59.71223021582734\n",
      "Activity Test loss: 1.654901826982018\n",
      "Location Test loss: 1.8147334366393604\n",
      "Epoch: 39\n"
     ]
    },
    {
     "name": "stderr",
     "output_type": "stream",
     "text": [
      "100%|████████████████████████████████████████████████████████████████████████████████████████████████████████████████████████████████████████████████████████████████████████████████| 9/9 [00:00<00:00, 49.65it/s]\n"
     ]
    },
    {
     "name": "stdout",
     "output_type": "stream",
     "text": [
      "Activity Training accuracy: 92.29390681003584\n",
      "Location Training accuracy: 94.6236559139785\n",
      "Activity Training loss: 0.11685538975568655\n",
      "Location Training loss: 0.06383257142959102\n",
      "Activity Test accuracy: 78.41726618705036\n",
      "Location Test accuracy: 94.24460431654676\n",
      "Activity Test loss: 0.6802121632390743\n",
      "Location Test loss: 0.1906120691368048\n",
      "Epoch: 40\n"
     ]
    },
    {
     "name": "stderr",
     "output_type": "stream",
     "text": [
      "100%|████████████████████████████████████████████████████████████████████████████████████████████████████████████████████████████████████████████████████████████████████████████████| 9/9 [00:00<00:00, 49.98it/s]\n"
     ]
    },
    {
     "name": "stdout",
     "output_type": "stream",
     "text": [
      "Activity Training accuracy: 98.74551971326164\n",
      "Location Training accuracy: 98.74551971326164\n",
      "Activity Training loss: 0.10119310331173695\n",
      "Location Training loss: 0.05991638219484719\n",
      "Activity Test accuracy: 83.81294964028777\n",
      "Location Test accuracy: 96.0431654676259\n",
      "Activity Test loss: 0.4482712076722289\n",
      "Location Test loss: 0.11148301453041516\n",
      "Epoch: 41\n"
     ]
    },
    {
     "name": "stderr",
     "output_type": "stream",
     "text": [
      "100%|████████████████████████████████████████████████████████████████████████████████████████████████████████████████████████████████████████████████████████████████████████████████| 9/9 [00:00<00:00, 49.60it/s]\n"
     ]
    },
    {
     "name": "stdout",
     "output_type": "stream",
     "text": [
      "Activity Training accuracy: 86.37992831541219\n",
      "Location Training accuracy: 89.42652329749104\n",
      "Activity Training loss: 0.09214196752049163\n",
      "Location Training loss: 0.052925056881374784\n",
      "Activity Test accuracy: 72.3021582733813\n",
      "Location Test accuracy: 89.20863309352518\n",
      "Activity Test loss: 1.0080313202288511\n",
      "Location Test loss: 0.36910891018325476\n",
      "Epoch: 42\n"
     ]
    },
    {
     "name": "stderr",
     "output_type": "stream",
     "text": [
      "100%|████████████████████████████████████████████████████████████████████████████████████████████████████████████████████████████████████████████████████████████████████████████████| 9/9 [00:00<00:00, 49.73it/s]\n"
     ]
    },
    {
     "name": "stdout",
     "output_type": "stream",
     "text": [
      "Activity Training accuracy: 79.56989247311827\n",
      "Location Training accuracy: 80.64516129032258\n",
      "Activity Training loss: 0.13006723397094289\n",
      "Location Training loss: 0.07369059431082886\n",
      "Activity Test accuracy: 68.34532374100719\n",
      "Location Test accuracy: 79.85611510791367\n",
      "Activity Test loss: 1.0887444894090832\n",
      "Location Test loss: 0.8208620869856087\n",
      "Epoch: 43\n"
     ]
    },
    {
     "name": "stderr",
     "output_type": "stream",
     "text": [
      "100%|████████████████████████████████████████████████████████████████████████████████████████████████████████████████████████████████████████████████████████████████████████████████| 9/9 [00:00<00:00, 49.17it/s]\n"
     ]
    },
    {
     "name": "stdout",
     "output_type": "stream",
     "text": [
      "Activity Training accuracy: 87.00716845878136\n",
      "Location Training accuracy: 94.80286738351255\n",
      "Activity Training loss: 0.10683698038901052\n",
      "Location Training loss: 0.07315765636368891\n",
      "Activity Test accuracy: 74.82014388489209\n",
      "Location Test accuracy: 94.24460431654676\n",
      "Activity Test loss: 0.948000520253353\n",
      "Location Test loss: 0.20118684219799454\n",
      "Epoch: 44\n"
     ]
    },
    {
     "name": "stderr",
     "output_type": "stream",
     "text": [
      "100%|████████████████████████████████████████████████████████████████████████████████████████████████████████████████████████████████████████████████████████████████████████████████| 9/9 [00:00<00:00, 49.85it/s]\n"
     ]
    },
    {
     "name": "stdout",
     "output_type": "stream",
     "text": [
      "Activity Training accuracy: 89.60573476702508\n",
      "Location Training accuracy: 91.75627240143369\n",
      "Activity Training loss: 0.08288807339138454\n",
      "Location Training loss: 0.051002235929598516\n",
      "Activity Test accuracy: 78.41726618705036\n",
      "Location Test accuracy: 90.28776978417267\n",
      "Activity Test loss: 0.8065319936052501\n",
      "Location Test loss: 0.35335984032788725\n",
      "Epoch: 45\n"
     ]
    },
    {
     "name": "stderr",
     "output_type": "stream",
     "text": [
      "100%|████████████████████████████████████████████████████████████████████████████████████████████████████████████████████████████████████████████████████████████████████████████████| 9/9 [00:00<00:00, 50.69it/s]\n"
     ]
    },
    {
     "name": "stdout",
     "output_type": "stream",
     "text": [
      "Activity Training accuracy: 93.9068100358423\n",
      "Location Training accuracy: 97.67025089605735\n",
      "Activity Training loss: 0.07358068719132399\n",
      "Location Training loss: 0.04805162538337024\n",
      "Activity Test accuracy: 78.05755395683454\n",
      "Location Test accuracy: 95.32374100719424\n",
      "Activity Test loss: 0.6268455210349543\n",
      "Location Test loss: 0.1394867650467715\n",
      "Epoch: 46\n"
     ]
    },
    {
     "name": "stderr",
     "output_type": "stream",
     "text": [
      "100%|████████████████████████████████████████████████████████████████████████████████████████████████████████████████████████████████████████████████████████████████████████████████| 9/9 [00:00<00:00, 50.10it/s]\n"
     ]
    },
    {
     "name": "stdout",
     "output_type": "stream",
     "text": [
      "Activity Training accuracy: 98.29749103942652\n",
      "Location Training accuracy: 97.75985663082437\n",
      "Activity Training loss: 0.0682784045468949\n",
      "Location Training loss: 0.04868367624111927\n",
      "Activity Test accuracy: 83.09352517985612\n",
      "Location Test accuracy: 94.96402877697842\n",
      "Activity Test loss: 0.5421103101840122\n",
      "Location Test loss: 0.1454062281752662\n",
      "Epoch: 47\n"
     ]
    },
    {
     "name": "stderr",
     "output_type": "stream",
     "text": [
      "100%|████████████████████████████████████████████████████████████████████████████████████████████████████████████████████████████████████████████████████████████████████████████████| 9/9 [00:00<00:00, 50.32it/s]\n"
     ]
    },
    {
     "name": "stdout",
     "output_type": "stream",
     "text": [
      "Activity Training accuracy: 97.58064516129032\n",
      "Location Training accuracy: 98.29749103942652\n",
      "Activity Training loss: 0.07258916371184865\n",
      "Location Training loss: 0.04969379679703798\n",
      "Activity Test accuracy: 82.37410071942446\n",
      "Location Test accuracy: 95.68345323741008\n",
      "Activity Test loss: 0.5648296874204128\n",
      "Location Test loss: 0.12604959319821366\n",
      "Epoch: 48\n"
     ]
    },
    {
     "name": "stderr",
     "output_type": "stream",
     "text": [
      "100%|████████████████████████████████████████████████████████████████████████████████████████████████████████████████████████████████████████████████████████████████████████████████| 9/9 [00:00<00:00, 50.39it/s]\n"
     ]
    },
    {
     "name": "stdout",
     "output_type": "stream",
     "text": [
      "Activity Training accuracy: 97.67025089605735\n",
      "Location Training accuracy: 98.38709677419355\n",
      "Activity Training loss: 0.06738490613985233\n",
      "Location Training loss: 0.042370081802422854\n",
      "Activity Test accuracy: 83.81294964028777\n",
      "Location Test accuracy: 94.96402877697842\n",
      "Activity Test loss: 0.557376758657771\n",
      "Location Test loss: 0.13525657730994464\n",
      "Epoch: 49\n"
     ]
    },
    {
     "name": "stderr",
     "output_type": "stream",
     "text": [
      "100%|████████████████████████████████████████████████████████████████████████████████████████████████████████████████████████████████████████████████████████████████████████████████| 9/9 [00:00<00:00, 50.27it/s]\n"
     ]
    },
    {
     "name": "stdout",
     "output_type": "stream",
     "text": [
      "Activity Training accuracy: 96.95340501792114\n",
      "Location Training accuracy: 97.67025089605735\n",
      "Activity Training loss: 0.06251822492127777\n",
      "Location Training loss: 0.05289021636422817\n",
      "Activity Test accuracy: 82.73381294964028\n",
      "Location Test accuracy: 94.24460431654676\n",
      "Activity Test loss: 0.5448265633137106\n",
      "Location Test loss: 0.15909731816902434\n",
      "Epoch: 50\n"
     ]
    },
    {
     "name": "stderr",
     "output_type": "stream",
     "text": [
      "100%|████████████████████████████████████████████████████████████████████████████████████████████████████████████████████████████████████████████████████████████████████████████████| 9/9 [00:00<00:00, 50.25it/s]\n"
     ]
    },
    {
     "name": "stdout",
     "output_type": "stream",
     "text": [
      "Activity Training accuracy: 99.10394265232975\n",
      "Location Training accuracy: 98.65591397849462\n",
      "Activity Training loss: 0.05858802496318749\n",
      "Location Training loss: 0.044472924056446254\n",
      "Activity Test accuracy: 84.53237410071942\n",
      "Location Test accuracy: 94.60431654676259\n",
      "Activity Test loss: 0.4904943618843024\n",
      "Location Test loss: 0.1334978307751443\n",
      "Epoch: 51\n"
     ]
    },
    {
     "name": "stderr",
     "output_type": "stream",
     "text": [
      "100%|████████████████████████████████████████████████████████████████████████████████████████████████████████████████████████████████████████████████████████████████████████████████| 9/9 [00:00<00:00, 49.94it/s]\n"
     ]
    },
    {
     "name": "stdout",
     "output_type": "stream",
     "text": [
      "Activity Training accuracy: 99.46236559139786\n",
      "Location Training accuracy: 99.01433691756273\n",
      "Activity Training loss: 0.04959228752334485\n",
      "Location Training loss: 0.03618491732091459\n",
      "Activity Test accuracy: 84.53237410071942\n",
      "Location Test accuracy: 95.68345323741008\n",
      "Activity Test loss: 0.480627191152504\n",
      "Location Test loss: 0.10619357131796775\n",
      "Epoch: 52\n"
     ]
    },
    {
     "name": "stderr",
     "output_type": "stream",
     "text": [
      "100%|████████████████████████████████████████████████████████████████████████████████████████████████████████████████████████████████████████████████████████████████████████████████| 9/9 [00:00<00:00, 49.78it/s]\n"
     ]
    },
    {
     "name": "stdout",
     "output_type": "stream",
     "text": [
      "Activity Training accuracy: 98.11827956989248\n",
      "Location Training accuracy: 97.75985663082437\n",
      "Activity Training loss: 0.050235806400203364\n",
      "Location Training loss: 0.04454135787957031\n",
      "Activity Test accuracy: 84.53237410071942\n",
      "Location Test accuracy: 95.32374100719424\n",
      "Activity Test loss: 0.5726183695758847\n",
      "Location Test loss: 0.13358171294919022\n",
      "Epoch: 53\n"
     ]
    },
    {
     "name": "stderr",
     "output_type": "stream",
     "text": [
      "100%|████████████████████████████████████████████████████████████████████████████████████████████████████████████████████████████████████████████████████████████████████████████████| 9/9 [00:00<00:00, 50.18it/s]\n"
     ]
    },
    {
     "name": "stdout",
     "output_type": "stream",
     "text": [
      "Activity Training accuracy: 97.75985663082437\n",
      "Location Training accuracy: 95.78853046594982\n",
      "Activity Training loss: 0.04589566385446911\n",
      "Location Training loss: 0.040313376748006405\n",
      "Activity Test accuracy: 85.25179856115108\n",
      "Location Test accuracy: 92.0863309352518\n",
      "Activity Test loss: 0.49406130365330536\n",
      "Location Test loss: 0.20510641833861099\n",
      "Epoch: 54\n"
     ]
    },
    {
     "name": "stderr",
     "output_type": "stream",
     "text": [
      "100%|████████████████████████████████████████████████████████████████████████████████████████████████████████████████████████████████████████████████████████████████████████████████| 9/9 [00:00<00:00, 50.14it/s]\n"
     ]
    },
    {
     "name": "stdout",
     "output_type": "stream",
     "text": [
      "Activity Training accuracy: 97.22222222222223\n",
      "Location Training accuracy: 96.86379928315412\n",
      "Activity Training loss: 0.05296460402909146\n",
      "Location Training loss: 0.044164151273747926\n",
      "Activity Test accuracy: 82.01438848920863\n",
      "Location Test accuracy: 94.96402877697842\n",
      "Activity Test loss: 0.6001347054680475\n",
      "Location Test loss: 0.15727718957036518\n",
      "Epoch: 55\n"
     ]
    },
    {
     "name": "stderr",
     "output_type": "stream",
     "text": [
      "100%|████████████████████████████████████████████████████████████████████████████████████████████████████████████████████████████████████████████████████████████████████████████████| 9/9 [00:00<00:00, 50.27it/s]\n"
     ]
    },
    {
     "name": "stdout",
     "output_type": "stream",
     "text": [
      "Activity Training accuracy: 99.46236559139786\n",
      "Location Training accuracy: 98.74551971326164\n",
      "Activity Training loss: 0.046389836777922924\n",
      "Location Training loss: 0.037708308534382916\n",
      "Activity Test accuracy: 82.37410071942446\n",
      "Location Test accuracy: 95.32374100719424\n",
      "Activity Test loss: 0.5075731616226031\n",
      "Location Test loss: 0.1102187659243028\n",
      "Epoch: 56\n"
     ]
    },
    {
     "name": "stderr",
     "output_type": "stream",
     "text": [
      "100%|████████████████████████████████████████████████████████████████████████████████████████████████████████████████████████████████████████████████████████████████████████████████| 9/9 [00:00<00:00, 50.07it/s]\n"
     ]
    },
    {
     "name": "stdout",
     "output_type": "stream",
     "text": [
      "Activity Training accuracy: 95.51971326164875\n",
      "Location Training accuracy: 94.9820788530466\n",
      "Activity Training loss: 0.05735626378794297\n",
      "Location Training loss: 0.04763707465168396\n",
      "Activity Test accuracy: 83.09352517985612\n",
      "Location Test accuracy: 91.72661870503597\n",
      "Activity Test loss: 0.567525531748216\n",
      "Location Test loss: 0.22214530569186314\n",
      "Epoch: 57\n"
     ]
    },
    {
     "name": "stderr",
     "output_type": "stream",
     "text": [
      "100%|████████████████████████████████████████████████████████████████████████████████████████████████████████████████████████████████████████████████████████████████████████████████| 9/9 [00:00<00:00, 49.94it/s]\n"
     ]
    },
    {
     "name": "stdout",
     "output_type": "stream",
     "text": [
      "Activity Training accuracy: 95.25089605734767\n",
      "Location Training accuracy: 93.10035842293907\n",
      "Activity Training loss: 0.038830025862622006\n",
      "Location Training loss: 0.03457934145004519\n",
      "Activity Test accuracy: 79.13669064748201\n",
      "Location Test accuracy: 91.72661870503597\n",
      "Activity Test loss: 0.7164601919462354\n",
      "Location Test loss: 0.3049116100338723\n",
      "Epoch: 58\n"
     ]
    },
    {
     "name": "stderr",
     "output_type": "stream",
     "text": [
      "100%|████████████████████████████████████████████████████████████████████████████████████████████████████████████████████████████████████████████████████████████████████████████████| 9/9 [00:00<00:00, 50.45it/s]\n"
     ]
    },
    {
     "name": "stdout",
     "output_type": "stream",
     "text": [
      "Activity Training accuracy: 99.73118279569893\n",
      "Location Training accuracy: 99.46236559139786\n",
      "Activity Training loss: 0.03492005495187629\n",
      "Location Training loss: 0.0360143421798624\n",
      "Activity Test accuracy: 88.12949640287769\n",
      "Location Test accuracy: 96.0431654676259\n",
      "Activity Test loss: 0.4019125922978353\n",
      "Location Test loss: 0.1107567986138433\n",
      "Epoch: 59\n"
     ]
    },
    {
     "name": "stderr",
     "output_type": "stream",
     "text": [
      "100%|████████████████████████████████████████████████████████████████████████████████████████████████████████████████████████████████████████████████████████████████████████████████| 9/9 [00:00<00:00, 49.47it/s]\n"
     ]
    },
    {
     "name": "stdout",
     "output_type": "stream",
     "text": [
      "Activity Training accuracy: 99.91039426523298\n",
      "Location Training accuracy: 99.10394265232975\n",
      "Activity Training loss: 0.03615228826427118\n",
      "Location Training loss: 0.03243704978710434\n",
      "Activity Test accuracy: 84.1726618705036\n",
      "Location Test accuracy: 96.0431654676259\n",
      "Activity Test loss: 0.5037130631988854\n",
      "Location Test loss: 0.11154031453372763\n",
      "Epoch: 60\n"
     ]
    },
    {
     "name": "stderr",
     "output_type": "stream",
     "text": [
      "100%|████████████████████████████████████████████████████████████████████████████████████████████████████████████████████████████████████████████████████████████████████████████████| 9/9 [00:00<00:00, 50.08it/s]\n"
     ]
    },
    {
     "name": "stdout",
     "output_type": "stream",
     "text": [
      "Activity Training accuracy: 99.55197132616487\n",
      "Location Training accuracy: 98.83512544802868\n",
      "Activity Training loss: 0.03227087011474008\n",
      "Location Training loss: 0.03322543508263044\n",
      "Activity Test accuracy: 83.45323741007195\n",
      "Location Test accuracy: 96.76258992805755\n",
      "Activity Test loss: 0.5247201619388389\n",
      "Location Test loss: 0.1135109414299615\n",
      "Epoch: 61\n"
     ]
    },
    {
     "name": "stderr",
     "output_type": "stream",
     "text": [
      "100%|████████████████████████████████████████████████████████████████████████████████████████████████████████████████████████████████████████████████████████████████████████████████| 9/9 [00:00<00:00, 50.14it/s]\n"
     ]
    },
    {
     "name": "stdout",
     "output_type": "stream",
     "text": [
      "Activity Training accuracy: 99.73118279569893\n",
      "Location Training accuracy: 98.9247311827957\n",
      "Activity Training loss: 0.03576074813001899\n",
      "Location Training loss: 0.033936381553663575\n",
      "Activity Test accuracy: 82.01438848920863\n",
      "Location Test accuracy: 96.0431654676259\n",
      "Activity Test loss: 0.5354590278735264\n",
      "Location Test loss: 0.10630340434664445\n",
      "Epoch: 62\n"
     ]
    },
    {
     "name": "stderr",
     "output_type": "stream",
     "text": [
      "100%|████████████████████████████████████████████████████████████████████████████████████████████████████████████████████████████████████████████████████████████████████████████████| 9/9 [00:00<00:00, 50.07it/s]\n"
     ]
    },
    {
     "name": "stdout",
     "output_type": "stream",
     "text": [
      "Activity Training accuracy: 98.47670250896057\n",
      "Location Training accuracy: 97.40143369175627\n",
      "Activity Training loss: 0.034933223519273984\n",
      "Location Training loss: 0.028182363104222067\n",
      "Activity Test accuracy: 83.81294964028777\n",
      "Location Test accuracy: 94.96402877697842\n",
      "Activity Test loss: 0.49563879332096455\n",
      "Location Test loss: 0.18877109673490627\n",
      "Epoch: 63\n"
     ]
    },
    {
     "name": "stderr",
     "output_type": "stream",
     "text": [
      "100%|████████████████████████████████████████████████████████████████████████████████████████████████████████████████████████████████████████████████████████████████████████████████| 9/9 [00:00<00:00, 49.79it/s]\n"
     ]
    },
    {
     "name": "stdout",
     "output_type": "stream",
     "text": [
      "Activity Training accuracy: 99.01433691756273\n",
      "Location Training accuracy: 98.38709677419355\n",
      "Activity Training loss: 0.0462476468000788\n",
      "Location Training loss: 0.041508902571961874\n",
      "Activity Test accuracy: 85.25179856115108\n",
      "Location Test accuracy: 94.96402877697842\n",
      "Activity Test loss: 0.41638632129422193\n",
      "Location Test loss: 0.11928873728933952\n",
      "Epoch: 64\n"
     ]
    },
    {
     "name": "stderr",
     "output_type": "stream",
     "text": [
      "100%|████████████████████████████████████████████████████████████████████████████████████████████████████████████████████████████████████████████████████████████████████████████████| 9/9 [00:00<00:00, 49.29it/s]\n"
     ]
    },
    {
     "name": "stdout",
     "output_type": "stream",
     "text": [
      "Activity Training accuracy: 96.86379928315412\n",
      "Location Training accuracy: 98.2078853046595\n",
      "Activity Training loss: 0.027846176350843094\n",
      "Location Training loss: 0.029259044423325515\n",
      "Activity Test accuracy: 83.45323741007195\n",
      "Location Test accuracy: 94.96402877697842\n",
      "Activity Test loss: 0.5909963486005934\n",
      "Location Test loss: 0.13456213345630563\n",
      "Epoch: 65\n"
     ]
    },
    {
     "name": "stderr",
     "output_type": "stream",
     "text": [
      "100%|████████████████████████████████████████████████████████████████████████████████████████████████████████████████████████████████████████████████████████████████████████████████| 9/9 [00:00<00:00, 49.55it/s]\n"
     ]
    },
    {
     "name": "stdout",
     "output_type": "stream",
     "text": [
      "Activity Training accuracy: 99.73118279569893\n",
      "Location Training accuracy: 98.9247311827957\n",
      "Activity Training loss: 0.02944211314655974\n",
      "Location Training loss: 0.02633888180965164\n",
      "Activity Test accuracy: 87.05035971223022\n",
      "Location Test accuracy: 96.0431654676259\n",
      "Activity Test loss: 0.42223227367126687\n",
      "Location Test loss: 0.12048772202550079\n",
      "Epoch: 66\n"
     ]
    },
    {
     "name": "stderr",
     "output_type": "stream",
     "text": [
      "100%|████████████████████████████████████████████████████████████████████████████████████████████████████████████████████████████████████████████████████████████████████████████████| 9/9 [00:00<00:00, 49.49it/s]\n"
     ]
    },
    {
     "name": "stdout",
     "output_type": "stream",
     "text": [
      "Activity Training accuracy: 99.46236559139786\n",
      "Location Training accuracy: 99.19354838709677\n",
      "Activity Training loss: 0.03148915594623935\n",
      "Location Training loss: 0.03696836130593412\n",
      "Activity Test accuracy: 87.76978417266187\n",
      "Location Test accuracy: 96.0431654676259\n",
      "Activity Test loss: 0.4355947971343994\n",
      "Location Test loss: 0.1375155979566437\n",
      "Epoch: 67\n"
     ]
    },
    {
     "name": "stderr",
     "output_type": "stream",
     "text": [
      "100%|████████████████████████████████████████████████████████████████████████████████████████████████████████████████████████████████████████████████████████████████████████████████| 9/9 [00:00<00:00, 49.43it/s]\n"
     ]
    },
    {
     "name": "stdout",
     "output_type": "stream",
     "text": [
      "Activity Training accuracy: 100.0\n",
      "Location Training accuracy: 99.6415770609319\n",
      "Activity Training loss: 0.024745929412089796\n",
      "Location Training loss: 0.027489568277071882\n",
      "Activity Test accuracy: 88.12949640287769\n",
      "Location Test accuracy: 96.0431654676259\n",
      "Activity Test loss: 0.39306805888525875\n",
      "Location Test loss: 0.10102296561645947\n",
      "Epoch: 68\n"
     ]
    },
    {
     "name": "stderr",
     "output_type": "stream",
     "text": [
      "100%|████████████████████████████████████████████████████████████████████████████████████████████████████████████████████████████████████████████████████████████████████████████████| 9/9 [00:00<00:00, 49.80it/s]\n"
     ]
    },
    {
     "name": "stdout",
     "output_type": "stream",
     "text": [
      "Activity Training accuracy: 98.11827956989248\n",
      "Location Training accuracy: 98.65591397849462\n",
      "Activity Training loss: 0.02859294777702687\n",
      "Location Training loss: 0.027292350180260168\n",
      "Activity Test accuracy: 85.61151079136691\n",
      "Location Test accuracy: 96.0431654676259\n",
      "Activity Test loss: 0.5061822284897455\n",
      "Location Test loss: 0.14349132197366343\n",
      "Epoch: 69\n"
     ]
    },
    {
     "name": "stderr",
     "output_type": "stream",
     "text": [
      "100%|████████████████████████████████████████████████████████████████████████████████████████████████████████████████████████████████████████████████████████████████████████████████| 9/9 [00:00<00:00, 49.65it/s]\n"
     ]
    },
    {
     "name": "stdout",
     "output_type": "stream",
     "text": [
      "Activity Training accuracy: 99.6415770609319\n",
      "Location Training accuracy: 99.2831541218638\n",
      "Activity Training loss: 0.02794921291344482\n",
      "Location Training loss: 0.03538770135158279\n",
      "Activity Test accuracy: 85.61151079136691\n",
      "Location Test accuracy: 96.0431654676259\n",
      "Activity Test loss: 0.4669106692718945\n",
      "Location Test loss: 0.10552639926937844\n",
      "Epoch: 70\n"
     ]
    },
    {
     "name": "stderr",
     "output_type": "stream",
     "text": [
      "100%|████████████████████████████████████████████████████████████████████████████████████████████████████████████████████████████████████████████████████████████████████████████████| 9/9 [00:00<00:00, 50.10it/s]\n"
     ]
    },
    {
     "name": "stdout",
     "output_type": "stream",
     "text": [
      "Activity Training accuracy: 99.2831541218638\n",
      "Location Training accuracy: 99.01433691756273\n",
      "Activity Training loss: 0.02411905262205336\n",
      "Location Training loss: 0.02930213003602934\n",
      "Activity Test accuracy: 83.45323741007195\n",
      "Location Test accuracy: 96.40287769784173\n",
      "Activity Test loss: 0.53818380704029\n",
      "Location Test loss: 0.11287108299543532\n",
      "Epoch: 71\n"
     ]
    },
    {
     "name": "stderr",
     "output_type": "stream",
     "text": [
      "100%|████████████████████████████████████████████████████████████████████████████████████████████████████████████████████████████████████████████████████████████████████████████████| 9/9 [00:00<00:00, 49.39it/s]\n"
     ]
    },
    {
     "name": "stdout",
     "output_type": "stream",
     "text": [
      "Activity Training accuracy: 100.0\n",
      "Location Training accuracy: 99.55197132616487\n",
      "Activity Training loss: 0.022403142571876554\n",
      "Location Training loss: 0.025074986894498164\n",
      "Activity Test accuracy: 86.69064748201438\n",
      "Location Test accuracy: 96.0431654676259\n",
      "Activity Test loss: 0.41815725290518013\n",
      "Location Test loss: 0.09304478164199445\n",
      "Epoch: 72\n"
     ]
    },
    {
     "name": "stderr",
     "output_type": "stream",
     "text": [
      "100%|████████████████████████████████████████████████████████████████████████████████████████████████████████████████████████████████████████████████████████████████████████████████| 9/9 [00:00<00:00, 49.64it/s]\n"
     ]
    },
    {
     "name": "stdout",
     "output_type": "stream",
     "text": [
      "Activity Training accuracy: 100.0\n",
      "Location Training accuracy: 99.73118279569893\n",
      "Activity Training loss: 0.027567724600487713\n",
      "Location Training loss: 0.029962876898413492\n",
      "Activity Test accuracy: 87.41007194244604\n",
      "Location Test accuracy: 95.68345323741008\n",
      "Activity Test loss: 0.40257089258097917\n",
      "Location Test loss: 0.09370056555854331\n",
      "Epoch: 73\n"
     ]
    },
    {
     "name": "stderr",
     "output_type": "stream",
     "text": [
      "100%|████████████████████████████████████████████████████████████████████████████████████████████████████████████████████████████████████████████████████████████████████████████████| 9/9 [00:00<00:00, 49.37it/s]\n"
     ]
    },
    {
     "name": "stdout",
     "output_type": "stream",
     "text": [
      "Activity Training accuracy: 100.0\n",
      "Location Training accuracy: 99.82078853046595\n",
      "Activity Training loss: 0.022935683154717997\n",
      "Location Training loss: 0.02394257897117232\n",
      "Activity Test accuracy: 87.05035971223022\n",
      "Location Test accuracy: 96.40287769784173\n",
      "Activity Test loss: 0.4212370579191249\n",
      "Location Test loss: 0.09733194552308364\n",
      "Epoch: 74\n"
     ]
    },
    {
     "name": "stderr",
     "output_type": "stream",
     "text": [
      "100%|████████████████████████████████████████████████████████████████████████████████████████████████████████████████████████████████████████████████████████████████████████████████| 9/9 [00:00<00:00, 50.06it/s]\n"
     ]
    },
    {
     "name": "stdout",
     "output_type": "stream",
     "text": [
      "Activity Training accuracy: 100.0\n",
      "Location Training accuracy: 99.6415770609319\n",
      "Activity Training loss: 0.024827931303277238\n",
      "Location Training loss: 0.02332206609855843\n",
      "Activity Test accuracy: 86.33093525179856\n",
      "Location Test accuracy: 96.76258992805755\n",
      "Activity Test loss: 0.44015431103946495\n",
      "Location Test loss: 0.09353947189214418\n",
      "Epoch: 75\n"
     ]
    },
    {
     "name": "stderr",
     "output_type": "stream",
     "text": [
      "100%|████████████████████████████████████████████████████████████████████████████████████████████████████████████████████████████████████████████████████████████████████████████████| 9/9 [00:00<00:00, 49.98it/s]\n"
     ]
    },
    {
     "name": "stdout",
     "output_type": "stream",
     "text": [
      "Activity Training accuracy: 100.0\n",
      "Location Training accuracy: 99.6415770609319\n",
      "Activity Training loss: 0.03152880339639588\n",
      "Location Training loss: 0.03210393715930242\n",
      "Activity Test accuracy: 87.41007194244604\n",
      "Location Test accuracy: 96.40287769784173\n",
      "Activity Test loss: 0.3904061536137149\n",
      "Location Test loss: 0.09499343929530905\n",
      "Epoch: 76\n"
     ]
    },
    {
     "name": "stderr",
     "output_type": "stream",
     "text": [
      "100%|████████████████████████████████████████████████████████████████████████████████████████████████████████████████████████████████████████████████████████████████████████████████| 9/9 [00:00<00:00, 50.09it/s]\n"
     ]
    },
    {
     "name": "stdout",
     "output_type": "stream",
     "text": [
      "Activity Training accuracy: 100.0\n",
      "Location Training accuracy: 99.73118279569893\n",
      "Activity Training loss: 0.021480230874912715\n",
      "Location Training loss: 0.02367574371744655\n",
      "Activity Test accuracy: 87.05035971223022\n",
      "Location Test accuracy: 96.0431654676259\n",
      "Activity Test loss: 0.40568247801965945\n",
      "Location Test loss: 0.08866157141520822\n",
      "Epoch: 77\n"
     ]
    },
    {
     "name": "stderr",
     "output_type": "stream",
     "text": [
      "100%|████████████████████████████████████████████████████████████████████████████████████████████████████████████████████████████████████████████████████████████████████████████████| 9/9 [00:00<00:00, 50.49it/s]\n"
     ]
    },
    {
     "name": "stdout",
     "output_type": "stream",
     "text": [
      "Activity Training accuracy: 100.0\n",
      "Location Training accuracy: 99.73118279569893\n",
      "Activity Training loss: 0.022223852441302337\n",
      "Location Training loss: 0.022907400964408794\n",
      "Activity Test accuracy: 86.33093525179856\n",
      "Location Test accuracy: 96.40287769784173\n",
      "Activity Test loss: 0.4142391900364444\n",
      "Location Test loss: 0.09225337475323848\n",
      "Epoch: 78\n"
     ]
    },
    {
     "name": "stderr",
     "output_type": "stream",
     "text": [
      "100%|████████████████████████████████████████████████████████████████████████████████████████████████████████████████████████████████████████████████████████████████████████████████| 9/9 [00:00<00:00, 50.48it/s]\n"
     ]
    },
    {
     "name": "stdout",
     "output_type": "stream",
     "text": [
      "Activity Training accuracy: 99.91039426523298\n",
      "Location Training accuracy: 99.55197132616487\n",
      "Activity Training loss: 0.02122739160359974\n",
      "Location Training loss: 0.022056803267489197\n",
      "Activity Test accuracy: 85.25179856115108\n",
      "Location Test accuracy: 97.12230215827338\n",
      "Activity Test loss: 0.4635857802500828\n",
      "Location Test loss: 0.09630790138416154\n",
      "Epoch: 79\n"
     ]
    },
    {
     "name": "stderr",
     "output_type": "stream",
     "text": [
      "100%|████████████████████████████████████████████████████████████████████████████████████████████████████████████████████████████████████████████████████████████████████████████████| 9/9 [00:00<00:00, 50.19it/s]\n"
     ]
    },
    {
     "name": "stdout",
     "output_type": "stream",
     "text": [
      "Activity Training accuracy: 100.0\n",
      "Location Training accuracy: 99.82078853046595\n",
      "Activity Training loss: 0.024128773947343175\n",
      "Location Training loss: 0.027377863831844807\n",
      "Activity Test accuracy: 86.69064748201438\n",
      "Location Test accuracy: 96.40287769784173\n",
      "Activity Test loss: 0.41349503505144186\n",
      "Location Test loss: 0.08812647854252685\n",
      "Epoch: 80\n"
     ]
    },
    {
     "name": "stderr",
     "output_type": "stream",
     "text": [
      "100%|████████████████████████████████████████████████████████████████████████████████████████████████████████████████████████████████████████████████████████████████████████████████| 9/9 [00:00<00:00, 49.97it/s]\n"
     ]
    },
    {
     "name": "stdout",
     "output_type": "stream",
     "text": [
      "Activity Training accuracy: 100.0\n",
      "Location Training accuracy: 99.73118279569893\n",
      "Activity Training loss: 0.024343057879410337\n",
      "Location Training loss: 0.023772414867168686\n",
      "Activity Test accuracy: 87.41007194244604\n",
      "Location Test accuracy: 96.0431654676259\n",
      "Activity Test loss: 0.40413100384979794\n",
      "Location Test loss: 0.09204259311123718\n",
      "Epoch: 81\n"
     ]
    },
    {
     "name": "stderr",
     "output_type": "stream",
     "text": [
      "100%|████████████████████████████████████████████████████████████████████████████████████████████████████████████████████████████████████████████████████████████████████████████████| 9/9 [00:00<00:00, 49.75it/s]\n"
     ]
    },
    {
     "name": "stdout",
     "output_type": "stream",
     "text": [
      "Activity Training accuracy: 100.0\n",
      "Location Training accuracy: 99.82078853046595\n",
      "Activity Training loss: 0.026587650660545595\n",
      "Location Training loss: 0.03359715848840693\n",
      "Activity Test accuracy: 86.33093525179856\n",
      "Location Test accuracy: 97.12230215827338\n",
      "Activity Test loss: 0.4221185252820845\n",
      "Location Test loss: 0.08453932490280207\n",
      "Epoch: 82\n"
     ]
    },
    {
     "name": "stderr",
     "output_type": "stream",
     "text": [
      "100%|████████████████████████████████████████████████████████████████████████████████████████████████████████████████████████████████████████████████████████████████████████████████| 9/9 [00:00<00:00, 49.51it/s]\n"
     ]
    },
    {
     "name": "stdout",
     "output_type": "stream",
     "text": [
      "Activity Training accuracy: 100.0\n",
      "Location Training accuracy: 99.91039426523298\n",
      "Activity Training loss: 0.028758587696219005\n",
      "Location Training loss: 0.030291888876200577\n",
      "Activity Test accuracy: 87.41007194244604\n",
      "Location Test accuracy: 97.12230215827338\n",
      "Activity Test loss: 0.42802451240073003\n",
      "Location Test loss: 0.08827701596905002\n",
      "Epoch: 83\n"
     ]
    },
    {
     "name": "stderr",
     "output_type": "stream",
     "text": [
      "100%|████████████████████████████████████████████████████████████████████████████████████████████████████████████████████████████████████████████████████████████████████████████████| 9/9 [00:00<00:00, 49.33it/s]\n"
     ]
    },
    {
     "name": "stdout",
     "output_type": "stream",
     "text": [
      "Activity Training accuracy: 99.91039426523298\n",
      "Location Training accuracy: 99.6415770609319\n",
      "Activity Training loss: 0.030203443167457444\n",
      "Location Training loss: 0.03198197975380874\n",
      "Activity Test accuracy: 87.41007194244604\n",
      "Location Test accuracy: 96.0431654676259\n",
      "Activity Test loss: 0.4011628602048476\n",
      "Location Test loss: 0.09751762642706041\n",
      "Epoch: 84\n"
     ]
    },
    {
     "name": "stderr",
     "output_type": "stream",
     "text": [
      "100%|████████████████████████████████████████████████████████████████████████████████████████████████████████████████████████████████████████████████████████████████████████████████| 9/9 [00:00<00:00, 49.73it/s]\n"
     ]
    },
    {
     "name": "stdout",
     "output_type": "stream",
     "text": [
      "Activity Training accuracy: 100.0\n",
      "Location Training accuracy: 99.82078853046595\n",
      "Activity Training loss: 0.02001390672926407\n",
      "Location Training loss: 0.024337084917184698\n",
      "Activity Test accuracy: 88.12949640287769\n",
      "Location Test accuracy: 96.40287769784173\n",
      "Activity Test loss: 0.4089178948951282\n",
      "Location Test loss: 0.08957244016283708\n",
      "Epoch: 85\n"
     ]
    },
    {
     "name": "stderr",
     "output_type": "stream",
     "text": [
      "100%|████████████████████████████████████████████████████████████████████████████████████████████████████████████████████████████████████████████████████████████████████████████████| 9/9 [00:00<00:00, 49.78it/s]\n"
     ]
    },
    {
     "name": "stdout",
     "output_type": "stream",
     "text": [
      "Activity Training accuracy: 100.0\n",
      "Location Training accuracy: 99.91039426523298\n",
      "Activity Training loss: 0.03173421061594427\n",
      "Location Training loss: 0.029606631099109583\n",
      "Activity Test accuracy: 87.41007194244604\n",
      "Location Test accuracy: 96.0431654676259\n",
      "Activity Test loss: 0.4155950576281376\n",
      "Location Test loss: 0.08791090280031987\n",
      "Epoch: 86\n"
     ]
    },
    {
     "name": "stderr",
     "output_type": "stream",
     "text": [
      "100%|████████████████████████████████████████████████████████████████████████████████████████████████████████████████████████████████████████████████████████████████████████████████| 9/9 [00:00<00:00, 50.32it/s]\n"
     ]
    },
    {
     "name": "stdout",
     "output_type": "stream",
     "text": [
      "Activity Training accuracy: 100.0\n",
      "Location Training accuracy: 99.73118279569893\n",
      "Activity Training loss: 0.01945435733778075\n",
      "Location Training loss: 0.021702338504107622\n",
      "Activity Test accuracy: 87.05035971223022\n",
      "Location Test accuracy: 96.0431654676259\n",
      "Activity Test loss: 0.4166187828393291\n",
      "Location Test loss: 0.08758278566298724\n",
      "Epoch: 87\n"
     ]
    },
    {
     "name": "stderr",
     "output_type": "stream",
     "text": [
      "100%|████████████████████████████████████████████████████████████████████████████████████████████████████████████████████████████████████████████████████████████████████████████████| 9/9 [00:00<00:00, 50.61it/s]\n"
     ]
    },
    {
     "name": "stdout",
     "output_type": "stream",
     "text": [
      "Activity Training accuracy: 100.0\n",
      "Location Training accuracy: 99.82078853046595\n",
      "Activity Training loss: 0.03295101850263534\n",
      "Location Training loss: 0.029550655020607844\n",
      "Activity Test accuracy: 88.12949640287769\n",
      "Location Test accuracy: 96.0431654676259\n",
      "Activity Test loss: 0.4108174812021873\n",
      "Location Test loss: 0.08805728730537908\n",
      "Epoch: 88\n"
     ]
    },
    {
     "name": "stderr",
     "output_type": "stream",
     "text": [
      "100%|████████████████████████████████████████████████████████████████████████████████████████████████████████████████████████████████████████████████████████████████████████████████| 9/9 [00:00<00:00, 50.36it/s]\n"
     ]
    },
    {
     "name": "stdout",
     "output_type": "stream",
     "text": [
      "Activity Training accuracy: 100.0\n",
      "Location Training accuracy: 99.82078853046595\n",
      "Activity Training loss: 0.022663918981415395\n",
      "Location Training loss: 0.025215198275863483\n",
      "Activity Test accuracy: 88.12949640287769\n",
      "Location Test accuracy: 96.40287769784173\n",
      "Activity Test loss: 0.42325644012835384\n",
      "Location Test loss: 0.08693742344705321\n",
      "Epoch: 89\n"
     ]
    },
    {
     "name": "stderr",
     "output_type": "stream",
     "text": [
      "100%|████████████████████████████████████████████████████████████████████████████████████████████████████████████████████████████████████████████████████████████████████████████████| 9/9 [00:00<00:00, 50.06it/s]\n"
     ]
    },
    {
     "name": "stdout",
     "output_type": "stream",
     "text": [
      "Activity Training accuracy: 100.0\n",
      "Location Training accuracy: 99.82078853046595\n",
      "Activity Training loss: 0.02123245105521226\n",
      "Location Training loss: 0.02560758708198438\n",
      "Activity Test accuracy: 87.05035971223022\n",
      "Location Test accuracy: 96.40287769784173\n",
      "Activity Test loss: 0.42654402993565843\n",
      "Location Test loss: 0.08753172645894744\n",
      "Epoch: 90\n"
     ]
    },
    {
     "name": "stderr",
     "output_type": "stream",
     "text": [
      "100%|████████████████████████████████████████████████████████████████████████████████████████████████████████████████████████████████████████████████████████████████████████████████| 9/9 [00:00<00:00, 49.98it/s]\n"
     ]
    },
    {
     "name": "stdout",
     "output_type": "stream",
     "text": [
      "Activity Training accuracy: 100.0\n",
      "Location Training accuracy: 99.73118279569893\n",
      "Activity Training loss: 0.026014984722205814\n",
      "Location Training loss: 0.029234679155452276\n",
      "Activity Test accuracy: 86.69064748201438\n",
      "Location Test accuracy: 96.76258992805755\n",
      "Activity Test loss: 0.43180415012853607\n",
      "Location Test loss: 0.08854643110748675\n",
      "Epoch: 91\n"
     ]
    },
    {
     "name": "stderr",
     "output_type": "stream",
     "text": [
      "100%|████████████████████████████████████████████████████████████████████████████████████████████████████████████████████████████████████████████████████████████████████████████████| 9/9 [00:00<00:00, 49.21it/s]\n"
     ]
    },
    {
     "name": "stdout",
     "output_type": "stream",
     "text": [
      "Activity Training accuracy: 100.0\n",
      "Location Training accuracy: 99.73118279569893\n",
      "Activity Training loss: 0.01810339702072964\n",
      "Location Training loss: 0.020803788870466227\n",
      "Activity Test accuracy: 86.33093525179856\n",
      "Location Test accuracy: 97.12230215827338\n",
      "Activity Test loss: 0.43295007300891464\n",
      "Location Test loss: 0.08930447644038166\n",
      "Epoch: 92\n"
     ]
    },
    {
     "name": "stderr",
     "output_type": "stream",
     "text": [
      "100%|████████████████████████████████████████████████████████████████████████████████████████████████████████████████████████████████████████████████████████████████████████████████| 9/9 [00:00<00:00, 48.79it/s]\n"
     ]
    },
    {
     "name": "stdout",
     "output_type": "stream",
     "text": [
      "Activity Training accuracy: 100.0\n",
      "Location Training accuracy: 99.91039426523298\n",
      "Activity Training loss: 0.022384075281013296\n",
      "Location Training loss: 0.022530717982186213\n",
      "Activity Test accuracy: 86.33093525179856\n",
      "Location Test accuracy: 96.76258992805755\n",
      "Activity Test loss: 0.4139098465013847\n",
      "Location Test loss: 0.08598036613824556\n",
      "Epoch: 93\n"
     ]
    },
    {
     "name": "stderr",
     "output_type": "stream",
     "text": [
      "100%|████████████████████████████████████████████████████████████████████████████████████████████████████████████████████████████████████████████████████████████████████████████████| 9/9 [00:00<00:00, 48.95it/s]\n"
     ]
    },
    {
     "name": "stdout",
     "output_type": "stream",
     "text": [
      "Activity Training accuracy: 100.0\n",
      "Location Training accuracy: 99.73118279569893\n",
      "Activity Training loss: 0.022581334716530257\n",
      "Location Training loss: 0.022437298596973486\n",
      "Activity Test accuracy: 86.33093525179856\n",
      "Location Test accuracy: 97.12230215827338\n",
      "Activity Test loss: 0.43002905948556586\n",
      "Location Test loss: 0.08875457460074115\n",
      "Epoch: 94\n"
     ]
    },
    {
     "name": "stderr",
     "output_type": "stream",
     "text": [
      "100%|████████████████████████████████████████████████████████████████████████████████████████████████████████████████████████████████████████████████████████████████████████████████| 9/9 [00:00<00:00, 49.45it/s]\n"
     ]
    },
    {
     "name": "stdout",
     "output_type": "stream",
     "text": [
      "Activity Training accuracy: 100.0\n",
      "Location Training accuracy: 99.91039426523298\n",
      "Activity Training loss: 0.02009529409442751\n",
      "Location Training loss: 0.023859956144859286\n",
      "Activity Test accuracy: 86.33093525179856\n",
      "Location Test accuracy: 96.76258992805755\n",
      "Activity Test loss: 0.4113668100439387\n",
      "Location Test loss: 0.08603675427625505\n",
      "Epoch: 95\n"
     ]
    },
    {
     "name": "stderr",
     "output_type": "stream",
     "text": [
      "100%|████████████████████████████████████████████████████████████████████████████████████████████████████████████████████████████████████████████████████████████████████████████████| 9/9 [00:00<00:00, 50.45it/s]\n"
     ]
    },
    {
     "name": "stdout",
     "output_type": "stream",
     "text": [
      "Activity Training accuracy: 100.0\n",
      "Location Training accuracy: 99.91039426523298\n",
      "Activity Training loss: 0.030029267072677612\n",
      "Location Training loss: 0.029557212492898374\n",
      "Activity Test accuracy: 85.25179856115108\n",
      "Location Test accuracy: 96.0431654676259\n",
      "Activity Test loss: 0.40828688153260045\n",
      "Location Test loss: 0.08988963539223019\n",
      "Epoch: 96\n"
     ]
    },
    {
     "name": "stderr",
     "output_type": "stream",
     "text": [
      "100%|████████████████████████████████████████████████████████████████████████████████████████████████████████████████████████████████████████████████████████████████████████████████| 9/9 [00:00<00:00, 50.66it/s]\n"
     ]
    },
    {
     "name": "stdout",
     "output_type": "stream",
     "text": [
      "Activity Training accuracy: 100.0\n",
      "Location Training accuracy: 99.91039426523298\n",
      "Activity Training loss: 0.017254236137567883\n",
      "Location Training loss: 0.021335009926108903\n",
      "Activity Test accuracy: 85.61151079136691\n",
      "Location Test accuracy: 96.0431654676259\n",
      "Activity Test loss: 0.41097439536087804\n",
      "Location Test loss: 0.0940345024033416\n",
      "Epoch: 97\n"
     ]
    },
    {
     "name": "stderr",
     "output_type": "stream",
     "text": [
      "100%|████████████████████████████████████████████████████████████████████████████████████████████████████████████████████████████████████████████████████████████████████████████████| 9/9 [00:00<00:00, 50.68it/s]\n"
     ]
    },
    {
     "name": "stdout",
     "output_type": "stream",
     "text": [
      "Activity Training accuracy: 100.0\n",
      "Location Training accuracy: 100.0\n",
      "Activity Training loss: 0.017813194396248\n",
      "Location Training loss: 0.018937236305633327\n",
      "Activity Test accuracy: 86.33093525179856\n",
      "Location Test accuracy: 96.40287769784173\n",
      "Activity Test loss: 0.4063085532016891\n",
      "Location Test loss: 0.08630549157266136\n",
      "Epoch: 98\n"
     ]
    },
    {
     "name": "stderr",
     "output_type": "stream",
     "text": [
      "100%|████████████████████████████████████████████████████████████████████████████████████████████████████████████████████████████████████████████████████████████████████████████████| 9/9 [00:00<00:00, 50.70it/s]\n"
     ]
    },
    {
     "name": "stdout",
     "output_type": "stream",
     "text": [
      "Activity Training accuracy: 100.0\n",
      "Location Training accuracy: 99.91039426523298\n",
      "Activity Training loss: 0.02073495073985028\n",
      "Location Training loss: 0.02541222644963145\n",
      "Activity Test accuracy: 86.33093525179856\n",
      "Location Test accuracy: 96.40287769784173\n",
      "Activity Test loss: 0.40516576921339514\n",
      "Location Test loss: 0.08567446834749455\n",
      "Epoch: 99\n"
     ]
    },
    {
     "name": "stderr",
     "output_type": "stream",
     "text": [
      "100%|████████████████████████████████████████████████████████████████████████████████████████████████████████████████████████████████████████████████████████████████████████████████| 9/9 [00:00<00:00, 50.94it/s]\n"
     ]
    },
    {
     "name": "stdout",
     "output_type": "stream",
     "text": [
      "Activity Training accuracy: 100.0\n",
      "Location Training accuracy: 99.91039426523298\n",
      "Activity Training loss: 0.019230798581167788\n",
      "Location Training loss: 0.0242129615558091\n",
      "Activity Test accuracy: 87.05035971223022\n",
      "Location Test accuracy: 96.40287769784173\n",
      "Activity Test loss: 0.4053541533380961\n",
      "Location Test loss: 0.08625536470962085\n",
      "Epoch: 100\n"
     ]
    },
    {
     "name": "stderr",
     "output_type": "stream",
     "text": [
      "100%|████████████████████████████████████████████████████████████████████████████████████████████████████████████████████████████████████████████████████████████████████████████████| 9/9 [00:00<00:00, 49.56it/s]\n"
     ]
    },
    {
     "name": "stdout",
     "output_type": "stream",
     "text": [
      "Activity Training accuracy: 100.0\n",
      "Location Training accuracy: 99.91039426523298\n",
      "Activity Training loss: 0.021726416430592966\n",
      "Location Training loss: 0.02390572407339636\n",
      "Activity Test accuracy: 86.69064748201438\n",
      "Location Test accuracy: 96.40287769784173\n",
      "Activity Test loss: 0.4058640256202478\n",
      "Location Test loss: 0.0852395427955998\n",
      "Epoch: 101\n"
     ]
    },
    {
     "name": "stderr",
     "output_type": "stream",
     "text": [
      "100%|████████████████████████████████████████████████████████████████████████████████████████████████████████████████████████████████████████████████████████████████████████████████| 9/9 [00:00<00:00, 50.73it/s]\n"
     ]
    },
    {
     "name": "stdout",
     "output_type": "stream",
     "text": [
      "Activity Training accuracy: 100.0\n",
      "Location Training accuracy: 100.0\n",
      "Activity Training loss: 0.018227339645440432\n",
      "Location Training loss: 0.020460396791444457\n",
      "Activity Test accuracy: 86.33093525179856\n",
      "Location Test accuracy: 96.40287769784173\n",
      "Activity Test loss: 0.4104392211214244\n",
      "Location Test loss: 0.08574594836012064\n",
      "Epoch: 102\n"
     ]
    },
    {
     "name": "stderr",
     "output_type": "stream",
     "text": [
      "100%|████████████████████████████████████████████████████████████████████████████████████████████████████████████████████████████████████████████████████████████████████████████████| 9/9 [00:00<00:00, 49.32it/s]\n"
     ]
    },
    {
     "name": "stdout",
     "output_type": "stream",
     "text": [
      "Activity Training accuracy: 100.0\n",
      "Location Training accuracy: 99.91039426523298\n",
      "Activity Training loss: 0.019593835624742678\n",
      "Location Training loss: 0.024881528803951853\n",
      "Activity Test accuracy: 86.69064748201438\n",
      "Location Test accuracy: 96.76258992805755\n",
      "Activity Test loss: 0.4173809139848613\n",
      "Location Test loss: 0.08603282101291547\n",
      "Epoch: 103\n"
     ]
    },
    {
     "name": "stderr",
     "output_type": "stream",
     "text": [
      "100%|████████████████████████████████████████████████████████████████████████████████████████████████████████████████████████████████████████████████████████████████████████████████| 9/9 [00:00<00:00, 49.96it/s]\n"
     ]
    },
    {
     "name": "stdout",
     "output_type": "stream",
     "text": [
      "Activity Training accuracy: 100.0\n",
      "Location Training accuracy: 100.0\n",
      "Activity Training loss: 0.020350736315532397\n",
      "Location Training loss: 0.025260293355552098\n",
      "Activity Test accuracy: 86.69064748201438\n",
      "Location Test accuracy: 96.40287769784173\n",
      "Activity Test loss: 0.4126118605943035\n",
      "Location Test loss: 0.08689599082195501\n",
      "Epoch: 104\n"
     ]
    },
    {
     "name": "stderr",
     "output_type": "stream",
     "text": [
      "100%|████████████████████████████████████████████████████████████████████████████████████████████████████████████████████████████████████████████████████████████████████████████████| 9/9 [00:00<00:00, 49.82it/s]\n"
     ]
    },
    {
     "name": "stdout",
     "output_type": "stream",
     "text": [
      "Activity Training accuracy: 100.0\n",
      "Location Training accuracy: 100.0\n",
      "Activity Training loss: 0.02212726215307858\n",
      "Location Training loss: 0.025146857117666566\n",
      "Activity Test accuracy: 86.33093525179856\n",
      "Location Test accuracy: 96.40287769784173\n",
      "Activity Test loss: 0.4123093614475333\n",
      "Location Test loss: 0.08670259497577337\n",
      "Epoch: 105\n"
     ]
    },
    {
     "name": "stderr",
     "output_type": "stream",
     "text": [
      "100%|████████████████████████████████████████████████████████████████████████████████████████████████████████████████████████████████████████████████████████████████████████████████| 9/9 [00:00<00:00, 50.43it/s]\n"
     ]
    },
    {
     "name": "stdout",
     "output_type": "stream",
     "text": [
      "Activity Training accuracy: 100.0\n",
      "Location Training accuracy: 100.0\n",
      "Activity Training loss: 0.01567240000625665\n",
      "Location Training loss: 0.016052161974291646\n",
      "Activity Test accuracy: 87.05035971223022\n",
      "Location Test accuracy: 96.40287769784173\n",
      "Activity Test loss: 0.41131391928350325\n",
      "Location Test loss: 0.08675015176371705\n",
      "Epoch: 106\n"
     ]
    },
    {
     "name": "stderr",
     "output_type": "stream",
     "text": [
      "100%|████████████████████████████████████████████████████████████████████████████████████████████████████████████████████████████████████████████████████████████████████████████████| 9/9 [00:00<00:00, 50.52it/s]\n"
     ]
    },
    {
     "name": "stdout",
     "output_type": "stream",
     "text": [
      "Activity Training accuracy: 100.0\n",
      "Location Training accuracy: 100.0\n",
      "Activity Training loss: 0.01532919720936847\n",
      "Location Training loss: 0.01781091660154336\n",
      "Activity Test accuracy: 86.69064748201438\n",
      "Location Test accuracy: 96.0431654676259\n",
      "Activity Test loss: 0.40851755665360595\n",
      "Location Test loss: 0.08711406878001399\n",
      "Epoch: 107\n"
     ]
    },
    {
     "name": "stderr",
     "output_type": "stream",
     "text": [
      "100%|████████████████████████████████████████████████████████████████████████████████████████████████████████████████████████████████████████████████████████████████████████████████| 9/9 [00:00<00:00, 51.02it/s]\n"
     ]
    },
    {
     "name": "stdout",
     "output_type": "stream",
     "text": [
      "Activity Training accuracy: 100.0\n",
      "Location Training accuracy: 100.0\n",
      "Activity Training loss: 0.01933005879429506\n",
      "Location Training loss: 0.02830306656898991\n",
      "Activity Test accuracy: 86.69064748201438\n",
      "Location Test accuracy: 96.40287769784173\n",
      "Activity Test loss: 0.412397535156003\n",
      "Location Test loss: 0.08701003648394304\n",
      "Epoch: 108\n"
     ]
    },
    {
     "name": "stderr",
     "output_type": "stream",
     "text": [
      "100%|████████████████████████████████████████████████████████████████████████████████████████████████████████████████████████████████████████████████████████████████████████████████| 9/9 [00:00<00:00, 49.70it/s]\n"
     ]
    },
    {
     "name": "stdout",
     "output_type": "stream",
     "text": [
      "Activity Training accuracy: 100.0\n",
      "Location Training accuracy: 100.0\n",
      "Activity Training loss: 0.022904245443241572\n",
      "Location Training loss: 0.03203161002059991\n",
      "Activity Test accuracy: 85.97122302158273\n",
      "Location Test accuracy: 96.40287769784173\n",
      "Activity Test loss: 0.4085636662064696\n",
      "Location Test loss: 0.08591073965854781\n",
      "Epoch: 109\n"
     ]
    },
    {
     "name": "stderr",
     "output_type": "stream",
     "text": [
      "100%|████████████████████████████████████████████████████████████████████████████████████████████████████████████████████████████████████████████████████████████████████████████████| 9/9 [00:00<00:00, 49.46it/s]\n"
     ]
    },
    {
     "name": "stdout",
     "output_type": "stream",
     "text": [
      "Activity Training accuracy: 100.0\n",
      "Location Training accuracy: 100.0\n",
      "Activity Training loss: 0.020890128121153855\n",
      "Location Training loss: 0.021004951235214016\n",
      "Activity Test accuracy: 86.69064748201438\n",
      "Location Test accuracy: 96.40287769784173\n",
      "Activity Test loss: 0.4138704804207781\n",
      "Location Test loss: 0.08554775959296192\n",
      "Epoch: 110\n"
     ]
    },
    {
     "name": "stderr",
     "output_type": "stream",
     "text": [
      "100%|████████████████████████████████████████████████████████████████████████████████████████████████████████████████████████████████████████████████████████████████████████████████| 9/9 [00:00<00:00, 49.76it/s]\n"
     ]
    },
    {
     "name": "stdout",
     "output_type": "stream",
     "text": [
      "Activity Training accuracy: 100.0\n",
      "Location Training accuracy: 99.91039426523298\n",
      "Activity Training loss: 0.031070879817436246\n",
      "Location Training loss: 0.034425702039486195\n",
      "Activity Test accuracy: 86.69064748201438\n",
      "Location Test accuracy: 96.40287769784173\n",
      "Activity Test loss: 0.4148094148086987\n",
      "Location Test loss: 0.08506655467928742\n",
      "Epoch: 111\n"
     ]
    },
    {
     "name": "stderr",
     "output_type": "stream",
     "text": [
      "100%|████████████████████████████████████████████████████████████████████████████████████████████████████████████████████████████████████████████████████████████████████████████████| 9/9 [00:00<00:00, 50.28it/s]\n"
     ]
    },
    {
     "name": "stdout",
     "output_type": "stream",
     "text": [
      "Activity Training accuracy: 100.0\n",
      "Location Training accuracy: 99.91039426523298\n",
      "Activity Training loss: 0.014400037920175914\n",
      "Location Training loss: 0.018822114206984052\n",
      "Activity Test accuracy: 86.69064748201438\n",
      "Location Test accuracy: 96.76258992805755\n",
      "Activity Test loss: 0.4169013770364171\n",
      "Location Test loss: 0.08525789030593076\n",
      "Epoch: 112\n"
     ]
    },
    {
     "name": "stderr",
     "output_type": "stream",
     "text": [
      "100%|████████████████████████████████████████████████████████████████████████████████████████████████████████████████████████████████████████████████████████████████████████████████| 9/9 [00:00<00:00, 49.88it/s]\n"
     ]
    },
    {
     "name": "stdout",
     "output_type": "stream",
     "text": [
      "Activity Training accuracy: 100.0\n",
      "Location Training accuracy: 100.0\n",
      "Activity Training loss: 0.01803015594414058\n",
      "Location Training loss: 0.01921293524003798\n",
      "Activity Test accuracy: 86.69064748201438\n",
      "Location Test accuracy: 96.40287769784173\n",
      "Activity Test loss: 0.412254041047405\n",
      "Location Test loss: 0.08607351276085531\n",
      "Epoch: 113\n"
     ]
    },
    {
     "name": "stderr",
     "output_type": "stream",
     "text": [
      "100%|████████████████████████████████████████████████████████████████████████████████████████████████████████████████████████████████████████████████████████████████████████████████| 9/9 [00:00<00:00, 49.64it/s]\n"
     ]
    },
    {
     "name": "stdout",
     "output_type": "stream",
     "text": [
      "Activity Training accuracy: 100.0\n",
      "Location Training accuracy: 100.0\n",
      "Activity Training loss: 0.016670781972160476\n",
      "Location Training loss: 0.021346841554915178\n",
      "Activity Test accuracy: 86.69064748201438\n",
      "Location Test accuracy: 96.40287769784173\n",
      "Activity Test loss: 0.4176872801437652\n",
      "Location Test loss: 0.08751170187116526\n",
      "Epoch: 114\n"
     ]
    },
    {
     "name": "stderr",
     "output_type": "stream",
     "text": [
      "100%|████████████████████████████████████████████████████████████████████████████████████████████████████████████████████████████████████████████████████████████████████████████████| 9/9 [00:00<00:00, 50.91it/s]\n"
     ]
    },
    {
     "name": "stdout",
     "output_type": "stream",
     "text": [
      "Activity Training accuracy: 100.0\n",
      "Location Training accuracy: 100.0\n",
      "Activity Training loss: 0.016646475988476933\n",
      "Location Training loss: 0.01866245440684766\n",
      "Activity Test accuracy: 86.69064748201438\n",
      "Location Test accuracy: 96.40287769784173\n",
      "Activity Test loss: 0.4087392739254794\n",
      "Location Test loss: 0.08664437152927729\n",
      "Epoch: 115\n"
     ]
    },
    {
     "name": "stderr",
     "output_type": "stream",
     "text": [
      "100%|████████████████████████████████████████████████████████████████████████████████████████████████████████████████████████████████████████████████████████████████████████████████| 9/9 [00:00<00:00, 51.04it/s]\n"
     ]
    },
    {
     "name": "stdout",
     "output_type": "stream",
     "text": [
      "Activity Training accuracy: 100.0\n",
      "Location Training accuracy: 100.0\n",
      "Activity Training loss: 0.02697477001015858\n",
      "Location Training loss: 0.02741548557862586\n",
      "Activity Test accuracy: 86.33093525179856\n",
      "Location Test accuracy: 96.76258992805755\n",
      "Activity Test loss: 0.4173061243064112\n",
      "Location Test loss: 0.08526957699720808\n",
      "Epoch: 116\n"
     ]
    },
    {
     "name": "stderr",
     "output_type": "stream",
     "text": [
      "100%|████████████████████████████████████████████████████████████████████████████████████████████████████████████████████████████████████████████████████████████████████████████████| 9/9 [00:00<00:00, 51.14it/s]\n"
     ]
    },
    {
     "name": "stdout",
     "output_type": "stream",
     "text": [
      "Activity Training accuracy: 100.0\n",
      "Location Training accuracy: 99.91039426523298\n",
      "Activity Training loss: 0.022315083759232662\n",
      "Location Training loss: 0.024141417609320745\n",
      "Activity Test accuracy: 86.33093525179856\n",
      "Location Test accuracy: 96.76258992805755\n",
      "Activity Test loss: 0.4189774119596687\n",
      "Location Test loss: 0.08568692893433057\n",
      "Epoch: 117\n"
     ]
    },
    {
     "name": "stderr",
     "output_type": "stream",
     "text": [
      "100%|████████████████████████████████████████████████████████████████████████████████████████████████████████████████████████████████████████████████████████████████████████████████| 9/9 [00:00<00:00, 50.20it/s]\n"
     ]
    },
    {
     "name": "stdout",
     "output_type": "stream",
     "text": [
      "Activity Training accuracy: 100.0\n",
      "Location Training accuracy: 100.0\n",
      "Activity Training loss: 0.020026048985860682\n",
      "Location Training loss: 0.023736996569513846\n",
      "Activity Test accuracy: 86.69064748201438\n",
      "Location Test accuracy: 96.40287769784173\n",
      "Activity Test loss: 0.41868203492473355\n",
      "Location Test loss: 0.08694909791723429\n",
      "Epoch: 118\n"
     ]
    },
    {
     "name": "stderr",
     "output_type": "stream",
     "text": [
      "100%|████████████████████████████████████████████████████████████████████████████████████████████████████████████████████████████████████████████████████████████████████████████████| 9/9 [00:00<00:00, 49.95it/s]\n"
     ]
    },
    {
     "name": "stdout",
     "output_type": "stream",
     "text": [
      "Activity Training accuracy: 100.0\n",
      "Location Training accuracy: 99.91039426523298\n",
      "Activity Training loss: 0.019990240908010885\n",
      "Location Training loss: 0.019469543917632018\n",
      "Activity Test accuracy: 86.69064748201438\n",
      "Location Test accuracy: 96.76258992805755\n",
      "Activity Test loss: 0.4191823983363968\n",
      "Location Test loss: 0.08606916312262308\n",
      "Epoch: 119\n"
     ]
    },
    {
     "name": "stderr",
     "output_type": "stream",
     "text": [
      "100%|████████████████████████████████████████████████████████████████████████████████████████████████████████████████████████████████████████████████████████████████████████████████| 9/9 [00:00<00:00, 50.34it/s]\n"
     ]
    },
    {
     "name": "stdout",
     "output_type": "stream",
     "text": [
      "Activity Training accuracy: 100.0\n",
      "Location Training accuracy: 100.0\n",
      "Activity Training loss: 0.02592012991187393\n",
      "Location Training loss: 0.027534383706294508\n",
      "Activity Test accuracy: 85.97122302158273\n",
      "Location Test accuracy: 96.76258992805755\n",
      "Activity Test loss: 0.41149674945598025\n",
      "Location Test loss: 0.08511805941732667\n",
      "Epoch: 120\n"
     ]
    },
    {
     "name": "stderr",
     "output_type": "stream",
     "text": [
      "100%|████████████████████████████████████████████████████████████████████████████████████████████████████████████████████████████████████████████████████████████████████████████████| 9/9 [00:00<00:00, 49.61it/s]\n"
     ]
    },
    {
     "name": "stdout",
     "output_type": "stream",
     "text": [
      "Activity Training accuracy: 100.0\n",
      "Location Training accuracy: 100.0\n",
      "Activity Training loss: 0.021682771303320445\n",
      "Location Training loss: 0.023813752076959096\n",
      "Activity Test accuracy: 85.97122302158273\n",
      "Location Test accuracy: 96.0431654676259\n",
      "Activity Test loss: 0.41130352577717183\n",
      "Location Test loss: 0.08719728243865556\n",
      "Epoch: 121\n"
     ]
    },
    {
     "name": "stderr",
     "output_type": "stream",
     "text": [
      "100%|████████████████████████████████████████████████████████████████████████████████████████████████████████████████████████████████████████████████████████████████████████████████| 9/9 [00:00<00:00, 49.69it/s]\n"
     ]
    },
    {
     "name": "stdout",
     "output_type": "stream",
     "text": [
      "Activity Training accuracy: 100.0\n",
      "Location Training accuracy: 100.0\n",
      "Activity Training loss: 0.015838871185924846\n",
      "Location Training loss: 0.019223793967223082\n",
      "Activity Test accuracy: 86.33093525179856\n",
      "Location Test accuracy: 96.40287769784173\n",
      "Activity Test loss: 0.41509726965170113\n",
      "Location Test loss: 0.08596768621489298\n",
      "Epoch: 122\n"
     ]
    },
    {
     "name": "stderr",
     "output_type": "stream",
     "text": [
      "100%|████████████████████████████████████████████████████████████████████████████████████████████████████████████████████████████████████████████████████████████████████████████████| 9/9 [00:00<00:00, 50.01it/s]\n"
     ]
    },
    {
     "name": "stdout",
     "output_type": "stream",
     "text": [
      "Activity Training accuracy: 100.0\n",
      "Location Training accuracy: 100.0\n",
      "Activity Training loss: 0.01808725591201509\n",
      "Location Training loss: 0.023132879460584305\n",
      "Activity Test accuracy: 87.05035971223022\n",
      "Location Test accuracy: 96.40287769784173\n",
      "Activity Test loss: 0.4121475918687505\n",
      "Location Test loss: 0.08612070237989906\n",
      "Epoch: 123\n"
     ]
    },
    {
     "name": "stderr",
     "output_type": "stream",
     "text": [
      "100%|████████████████████████████████████████████████████████████████████████████████████████████████████████████████████████████████████████████████████████████████████████████████| 9/9 [00:00<00:00, 49.69it/s]\n"
     ]
    },
    {
     "name": "stdout",
     "output_type": "stream",
     "text": [
      "Activity Training accuracy: 100.0\n",
      "Location Training accuracy: 100.0\n",
      "Activity Training loss: 0.015561280498367911\n",
      "Location Training loss: 0.016830668761311465\n",
      "Activity Test accuracy: 87.05035971223022\n",
      "Location Test accuracy: 96.40287769784173\n",
      "Activity Test loss: 0.41259168034834826\n",
      "Location Test loss: 0.08593021944272432\n",
      "Epoch: 124\n"
     ]
    },
    {
     "name": "stderr",
     "output_type": "stream",
     "text": [
      "100%|████████████████████████████████████████████████████████████████████████████████████████████████████████████████████████████████████████████████████████████████████████████████| 9/9 [00:00<00:00, 49.67it/s]\n"
     ]
    },
    {
     "name": "stdout",
     "output_type": "stream",
     "text": [
      "Activity Training accuracy: 100.0\n",
      "Location Training accuracy: 100.0\n",
      "Activity Training loss: 0.018361072706919845\n",
      "Location Training loss: 0.021689272375516995\n",
      "Activity Test accuracy: 86.69064748201438\n",
      "Location Test accuracy: 96.40287769784173\n",
      "Activity Test loss: 0.4162792168932853\n",
      "Location Test loss: 0.08689170411164812\n",
      "Epoch: 125\n"
     ]
    },
    {
     "name": "stderr",
     "output_type": "stream",
     "text": [
      "100%|████████████████████████████████████████████████████████████████████████████████████████████████████████████████████████████████████████████████████████████████████████████████| 9/9 [00:00<00:00, 50.91it/s]\n"
     ]
    },
    {
     "name": "stdout",
     "output_type": "stream",
     "text": [
      "Activity Training accuracy: 100.0\n",
      "Location Training accuracy: 100.0\n",
      "Activity Training loss: 0.019511396632826885\n",
      "Location Training loss: 0.022768562839877222\n",
      "Activity Test accuracy: 86.69064748201438\n",
      "Location Test accuracy: 96.40287769784173\n",
      "Activity Test loss: 0.4205335408663578\n",
      "Location Test loss: 0.08697006631669381\n",
      "Epoch: 126\n"
     ]
    },
    {
     "name": "stderr",
     "output_type": "stream",
     "text": [
      "100%|████████████████████████████████████████████████████████████████████████████████████████████████████████████████████████████████████████████████████████████████████████████████| 9/9 [00:00<00:00, 49.63it/s]\n"
     ]
    },
    {
     "name": "stdout",
     "output_type": "stream",
     "text": [
      "Activity Training accuracy: 100.0\n",
      "Location Training accuracy: 100.0\n",
      "Activity Training loss: 0.019895874150764985\n",
      "Location Training loss: 0.018646681180564305\n",
      "Activity Test accuracy: 87.41007194244604\n",
      "Location Test accuracy: 96.40287769784173\n",
      "Activity Test loss: 0.4167419830672175\n",
      "Location Test loss: 0.0873670694853762\n",
      "Epoch: 127\n"
     ]
    },
    {
     "name": "stderr",
     "output_type": "stream",
     "text": [
      "100%|████████████████████████████████████████████████████████████████████████████████████████████████████████████████████████████████████████████████████████████████████████████████| 9/9 [00:00<00:00, 49.79it/s]\n"
     ]
    },
    {
     "name": "stdout",
     "output_type": "stream",
     "text": [
      "Activity Training accuracy: 100.0\n",
      "Location Training accuracy: 100.0\n",
      "Activity Training loss: 0.017262529194568648\n",
      "Location Training loss: 0.024993444322257915\n",
      "Activity Test accuracy: 87.05035971223022\n",
      "Location Test accuracy: 96.40287769784173\n",
      "Activity Test loss: 0.41364372505558483\n",
      "Location Test loss: 0.0859854958897872\n",
      "Epoch: 128\n"
     ]
    },
    {
     "name": "stderr",
     "output_type": "stream",
     "text": [
      "100%|████████████████████████████████████████████████████████████████████████████████████████████████████████████████████████████████████████████████████████████████████████████████| 9/9 [00:00<00:00, 50.71it/s]\n"
     ]
    },
    {
     "name": "stdout",
     "output_type": "stream",
     "text": [
      "Activity Training accuracy: 100.0\n",
      "Location Training accuracy: 100.0\n",
      "Activity Training loss: 0.01739520699747147\n",
      "Location Training loss: 0.020548457740455547\n",
      "Activity Test accuracy: 86.33093525179856\n",
      "Location Test accuracy: 96.40287769784173\n",
      "Activity Test loss: 0.41284112878840606\n",
      "Location Test loss: 0.08595963605016256\n",
      "Epoch: 129\n"
     ]
    },
    {
     "name": "stderr",
     "output_type": "stream",
     "text": [
      "100%|████████████████████████████████████████████████████████████████████████████████████████████████████████████████████████████████████████████████████████████████████████████████| 9/9 [00:00<00:00, 48.48it/s]\n"
     ]
    },
    {
     "name": "stdout",
     "output_type": "stream",
     "text": [
      "Activity Training accuracy: 100.0\n",
      "Location Training accuracy: 100.0\n",
      "Activity Training loss: 0.022579927491458086\n",
      "Location Training loss: 0.024243223303962353\n",
      "Activity Test accuracy: 86.33093525179856\n",
      "Location Test accuracy: 96.40287769784173\n",
      "Activity Test loss: 0.41330582546673234\n",
      "Location Test loss: 0.08683916218846822\n",
      "Epoch: 130\n"
     ]
    },
    {
     "name": "stderr",
     "output_type": "stream",
     "text": [
      "100%|████████████████████████████████████████████████████████████████████████████████████████████████████████████████████████████████████████████████████████████████████████████████| 9/9 [00:00<00:00, 50.69it/s]\n"
     ]
    },
    {
     "name": "stdout",
     "output_type": "stream",
     "text": [
      "Activity Training accuracy: 100.0\n",
      "Location Training accuracy: 100.0\n",
      "Activity Training loss: 0.016916533845299887\n",
      "Location Training loss: 0.021739526354711117\n",
      "Activity Test accuracy: 86.33093525179856\n",
      "Location Test accuracy: 96.40287769784173\n",
      "Activity Test loss: 0.4139134189207777\n",
      "Location Test loss: 0.08686671861641698\n",
      "Epoch: 131\n"
     ]
    },
    {
     "name": "stderr",
     "output_type": "stream",
     "text": [
      "100%|████████████████████████████████████████████████████████████████████████████████████████████████████████████████████████████████████████████████████████████████████████████████| 9/9 [00:00<00:00, 49.58it/s]\n"
     ]
    },
    {
     "name": "stdout",
     "output_type": "stream",
     "text": [
      "Activity Training accuracy: 100.0\n",
      "Location Training accuracy: 100.0\n",
      "Activity Training loss: 0.016759748847681135\n",
      "Location Training loss: 0.01740811161670206\n",
      "Activity Test accuracy: 85.97122302158273\n",
      "Location Test accuracy: 96.40287769784173\n",
      "Activity Test loss: 0.414116868012243\n",
      "Location Test loss: 0.08606558759435476\n",
      "Epoch: 132\n"
     ]
    },
    {
     "name": "stderr",
     "output_type": "stream",
     "text": [
      "100%|████████████████████████████████████████████████████████████████████████████████████████████████████████████████████████████████████████████████████████████████████████████████| 9/9 [00:00<00:00, 50.58it/s]\n"
     ]
    },
    {
     "name": "stdout",
     "output_type": "stream",
     "text": [
      "Activity Training accuracy: 100.0\n",
      "Location Training accuracy: 100.0\n",
      "Activity Training loss: 0.01585051930078896\n",
      "Location Training loss: 0.018699473377624294\n",
      "Activity Test accuracy: 86.69064748201438\n",
      "Location Test accuracy: 96.40287769784173\n",
      "Activity Test loss: 0.4118333223054735\n",
      "Location Test loss: 0.08595527633488607\n",
      "Epoch: 133\n"
     ]
    },
    {
     "name": "stderr",
     "output_type": "stream",
     "text": [
      "100%|████████████████████████████████████████████████████████████████████████████████████████████████████████████████████████████████████████████████████████████████████████████████| 9/9 [00:00<00:00, 50.29it/s]\n"
     ]
    },
    {
     "name": "stdout",
     "output_type": "stream",
     "text": [
      "Activity Training accuracy: 100.0\n",
      "Location Training accuracy: 100.0\n",
      "Activity Training loss: 0.019302067363561267\n",
      "Location Training loss: 0.025392018659140474\n",
      "Activity Test accuracy: 85.97122302158273\n",
      "Location Test accuracy: 96.76258992805755\n",
      "Activity Test loss: 0.41056739512107354\n",
      "Location Test loss: 0.08526454930254024\n",
      "Epoch: 134\n"
     ]
    },
    {
     "name": "stderr",
     "output_type": "stream",
     "text": [
      "100%|████████████████████████████████████████████████████████████████████████████████████████████████████████████████████████████████████████████████████████████████████████████████| 9/9 [00:00<00:00, 49.45it/s]\n"
     ]
    },
    {
     "name": "stdout",
     "output_type": "stream",
     "text": [
      "Activity Training accuracy: 100.0\n",
      "Location Training accuracy: 100.0\n",
      "Activity Training loss: 0.027776599998542484\n",
      "Location Training loss: 0.024508249481946336\n",
      "Activity Test accuracy: 86.69064748201438\n",
      "Location Test accuracy: 96.0431654676259\n",
      "Activity Test loss: 0.4073204350986069\n",
      "Location Test loss: 0.08654011217810267\n",
      "Epoch: 135\n"
     ]
    },
    {
     "name": "stderr",
     "output_type": "stream",
     "text": [
      "100%|████████████████████████████████████████████████████████████████████████████████████████████████████████████████████████████████████████████████████████████████████████████████| 9/9 [00:00<00:00, 50.25it/s]\n"
     ]
    },
    {
     "name": "stdout",
     "output_type": "stream",
     "text": [
      "Activity Training accuracy: 100.0\n",
      "Location Training accuracy: 99.91039426523298\n",
      "Activity Training loss: 0.033767224533156254\n",
      "Location Training loss: 0.03204166814417822\n",
      "Activity Test accuracy: 87.05035971223022\n",
      "Location Test accuracy: 96.0431654676259\n",
      "Activity Test loss: 0.40519601106643677\n",
      "Location Test loss: 0.08679212125942862\n",
      "Epoch: 136\n"
     ]
    },
    {
     "name": "stderr",
     "output_type": "stream",
     "text": [
      "100%|████████████████████████████████████████████████████████████████████████████████████████████████████████████████████████████████████████████████████████████████████████████████| 9/9 [00:00<00:00, 50.39it/s]\n"
     ]
    },
    {
     "name": "stdout",
     "output_type": "stream",
     "text": [
      "Activity Training accuracy: 100.0\n",
      "Location Training accuracy: 100.0\n",
      "Activity Training loss: 0.02104579633282077\n",
      "Location Training loss: 0.023733043649290624\n",
      "Activity Test accuracy: 87.05035971223022\n",
      "Location Test accuracy: 96.40287769784173\n",
      "Activity Test loss: 0.41422470653657434\n",
      "Location Test loss: 0.08664439404182298\n",
      "Epoch: 137\n"
     ]
    },
    {
     "name": "stderr",
     "output_type": "stream",
     "text": [
      "100%|████████████████████████████████████████████████████████████████████████████████████████████████████████████████████████████████████████████████████████████████████████████████| 9/9 [00:00<00:00, 50.03it/s]\n"
     ]
    },
    {
     "name": "stdout",
     "output_type": "stream",
     "text": [
      "Activity Training accuracy: 100.0\n",
      "Location Training accuracy: 99.91039426523298\n",
      "Activity Training loss: 0.018728719389994083\n",
      "Location Training loss: 0.021938042615049627\n",
      "Activity Test accuracy: 87.05035971223022\n",
      "Location Test accuracy: 96.76258992805755\n",
      "Activity Test loss: 0.4137660333578535\n",
      "Location Test loss: 0.08550184825770289\n",
      "Epoch: 138\n"
     ]
    },
    {
     "name": "stderr",
     "output_type": "stream",
     "text": [
      "100%|████████████████████████████████████████████████████████████████████████████████████████████████████████████████████████████████████████████████████████████████████████████████| 9/9 [00:00<00:00, 49.86it/s]\n"
     ]
    },
    {
     "name": "stdout",
     "output_type": "stream",
     "text": [
      "Activity Training accuracy: 100.0\n",
      "Location Training accuracy: 100.0\n",
      "Activity Training loss: 0.02519264870647034\n",
      "Location Training loss: 0.022216331040132858\n",
      "Activity Test accuracy: 86.69064748201438\n",
      "Location Test accuracy: 96.76258992805755\n",
      "Activity Test loss: 0.4105728470164237\n",
      "Location Test loss: 0.08440742711369083\n",
      "Epoch: 139\n"
     ]
    },
    {
     "name": "stderr",
     "output_type": "stream",
     "text": [
      "100%|████████████████████████████████████████████████████████████████████████████████████████████████████████████████████████████████████████████████████████████████████████████████| 9/9 [00:00<00:00, 48.81it/s]\n"
     ]
    },
    {
     "name": "stdout",
     "output_type": "stream",
     "text": [
      "Activity Training accuracy: 100.0\n",
      "Location Training accuracy: 100.0\n",
      "Activity Training loss: 0.020875594949209562\n",
      "Location Training loss: 0.0221293704270462\n",
      "Activity Test accuracy: 86.69064748201438\n",
      "Location Test accuracy: 96.40287769784173\n",
      "Activity Test loss: 0.4084651984756799\n",
      "Location Test loss: 0.0854017937140499\n",
      "Epoch: 140\n"
     ]
    },
    {
     "name": "stderr",
     "output_type": "stream",
     "text": [
      "100%|████████████████████████████████████████████████████████████████████████████████████████████████████████████████████████████████████████████████████████████████████████████████| 9/9 [00:00<00:00, 49.00it/s]\n"
     ]
    },
    {
     "name": "stdout",
     "output_type": "stream",
     "text": [
      "Activity Training accuracy: 100.0\n",
      "Location Training accuracy: 100.0\n",
      "Activity Training loss: 0.020617183818612047\n",
      "Location Training loss: 0.022974154641551357\n",
      "Activity Test accuracy: 87.05035971223022\n",
      "Location Test accuracy: 96.40287769784173\n",
      "Activity Test loss: 0.40968685870547944\n",
      "Location Test loss: 0.08559518355688603\n",
      "Epoch: 141\n"
     ]
    },
    {
     "name": "stderr",
     "output_type": "stream",
     "text": [
      "100%|████████████████████████████████████████████████████████████████████████████████████████████████████████████████████████████████████████████████████████████████████████████████| 9/9 [00:00<00:00, 48.00it/s]\n"
     ]
    },
    {
     "name": "stdout",
     "output_type": "stream",
     "text": [
      "Activity Training accuracy: 100.0\n",
      "Location Training accuracy: 100.0\n",
      "Activity Training loss: 0.02626767423417833\n",
      "Location Training loss: 0.022785764120812912\n",
      "Activity Test accuracy: 86.69064748201438\n",
      "Location Test accuracy: 96.40287769784173\n",
      "Activity Test loss: 0.41870357793012114\n",
      "Location Test loss: 0.08648041340944579\n",
      "Epoch: 142\n"
     ]
    },
    {
     "name": "stderr",
     "output_type": "stream",
     "text": [
      "100%|████████████████████████████████████████████████████████████████████████████████████████████████████████████████████████████████████████████████████████████████████████████████| 9/9 [00:00<00:00, 49.71it/s]\n"
     ]
    },
    {
     "name": "stdout",
     "output_type": "stream",
     "text": [
      "Activity Training accuracy: 100.0\n",
      "Location Training accuracy: 99.91039426523298\n",
      "Activity Training loss: 0.022391436454643057\n",
      "Location Training loss: 0.01995862705305913\n",
      "Activity Test accuracy: 86.69064748201438\n",
      "Location Test accuracy: 96.76258992805755\n",
      "Activity Test loss: 0.4177332704873394\n",
      "Location Test loss: 0.08683918009130218\n",
      "Epoch: 143\n"
     ]
    },
    {
     "name": "stderr",
     "output_type": "stream",
     "text": [
      "100%|████████████████████████████████████████████████████████████████████████████████████████████████████████████████████████████████████████████████████████████████████████████████| 9/9 [00:00<00:00, 49.75it/s]\n"
     ]
    },
    {
     "name": "stdout",
     "output_type": "stream",
     "text": [
      "Activity Training accuracy: 100.0\n",
      "Location Training accuracy: 100.0\n",
      "Activity Training loss: 0.020007427554831283\n",
      "Location Training loss: 0.020286637715541334\n",
      "Activity Test accuracy: 85.97122302158273\n",
      "Location Test accuracy: 96.40287769784173\n",
      "Activity Test loss: 0.4098224995805205\n",
      "Location Test loss: 0.08557074768937749\n",
      "Epoch: 144\n"
     ]
    },
    {
     "name": "stderr",
     "output_type": "stream",
     "text": [
      "100%|████████████████████████████████████████████████████████████████████████████████████████████████████████████████████████████████████████████████████████████████████████████████| 9/9 [00:00<00:00, 49.99it/s]\n"
     ]
    },
    {
     "name": "stdout",
     "output_type": "stream",
     "text": [
      "Activity Training accuracy: 100.0\n",
      "Location Training accuracy: 100.0\n",
      "Activity Training loss: 0.02775074568273346\n",
      "Location Training loss: 0.025681856392104994\n",
      "Activity Test accuracy: 85.97122302158273\n",
      "Location Test accuracy: 96.40287769784173\n",
      "Activity Test loss: 0.41548074063637275\n",
      "Location Test loss: 0.08763787922241704\n",
      "Epoch: 145\n"
     ]
    },
    {
     "name": "stderr",
     "output_type": "stream",
     "text": [
      "100%|████████████████████████████████████████████████████████████████████████████████████████████████████████████████████████████████████████████████████████████████████████████████| 9/9 [00:00<00:00, 50.03it/s]\n"
     ]
    },
    {
     "name": "stdout",
     "output_type": "stream",
     "text": [
      "Activity Training accuracy: 100.0\n",
      "Location Training accuracy: 100.0\n",
      "Activity Training loss: 0.02300812950271005\n",
      "Location Training loss: 0.02385274643966374\n",
      "Activity Test accuracy: 86.33093525179856\n",
      "Location Test accuracy: 96.40287769784173\n",
      "Activity Test loss: 0.41405566604874977\n",
      "Location Test loss: 0.08579173158827445\n",
      "Epoch: 146\n"
     ]
    },
    {
     "name": "stderr",
     "output_type": "stream",
     "text": [
      "100%|████████████████████████████████████████████████████████████████████████████████████████████████████████████████████████████████████████████████████████████████████████████████| 9/9 [00:00<00:00, 49.69it/s]\n"
     ]
    },
    {
     "name": "stdout",
     "output_type": "stream",
     "text": [
      "Activity Training accuracy: 100.0\n",
      "Location Training accuracy: 99.91039426523298\n",
      "Activity Training loss: 0.020398683872701447\n",
      "Location Training loss: 0.026578941973306798\n",
      "Activity Test accuracy: 86.33093525179856\n",
      "Location Test accuracy: 96.76258992805755\n",
      "Activity Test loss: 0.4152482182001896\n",
      "Location Test loss: 0.08586819051838607\n",
      "Epoch: 147\n"
     ]
    },
    {
     "name": "stderr",
     "output_type": "stream",
     "text": [
      "100%|████████████████████████████████████████████████████████████████████████████████████████████████████████████████████████████████████████████████████████████████████████████████| 9/9 [00:00<00:00, 50.19it/s]\n"
     ]
    },
    {
     "name": "stdout",
     "output_type": "stream",
     "text": [
      "Activity Training accuracy: 100.0\n",
      "Location Training accuracy: 99.91039426523298\n",
      "Activity Training loss: 0.023629513479048205\n",
      "Location Training loss: 0.026385840228808823\n",
      "Activity Test accuracy: 86.69064748201438\n",
      "Location Test accuracy: 96.76258992805755\n",
      "Activity Test loss: 0.41303021230285974\n",
      "Location Test loss: 0.08543683567064271\n",
      "Epoch: 148\n"
     ]
    },
    {
     "name": "stderr",
     "output_type": "stream",
     "text": [
      "100%|████████████████████████████████████████████████████████████████████████████████████████████████████████████████████████████████████████████████████████████████████████████████| 9/9 [00:00<00:00, 50.08it/s]\n"
     ]
    },
    {
     "name": "stdout",
     "output_type": "stream",
     "text": [
      "Activity Training accuracy: 100.0\n",
      "Location Training accuracy: 99.91039426523298\n",
      "Activity Training loss: 0.017941542316935823\n",
      "Location Training loss: 0.021412602462221646\n",
      "Activity Test accuracy: 86.69064748201438\n",
      "Location Test accuracy: 96.76258992805755\n",
      "Activity Test loss: 0.4151040229865973\n",
      "Location Test loss: 0.0851257485237053\n",
      "Epoch: 149\n"
     ]
    },
    {
     "name": "stderr",
     "output_type": "stream",
     "text": [
      "100%|████████████████████████████████████████████████████████████████████████████████████████████████████████████████████████████████████████████████████████████████████████████████| 9/9 [00:00<00:00, 49.58it/s]\n"
     ]
    },
    {
     "name": "stdout",
     "output_type": "stream",
     "text": [
      "Activity Training accuracy: 100.0\n",
      "Location Training accuracy: 100.0\n",
      "Activity Training loss: 0.016744214894523757\n",
      "Location Training loss: 0.02258255095037508\n",
      "Activity Test accuracy: 86.33093525179856\n",
      "Location Test accuracy: 96.40287769784173\n",
      "Activity Test loss: 0.4078352528510334\n",
      "Location Test loss: 0.0852358126811844\n",
      "Epoch: 150\n"
     ]
    },
    {
     "name": "stderr",
     "output_type": "stream",
     "text": [
      "100%|████████████████████████████████████████████████████████████████████████████████████████████████████████████████████████████████████████████████████████████████████████████████| 9/9 [00:00<00:00, 48.74it/s]\n"
     ]
    },
    {
     "name": "stdout",
     "output_type": "stream",
     "text": [
      "Activity Training accuracy: 100.0\n",
      "Location Training accuracy: 100.0\n",
      "Activity Training loss: 0.020027248556041377\n",
      "Location Training loss: 0.028639989087231272\n",
      "Activity Test accuracy: 87.05035971223022\n",
      "Location Test accuracy: 96.40287769784173\n",
      "Activity Test loss: 0.4148444168859248\n",
      "Location Test loss: 0.08644310690516191\n",
      "Epoch: 151\n"
     ]
    },
    {
     "name": "stderr",
     "output_type": "stream",
     "text": [
      "100%|████████████████████████████████████████████████████████████████████████████████████████████████████████████████████████████████████████████████████████████████████████████████| 9/9 [00:00<00:00, 49.01it/s]\n"
     ]
    },
    {
     "name": "stdout",
     "output_type": "stream",
     "text": [
      "Activity Training accuracy: 100.0\n",
      "Location Training accuracy: 100.0\n",
      "Activity Training loss: 0.019737504395960052\n",
      "Location Training loss: 0.019559077357733122\n",
      "Activity Test accuracy: 86.33093525179856\n",
      "Location Test accuracy: 96.40287769784173\n",
      "Activity Test loss: 0.41330225990830566\n",
      "Location Test loss: 0.08548645685902602\n",
      "Epoch: 152\n"
     ]
    },
    {
     "name": "stderr",
     "output_type": "stream",
     "text": [
      "100%|████████████████████████████████████████████████████████████████████████████████████████████████████████████████████████████████████████████████████████████████████████████████| 9/9 [00:00<00:00, 49.63it/s]\n"
     ]
    },
    {
     "name": "stdout",
     "output_type": "stream",
     "text": [
      "Activity Training accuracy: 100.0\n",
      "Location Training accuracy: 100.0\n",
      "Activity Training loss: 0.01629804464651265\n",
      "Location Training loss: 0.027315168931920042\n",
      "Activity Test accuracy: 87.05035971223022\n",
      "Location Test accuracy: 96.40287769784173\n",
      "Activity Test loss: 0.41384883836018954\n",
      "Location Test loss: 0.08564758515186446\n",
      "Epoch: 153\n"
     ]
    },
    {
     "name": "stderr",
     "output_type": "stream",
     "text": [
      "100%|████████████████████████████████████████████████████████████████████████████████████████████████████████████████████████████████████████████████████████████████████████████████| 9/9 [00:00<00:00, 49.70it/s]\n"
     ]
    },
    {
     "name": "stdout",
     "output_type": "stream",
     "text": [
      "Activity Training accuracy: 100.0\n",
      "Location Training accuracy: 99.91039426523298\n",
      "Activity Training loss: 0.025941362197253865\n",
      "Location Training loss: 0.025197309725600758\n",
      "Activity Test accuracy: 87.05035971223022\n",
      "Location Test accuracy: 96.40287769784173\n",
      "Activity Test loss: 0.4165467461236089\n",
      "Location Test loss: 0.08739093953756977\n",
      "Epoch: 154\n"
     ]
    },
    {
     "name": "stderr",
     "output_type": "stream",
     "text": [
      "100%|████████████████████████████████████████████████████████████████████████████████████████████████████████████████████████████████████████████████████████████████████████████████| 9/9 [00:00<00:00, 48.98it/s]\n"
     ]
    },
    {
     "name": "stdout",
     "output_type": "stream",
     "text": [
      "Activity Training accuracy: 100.0\n",
      "Location Training accuracy: 100.0\n",
      "Activity Training loss: 0.019824080783406466\n",
      "Location Training loss: 0.02227953524999721\n",
      "Activity Test accuracy: 87.05035971223022\n",
      "Location Test accuracy: 96.40287769784173\n",
      "Activity Test loss: 0.4158782894662816\n",
      "Location Test loss: 0.08727090275116103\n",
      "Epoch: 155\n"
     ]
    },
    {
     "name": "stderr",
     "output_type": "stream",
     "text": [
      "100%|████████████████████████████████████████████████████████████████████████████████████████████████████████████████████████████████████████████████████████████████████████████████| 9/9 [00:00<00:00, 49.28it/s]\n"
     ]
    },
    {
     "name": "stdout",
     "output_type": "stream",
     "text": [
      "Activity Training accuracy: 100.0\n",
      "Location Training accuracy: 100.0\n",
      "Activity Training loss: 0.01639410020202719\n",
      "Location Training loss: 0.01878135883679954\n",
      "Activity Test accuracy: 86.69064748201438\n",
      "Location Test accuracy: 96.40287769784173\n",
      "Activity Test loss: 0.41133854672205533\n",
      "Location Test loss: 0.08614843226165222\n",
      "Epoch: 156\n"
     ]
    },
    {
     "name": "stderr",
     "output_type": "stream",
     "text": [
      "100%|████████████████████████████████████████████████████████████████████████████████████████████████████████████████████████████████████████████████████████████████████████████████| 9/9 [00:00<00:00, 49.89it/s]\n"
     ]
    },
    {
     "name": "stdout",
     "output_type": "stream",
     "text": [
      "Activity Training accuracy: 100.0\n",
      "Location Training accuracy: 100.0\n",
      "Activity Training loss: 0.01536686574259112\n",
      "Location Training loss: 0.019442485652089548\n",
      "Activity Test accuracy: 86.33093525179856\n",
      "Location Test accuracy: 96.76258992805755\n",
      "Activity Test loss: 0.41237918121351613\n",
      "Location Test loss: 0.08637291268050241\n",
      "Epoch: 157\n"
     ]
    },
    {
     "name": "stderr",
     "output_type": "stream",
     "text": [
      "100%|████████████████████████████████████████████████████████████████████████████████████████████████████████████████████████████████████████████████████████████████████████████████| 9/9 [00:00<00:00, 50.23it/s]\n"
     ]
    },
    {
     "name": "stdout",
     "output_type": "stream",
     "text": [
      "Activity Training accuracy: 100.0\n",
      "Location Training accuracy: 100.0\n",
      "Activity Training loss: 0.01509889137787631\n",
      "Location Training loss: 0.01918442894480989\n",
      "Activity Test accuracy: 86.69064748201438\n",
      "Location Test accuracy: 96.76258992805755\n",
      "Activity Test loss: 0.41162834064565973\n",
      "Location Test loss: 0.08639937928683467\n",
      "Epoch: 158\n"
     ]
    },
    {
     "name": "stderr",
     "output_type": "stream",
     "text": [
      "100%|████████████████████████████████████████████████████████████████████████████████████████████████████████████████████████████████████████████████████████████████████████████████| 9/9 [00:00<00:00, 50.13it/s]\n"
     ]
    },
    {
     "name": "stdout",
     "output_type": "stream",
     "text": [
      "Activity Training accuracy: 100.0\n",
      "Location Training accuracy: 99.91039426523298\n",
      "Activity Training loss: 0.020038343031346585\n",
      "Location Training loss: 0.024570423962822097\n",
      "Activity Test accuracy: 86.33093525179856\n",
      "Location Test accuracy: 96.76258992805755\n",
      "Activity Test loss: 0.409276114093314\n",
      "Location Test loss: 0.0856739805756713\n",
      "Epoch: 159\n"
     ]
    },
    {
     "name": "stderr",
     "output_type": "stream",
     "text": [
      "100%|████████████████████████████████████████████████████████████████████████████████████████████████████████████████████████████████████████████████████████████████████████████████| 9/9 [00:00<00:00, 49.86it/s]\n"
     ]
    },
    {
     "name": "stdout",
     "output_type": "stream",
     "text": [
      "Activity Training accuracy: 100.0\n",
      "Location Training accuracy: 100.0\n",
      "Activity Training loss: 0.01689965654444951\n",
      "Location Training loss: 0.018320423621003345\n",
      "Activity Test accuracy: 86.69064748201438\n",
      "Location Test accuracy: 96.40287769784173\n",
      "Activity Test loss: 0.413231902842899\n",
      "Location Test loss: 0.08704660114624517\n",
      "Epoch: 160\n"
     ]
    },
    {
     "name": "stderr",
     "output_type": "stream",
     "text": [
      "100%|████████████████████████████████████████████████████████████████████████████████████████████████████████████████████████████████████████████████████████████████████████████████| 9/9 [00:00<00:00, 49.96it/s]\n"
     ]
    },
    {
     "name": "stdout",
     "output_type": "stream",
     "text": [
      "Activity Training accuracy: 100.0\n",
      "Location Training accuracy: 100.0\n",
      "Activity Training loss: 0.018623936560846144\n",
      "Location Training loss: 0.01935512991788994\n",
      "Activity Test accuracy: 87.05035971223022\n",
      "Location Test accuracy: 96.40287769784173\n",
      "Activity Test loss: 0.41318252361078056\n",
      "Location Test loss: 0.08634317457247123\n",
      "Epoch: 161\n"
     ]
    },
    {
     "name": "stderr",
     "output_type": "stream",
     "text": [
      "100%|████████████████████████████████████████████████████████████████████████████████████████████████████████████████████████████████████████████████████████████████████████████████| 9/9 [00:00<00:00, 48.78it/s]\n"
     ]
    },
    {
     "name": "stdout",
     "output_type": "stream",
     "text": [
      "Activity Training accuracy: 100.0\n",
      "Location Training accuracy: 100.0\n",
      "Activity Training loss: 0.016757572744055035\n",
      "Location Training loss: 0.025813716286826733\n",
      "Activity Test accuracy: 87.05035971223022\n",
      "Location Test accuracy: 96.40287769784173\n",
      "Activity Test loss: 0.41311228918514664\n",
      "Location Test loss: 0.08590825748958177\n",
      "Epoch: 162\n"
     ]
    },
    {
     "name": "stderr",
     "output_type": "stream",
     "text": [
      "100%|████████████████████████████████████████████████████████████████████████████████████████████████████████████████████████████████████████████████████████████████████████████████| 9/9 [00:00<00:00, 48.64it/s]\n"
     ]
    },
    {
     "name": "stdout",
     "output_type": "stream",
     "text": [
      "Activity Training accuracy: 100.0\n",
      "Location Training accuracy: 100.0\n",
      "Activity Training loss: 0.03322754089977579\n",
      "Location Training loss: 0.0375161318902901\n",
      "Activity Test accuracy: 87.05035971223022\n",
      "Location Test accuracy: 96.40287769784173\n",
      "Activity Test loss: 0.4138157221910765\n",
      "Location Test loss: 0.086947181885191\n",
      "Epoch: 163\n"
     ]
    },
    {
     "name": "stderr",
     "output_type": "stream",
     "text": [
      "100%|████████████████████████████████████████████████████████████████████████████████████████████████████████████████████████████████████████████████████████████████████████████████| 9/9 [00:00<00:00, 49.91it/s]\n"
     ]
    },
    {
     "name": "stdout",
     "output_type": "stream",
     "text": [
      "Activity Training accuracy: 100.0\n",
      "Location Training accuracy: 100.0\n",
      "Activity Training loss: 0.01957195078600265\n",
      "Location Training loss: 0.02050358975659989\n",
      "Activity Test accuracy: 86.69064748201438\n",
      "Location Test accuracy: 96.40287769784173\n",
      "Activity Test loss: 0.41378400694552087\n",
      "Location Test loss: 0.08606970610378457\n",
      "Epoch: 164\n"
     ]
    },
    {
     "name": "stderr",
     "output_type": "stream",
     "text": [
      "100%|████████████████████████████████████████████████████████████████████████████████████████████████████████████████████████████████████████████████████████████████████████████████| 9/9 [00:00<00:00, 49.24it/s]\n"
     ]
    },
    {
     "name": "stdout",
     "output_type": "stream",
     "text": [
      "Activity Training accuracy: 100.0\n",
      "Location Training accuracy: 100.0\n",
      "Activity Training loss: 0.0194259540688607\n",
      "Location Training loss: 0.0214924096099792\n",
      "Activity Test accuracy: 87.05035971223022\n",
      "Location Test accuracy: 96.40287769784173\n",
      "Activity Test loss: 0.41069104345582375\n",
      "Location Test loss: 0.08603600160681087\n",
      "Epoch: 165\n"
     ]
    },
    {
     "name": "stderr",
     "output_type": "stream",
     "text": [
      "100%|████████████████████████████████████████████████████████████████████████████████████████████████████████████████████████████████████████████████████████████████████████████████| 9/9 [00:00<00:00, 50.24it/s]\n"
     ]
    },
    {
     "name": "stdout",
     "output_type": "stream",
     "text": [
      "Activity Training accuracy: 100.0\n",
      "Location Training accuracy: 100.0\n",
      "Activity Training loss: 0.01713879892475716\n",
      "Location Training loss: 0.022240986106216266\n",
      "Activity Test accuracy: 87.05035971223022\n",
      "Location Test accuracy: 96.40287769784173\n",
      "Activity Test loss: 0.41156518630844224\n",
      "Location Test loss: 0.0861940300293106\n",
      "Epoch: 166\n"
     ]
    },
    {
     "name": "stderr",
     "output_type": "stream",
     "text": [
      "100%|████████████████████████████████████████████████████████████████████████████████████████████████████████████████████████████████████████████████████████████████████████████████| 9/9 [00:00<00:00, 49.18it/s]\n"
     ]
    },
    {
     "name": "stdout",
     "output_type": "stream",
     "text": [
      "Activity Training accuracy: 100.0\n",
      "Location Training accuracy: 99.91039426523298\n",
      "Activity Training loss: 0.02374271615859001\n",
      "Location Training loss: 0.02924668222772605\n",
      "Activity Test accuracy: 86.69064748201438\n",
      "Location Test accuracy: 96.76258992805755\n",
      "Activity Test loss: 0.4137392743028325\n",
      "Location Test loss: 0.08589508014617206\n",
      "Epoch: 167\n"
     ]
    },
    {
     "name": "stderr",
     "output_type": "stream",
     "text": [
      "100%|████████████████████████████████████████████████████████████████████████████████████████████████████████████████████████████████████████████████████████████████████████████████| 9/9 [00:00<00:00, 49.61it/s]\n"
     ]
    },
    {
     "name": "stdout",
     "output_type": "stream",
     "text": [
      "Activity Training accuracy: 100.0\n",
      "Location Training accuracy: 100.0\n",
      "Activity Training loss: 0.01869506647937187\n",
      "Location Training loss: 0.018840904304203595\n",
      "Activity Test accuracy: 86.33093525179856\n",
      "Location Test accuracy: 96.40287769784173\n",
      "Activity Test loss: 0.41526188524506935\n",
      "Location Test loss: 0.0862033610506881\n",
      "Epoch: 168\n"
     ]
    },
    {
     "name": "stderr",
     "output_type": "stream",
     "text": [
      "100%|████████████████████████████████████████████████████████████████████████████████████████████████████████████████████████████████████████████████████████████████████████████████| 9/9 [00:00<00:00, 49.75it/s]\n"
     ]
    },
    {
     "name": "stdout",
     "output_type": "stream",
     "text": [
      "Activity Training accuracy: 100.0\n",
      "Location Training accuracy: 100.0\n",
      "Activity Training loss: 0.02283464099771233\n",
      "Location Training loss: 0.02562970029837769\n",
      "Activity Test accuracy: 86.69064748201438\n",
      "Location Test accuracy: 96.40287769784173\n",
      "Activity Test loss: 0.4135405931541388\n",
      "Location Test loss: 0.0865701285840796\n",
      "Epoch: 169\n"
     ]
    },
    {
     "name": "stderr",
     "output_type": "stream",
     "text": [
      "100%|████████████████████████████████████████████████████████████████████████████████████████████████████████████████████████████████████████████████████████████████████████████████| 9/9 [00:00<00:00, 49.29it/s]\n"
     ]
    },
    {
     "name": "stdout",
     "output_type": "stream",
     "text": [
      "Activity Training accuracy: 100.0\n",
      "Location Training accuracy: 100.0\n",
      "Activity Training loss: 0.01697947058199127\n",
      "Location Training loss: 0.02131010138005766\n",
      "Activity Test accuracy: 86.69064748201438\n",
      "Location Test accuracy: 96.40287769784173\n",
      "Activity Test loss: 0.4144942867670128\n",
      "Location Test loss: 0.08678975754933392\n",
      "Epoch: 170\n"
     ]
    },
    {
     "name": "stderr",
     "output_type": "stream",
     "text": [
      "100%|████████████████████████████████████████████████████████████████████████████████████████████████████████████████████████████████████████████████████████████████████████████████| 9/9 [00:00<00:00, 49.52it/s]\n"
     ]
    },
    {
     "name": "stdout",
     "output_type": "stream",
     "text": [
      "Activity Training accuracy: 100.0\n",
      "Location Training accuracy: 100.0\n",
      "Activity Training loss: 0.02122825277321655\n",
      "Location Training loss: 0.022247016857174562\n",
      "Activity Test accuracy: 85.97122302158273\n",
      "Location Test accuracy: 96.40287769784173\n",
      "Activity Test loss: 0.4167838336752473\n",
      "Location Test loss: 0.08648686121693618\n",
      "Epoch: 171\n"
     ]
    },
    {
     "name": "stderr",
     "output_type": "stream",
     "text": [
      "100%|████████████████████████████████████████████████████████████████████████████████████████████████████████████████████████████████████████████████████████████████████████████████| 9/9 [00:00<00:00, 49.57it/s]\n"
     ]
    },
    {
     "name": "stdout",
     "output_type": "stream",
     "text": [
      "Activity Training accuracy: 100.0\n",
      "Location Training accuracy: 100.0\n",
      "Activity Training loss: 0.02106451288559958\n",
      "Location Training loss: 0.020339774188174998\n",
      "Activity Test accuracy: 86.33093525179856\n",
      "Location Test accuracy: 96.40287769784173\n",
      "Activity Test loss: 0.415515027886672\n",
      "Location Test loss: 0.08652747234852194\n",
      "Epoch: 172\n"
     ]
    },
    {
     "name": "stderr",
     "output_type": "stream",
     "text": [
      "100%|████████████████████████████████████████████████████████████████████████████████████████████████████████████████████████████████████████████████████████████████████████████████| 9/9 [00:00<00:00, 49.41it/s]\n"
     ]
    },
    {
     "name": "stdout",
     "output_type": "stream",
     "text": [
      "Activity Training accuracy: 100.0\n",
      "Location Training accuracy: 100.0\n",
      "Activity Training loss: 0.026029141252613408\n",
      "Location Training loss: 0.03206885405766067\n",
      "Activity Test accuracy: 87.05035971223022\n",
      "Location Test accuracy: 96.40287769784173\n",
      "Activity Test loss: 0.41277375023999663\n",
      "Location Test loss: 0.08613009225550315\n",
      "Epoch: 173\n"
     ]
    },
    {
     "name": "stderr",
     "output_type": "stream",
     "text": [
      "100%|████████████████████████████████████████████████████████████████████████████████████████████████████████████████████████████████████████████████████████████████████████████████| 9/9 [00:00<00:00, 49.15it/s]\n"
     ]
    },
    {
     "name": "stdout",
     "output_type": "stream",
     "text": [
      "Activity Training accuracy: 100.0\n",
      "Location Training accuracy: 100.0\n",
      "Activity Training loss: 0.027691982873451752\n",
      "Location Training loss: 0.026665437926528274\n",
      "Activity Test accuracy: 85.97122302158273\n",
      "Location Test accuracy: 96.40287769784173\n",
      "Activity Test loss: 0.41281151171210856\n",
      "Location Test loss: 0.08418008449266283\n",
      "Epoch: 174\n"
     ]
    },
    {
     "name": "stderr",
     "output_type": "stream",
     "text": [
      "100%|████████████████████████████████████████████████████████████████████████████████████████████████████████████████████████████████████████████████████████████████████████████████| 9/9 [00:00<00:00, 49.32it/s]\n"
     ]
    },
    {
     "name": "stdout",
     "output_type": "stream",
     "text": [
      "Activity Training accuracy: 100.0\n",
      "Location Training accuracy: 99.91039426523298\n",
      "Activity Training loss: 0.02016673389301505\n",
      "Location Training loss: 0.02346052533836775\n",
      "Activity Test accuracy: 86.33093525179856\n",
      "Location Test accuracy: 96.76258992805755\n",
      "Activity Test loss: 0.414052871920222\n",
      "Location Test loss: 0.08483986653012338\n",
      "Epoch: 175\n"
     ]
    },
    {
     "name": "stderr",
     "output_type": "stream",
     "text": [
      "100%|████████████████████████████████████████████████████████████████████████████████████████████████████████████████████████████████████████████████████████████████████████████████| 9/9 [00:00<00:00, 50.12it/s]\n"
     ]
    },
    {
     "name": "stdout",
     "output_type": "stream",
     "text": [
      "Activity Training accuracy: 100.0\n",
      "Location Training accuracy: 100.0\n",
      "Activity Training loss: 0.01691576902584363\n",
      "Location Training loss: 0.0186420801933521\n",
      "Activity Test accuracy: 86.69064748201438\n",
      "Location Test accuracy: 96.40287769784173\n",
      "Activity Test loss: 0.41268601048764564\n",
      "Location Test loss: 0.08502179738000143\n",
      "Epoch: 176\n"
     ]
    },
    {
     "name": "stderr",
     "output_type": "stream",
     "text": [
      "100%|████████████████████████████████████████████████████████████████████████████████████████████████████████████████████████████████████████████████████████████████████████████████| 9/9 [00:00<00:00, 50.22it/s]\n"
     ]
    },
    {
     "name": "stdout",
     "output_type": "stream",
     "text": [
      "Activity Training accuracy: 100.0\n",
      "Location Training accuracy: 100.0\n",
      "Activity Training loss: 0.0165036398663743\n",
      "Location Training loss: 0.019031301301012757\n",
      "Activity Test accuracy: 86.69064748201438\n",
      "Location Test accuracy: 96.40287769784173\n",
      "Activity Test loss: 0.4106631772123652\n",
      "Location Test loss: 0.08473672830372406\n",
      "Epoch: 177\n"
     ]
    },
    {
     "name": "stderr",
     "output_type": "stream",
     "text": [
      "100%|████████████████████████████████████████████████████████████████████████████████████████████████████████████████████████████████████████████████████████████████████████████████| 9/9 [00:00<00:00, 49.96it/s]\n"
     ]
    },
    {
     "name": "stdout",
     "output_type": "stream",
     "text": [
      "Activity Training accuracy: 100.0\n",
      "Location Training accuracy: 100.0\n",
      "Activity Training loss: 0.01689411235112016\n",
      "Location Training loss: 0.0210964564354189\n",
      "Activity Test accuracy: 86.69064748201438\n",
      "Location Test accuracy: 96.40287769784173\n",
      "Activity Test loss: 0.41496860466415075\n",
      "Location Test loss: 0.08533165083943511\n",
      "Epoch: 178\n"
     ]
    },
    {
     "name": "stderr",
     "output_type": "stream",
     "text": [
      "100%|████████████████████████████████████████████████████████████████████████████████████████████████████████████████████████████████████████████████████████████████████████████████| 9/9 [00:00<00:00, 50.22it/s]\n"
     ]
    },
    {
     "name": "stdout",
     "output_type": "stream",
     "text": [
      "Activity Training accuracy: 100.0\n",
      "Location Training accuracy: 100.0\n",
      "Activity Training loss: 0.015515833559002074\n",
      "Location Training loss: 0.017190811828473134\n",
      "Activity Test accuracy: 86.69064748201438\n",
      "Location Test accuracy: 96.40287769784173\n",
      "Activity Test loss: 0.41182501110241565\n",
      "Location Test loss: 0.08659452660907087\n",
      "Epoch: 179\n"
     ]
    },
    {
     "name": "stderr",
     "output_type": "stream",
     "text": [
      "100%|████████████████████████████████████████████████████████████████████████████████████████████████████████████████████████████████████████████████████████████████████████████████| 9/9 [00:00<00:00, 50.10it/s]\n"
     ]
    },
    {
     "name": "stdout",
     "output_type": "stream",
     "text": [
      "Activity Training accuracy: 100.0\n",
      "Location Training accuracy: 100.0\n",
      "Activity Training loss: 0.03162185084007974\n",
      "Location Training loss: 0.02229150649039976\n",
      "Activity Test accuracy: 87.05035971223022\n",
      "Location Test accuracy: 96.40287769784173\n",
      "Activity Test loss: 0.4087760319812692\n",
      "Location Test loss: 0.08574493143627111\n",
      "Epoch: 180\n"
     ]
    },
    {
     "name": "stderr",
     "output_type": "stream",
     "text": [
      "100%|████████████████████████████████████████████████████████████████████████████████████████████████████████████████████████████████████████████████████████████████████████████████| 9/9 [00:00<00:00, 49.99it/s]\n"
     ]
    },
    {
     "name": "stdout",
     "output_type": "stream",
     "text": [
      "Activity Training accuracy: 100.0\n",
      "Location Training accuracy: 100.0\n",
      "Activity Training loss: 0.018768091141963945\n",
      "Location Training loss: 0.022551883826546344\n",
      "Activity Test accuracy: 87.05035971223022\n",
      "Location Test accuracy: 96.40287769784173\n",
      "Activity Test loss: 0.4118800107523692\n",
      "Location Test loss: 0.08605788841093187\n",
      "Epoch: 181\n"
     ]
    },
    {
     "name": "stderr",
     "output_type": "stream",
     "text": [
      "100%|████████████████████████████████████████████████████████████████████████████████████████████████████████████████████████████████████████████████████████████████████████████████| 9/9 [00:00<00:00, 49.91it/s]\n"
     ]
    },
    {
     "name": "stdout",
     "output_type": "stream",
     "text": [
      "Activity Training accuracy: 100.0\n",
      "Location Training accuracy: 100.0\n",
      "Activity Training loss: 0.019656418472208004\n",
      "Location Training loss: 0.024955210826730214\n",
      "Activity Test accuracy: 87.05035971223022\n",
      "Location Test accuracy: 96.40287769784173\n",
      "Activity Test loss: 0.4112342921949977\n",
      "Location Test loss: 0.08527136417172795\n",
      "Epoch: 182\n"
     ]
    },
    {
     "name": "stderr",
     "output_type": "stream",
     "text": [
      "100%|████████████████████████████████████████████████████████████████████████████████████████████████████████████████████████████████████████████████████████████████████████████████| 9/9 [00:00<00:00, 50.16it/s]\n"
     ]
    },
    {
     "name": "stdout",
     "output_type": "stream",
     "text": [
      "Activity Training accuracy: 100.0\n",
      "Location Training accuracy: 100.0\n",
      "Activity Training loss: 0.027789579070169865\n",
      "Location Training loss: 0.031179419234662074\n",
      "Activity Test accuracy: 87.05035971223022\n",
      "Location Test accuracy: 96.40287769784173\n",
      "Activity Test loss: 0.4134071383544867\n",
      "Location Test loss: 0.08560801377828173\n",
      "Epoch: 183\n"
     ]
    },
    {
     "name": "stderr",
     "output_type": "stream",
     "text": [
      "100%|████████████████████████████████████████████████████████████████████████████████████████████████████████████████████████████████████████████████████████████████████████████████| 9/9 [00:00<00:00, 49.84it/s]\n"
     ]
    },
    {
     "name": "stdout",
     "output_type": "stream",
     "text": [
      "Activity Training accuracy: 100.0\n",
      "Location Training accuracy: 100.0\n",
      "Activity Training loss: 0.019853242516090365\n",
      "Location Training loss: 0.023893674535136068\n",
      "Activity Test accuracy: 87.41007194244604\n",
      "Location Test accuracy: 96.40287769784173\n",
      "Activity Test loss: 0.41109910199968075\n",
      "Location Test loss: 0.08588662957973617\n",
      "Epoch: 184\n"
     ]
    },
    {
     "name": "stderr",
     "output_type": "stream",
     "text": [
      "100%|████████████████████████████████████████████████████████████████████████████████████████████████████████████████████████████████████████████████████████████████████████████████| 9/9 [00:00<00:00, 49.89it/s]\n"
     ]
    },
    {
     "name": "stdout",
     "output_type": "stream",
     "text": [
      "Activity Training accuracy: 100.0\n",
      "Location Training accuracy: 100.0\n",
      "Activity Training loss: 0.019376311678185685\n",
      "Location Training loss: 0.021494219914132123\n",
      "Activity Test accuracy: 87.41007194244604\n",
      "Location Test accuracy: 96.40287769784173\n",
      "Activity Test loss: 0.408507246336491\n",
      "Location Test loss: 0.0861655800677032\n",
      "Epoch: 185\n"
     ]
    },
    {
     "name": "stderr",
     "output_type": "stream",
     "text": [
      "100%|████████████████████████████████████████████████████████████████████████████████████████████████████████████████████████████████████████████████████████████████████████████████| 9/9 [00:00<00:00, 49.77it/s]\n"
     ]
    },
    {
     "name": "stdout",
     "output_type": "stream",
     "text": [
      "Activity Training accuracy: 100.0\n",
      "Location Training accuracy: 100.0\n",
      "Activity Training loss: 0.02058710921622519\n",
      "Location Training loss: 0.020403087886858157\n",
      "Activity Test accuracy: 87.05035971223022\n",
      "Location Test accuracy: 96.40287769784173\n",
      "Activity Test loss: 0.41195081463820643\n",
      "Location Test loss: 0.08599261639358328\n",
      "Epoch: 186\n"
     ]
    },
    {
     "name": "stderr",
     "output_type": "stream",
     "text": [
      "100%|████████████████████████████████████████████████████████████████████████████████████████████████████████████████████████████████████████████████████████████████████████████████| 9/9 [00:00<00:00, 49.82it/s]\n"
     ]
    },
    {
     "name": "stdout",
     "output_type": "stream",
     "text": [
      "Activity Training accuracy: 100.0\n",
      "Location Training accuracy: 100.0\n",
      "Activity Training loss: 0.02031715828458041\n",
      "Location Training loss: 0.021396579280976328\n",
      "Activity Test accuracy: 86.69064748201438\n",
      "Location Test accuracy: 96.40287769784173\n",
      "Activity Test loss: 0.41149858562208763\n",
      "Location Test loss: 0.08569339678870688\n",
      "Epoch: 187\n"
     ]
    },
    {
     "name": "stderr",
     "output_type": "stream",
     "text": [
      "100%|████████████████████████████████████████████████████████████████████████████████████████████████████████████████████████████████████████████████████████████████████████████████| 9/9 [00:00<00:00, 49.80it/s]\n"
     ]
    },
    {
     "name": "stdout",
     "output_type": "stream",
     "text": [
      "Activity Training accuracy: 100.0\n",
      "Location Training accuracy: 100.0\n",
      "Activity Training loss: 0.01615379189932218\n",
      "Location Training loss: 0.019188789270257436\n",
      "Activity Test accuracy: 86.69064748201438\n",
      "Location Test accuracy: 96.40287769784173\n",
      "Activity Test loss: 0.4080108674310094\n",
      "Location Test loss: 0.08515242857041119\n",
      "Epoch: 188\n"
     ]
    },
    {
     "name": "stderr",
     "output_type": "stream",
     "text": [
      "100%|████████████████████████████████████████████████████████████████████████████████████████████████████████████████████████████████████████████████████████████████████████████████| 9/9 [00:00<00:00, 49.84it/s]\n"
     ]
    },
    {
     "name": "stdout",
     "output_type": "stream",
     "text": [
      "Activity Training accuracy: 100.0\n",
      "Location Training accuracy: 100.0\n",
      "Activity Training loss: 0.018280642541078685\n",
      "Location Training loss: 0.022655132957684097\n",
      "Activity Test accuracy: 87.05035971223022\n",
      "Location Test accuracy: 96.40287769784173\n",
      "Activity Test loss: 0.41737092956364585\n",
      "Location Test loss: 0.08672692942962372\n",
      "Epoch: 189\n"
     ]
    },
    {
     "name": "stderr",
     "output_type": "stream",
     "text": [
      "100%|████████████████████████████████████████████████████████████████████████████████████████████████████████████████████████████████████████████████████████████████████████████████| 9/9 [00:00<00:00, 49.74it/s]\n"
     ]
    },
    {
     "name": "stdout",
     "output_type": "stream",
     "text": [
      "Activity Training accuracy: 100.0\n",
      "Location Training accuracy: 100.0\n",
      "Activity Training loss: 0.019406504421678496\n",
      "Location Training loss: 0.019938706497137693\n",
      "Activity Test accuracy: 87.05035971223022\n",
      "Location Test accuracy: 96.40287769784173\n",
      "Activity Test loss: 0.41392625750397605\n",
      "Location Test loss: 0.08592127381468849\n",
      "Epoch: 190\n"
     ]
    },
    {
     "name": "stderr",
     "output_type": "stream",
     "text": [
      "100%|████████████████████████████████████████████████████████████████████████████████████████████████████████████████████████████████████████████████████████████████████████████████| 9/9 [00:00<00:00, 49.75it/s]\n"
     ]
    },
    {
     "name": "stdout",
     "output_type": "stream",
     "text": [
      "Activity Training accuracy: 100.0\n",
      "Location Training accuracy: 99.91039426523298\n",
      "Activity Training loss: 0.024950647866854105\n",
      "Location Training loss: 0.03062335254898208\n",
      "Activity Test accuracy: 87.05035971223022\n",
      "Location Test accuracy: 96.76258992805755\n",
      "Activity Test loss: 0.4165362527044557\n",
      "Location Test loss: 0.08658409622504556\n",
      "Epoch: 191\n"
     ]
    },
    {
     "name": "stderr",
     "output_type": "stream",
     "text": [
      "100%|████████████████████████████████████████████████████████████████████████████████████████████████████████████████████████████████████████████████████████████████████████████████| 9/9 [00:00<00:00, 49.63it/s]\n"
     ]
    },
    {
     "name": "stdout",
     "output_type": "stream",
     "text": [
      "Activity Training accuracy: 100.0\n",
      "Location Training accuracy: 100.0\n",
      "Activity Training loss: 0.02207262456203447\n",
      "Location Training loss: 0.027459595045308486\n",
      "Activity Test accuracy: 86.33093525179856\n",
      "Location Test accuracy: 96.40287769784173\n",
      "Activity Test loss: 0.41114952495629836\n",
      "Location Test loss: 0.08457346968084788\n",
      "Epoch: 192\n"
     ]
    },
    {
     "name": "stderr",
     "output_type": "stream",
     "text": [
      "100%|████████████████████████████████████████████████████████████████████████████████████████████████████████████████████████████████████████████████████████████████████████████████| 9/9 [00:00<00:00, 49.97it/s]\n"
     ]
    },
    {
     "name": "stdout",
     "output_type": "stream",
     "text": [
      "Activity Training accuracy: 100.0\n",
      "Location Training accuracy: 100.0\n",
      "Activity Training loss: 0.019118867681017913\n",
      "Location Training loss: 0.022274816976225933\n",
      "Activity Test accuracy: 86.33093525179856\n",
      "Location Test accuracy: 96.40287769784173\n",
      "Activity Test loss: 0.41161499134928203\n",
      "Location Test loss: 0.08447661116826448\n",
      "Epoch: 193\n"
     ]
    },
    {
     "name": "stderr",
     "output_type": "stream",
     "text": [
      "100%|████████████████████████████████████████████████████████████████████████████████████████████████████████████████████████████████████████████████████████████████████████████████| 9/9 [00:00<00:00, 49.84it/s]\n"
     ]
    },
    {
     "name": "stdout",
     "output_type": "stream",
     "text": [
      "Activity Training accuracy: 100.0\n",
      "Location Training accuracy: 100.0\n",
      "Activity Training loss: 0.018615743165375086\n",
      "Location Training loss: 0.024759912896754496\n",
      "Activity Test accuracy: 86.69064748201438\n",
      "Location Test accuracy: 96.40287769784173\n",
      "Activity Test loss: 0.41273271994625066\n",
      "Location Test loss: 0.08538970930113209\n",
      "Epoch: 194\n"
     ]
    },
    {
     "name": "stderr",
     "output_type": "stream",
     "text": [
      "100%|████████████████████████████████████████████████████████████████████████████████████████████████████████████████████████████████████████████████████████████████████████████████| 9/9 [00:00<00:00, 49.87it/s]\n"
     ]
    },
    {
     "name": "stdout",
     "output_type": "stream",
     "text": [
      "Activity Training accuracy: 100.0\n",
      "Location Training accuracy: 100.0\n",
      "Activity Training loss: 0.0185712117661712\n",
      "Location Training loss: 0.021989838196812564\n",
      "Activity Test accuracy: 87.05035971223022\n",
      "Location Test accuracy: 96.40287769784173\n",
      "Activity Test loss: 0.413776189732037\n",
      "Location Test loss: 0.08697975625237114\n",
      "Epoch: 195\n"
     ]
    },
    {
     "name": "stderr",
     "output_type": "stream",
     "text": [
      "100%|████████████████████████████████████████████████████████████████████████████████████████████████████████████████████████████████████████████████████████████████████████████████| 9/9 [00:00<00:00, 49.74it/s]\n"
     ]
    },
    {
     "name": "stdout",
     "output_type": "stream",
     "text": [
      "Activity Training accuracy: 100.0\n",
      "Location Training accuracy: 100.0\n",
      "Activity Training loss: 0.01959682109108108\n",
      "Location Training loss: 0.02632317240733827\n",
      "Activity Test accuracy: 86.33093525179856\n",
      "Location Test accuracy: 96.40287769784173\n",
      "Activity Test loss: 0.409568380966461\n",
      "Location Test loss: 0.08504105686283797\n",
      "Epoch: 196\n"
     ]
    },
    {
     "name": "stderr",
     "output_type": "stream",
     "text": [
      "100%|████████████████████████████████████████████████████████████████████████████████████████████████████████████████████████████████████████████████████████████████████████████████| 9/9 [00:00<00:00, 49.61it/s]\n"
     ]
    },
    {
     "name": "stdout",
     "output_type": "stream",
     "text": [
      "Activity Training accuracy: 100.0\n",
      "Location Training accuracy: 100.0\n",
      "Activity Training loss: 0.014313629290963586\n",
      "Location Training loss: 0.01859844072745265\n",
      "Activity Test accuracy: 86.69064748201438\n",
      "Location Test accuracy: 96.40287769784173\n",
      "Activity Test loss: 0.41069661970618815\n",
      "Location Test loss: 0.08602236222020156\n",
      "Epoch: 197\n"
     ]
    },
    {
     "name": "stderr",
     "output_type": "stream",
     "text": [
      "100%|████████████████████████████████████████████████████████████████████████████████████████████████████████████████████████████████████████████████████████████████████████████████| 9/9 [00:00<00:00, 50.00it/s]\n"
     ]
    },
    {
     "name": "stdout",
     "output_type": "stream",
     "text": [
      "Activity Training accuracy: 100.0\n",
      "Location Training accuracy: 100.0\n",
      "Activity Training loss: 0.01876863516787047\n",
      "Location Training loss: 0.020223674487896717\n",
      "Activity Test accuracy: 86.69064748201438\n",
      "Location Test accuracy: 96.40287769784173\n",
      "Activity Test loss: 0.41034621086052\n",
      "Location Test loss: 0.08601303377168641\n",
      "Epoch: 198\n"
     ]
    },
    {
     "name": "stderr",
     "output_type": "stream",
     "text": [
      "100%|████████████████████████████████████████████████████████████████████████████████████████████████████████████████████████████████████████████████████████████████████████████████| 9/9 [00:00<00:00, 49.89it/s]\n"
     ]
    },
    {
     "name": "stdout",
     "output_type": "stream",
     "text": [
      "Activity Training accuracy: 100.0\n",
      "Location Training accuracy: 100.0\n",
      "Activity Training loss: 0.015109085801681738\n",
      "Location Training loss: 0.0196293087202161\n",
      "Activity Test accuracy: 87.05035971223022\n",
      "Location Test accuracy: 96.40287769784173\n",
      "Activity Test loss: 0.41302565747885395\n",
      "Location Test loss: 0.0865073297306788\n",
      "Epoch: 199\n"
     ]
    },
    {
     "name": "stderr",
     "output_type": "stream",
     "text": [
      "100%|████████████████████████████████████████████████████████████████████████████████████████████████████████████████████████████████████████████████████████████████████████████████| 9/9 [00:00<00:00, 49.75it/s]\n"
     ]
    },
    {
     "name": "stdout",
     "output_type": "stream",
     "text": [
      "Activity Training accuracy: 100.0\n",
      "Location Training accuracy: 100.0\n",
      "Activity Training loss: 0.02464349712094953\n",
      "Location Training loss: 0.027456942211342542\n",
      "Activity Test accuracy: 86.69064748201438\n",
      "Location Test accuracy: 96.40287769784173\n",
      "Activity Test loss: 0.41223238054796946\n",
      "Location Test loss: 0.08596931773123981\n",
      "88.129\n"
     ]
    }
   ],
   "source": [
    "for epoch in range(num_epochs):\n",
    "    print('Epoch:', epoch)\n",
    "    aplnet.train()\n",
    "    scheduler.step()\n",
    "    # for i, (samples, labels) in enumerate(train_data_loader):\n",
    "    loss_x = 0\n",
    "    loss_y = 0\n",
    "    for (samples, labels) in tqdm(train_data_loader):\n",
    "        samplesV = Variable(samples.cuda())\n",
    "        labels_act = labels[:, 0].squeeze()\n",
    "        labels_loc = labels[:, 1].squeeze()\n",
    "        labelsV_act = Variable(labels_act.cuda())\n",
    "        labelsV_loc = Variable(labels_loc.cuda())\n",
    "\n",
    "        # Forward + Backward + Optimize\n",
    "        optimizer.zero_grad()\n",
    "        predict_label_act, predict_label_loc,_,_,_,_,_,_,_ = aplnet(samplesV)\n",
    "\n",
    "        loss_act = criterion(predict_label_act, labelsV_act)\n",
    "        loss_loc = criterion(predict_label_loc, labelsV_loc)\n",
    "\n",
    "        loss = loss_act + loss_loc\n",
    "        # loss = loss_loc\n",
    "        # print(loss.item())\n",
    "        loss.backward()\n",
    "        optimizer.step()\n",
    "\n",
    "        # loss = loss1+0.5*loss2+0.25*loss3+0.25*loss4\n",
    "        # loss = loss1+loss2+loss3+loss4\n",
    "\n",
    "        loss_x += loss_act.item()\n",
    "        loss_y += loss_loc.item()\n",
    "\n",
    "        # loss.backward()\n",
    "        # optimizer.step()\n",
    "\n",
    "    train_loss_act[epoch] = loss_x / num_train_instances\n",
    "    train_loss_loc[epoch] = loss_y / num_train_instances\n",
    "\n",
    "    aplnet.eval()\n",
    "    # loss_x = 0\n",
    "    correct_train_act = 0\n",
    "    correct_train_loc = 0\n",
    "    for i, (samples, labels) in enumerate(train_data_loader):\n",
    "        with torch.no_grad():\n",
    "            samplesV = Variable(samples.cuda())\n",
    "            labels = labels.squeeze()\n",
    "\n",
    "            labels_act = labels[:, 0].squeeze()\n",
    "            labels_loc = labels[:, 1].squeeze()\n",
    "            labelsV_act = Variable(labels_act.cuda())\n",
    "            labelsV_loc = Variable(labels_loc.cuda())\n",
    "\n",
    "            predict_label_act, predict_label_loc,_,_,_,_,_,_,_ = aplnet(samplesV)\n",
    "\n",
    "            prediction = predict_label_loc.data.max(1)[1]\n",
    "            correct_train_loc += prediction.eq(labelsV_loc.data.long()).sum()\n",
    "\n",
    "            prediction = predict_label_act.data.max(1)[1]\n",
    "            correct_train_act += prediction.eq(labelsV_act.data.long()).sum()\n",
    "\n",
    "            loss_act = criterion(predict_label_act, labelsV_act)\n",
    "            loss_loc = criterion(predict_label_loc, labelsV_loc)\n",
    "            # loss_x += loss.item()\n",
    "\n",
    "    print(\"Activity Training accuracy:\", (100 * float(correct_train_act) / num_train_instances))\n",
    "    print(\"Location Training accuracy:\", (100 * float(correct_train_loc) / num_train_instances))\n",
    "    print(\"Activity Training loss:\", loss_x / num_train_instances )\n",
    "    print(\"Location Training loss:\", loss_y / num_train_instances)\n",
    "\n",
    "    # train_loss[epoch] = loss_x / num_train_instances\n",
    "    train_acc_act[epoch] = 100 * float(correct_train_act) / num_train_instances\n",
    "    train_acc_loc[epoch] = 100 * float(correct_train_loc) / num_train_instances\n",
    "\n",
    "\n",
    "    trainacc_act = str(100 * float(correct_train_act) / num_train_instances)[0:6]\n",
    "    trainacc_loc = str(100 * float(correct_train_loc) / num_train_instances)[0:6]\n",
    "    \n",
    "\n",
    "    loss_x = 0\n",
    "    loss_y = 0\n",
    "    correct_test_act = 0\n",
    "    correct_test_loc = 0\n",
    "    for i, (samples, labels) in enumerate(test_data_loader):\n",
    "        with torch.no_grad():\n",
    "            samplesV = Variable(samples.cuda())\n",
    "            labels_act = labels[:, 0].squeeze()\n",
    "            labels_loc = labels[:, 1].squeeze()\n",
    "            labelsV_act = Variable(labels_act.cuda())\n",
    "            labelsV_loc = Variable(labels_loc.cuda())\n",
    "\n",
    "        predict_label_act, predict_label_loc,_,_,_,_,_,_,_ = aplnet(samplesV)\n",
    "        prediction = predict_label_act.data.max(1)[1]\n",
    "        correct_test_act += prediction.eq(labelsV_act.data.long()).sum()\n",
    "\n",
    "        prediction = predict_label_loc.data.max(1)[1]\n",
    "        correct_test_loc += prediction.eq(labelsV_loc.data.long()).sum()\n",
    "\n",
    "        loss_act = criterion(predict_label_act, labelsV_act)\n",
    "        loss_loc = criterion(predict_label_loc, labelsV_loc)\n",
    "        loss_x += loss_act.item()\n",
    "        loss_y += loss_loc.item()\n",
    "\n",
    "    print(\"Activity Test accuracy:\", (100 * float(correct_test_act) / num_test_instances))\n",
    "    print(\"Location Test accuracy:\", (100 * float(correct_test_loc) / num_test_instances))\n",
    "    print(\"Activity Test loss:\", loss_x / num_test_instances )\n",
    "    print(\"Location Test loss:\", loss_y / num_test_instances)\n",
    "\n",
    "    test_loss_act[epoch] = loss_x / num_test_instances\n",
    "    test_acc_act[epoch] = 100 * float(correct_test_act) / num_test_instances\n",
    "\n",
    "    test_loss_loc[epoch] = loss_y / num_test_instances\n",
    "    test_acc_loc[epoch] = 100 * float(correct_test_loc) / num_test_instances\n",
    "\n",
    "    testacc_act = str(100 * float(correct_test_act) / num_test_instances)[0:6]\n",
    "    testacc_loc = str(100 * float(correct_test_loc) / num_test_instances)[0:6]\n",
    "\n",
    "    if epoch == 0:\n",
    "        temp_test = correct_test_act\n",
    "        temp_train = correct_train_act\n",
    "    elif correct_test_act > temp_test:\n",
    "        torch.save(aplnet, 'weights/net1111epoch' + str(\n",
    "            epoch) + 'Train' + trainacc_act + 'Test' + testacc_act + 'Train' + trainacc_loc + 'Test' + testacc_loc + '.pkl')\n",
    "\n",
    "        temp_test = correct_test_act\n",
    "        temp_train = correct_train_act\n",
    "\n",
    "\n",
    "# for learning curves\n",
    "sio.savemat(\n",
    "    'result/net1111TrainLossAct_Train' + str(100 * float(temp_train) / num_train_instances)[\n",
    "                                                                 0:6] + 'Test' + str(\n",
    "        100 * float(temp_test) / num_test_instances)[0:6] + '.mat', {'train_loss': train_loss_act})\n",
    "sio.savemat(\n",
    "    'result/net1111TestLossACT_Train' + str(100 * float(temp_train) / num_train_instances)[\n",
    "                                                                0:6] + 'Test' + str(\n",
    "        100 * float(temp_test) / num_test_instances)[0:6] + '.mat', {'test_loss': test_loss_act})\n",
    "sio.savemat(\n",
    "    'result/net1111TrainLossLOC_Train' + str(100 * float(temp_train) / num_train_instances)[\n",
    "                                 0:6] + 'Test' + str(\n",
    "        100 * float(temp_test) / num_test_instances)[0:6] + '.mat', {'train_loss': train_loss_loc})\n",
    "sio.savemat(\n",
    "    'result/net1111TestLossLOC_Train' + str(100 * float(temp_train) / num_train_instances)[\n",
    "                                 0:6] + 'Test' + str(\n",
    "        100 * float(temp_test) / num_test_instances)[0:6] + '.mat', {'test_loss': test_loss_loc})\n",
    "\n",
    "sio.savemat('result/net1111TrainAccuracyACT_Train' + str(\n",
    "    100 * float(temp_train) / num_train_instances)[0:6] + 'Test' + str(100 * float(temp_test) / num_test_instances)[\n",
    "                                                                   0:6] + '.mat', {'train_acc': train_acc_act})\n",
    "sio.savemat('result/net1111TestAccuracyACT_Train' + str(\n",
    "    100 * float(temp_train) / num_train_instances)[0:6] + 'Test' + str(100 * float(temp_test) / num_test_instances)[\n",
    "                                                                   0:6] + '.mat', {'test_acc': test_acc_act})\n",
    "print(str(100 * float(temp_test) / num_test_instances)[0:6])\n",
    "\n",
    "sio.savemat('result/net1111TrainAccuracyLOC_Train' + str(\n",
    "    100 * float(temp_train) / num_train_instances)[0:6] + 'Test' + str(100 * float(temp_test) / num_test_instances)[\n",
    "                                                                   0:6] + '.mat', {'train_acc': train_acc_loc})\n",
    "sio.savemat('result/net1111TestAccuracyLOC_Train' + str(\n",
    "    100 * float(temp_train) / num_train_instances)[0:6] + 'Test' + str(100 * float(temp_test) / num_test_instances)[\n",
    "                                                                   0:6] + '.mat', {'test_acc': test_acc_loc})"
   ]
  },
  {
   "cell_type": "markdown",
   "id": "1d053290",
   "metadata": {},
   "source": [
    "# Analysis"
   ]
  },
  {
   "cell_type": "code",
   "execution_count": 17,
   "id": "6c3b24d8",
   "metadata": {},
   "outputs": [],
   "source": [
    "import pandas as pd"
   ]
  },
  {
   "cell_type": "code",
   "execution_count": 30,
   "id": "8b61aad7",
   "metadata": {
    "scrolled": true
   },
   "outputs": [
    {
     "data": {
      "text/plain": [
       "<AxesSubplot:>"
      ]
     },
     "execution_count": 30,
     "metadata": {},
     "output_type": "execute_result"
    },
    {
     "data": {
      "image/png": "[encoded data removed]",
      "text/plain": [
       "<Figure size 432x288 with 1 Axes>"
      ]
     },
     "metadata": {
      "needs_background": "light"
     },
     "output_type": "display_data"
    }
   ],
   "source": [
    "# train loss act vs loc\n",
    "train_loss_act_df = pd.DataFrame(train_loss_act)\n",
    "train_loss_act_df = train_loss_act_df.rename(columns={0:'train_loss_act'})\n",
    "train_loss_loc_df = pd.DataFrame(train_loss_loc)\n",
    "train_loss_loc_df = train_loss_loc_df.rename(columns={0:'train_loss_loc'})\n",
    "pd.concat([train_loss_act_df,train_loss_loc_df], axis=1).plot()"
   ]
  },
  {
   "cell_type": "code",
   "execution_count": 32,
   "id": "b0c49727",
   "metadata": {},
   "outputs": [
    {
     "data": {
      "text/plain": [
       "<AxesSubplot:>"
      ]
     },
     "execution_count": 32,
     "metadata": {},
     "output_type": "execute_result"
    },
    {
     "data": {
      "image/png": "[encoded data removed]",
      "text/plain": [
       "<Figure size 432x288 with 1 Axes>"
      ]
     },
     "metadata": {
      "needs_background": "light"
     },
     "output_type": "display_data"
    }
   ],
   "source": [
    "# train acc act vs loc\n",
    "train_acc_act_df = pd.DataFrame(train_acc_act)\n",
    "train_acc_act_df = train_acc_act_df.rename(columns={0:'train_acc_act'})\n",
    "train_acc_loc_df = pd.DataFrame(train_acc_loc)\n",
    "train_acc_loc_df = train_acc_loc_df.rename(columns={0:'train_acc_loc'})\n",
    "pd.concat([train_acc_act_df,train_acc_loc_df], axis=1).plot()"
   ]
  },
  {
   "cell_type": "code",
   "execution_count": null,
   "id": "5ed0b7ab",
   "metadata": {},
   "outputs": [],
   "source": []
  },
  {
   "cell_type": "code",
   "execution_count": 33,
   "id": "f0f3cc8a",
   "metadata": {},
   "outputs": [
    {
     "data": {
      "text/plain": [
       "<AxesSubplot:>"
      ]
     },
     "execution_count": 33,
     "metadata": {},
     "output_type": "execute_result"
    },
    {
     "data": {
      "image/png": "[encoded data removed]",
      "text/plain": [
       "<Figure size 432x288 with 1 Axes>"
      ]
     },
     "metadata": {
      "needs_background": "light"
     },
     "output_type": "display_data"
    }
   ],
   "source": [
    "# test loss act vs loc\n",
    "test_loss_act_df = pd.DataFrame(test_loss_act)\n",
    "test_loss_act_df = test_loss_act_df.rename(columns={0:'test_loss_act'})\n",
    "test_loss_loc_df = pd.DataFrame(test_loss_loc)\n",
    "test_loss_loc_df = test_loss_loc_df.rename(columns={0:'test_loss_loc'})\n",
    "pd.concat([test_loss_act_df,test_loss_loc_df], axis=1).plot()"
   ]
  },
  {
   "cell_type": "code",
   "execution_count": 34,
   "id": "8a728f8a",
   "metadata": {},
   "outputs": [
    {
     "data": {
      "text/plain": [
       "<AxesSubplot:>"
      ]
     },
     "execution_count": 34,
     "metadata": {},
     "output_type": "execute_result"
    },
    {
     "data": {
      "image/png": "[encoded data removed]",
      "text/plain": [
       "<Figure size 432x288 with 1 Axes>"
      ]
     },
     "metadata": {
      "needs_background": "light"
     },
     "output_type": "display_data"
    }
   ],
   "source": [
    "# test acc act vs loc\n",
    "test_acc_act_df = pd.DataFrame(test_acc_act)\n",
    "test_acc_act_df = test_acc_act_df.rename(columns={0:'test_acc_act'})\n",
    "test_acc_loc_df = pd.DataFrame(test_acc_loc)\n",
    "test_acc_loc_df = test_acc_loc_df.rename(columns={0:'test_acc_loc'})\n",
    "pd.concat([test_acc_act_df,test_acc_loc_df], axis=1).plot()"
   ]
  },
  {
   "cell_type": "code",
   "execution_count": 37,
   "id": "f8634c1d",
   "metadata": {},
   "outputs": [],
   "source": [
    "resnet_df = pd.concat([train_loss_act_df,train_loss_loc_df,train_acc_act_df,train_acc_loc_df,test_loss_act_df,test_loss_loc_df,test_acc_act_df,test_acc_loc_df], axis=1)"
   ]
  },
  {
   "cell_type": "code",
   "execution_count": 40,
   "id": "dac48d85",
   "metadata": {},
   "outputs": [
    {
     "data": {
      "text/html": [
       "<div>\n",
       "<style scoped>\n",
       "    .dataframe tbody tr th:only-of-type {\n",
       "        vertical-align: middle;\n",
       "    }\n",
       "\n",
       "    .dataframe tbody tr th {\n",
       "        vertical-align: top;\n",
       "    }\n",
       "\n",
       "    .dataframe thead th {\n",
       "        text-align: right;\n",
       "    }\n",
       "</style>\n",
       "<table border=\"1\" class=\"dataframe\">\n",
       "  <thead>\n",
       "    <tr style=\"text-align: right;\">\n",
       "      <th></th>\n",
       "      <th>train_loss_act</th>\n",
       "      <th>train_loss_loc</th>\n",
       "      <th>train_acc_act</th>\n",
       "      <th>train_acc_loc</th>\n",
       "      <th>test_loss_act</th>\n",
       "      <th>test_loss_loc</th>\n",
       "      <th>test_acc_act</th>\n",
       "      <th>test_acc_loc</th>\n",
       "    </tr>\n",
       "  </thead>\n",
       "  <tbody>\n",
       "    <tr>\n",
       "      <th>0</th>\n",
       "      <td>2.126259</td>\n",
       "      <td>2.085431</td>\n",
       "      <td>15.143369</td>\n",
       "      <td>11.469534</td>\n",
       "      <td>1.930132</td>\n",
       "      <td>4.452474</td>\n",
       "      <td>14.748201</td>\n",
       "      <td>9.352518</td>\n",
       "    </tr>\n",
       "    <tr>\n",
       "      <th>1</th>\n",
       "      <td>1.827012</td>\n",
       "      <td>1.213976</td>\n",
       "      <td>17.025090</td>\n",
       "      <td>8.512545</td>\n",
       "      <td>1.963923</td>\n",
       "      <td>9.714548</td>\n",
       "      <td>16.906475</td>\n",
       "      <td>8.992806</td>\n",
       "    </tr>\n",
       "    <tr>\n",
       "      <th>2</th>\n",
       "      <td>1.779934</td>\n",
       "      <td>1.089012</td>\n",
       "      <td>17.293907</td>\n",
       "      <td>6.630824</td>\n",
       "      <td>1.813256</td>\n",
       "      <td>8.983840</td>\n",
       "      <td>16.187050</td>\n",
       "      <td>6.115108</td>\n",
       "    </tr>\n",
       "    <tr>\n",
       "      <th>3</th>\n",
       "      <td>1.730595</td>\n",
       "      <td>0.935993</td>\n",
       "      <td>24.103943</td>\n",
       "      <td>33.422939</td>\n",
       "      <td>1.788092</td>\n",
       "      <td>2.736783</td>\n",
       "      <td>21.582734</td>\n",
       "      <td>28.776978</td>\n",
       "    </tr>\n",
       "    <tr>\n",
       "      <th>4</th>\n",
       "      <td>1.633120</td>\n",
       "      <td>0.794818</td>\n",
       "      <td>23.835125</td>\n",
       "      <td>32.795699</td>\n",
       "      <td>1.766995</td>\n",
       "      <td>1.849026</td>\n",
       "      <td>21.582734</td>\n",
       "      <td>28.057554</td>\n",
       "    </tr>\n",
       "    <tr>\n",
       "      <th>...</th>\n",
       "      <td>...</td>\n",
       "      <td>...</td>\n",
       "      <td>...</td>\n",
       "      <td>...</td>\n",
       "      <td>...</td>\n",
       "      <td>...</td>\n",
       "      <td>...</td>\n",
       "      <td>...</td>\n",
       "    </tr>\n",
       "    <tr>\n",
       "      <th>195</th>\n",
       "      <td>0.019597</td>\n",
       "      <td>0.026323</td>\n",
       "      <td>100.000000</td>\n",
       "      <td>100.000000</td>\n",
       "      <td>0.409568</td>\n",
       "      <td>0.085041</td>\n",
       "      <td>86.330935</td>\n",
       "      <td>96.402878</td>\n",
       "    </tr>\n",
       "    <tr>\n",
       "      <th>196</th>\n",
       "      <td>0.014314</td>\n",
       "      <td>0.018598</td>\n",
       "      <td>100.000000</td>\n",
       "      <td>100.000000</td>\n",
       "      <td>0.410697</td>\n",
       "      <td>0.086022</td>\n",
       "      <td>86.690647</td>\n",
       "      <td>96.402878</td>\n",
       "    </tr>\n",
       "    <tr>\n",
       "      <th>197</th>\n",
       "      <td>0.018769</td>\n",
       "      <td>0.020224</td>\n",
       "      <td>100.000000</td>\n",
       "      <td>100.000000</td>\n",
       "      <td>0.410346</td>\n",
       "      <td>0.086013</td>\n",
       "      <td>86.690647</td>\n",
       "      <td>96.402878</td>\n",
       "    </tr>\n",
       "    <tr>\n",
       "      <th>198</th>\n",
       "      <td>0.015109</td>\n",
       "      <td>0.019629</td>\n",
       "      <td>100.000000</td>\n",
       "      <td>100.000000</td>\n",
       "      <td>0.413026</td>\n",
       "      <td>0.086507</td>\n",
       "      <td>87.050360</td>\n",
       "      <td>96.402878</td>\n",
       "    </tr>\n",
       "    <tr>\n",
       "      <th>199</th>\n",
       "      <td>0.024643</td>\n",
       "      <td>0.027457</td>\n",
       "      <td>100.000000</td>\n",
       "      <td>100.000000</td>\n",
       "      <td>0.412232</td>\n",
       "      <td>0.085969</td>\n",
       "      <td>86.690647</td>\n",
       "      <td>96.402878</td>\n",
       "    </tr>\n",
       "  </tbody>\n",
       "</table>\n",
       "<p>200 rows × 8 columns</p>\n",
       "</div>"
      ],
      "text/plain": [
       "     train_loss_act  train_loss_loc  train_acc_act  train_acc_loc  \\\n",
       "0          2.126259        2.085431      15.143369      11.469534   \n",
       "1          1.827012        1.213976      17.025090       8.512545   \n",
       "2          1.779934        1.089012      17.293907       6.630824   \n",
       "3          1.730595        0.935993      24.103943      33.422939   \n",
       "4          1.633120        0.794818      23.835125      32.795699   \n",
       "..              ...             ...            ...            ...   \n",
       "195        0.019597        0.026323     100.000000     100.000000   \n",
       "196        0.014314        0.018598     100.000000     100.000000   \n",
       "197        0.018769        0.020224     100.000000     100.000000   \n",
       "198        0.015109        0.019629     100.000000     100.000000   \n",
       "199        0.024643        0.027457     100.000000     100.000000   \n",
       "\n",
       "     test_loss_act  test_loss_loc  test_acc_act  test_acc_loc  \n",
       "0         1.930132       4.452474     14.748201      9.352518  \n",
       "1         1.963923       9.714548     16.906475      8.992806  \n",
       "2         1.813256       8.983840     16.187050      6.115108  \n",
       "3         1.788092       2.736783     21.582734     28.776978  \n",
       "4         1.766995       1.849026     21.582734     28.057554  \n",
       "..             ...            ...           ...           ...  \n",
       "195       0.409568       0.085041     86.330935     96.402878  \n",
       "196       0.410697       0.086022     86.690647     96.402878  \n",
       "197       0.410346       0.086013     86.690647     96.402878  \n",
       "198       0.413026       0.086507     87.050360     96.402878  \n",
       "199       0.412232       0.085969     86.690647     96.402878  \n",
       "\n",
       "[200 rows x 8 columns]"
      ]
     },
     "execution_count": 40,
     "metadata": {},
     "output_type": "execute_result"
    }
   ],
   "source": [
    "resnet_df"
   ]
  },
  {
   "cell_type": "code",
   "execution_count": 42,
   "id": "b1272567",
   "metadata": {},
   "outputs": [],
   "source": [
    "resnet_df.to_csv('resnet_epoch.csv')"
   ]
  },
  {
   "cell_type": "code",
   "execution_count": null,
   "id": "2e8ff036",
   "metadata": {},
   "outputs": [],
   "source": []
  }
 ],
 "metadata": {
  "kernelspec": {
   "display_name": "Python [conda env:torch_cuda111] *",
   "language": "python",
   "name": "conda-env-torch_cuda111-py"
  },
  "language_info": {
   "codemirror_mode": {
    "name": "ipython",
    "version": 3
   },
   "file_extension": ".py",
   "mimetype": "text/x-python",
   "name": "python",
   "nbconvert_exporter": "python",
   "pygments_lexer": "ipython3",
   "version": "3.8.0"
  }
 },
 "nbformat": 4,
 "nbformat_minor": 5
}
