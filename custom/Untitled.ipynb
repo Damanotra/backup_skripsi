{
 "cells": [
  {
   "cell_type": "code",
   "execution_count": 1,
   "id": "0ffd24f2",
   "metadata": {},
   "outputs": [],
   "source": [
    "import scipy.io as sio\n",
    "from torch.utils.data import TensorDataset, DataLoader\n",
    "import numpy as np\n",
    "import torch\n",
    "import torch.nn as nn\n",
    "from torch.autograd import Variable\n",
    "import torch.nn.functional as F\n",
    "import matplotlib.pyplot as plt\n",
    "import math\n",
    "import time\n",
    "import torch\n",
    "from torch import nn\n",
    "from torch.autograd import Variable\n",
    "import numpy as np\n",
    "import matplotlib.pyplot as plt\n",
    "import scipy.io as sio\n",
    "from torch.utils.data import TensorDataset, DataLoader\n",
    "import numpy as np\n",
    "import torch\n",
    "import torch.nn as nn\n",
    "from torch.autograd import Variable\n",
    "import torch.nn.functional as F\n",
    "import matplotlib.pyplot as plt\n",
    "import math\n",
    "import time\n",
    "\n",
    "\n",
    "from tqdm import tqdm\n",
    "\n",
    "from models.apl import *\n",
    "# from models.apl_plus import *"
   ]
  },
  {
   "cell_type": "code",
   "execution_count": 2,
   "id": "30d901c2",
   "metadata": {},
   "outputs": [],
   "source": [
    "data_amp = sio.loadmat('data/train_data_split_amp.mat')\n",
    "train_data_amp = data_amp['train_data']\n",
    "train_data = train_data_amp\n",
    "# data_pha = sio.loadmat('data/train_data_split_pha.mat')\n",
    "# train_data_pha = data_pha['train_data']\n",
    "# train_data = np.concatenate((train_data_amp,train_data_pha),1)\n",
    "\n",
    "train_activity_label = data_amp['train_activity_label']\n",
    "train_location_label = data_amp['train_location_label']\n",
    "train_label = np.concatenate((train_activity_label, train_location_label), 1)"
   ]
  },
  {
   "cell_type": "code",
   "execution_count": 16,
   "id": "ed1718a0",
   "metadata": {},
   "outputs": [],
   "source": [
    "data_amp = sio.loadmat('data/test_data_split_amp.mat')\n",
    "test_data_amp = data_amp['test_data']\n",
    "test_data = test_data_amp\n",
    "# data_pha = sio.loadmat('data/test_data_split_pha.mat')\n",
    "# test_data_pha = data_pha['test_data']\n",
    "# test_data = np.concatenate((test_data_amp,test_data_pha), 1)\n",
    "\n",
    "test_activity_label = data_amp['test_activity_label']\n",
    "test_location_label = data_amp['test_location_label']\n",
    "test_label = np.concatenate((test_activity_label, test_location_label), 1)"
   ]
  },
  {
   "cell_type": "code",
   "execution_count": 7,
   "id": "24d5da56",
   "metadata": {},
   "outputs": [],
   "source": [
    "import pandas as pd"
   ]
  },
  {
   "cell_type": "code",
   "execution_count": 14,
   "id": "d304a546",
   "metadata": {},
   "outputs": [
    {
     "data": {
      "text/plain": [
       "(1116, 52, 192)"
      ]
     },
     "execution_count": 14,
     "metadata": {},
     "output_type": "execute_result"
    }
   ],
   "source": [
    "train_data.shape"
   ]
  },
  {
   "cell_type": "code",
   "execution_count": 26,
   "id": "2274fccd",
   "metadata": {},
   "outputs": [
    {
     "data": {
      "text/plain": [
       "array([[[0.01269111, 0.01265536, 0.01261962, ..., 0.01564454,\n",
       "         0.01558546, 0.01552638],\n",
       "        [0.01490715, 0.01488842, 0.01486968, ..., 0.01839622,\n",
       "         0.01838368, 0.01837113],\n",
       "        [0.01512209, 0.01508993, 0.01505776, ..., 0.01861815,\n",
       "         0.01866405, 0.01870995],\n",
       "        ...,\n",
       "        [0.02459811, 0.02453903, 0.02447995, ..., 0.0294362 ,\n",
       "         0.02945604, 0.02947588],\n",
       "        [0.02096193, 0.02088952, 0.02081711, ..., 0.02512262,\n",
       "         0.02506425, 0.02500587],\n",
       "        [0.01756729, 0.01752744, 0.01748759, ..., 0.02115518,\n",
       "         0.02113364, 0.02111209]],\n",
       "\n",
       "       [[0.01251986, 0.01242011, 0.01232037, ..., 0.01482654,\n",
       "         0.01487427, 0.01492201],\n",
       "        [0.01478288, 0.01474103, 0.01469918, ..., 0.01756114,\n",
       "         0.01755894, 0.01755675],\n",
       "        [0.01495285, 0.01487316, 0.01479347, ..., 0.01774901,\n",
       "         0.0177075 , 0.01766598],\n",
       "        ...,\n",
       "        [0.02422904, 0.02414356, 0.02405808, ..., 0.02795875,\n",
       "         0.02799312, 0.02802748],\n",
       "        [0.02072628, 0.02064693, 0.02056759, ..., 0.02402893,\n",
       "         0.02408881, 0.02414869],\n",
       "        [0.0174491 , 0.01744362, 0.01743814, ..., 0.02021021,\n",
       "         0.02028926, 0.02036831]],\n",
       "\n",
       "       [[0.01252361, 0.01247936, 0.01243511, ..., 0.01594123,\n",
       "         0.0159017 , 0.01586216],\n",
       "        [0.01474786, 0.0147131 , 0.01467834, ..., 0.01893202,\n",
       "         0.01892685, 0.01892167],\n",
       "        [0.01499443, 0.01497112, 0.01494781, ..., 0.01912038,\n",
       "         0.01910574, 0.0190911 ],\n",
       "        ...,\n",
       "        [0.02345319, 0.02345228, 0.02345137, ..., 0.02971531,\n",
       "         0.02982043, 0.02992554],\n",
       "        [0.02005612, 0.02005913, 0.02006214, ..., 0.02558032,\n",
       "         0.02559895, 0.02561758],\n",
       "        [0.01697193, 0.01691735, 0.01686278, ..., 0.02145232,\n",
       "         0.02146951, 0.0214867 ]],\n",
       "\n",
       "       ...,\n",
       "\n",
       "       [[0.0098794 , 0.00987453, 0.00986967, ..., 0.00958994,\n",
       "         0.00959113, 0.00959232],\n",
       "        [0.01162031, 0.01157455, 0.0115288 , ..., 0.01131682,\n",
       "         0.01133899, 0.01136116],\n",
       "        [0.01166716, 0.01165388, 0.0116406 , ..., 0.01131023,\n",
       "         0.0113822 , 0.01145417],\n",
       "        ...,\n",
       "        [0.02276463, 0.022774  , 0.02278337, ..., 0.02235638,\n",
       "         0.02240226, 0.02244813],\n",
       "        [0.01949933, 0.01950494, 0.01951055, ..., 0.01912071,\n",
       "         0.01915208, 0.01918345],\n",
       "        [0.01655258, 0.01662935, 0.01670612, ..., 0.01607298,\n",
       "         0.0161187 , 0.01616442]],\n",
       "\n",
       "       [[0.00840206, 0.00834767, 0.00829329, ..., 0.00838694,\n",
       "         0.00841179, 0.00843665],\n",
       "        [0.01003366, 0.00993888, 0.0098441 , ..., 0.00987889,\n",
       "         0.00986541, 0.00985193],\n",
       "        [0.00993883, 0.00987489, 0.00981094, ..., 0.00968799,\n",
       "         0.00970293, 0.00971788],\n",
       "        ...,\n",
       "        [0.02150017, 0.02141433, 0.0213285 , ..., 0.02229089,\n",
       "         0.02236169, 0.0224325 ],\n",
       "        [0.01843314, 0.0183513 , 0.01826947, ..., 0.01913369,\n",
       "         0.01920425, 0.0192748 ],\n",
       "        [0.0155854 , 0.01548316, 0.01538091, ..., 0.01626546,\n",
       "         0.01623972, 0.01621398]],\n",
       "\n",
       "       [[0.00923271, 0.00918267, 0.00913264, ..., 0.00880682,\n",
       "         0.00877425, 0.00874169],\n",
       "        [0.01071473, 0.01069387, 0.01067301, ..., 0.01067217,\n",
       "         0.01064235, 0.01061254],\n",
       "        [0.01075047, 0.01068855, 0.01062663, ..., 0.01051063,\n",
       "         0.01053532, 0.01056   ],\n",
       "        ...,\n",
       "        [0.02165895, 0.02164606, 0.02163316, ..., 0.02330747,\n",
       "         0.0232481 , 0.02318873],\n",
       "        [0.01855304, 0.01853337, 0.01851371, ..., 0.01992446,\n",
       "         0.01986497, 0.01980547],\n",
       "        [0.01577486, 0.01575198, 0.0157291 , ..., 0.01662929,\n",
       "         0.01664369, 0.01665809]]])"
      ]
     },
     "execution_count": 26,
     "metadata": {},
     "output_type": "execute_result"
    }
   ],
   "source": [
    "train_data[-278:]"
   ]
  },
  {
   "cell_type": "code",
   "execution_count": 18,
   "id": "e5dd50e3",
   "metadata": {},
   "outputs": [
    {
     "data": {
      "text/plain": [
       "(278, 52, 192)"
      ]
     },
     "execution_count": 18,
     "metadata": {},
     "output_type": "execute_result"
    }
   ],
   "source": [
    "test_data.shape"
   ]
  },
  {
   "cell_type": "code",
   "execution_count": 63,
   "id": "5925e623",
   "metadata": {},
   "outputs": [],
   "source": [
    "data = np.concatenate((train_data,test_data), 0)"
   ]
  },
  {
   "cell_type": "code",
   "execution_count": 28,
   "id": "779cea09",
   "metadata": {},
   "outputs": [
    {
     "data": {
      "text/plain": [
       "array([[4, 9],\n",
       "       [4, 9],\n",
       "       [4, 9],\n",
       "       ...,\n",
       "       [0, 7],\n",
       "       [0, 8],\n",
       "       [0, 8]], dtype=uint8)"
      ]
     },
     "execution_count": 28,
     "metadata": {},
     "output_type": "execute_result"
    }
   ],
   "source": [
    "np.concatenate((train_label,test_label), 0)"
   ]
  },
  {
   "cell_type": "code",
   "execution_count": 30,
   "id": "77b18d57",
   "metadata": {},
   "outputs": [],
   "source": [
    "label_df = pd.DataFrame(np.concatenate((train_label,test_label), 0))"
   ]
  },
  {
   "cell_type": "code",
   "execution_count": 41,
   "id": "3849e40c",
   "metadata": {},
   "outputs": [
    {
     "data": {
      "text/plain": [
       "(1394, 2)"
      ]
     },
     "execution_count": 41,
     "metadata": {},
     "output_type": "execute_result"
    }
   ],
   "source": [
    "label_df.shape"
   ]
  },
  {
   "cell_type": "code",
   "execution_count": 39,
   "id": "3270442c",
   "metadata": {},
   "outputs": [
    {
     "data": {
      "text/plain": [
       "[78, 79, 80, 81, 82, 83, 84, 85, 86, 87, 1135, 1136, 1137]"
      ]
     },
     "execution_count": 39,
     "metadata": {},
     "output_type": "execute_result"
    }
   ],
   "source": [
    "label_df.index[(label_df[0]==4)&(label_df[1]==0)].tolist()"
   ]
  },
  {
   "cell_type": "code",
   "execution_count": 22,
   "id": "f3ad16ca",
   "metadata": {},
   "outputs": [
    {
     "data": {
      "text/html": [
       "<div>\n",
       "<style scoped>\n",
       "    .dataframe tbody tr th:only-of-type {\n",
       "        vertical-align: middle;\n",
       "    }\n",
       "\n",
       "    .dataframe tbody tr th {\n",
       "        vertical-align: top;\n",
       "    }\n",
       "\n",
       "    .dataframe thead th {\n",
       "        text-align: right;\n",
       "    }\n",
       "</style>\n",
       "<table border=\"1\" class=\"dataframe\">\n",
       "  <thead>\n",
       "    <tr style=\"text-align: right;\">\n",
       "      <th></th>\n",
       "      <th>0</th>\n",
       "      <th>1</th>\n",
       "    </tr>\n",
       "  </thead>\n",
       "  <tbody>\n",
       "    <tr>\n",
       "      <th>0</th>\n",
       "      <td>4</td>\n",
       "      <td>9</td>\n",
       "    </tr>\n",
       "    <tr>\n",
       "      <th>1</th>\n",
       "      <td>4</td>\n",
       "      <td>9</td>\n",
       "    </tr>\n",
       "    <tr>\n",
       "      <th>2</th>\n",
       "      <td>4</td>\n",
       "      <td>10</td>\n",
       "    </tr>\n",
       "    <tr>\n",
       "      <th>3</th>\n",
       "      <td>4</td>\n",
       "      <td>10</td>\n",
       "    </tr>\n",
       "    <tr>\n",
       "      <th>4</th>\n",
       "      <td>4</td>\n",
       "      <td>10</td>\n",
       "    </tr>\n",
       "    <tr>\n",
       "      <th>...</th>\n",
       "      <td>...</td>\n",
       "      <td>...</td>\n",
       "    </tr>\n",
       "    <tr>\n",
       "      <th>273</th>\n",
       "      <td>0</td>\n",
       "      <td>7</td>\n",
       "    </tr>\n",
       "    <tr>\n",
       "      <th>274</th>\n",
       "      <td>0</td>\n",
       "      <td>7</td>\n",
       "    </tr>\n",
       "    <tr>\n",
       "      <th>275</th>\n",
       "      <td>0</td>\n",
       "      <td>7</td>\n",
       "    </tr>\n",
       "    <tr>\n",
       "      <th>276</th>\n",
       "      <td>0</td>\n",
       "      <td>8</td>\n",
       "    </tr>\n",
       "    <tr>\n",
       "      <th>277</th>\n",
       "      <td>0</td>\n",
       "      <td>8</td>\n",
       "    </tr>\n",
       "  </tbody>\n",
       "</table>\n",
       "<p>278 rows × 2 columns</p>\n",
       "</div>"
      ],
      "text/plain": [
       "     0   1\n",
       "0    4   9\n",
       "1    4   9\n",
       "2    4  10\n",
       "3    4  10\n",
       "4    4  10\n",
       "..  ..  ..\n",
       "273  0   7\n",
       "274  0   7\n",
       "275  0   7\n",
       "276  0   8\n",
       "277  0   8\n",
       "\n",
       "[278 rows x 2 columns]"
      ]
     },
     "execution_count": 22,
     "metadata": {},
     "output_type": "execute_result"
    }
   ],
   "source": [
    "pd.DataFrame(test_label)"
   ]
  },
  {
   "cell_type": "code",
   "execution_count": 8,
   "id": "dc9a7834",
   "metadata": {},
   "outputs": [
    {
     "data": {
      "text/html": [
       "<div>\n",
       "<style scoped>\n",
       "    .dataframe tbody tr th:only-of-type {\n",
       "        vertical-align: middle;\n",
       "    }\n",
       "\n",
       "    .dataframe tbody tr th {\n",
       "        vertical-align: top;\n",
       "    }\n",
       "\n",
       "    .dataframe thead th {\n",
       "        text-align: right;\n",
       "    }\n",
       "</style>\n",
       "<table border=\"1\" class=\"dataframe\">\n",
       "  <thead>\n",
       "    <tr style=\"text-align: right;\">\n",
       "      <th></th>\n",
       "      <th>0</th>\n",
       "      <th>1</th>\n",
       "    </tr>\n",
       "  </thead>\n",
       "  <tbody>\n",
       "    <tr>\n",
       "      <th>0</th>\n",
       "      <td>4</td>\n",
       "      <td>9</td>\n",
       "    </tr>\n",
       "    <tr>\n",
       "      <th>1</th>\n",
       "      <td>4</td>\n",
       "      <td>9</td>\n",
       "    </tr>\n",
       "    <tr>\n",
       "      <th>2</th>\n",
       "      <td>4</td>\n",
       "      <td>9</td>\n",
       "    </tr>\n",
       "    <tr>\n",
       "      <th>3</th>\n",
       "      <td>4</td>\n",
       "      <td>9</td>\n",
       "    </tr>\n",
       "    <tr>\n",
       "      <th>4</th>\n",
       "      <td>4</td>\n",
       "      <td>9</td>\n",
       "    </tr>\n",
       "    <tr>\n",
       "      <th>...</th>\n",
       "      <td>...</td>\n",
       "      <td>...</td>\n",
       "    </tr>\n",
       "    <tr>\n",
       "      <th>1111</th>\n",
       "      <td>0</td>\n",
       "      <td>8</td>\n",
       "    </tr>\n",
       "    <tr>\n",
       "      <th>1112</th>\n",
       "      <td>0</td>\n",
       "      <td>8</td>\n",
       "    </tr>\n",
       "    <tr>\n",
       "      <th>1113</th>\n",
       "      <td>0</td>\n",
       "      <td>8</td>\n",
       "    </tr>\n",
       "    <tr>\n",
       "      <th>1114</th>\n",
       "      <td>0</td>\n",
       "      <td>8</td>\n",
       "    </tr>\n",
       "    <tr>\n",
       "      <th>1115</th>\n",
       "      <td>0</td>\n",
       "      <td>8</td>\n",
       "    </tr>\n",
       "  </tbody>\n",
       "</table>\n",
       "<p>1116 rows × 2 columns</p>\n",
       "</div>"
      ],
      "text/plain": [
       "      0  1\n",
       "0     4  9\n",
       "1     4  9\n",
       "2     4  9\n",
       "3     4  9\n",
       "4     4  9\n",
       "...  .. ..\n",
       "1111  0  8\n",
       "1112  0  8\n",
       "1113  0  8\n",
       "1114  0  8\n",
       "1115  0  8\n",
       "\n",
       "[1116 rows x 2 columns]"
      ]
     },
     "execution_count": 8,
     "metadata": {},
     "output_type": "execute_result"
    }
   ],
   "source": [
    "pd.DataFrame(train_label)"
   ]
  },
  {
   "cell_type": "code",
   "execution_count": 9,
   "id": "b51dcb64",
   "metadata": {},
   "outputs": [
    {
     "data": {
      "text/plain": [
       "{'__header__': b'MATLAB 5.0 MAT-file, Platform: PCWIN64, Created on: Mon Mar 25 23:57:27 2019',\n",
       " '__version__': '1.0',\n",
       " '__globals__': [],\n",
       " 'train_activity_label': array([[4],\n",
       "        [4],\n",
       "        [4],\n",
       "        ...,\n",
       "        [0],\n",
       "        [0],\n",
       "        [0]], dtype=uint8),\n",
       " 'train_data': array([[[0.00845266, 0.00836118, 0.00827474, ..., 0.00786899,\n",
       "          0.00786048, 0.00784956],\n",
       "         [0.00995407, 0.00996606, 0.0099698 , ..., 0.00950704,\n",
       "          0.00949716, 0.00947949],\n",
       "         [0.01000826, 0.00996577, 0.00992083, ..., 0.00926034,\n",
       "          0.00935386, 0.00945864],\n",
       "         ...,\n",
       "         [0.01520481, 0.01509804, 0.01500349, ..., 0.01594024,\n",
       "          0.01595141, 0.01596076],\n",
       "         [0.01274503, 0.01273975, 0.01273743, ..., 0.01351072,\n",
       "          0.01351542, 0.0135276 ],\n",
       "         [0.01082059, 0.01078593, 0.01075135, ..., 0.01126296,\n",
       "          0.01128382, 0.01131177]],\n",
       " \n",
       "        [[0.0077431 , 0.0077599 , 0.00777671, ..., 0.00822775,\n",
       "          0.00817028, 0.00811281],\n",
       "         [0.00945287, 0.00942639, 0.00939991, ..., 0.00985945,\n",
       "          0.00976852, 0.00967758],\n",
       "         [0.00940191, 0.0093199 , 0.0092379 , ..., 0.00969751,\n",
       "          0.00962095, 0.0095444 ],\n",
       "         ...,\n",
       "         [0.01670048, 0.01668123, 0.01666197, ..., 0.0175547 ,\n",
       "          0.01738033, 0.01720596],\n",
       "         [0.01423792, 0.01413701, 0.0140361 , ..., 0.01480699,\n",
       "          0.01477834, 0.01474969],\n",
       "         [0.01177204, 0.01183151, 0.01189097, ..., 0.01239662,\n",
       "          0.01235771, 0.01231879]],\n",
       " \n",
       "        [[0.00869855, 0.00855534, 0.00841213, ..., 0.00778353,\n",
       "          0.0078726 , 0.00796167],\n",
       "         [0.01022165, 0.01024399, 0.01026633, ..., 0.00953769,\n",
       "          0.009601  , 0.00966432],\n",
       "         [0.01033206, 0.01029594, 0.01025983, ..., 0.00934048,\n",
       "          0.00943745, 0.00953441],\n",
       "         ...,\n",
       "         [0.01510885, 0.01502345, 0.01493805, ..., 0.01740117,\n",
       "          0.01740823, 0.01741528],\n",
       "         [0.01311669, 0.01300697, 0.01289725, ..., 0.01479988,\n",
       "          0.01480857, 0.01481725],\n",
       "         [0.01087019, 0.01082353, 0.01077687, ..., 0.01229275,\n",
       "          0.0123225 , 0.01235224]],\n",
       " \n",
       "        ...,\n",
       " \n",
       "        [[0.0098794 , 0.00987453, 0.00986967, ..., 0.00958994,\n",
       "          0.00959113, 0.00959232],\n",
       "         [0.01162031, 0.01157455, 0.0115288 , ..., 0.01131682,\n",
       "          0.01133899, 0.01136116],\n",
       "         [0.01166716, 0.01165388, 0.0116406 , ..., 0.01131023,\n",
       "          0.0113822 , 0.01145417],\n",
       "         ...,\n",
       "         [0.02276463, 0.022774  , 0.02278337, ..., 0.02235638,\n",
       "          0.02240226, 0.02244813],\n",
       "         [0.01949933, 0.01950494, 0.01951055, ..., 0.01912071,\n",
       "          0.01915208, 0.01918345],\n",
       "         [0.01655258, 0.01662935, 0.01670612, ..., 0.01607298,\n",
       "          0.0161187 , 0.01616442]],\n",
       " \n",
       "        [[0.00840206, 0.00834767, 0.00829329, ..., 0.00838694,\n",
       "          0.00841179, 0.00843665],\n",
       "         [0.01003366, 0.00993888, 0.0098441 , ..., 0.00987889,\n",
       "          0.00986541, 0.00985193],\n",
       "         [0.00993883, 0.00987489, 0.00981094, ..., 0.00968799,\n",
       "          0.00970293, 0.00971788],\n",
       "         ...,\n",
       "         [0.02150017, 0.02141433, 0.0213285 , ..., 0.02229089,\n",
       "          0.02236169, 0.0224325 ],\n",
       "         [0.01843314, 0.0183513 , 0.01826947, ..., 0.01913369,\n",
       "          0.01920425, 0.0192748 ],\n",
       "         [0.0155854 , 0.01548316, 0.01538091, ..., 0.01626546,\n",
       "          0.01623972, 0.01621398]],\n",
       " \n",
       "        [[0.00923271, 0.00918267, 0.00913264, ..., 0.00880682,\n",
       "          0.00877425, 0.00874169],\n",
       "         [0.01071473, 0.01069387, 0.01067301, ..., 0.01067217,\n",
       "          0.01064235, 0.01061254],\n",
       "         [0.01075047, 0.01068855, 0.01062663, ..., 0.01051063,\n",
       "          0.01053532, 0.01056   ],\n",
       "         ...,\n",
       "         [0.02165895, 0.02164606, 0.02163316, ..., 0.02330747,\n",
       "          0.0232481 , 0.02318873],\n",
       "         [0.01855304, 0.01853337, 0.01851371, ..., 0.01992446,\n",
       "          0.01986497, 0.01980547],\n",
       "         [0.01577486, 0.01575198, 0.0157291 , ..., 0.01662929,\n",
       "          0.01664369, 0.01665809]]]),\n",
       " 'train_location_label': array([[9],\n",
       "        [9],\n",
       "        [9],\n",
       "        ...,\n",
       "        [8],\n",
       "        [8],\n",
       "        [8]], dtype=uint8)}"
      ]
     },
     "execution_count": 9,
     "metadata": {},
     "output_type": "execute_result"
    }
   ],
   "source": [
    "data_amp"
   ]
  },
  {
   "cell_type": "code",
   "execution_count": 46,
   "id": "15753ddc",
   "metadata": {},
   "outputs": [],
   "source": [
    "import random"
   ]
  },
  {
   "cell_type": "code",
   "execution_count": 56,
   "id": "6b9c582a",
   "metadata": {},
   "outputs": [
    {
     "data": {
      "text/html": [
       "<div>\n",
       "<style scoped>\n",
       "    .dataframe tbody tr th:only-of-type {\n",
       "        vertical-align: middle;\n",
       "    }\n",
       "\n",
       "    .dataframe tbody tr th {\n",
       "        vertical-align: top;\n",
       "    }\n",
       "\n",
       "    .dataframe thead th {\n",
       "        text-align: right;\n",
       "    }\n",
       "</style>\n",
       "<table border=\"1\" class=\"dataframe\">\n",
       "  <thead>\n",
       "    <tr style=\"text-align: right;\">\n",
       "      <th></th>\n",
       "      <th>0</th>\n",
       "      <th>1</th>\n",
       "    </tr>\n",
       "  </thead>\n",
       "  <tbody>\n",
       "    <tr>\n",
       "      <th>0</th>\n",
       "      <td>4</td>\n",
       "      <td>9</td>\n",
       "    </tr>\n",
       "    <tr>\n",
       "      <th>1</th>\n",
       "      <td>4</td>\n",
       "      <td>9</td>\n",
       "    </tr>\n",
       "    <tr>\n",
       "      <th>2</th>\n",
       "      <td>4</td>\n",
       "      <td>9</td>\n",
       "    </tr>\n",
       "    <tr>\n",
       "      <th>3</th>\n",
       "      <td>4</td>\n",
       "      <td>9</td>\n",
       "    </tr>\n",
       "    <tr>\n",
       "      <th>4</th>\n",
       "      <td>4</td>\n",
       "      <td>9</td>\n",
       "    </tr>\n",
       "    <tr>\n",
       "      <th>...</th>\n",
       "      <td>...</td>\n",
       "      <td>...</td>\n",
       "    </tr>\n",
       "    <tr>\n",
       "      <th>1389</th>\n",
       "      <td>0</td>\n",
       "      <td>7</td>\n",
       "    </tr>\n",
       "    <tr>\n",
       "      <th>1390</th>\n",
       "      <td>0</td>\n",
       "      <td>7</td>\n",
       "    </tr>\n",
       "    <tr>\n",
       "      <th>1391</th>\n",
       "      <td>0</td>\n",
       "      <td>7</td>\n",
       "    </tr>\n",
       "    <tr>\n",
       "      <th>1392</th>\n",
       "      <td>0</td>\n",
       "      <td>8</td>\n",
       "    </tr>\n",
       "    <tr>\n",
       "      <th>1393</th>\n",
       "      <td>0</td>\n",
       "      <td>8</td>\n",
       "    </tr>\n",
       "  </tbody>\n",
       "</table>\n",
       "<p>1394 rows × 2 columns</p>\n",
       "</div>"
      ],
      "text/plain": [
       "      0  1\n",
       "0     4  9\n",
       "1     4  9\n",
       "2     4  9\n",
       "3     4  9\n",
       "4     4  9\n",
       "...  .. ..\n",
       "1389  0  7\n",
       "1390  0  7\n",
       "1391  0  7\n",
       "1392  0  8\n",
       "1393  0  8\n",
       "\n",
       "[1394 rows x 2 columns]"
      ]
     },
     "execution_count": 56,
     "metadata": {},
     "output_type": "execute_result"
    }
   ],
   "source": [
    "label_df"
   ]
  },
  {
   "cell_type": "code",
   "execution_count": 50,
   "id": "64504857",
   "metadata": {},
   "outputs": [],
   "source": [
    "val_index = []\n",
    "test_index = []\n",
    "for act in label_df[0].unique():\n",
    "    for loc in label_df[1].unique():\n",
    "        sample_test = random.sample(label_df.index[(label_df[0]==act)&(label_df[1]==loc)].tolist(),4)\n",
    "        val_index.extend(sample_test[:2])\n",
    "        test_index.extend(sample_test[2:])"
   ]
  },
  {
   "cell_type": "code",
   "execution_count": 52,
   "id": "c5416971",
   "metadata": {},
   "outputs": [
    {
     "name": "stdout",
     "output_type": "stream",
     "text": [
      "192\n"
     ]
    },
    {
     "data": {
      "text/plain": [
       "[3,\n",
       " 4,\n",
       " 13,\n",
       " 22,\n",
       " 26,\n",
       " 1121,\n",
       " 41,\n",
       " 37,\n",
       " 48,\n",
       " 53,\n",
       " 64,\n",
       " 65,\n",
       " 76,\n",
       " 74,\n",
       " 87,\n",
       " 1136,\n",
       " 92,\n",
       " 97,\n",
       " 1141,\n",
       " 98,\n",
       " 118,\n",
       " 109,\n",
       " 129,\n",
       " 125,\n",
       " 134,\n",
       " 1149,\n",
       " 149,\n",
       " 148,\n",
       " 1154,\n",
       " 154,\n",
       " 173,\n",
       " 164,\n",
       " 1159,\n",
       " 179,\n",
       " 194,\n",
       " 190,\n",
       " 208,\n",
       " 198,\n",
       " 213,\n",
       " 218,\n",
       " 229,\n",
       " 1171,\n",
       " 232,\n",
       " 242,\n",
       " 250,\n",
       " 251,\n",
       " 260,\n",
       " 1180,\n",
       " 267,\n",
       " 271,\n",
       " 279,\n",
       " 277,\n",
       " 299,\n",
       " 288,\n",
       " 1191,\n",
       " 1192,\n",
       " 1194,\n",
       " 322,\n",
       " 323,\n",
       " 1197,\n",
       " 336,\n",
       " 334,\n",
       " 350,\n",
       " 355,\n",
       " 367,\n",
       " 365,\n",
       " 377,\n",
       " 371,\n",
       " 387,\n",
       " 1212,\n",
       " 395,\n",
       " 403,\n",
       " 408,\n",
       " 413,\n",
       " 422,\n",
       " 419,\n",
       " 436,\n",
       " 1225,\n",
       " 1227,\n",
       " 1228,\n",
       " 1231,\n",
       " 1230,\n",
       " 464,\n",
       " 471,\n",
       " 476,\n",
       " 485,\n",
       " 488,\n",
       " 1237,\n",
       " 506,\n",
       " 1241,\n",
       " 512,\n",
       " 522,\n",
       " 527,\n",
       " 532,\n",
       " 542,\n",
       " 1250,\n",
       " 549,\n",
       " 557,\n",
       " 570,\n",
       " 563,\n",
       " 1260,\n",
       " 579,\n",
       " 1263,\n",
       " 593,\n",
       " 605,\n",
       " 603,\n",
       " 613,\n",
       " 1268,\n",
       " 625,\n",
       " 623,\n",
       " 639,\n",
       " 629,\n",
       " 645,\n",
       " 1276,\n",
       " 661,\n",
       " 1278,\n",
       " 669,\n",
       " 664,\n",
       " 675,\n",
       " 680,\n",
       " 688,\n",
       " 1287,\n",
       " 708,\n",
       " 702,\n",
       " 717,\n",
       " 1294,\n",
       " 723,\n",
       " 726,\n",
       " 735,\n",
       " 1299,\n",
       " 1302,\n",
       " 748,\n",
       " 767,\n",
       " 759,\n",
       " 776,\n",
       " 777,\n",
       " 786,\n",
       " 1313,\n",
       " 802,\n",
       " 805,\n",
       " 817,\n",
       " 815,\n",
       " 821,\n",
       " 1322,\n",
       " 835,\n",
       " 839,\n",
       " 852,\n",
       " 843,\n",
       " 855,\n",
       " 865,\n",
       " 869,\n",
       " 1334,\n",
       " 1335,\n",
       " 882,\n",
       " 895,\n",
       " 892,\n",
       " 909,\n",
       " 912,\n",
       " 920,\n",
       " 915,\n",
       " 927,\n",
       " 1349,\n",
       " 945,\n",
       " 938,\n",
       " 1353,\n",
       " 1354,\n",
       " 972,\n",
       " 971,\n",
       " 980,\n",
       " 979,\n",
       " 1364,\n",
       " 990,\n",
       " 997,\n",
       " 998,\n",
       " 1010,\n",
       " 1013,\n",
       " 1026,\n",
       " 1373,\n",
       " 1034,\n",
       " 1036,\n",
       " 1047,\n",
       " 1055,\n",
       " 1061,\n",
       " 1062,\n",
       " 1071,\n",
       " 1077,\n",
       " 1083,\n",
       " 1086,\n",
       " 1097,\n",
       " 1093,\n",
       " 1111,\n",
       " 1393]"
      ]
     },
     "execution_count": 52,
     "metadata": {},
     "output_type": "execute_result"
    }
   ],
   "source": [
    "print(len(val_index))\n",
    "val_index"
   ]
  },
  {
   "cell_type": "code",
   "execution_count": 53,
   "id": "c6153125",
   "metadata": {},
   "outputs": [
    {
     "name": "stdout",
     "output_type": "stream",
     "text": [
      "192\n"
     ]
    },
    {
     "data": {
      "text/plain": [
       "[7,\n",
       " 1116,\n",
       " 15,\n",
       " 1118,\n",
       " 32,\n",
       " 1122,\n",
       " 43,\n",
       " 1125,\n",
       " 49,\n",
       " 47,\n",
       " 61,\n",
       " 56,\n",
       " 70,\n",
       " 71,\n",
       " 84,\n",
       " 85,\n",
       " 88,\n",
       " 93,\n",
       " 107,\n",
       " 106,\n",
       " 117,\n",
       " 112,\n",
       " 1145,\n",
       " 1146,\n",
       " 136,\n",
       " 131,\n",
       " 141,\n",
       " 1153,\n",
       " 156,\n",
       " 157,\n",
       " 175,\n",
       " 1157,\n",
       " 1160,\n",
       " 176,\n",
       " 195,\n",
       " 192,\n",
       " 1166,\n",
       " 200,\n",
       " 220,\n",
       " 1168,\n",
       " 226,\n",
       " 1172,\n",
       " 234,\n",
       " 240,\n",
       " 247,\n",
       " 248,\n",
       " 257,\n",
       " 265,\n",
       " 1182,\n",
       " 270,\n",
       " 1185,\n",
       " 285,\n",
       " 289,\n",
       " 1189,\n",
       " 304,\n",
       " 300,\n",
       " 320,\n",
       " 314,\n",
       " 325,\n",
       " 326,\n",
       " 343,\n",
       " 339,\n",
       " 356,\n",
       " 352,\n",
       " 1206,\n",
       " 363,\n",
       " 369,\n",
       " 379,\n",
       " 386,\n",
       " 382,\n",
       " 1214,\n",
       " 394,\n",
       " 1219,\n",
       " 410,\n",
       " 426,\n",
       " 425,\n",
       " 439,\n",
       " 438,\n",
       " 445,\n",
       " 443,\n",
       " 460,\n",
       " 452,\n",
       " 475,\n",
       " 474,\n",
       " 1236,\n",
       " 479,\n",
       " 494,\n",
       " 495,\n",
       " 503,\n",
       " 500,\n",
       " 516,\n",
       " 1244,\n",
       " 523,\n",
       " 1248,\n",
       " 537,\n",
       " 1251,\n",
       " 554,\n",
       " 1254,\n",
       " 1255,\n",
       " 560,\n",
       " 1258,\n",
       " 1259,\n",
       " 1261,\n",
       " 591,\n",
       " 1264,\n",
       " 1265,\n",
       " 609,\n",
       " 611,\n",
       " 617,\n",
       " 1270,\n",
       " 1273,\n",
       " 634,\n",
       " 648,\n",
       " 643,\n",
       " 654,\n",
       " 653,\n",
       " 1282,\n",
       " 663,\n",
       " 685,\n",
       " 1284,\n",
       " 695,\n",
       " 1288,\n",
       " 1292,\n",
       " 705,\n",
       " 716,\n",
       " 1295,\n",
       " 1297,\n",
       " 729,\n",
       " 744,\n",
       " 1300,\n",
       " 1304,\n",
       " 753,\n",
       " 1306,\n",
       " 1305,\n",
       " 772,\n",
       " 771,\n",
       " 1311,\n",
       " 1312,\n",
       " 803,\n",
       " 1315,\n",
       " 810,\n",
       " 813,\n",
       " 819,\n",
       " 822,\n",
       " 841,\n",
       " 836,\n",
       " 846,\n",
       " 850,\n",
       " 1330,\n",
       " 1329,\n",
       " 872,\n",
       " 1333,\n",
       " 881,\n",
       " 1336,\n",
       " 900,\n",
       " 890,\n",
       " 913,\n",
       " 908,\n",
       " 1344,\n",
       " 916,\n",
       " 932,\n",
       " 1348,\n",
       " 1352,\n",
       " 948,\n",
       " 953,\n",
       " 951,\n",
       " 967,\n",
       " 963,\n",
       " 974,\n",
       " 982,\n",
       " 985,\n",
       " 984,\n",
       " 1366,\n",
       " 999,\n",
       " 1017,\n",
       " 1011,\n",
       " 1023,\n",
       " 1028,\n",
       " 1038,\n",
       " 1039,\n",
       " 1377,\n",
       " 1378,\n",
       " 1059,\n",
       " 1057,\n",
       " 1385,\n",
       " 1078,\n",
       " 1081,\n",
       " 1386,\n",
       " 1102,\n",
       " 1101,\n",
       " 1107,\n",
       " 1392]"
      ]
     },
     "execution_count": 53,
     "metadata": {},
     "output_type": "execute_result"
    }
   ],
   "source": [
    "print(len(test_index))\n",
    "test_index"
   ]
  },
  {
   "cell_type": "code",
   "execution_count": 57,
   "id": "34a288e7",
   "metadata": {},
   "outputs": [],
   "source": [
    "train_index = []\n",
    "for i in range(1394):\n",
    "    if i not in val_index and i not in test_index:\n",
    "        train_index.append(i)"
   ]
  },
  {
   "cell_type": "code",
   "execution_count": null,
   "id": "110691a0",
   "metadata": {},
   "outputs": [],
   "source": []
  },
  {
   "cell_type": "code",
   "execution_count": 59,
   "id": "ca1aa41c",
   "metadata": {},
   "outputs": [
    {
     "data": {
      "text/plain": [
       "1010"
      ]
     },
     "execution_count": 59,
     "metadata": {},
     "output_type": "execute_result"
    }
   ],
   "source": [
    "len(train_index)"
   ]
  },
  {
   "cell_type": "code",
   "execution_count": 62,
   "id": "ce321ef6",
   "metadata": {},
   "outputs": [
    {
     "data": {
      "text/plain": [
       "array([[[0.00845266, 0.00836118, 0.00827474, ..., 0.00786899,\n",
       "         0.00786048, 0.00784956],\n",
       "        [0.00995407, 0.00996606, 0.0099698 , ..., 0.00950704,\n",
       "         0.00949716, 0.00947949],\n",
       "        [0.01000826, 0.00996577, 0.00992083, ..., 0.00926034,\n",
       "         0.00935386, 0.00945864],\n",
       "        ...,\n",
       "        [0.01520481, 0.01509804, 0.01500349, ..., 0.01594024,\n",
       "         0.01595141, 0.01596076],\n",
       "        [0.01274503, 0.01273975, 0.01273743, ..., 0.01351072,\n",
       "         0.01351542, 0.0135276 ],\n",
       "        [0.01082059, 0.01078593, 0.01075135, ..., 0.01126296,\n",
       "         0.01128382, 0.01131177]],\n",
       "\n",
       "       [[0.0077431 , 0.0077599 , 0.00777671, ..., 0.00822775,\n",
       "         0.00817028, 0.00811281],\n",
       "        [0.00945287, 0.00942639, 0.00939991, ..., 0.00985945,\n",
       "         0.00976852, 0.00967758],\n",
       "        [0.00940191, 0.0093199 , 0.0092379 , ..., 0.00969751,\n",
       "         0.00962095, 0.0095444 ],\n",
       "        ...,\n",
       "        [0.01670048, 0.01668123, 0.01666197, ..., 0.0175547 ,\n",
       "         0.01738033, 0.01720596],\n",
       "        [0.01423792, 0.01413701, 0.0140361 , ..., 0.01480699,\n",
       "         0.01477834, 0.01474969],\n",
       "        [0.01177204, 0.01183151, 0.01189097, ..., 0.01239662,\n",
       "         0.01235771, 0.01231879]]])"
      ]
     },
     "execution_count": 62,
     "metadata": {},
     "output_type": "execute_result"
    }
   ],
   "source": [
    "train_data[]"
   ]
  },
  {
   "cell_type": "code",
   "execution_count": 69,
   "id": "3b9541eb",
   "metadata": {},
   "outputs": [],
   "source": [
    "label = np.concatenate((train_label,test_label), 0)"
   ]
  },
  {
   "cell_type": "code",
   "execution_count": 70,
   "id": "799190ac",
   "metadata": {},
   "outputs": [
    {
     "data": {
      "text/plain": [
       "(1394, 2)"
      ]
     },
     "execution_count": 70,
     "metadata": {},
     "output_type": "execute_result"
    }
   ],
   "source": [
    "label.shape"
   ]
  },
  {
   "cell_type": "code",
   "execution_count": 75,
   "id": "d6ba1a86",
   "metadata": {},
   "outputs": [],
   "source": [
    "train_data = data[train_index]\n",
    "val_data = data[val_index]\n",
    "test_data = data[test_index]\n",
    "\n",
    "train_label = label[train_index]\n",
    "val_label = label[val_index]\n",
    "test_label = label[test_index]"
   ]
  },
  {
   "cell_type": "markdown",
   "id": "560c291d",
   "metadata": {},
   "source": [
    "# Copy from Fei Wang"
   ]
  },
  {
   "cell_type": "code",
   "execution_count": 88,
   "id": "ae9a8fb8",
   "metadata": {},
   "outputs": [],
   "source": [
    "batch_size = 64\n",
    "num_epochs = 200"
   ]
  },
  {
   "cell_type": "code",
   "execution_count": 76,
   "id": "ea5ab8b0",
   "metadata": {},
   "outputs": [],
   "source": [
    "num_train_instances = len(train_data)\n",
    "\n",
    "train_data = torch.from_numpy(train_data).type(torch.FloatTensor)\n",
    "train_label = torch.from_numpy(train_label).type(torch.LongTensor)\n",
    "# train_data = train_data.view(num_train_instances, 1, -1)\n",
    "# train_label = train_label.view(num_train_instances, 2)\n",
    "\n",
    "train_dataset = TensorDataset(train_data, train_label)\n",
    "train_data_loader = DataLoader(dataset=train_dataset, batch_size=batch_size, shuffle=True)"
   ]
  },
  {
   "cell_type": "code",
   "execution_count": 77,
   "id": "0a4dd4e9",
   "metadata": {},
   "outputs": [],
   "source": [
    "num_test_instances = len(test_data)\n",
    "\n",
    "test_data = torch.from_numpy(test_data).type(torch.FloatTensor)\n",
    "test_label = torch.from_numpy(test_label).type(torch.LongTensor)\n",
    "# test_data = test_data.view(num_test_instances, 1, -1)\n",
    "# test_label = test_label.view(num_test_instances, 2)\n",
    "\n",
    "test_dataset = TensorDataset(test_data, test_label)\n",
    "test_data_loader = DataLoader(dataset=test_dataset, batch_size=batch_size, shuffle=False)"
   ]
  },
  {
   "cell_type": "code",
   "execution_count": 78,
   "id": "7091e8b0",
   "metadata": {},
   "outputs": [
    {
     "name": "stderr",
     "output_type": "stream",
     "text": [
      "/home/user2/miniconda3/envs/torch_cuda111/lib/python3.8/site-packages/torch/nn/_reduction.py:42: UserWarning: size_average and reduce args will be deprecated, please use reduction='sum' instead.\n",
      "  warnings.warn(warning.format(ret))\n"
     ]
    }
   ],
   "source": [
    "aplnet = ResNet(block=BasicBlock, layers=[1, 1, 1, 1], inchannel=52)\n",
    "# aplnet = ResNet(block=BasicBlock, layers=[2, 2, 2, 2], inchannel=52)\n",
    "# aplnet = ResNet(block=BasicBlock, layers=[3, 4, 6, 3], inchannel=52)\n",
    "#\n",
    "\n",
    "# aplnet = ResNet(block=Bottleneck, layers=[2, 3, 4, 6])\n",
    "\n",
    "aplnet = aplnet.cuda()\n",
    "\n",
    "criterion = nn.CrossEntropyLoss(size_average=False).cuda()\n",
    "\n",
    "optimizer = torch.optim.Adam(aplnet.parameters(), lr=0.005)\n",
    "scheduler = torch.optim.lr_scheduler.MultiStepLR(optimizer,\n",
    "                                                 milestones=[10, 20, 30, 40, 60, 70, 80, 90, 100, 110, 120, 130,\n",
    "                                                             140, 150, 160, 170, 180, 190, 200, 250, 300],\n",
    "                                                 gamma=0.5)"
   ]
  },
  {
   "cell_type": "code",
   "execution_count": 79,
   "id": "52bf565d",
   "metadata": {},
   "outputs": [],
   "source": [
    "train_loss_act = np.zeros([num_epochs, 1])\n",
    "train_loss_loc = np.zeros([num_epochs, 1])\n",
    "test_loss_act = np.zeros([num_epochs, 1])\n",
    "test_loss_loc = np.zeros([num_epochs, 1])\n",
    "train_acc_act = np.zeros([num_epochs, 1])\n",
    "train_acc_loc = np.zeros([num_epochs, 1])\n",
    "test_acc_act = np.zeros([num_epochs, 1])\n",
    "test_acc_loc = np.zeros([num_epochs, 1])"
   ]
  },
  {
   "cell_type": "code",
   "execution_count": 80,
   "id": "1bf04096",
   "metadata": {},
   "outputs": [
    {
     "name": "stderr",
     "output_type": "stream",
     "text": [
      "/home/user2/miniconda3/envs/torch_cuda111/lib/python3.8/site-packages/torch/optim/lr_scheduler.py:129: UserWarning: Detected call of `lr_scheduler.step()` before `optimizer.step()`. In PyTorch 1.1.0 and later, you should call them in the opposite order: `optimizer.step()` before `lr_scheduler.step()`.  Failure to do this will result in PyTorch skipping the first value of the learning rate schedule. See more details at https://pytorch.org/docs/stable/optim.html#how-to-adjust-learning-rate\n",
      "  warnings.warn(\"Detected call of `lr_scheduler.step()` before `optimizer.step()`. \"\n"
     ]
    },
    {
     "name": "stdout",
     "output_type": "stream",
     "text": [
      "Epoch: 0\n"
     ]
    },
    {
     "name": "stderr",
     "output_type": "stream",
     "text": [
      "100%|██████████████████████████████████████████████████████████████████████████████████████████████████████████████████████████████████████████████████████████████████████████████| 16/16 [00:00<00:00, 21.94it/s]\n"
     ]
    },
    {
     "name": "stdout",
     "output_type": "stream",
     "text": [
      "Activity Training accuracy: 16.73267326732673\n",
      "Location Training accuracy: 19.10891089108911\n",
      "Activity Training loss: 1.9393741041126817\n",
      "Location Training loss: 2.0634355601697867\n",
      "Activity Test accuracy: 17.1875\n",
      "Location Test accuracy: 19.791666666666668\n",
      "Activity Test loss: 1.886624534924825\n",
      "Location Test loss: 2.804619471232096\n",
      "Epoch: 1\n"
     ]
    },
    {
     "name": "stderr",
     "output_type": "stream",
     "text": [
      "100%|██████████████████████████████████████████████████████████████████████████████████████████████████████████████████████████████████████████████████████████████████████████████| 16/16 [00:00<00:00, 83.65it/s]\n"
     ]
    },
    {
     "name": "stdout",
     "output_type": "stream",
     "text": [
      "Activity Training accuracy: 19.306930693069308\n",
      "Location Training accuracy: 12.178217821782178\n",
      "Activity Training loss: 1.79470319842348\n",
      "Location Training loss: 1.2598416847757774\n",
      "Activity Test accuracy: 19.270833333333332\n",
      "Location Test accuracy: 9.375\n",
      "Activity Test loss: 1.817001223564148\n",
      "Location Test loss: 4.230513731638591\n",
      "Epoch: 2\n"
     ]
    },
    {
     "name": "stderr",
     "output_type": "stream",
     "text": [
      "100%|██████████████████████████████████████████████████████████████████████████████████████████████████████████████████████████████████████████████████████████████████████████████| 16/16 [00:00<00:00, 79.13it/s]\n"
     ]
    },
    {
     "name": "stdout",
     "output_type": "stream",
     "text": [
      "Activity Training accuracy: 21.386138613861387\n",
      "Location Training accuracy: 44.95049504950495\n",
      "Activity Training loss: 1.711397144582012\n",
      "Location Training loss: 1.0091631785477742\n",
      "Activity Test accuracy: 20.3125\n",
      "Location Test accuracy: 42.1875\n",
      "Activity Test loss: 1.8053996562957764\n",
      "Location Test loss: 1.8831448952356975\n",
      "Epoch: 3\n"
     ]
    },
    {
     "name": "stderr",
     "output_type": "stream",
     "text": [
      "100%|██████████████████████████████████████████████████████████████████████████████████████████████████████████████████████████████████████████████████████████████████████████████| 16/16 [00:00<00:00, 85.28it/s]\n"
     ]
    },
    {
     "name": "stdout",
     "output_type": "stream",
     "text": [
      "Activity Training accuracy: 22.673267326732674\n",
      "Location Training accuracy: 26.138613861386137\n",
      "Activity Training loss: 1.6374127378558168\n",
      "Location Training loss: 1.0074242015876391\n",
      "Activity Test accuracy: 21.875\n",
      "Location Test accuracy: 30.729166666666668\n",
      "Activity Test loss: 1.7087117830912273\n",
      "Location Test loss: 2.8222002188364663\n",
      "Epoch: 4\n"
     ]
    },
    {
     "name": "stderr",
     "output_type": "stream",
     "text": [
      "100%|██████████████████████████████████████████████████████████████████████████████████████████████████████████████████████████████████████████████████████████████████████████████| 16/16 [00:00<00:00, 84.61it/s]\n"
     ]
    },
    {
     "name": "stdout",
     "output_type": "stream",
     "text": [
      "Activity Training accuracy: 26.435643564356436\n",
      "Location Training accuracy: 24.356435643564357\n",
      "Activity Training loss: 1.5266716683265007\n",
      "Location Training loss: 0.859497606636274\n",
      "Activity Test accuracy: 22.916666666666668\n",
      "Location Test accuracy: 25.520833333333332\n",
      "Activity Test loss: 2.077802856763204\n",
      "Location Test loss: 5.814907868703206\n",
      "Epoch: 5\n"
     ]
    },
    {
     "name": "stderr",
     "output_type": "stream",
     "text": [
      "100%|██████████████████████████████████████████████████████████████████████████████████████████████████████████████████████████████████████████████████████████████████████████████| 16/16 [00:00<00:00, 83.63it/s]\n"
     ]
    },
    {
     "name": "stdout",
     "output_type": "stream",
     "text": [
      "Activity Training accuracy: 23.96039603960396\n",
      "Location Training accuracy: 15.643564356435643\n",
      "Activity Training loss: 1.4339879404200186\n",
      "Location Training loss: 0.6783225862106474\n",
      "Activity Test accuracy: 22.916666666666668\n",
      "Location Test accuracy: 17.1875\n",
      "Activity Test loss: 5.714259306589763\n",
      "Location Test loss: 12.446756362915039\n",
      "Epoch: 6\n"
     ]
    },
    {
     "name": "stderr",
     "output_type": "stream",
     "text": [
      "100%|██████████████████████████████████████████████████████████████████████████████████████████████████████████████████████████████████████████████████████████████████████████████| 16/16 [00:00<00:00, 84.93it/s]\n"
     ]
    },
    {
     "name": "stdout",
     "output_type": "stream",
     "text": [
      "Activity Training accuracy: 37.42574257425743\n",
      "Location Training accuracy: 40.79207920792079\n",
      "Activity Training loss: 1.3860966975146\n",
      "Location Training loss: 0.6239759067497631\n",
      "Activity Test accuracy: 37.5\n",
      "Location Test accuracy: 43.229166666666664\n",
      "Activity Test loss: 1.6453702449798584\n",
      "Location Test loss: 4.404966990152995\n",
      "Epoch: 7\n"
     ]
    },
    {
     "name": "stderr",
     "output_type": "stream",
     "text": [
      "100%|██████████████████████████████████████████████████████████████████████████████████████████████████████████████████████████████████████████████████████████████████████████████| 16/16 [00:00<00:00, 83.63it/s]\n"
     ]
    },
    {
     "name": "stdout",
     "output_type": "stream",
     "text": [
      "Activity Training accuracy: 48.71287128712871\n",
      "Location Training accuracy: 36.73267326732673\n",
      "Activity Training loss: 1.2840678224469175\n",
      "Location Training loss: 0.4854253655613059\n",
      "Activity Test accuracy: 44.270833333333336\n",
      "Location Test accuracy: 38.541666666666664\n",
      "Activity Test loss: 1.4596232175827026\n",
      "Location Test loss: 3.0088449319203696\n",
      "Epoch: 8\n"
     ]
    },
    {
     "name": "stderr",
     "output_type": "stream",
     "text": [
      "100%|██████████████████████████████████████████████████████████████████████████████████████████████████████████████████████████████████████████████████████████████████████████████| 16/16 [00:00<00:00, 82.86it/s]\n"
     ]
    },
    {
     "name": "stdout",
     "output_type": "stream",
     "text": [
      "Activity Training accuracy: 35.148514851485146\n",
      "Location Training accuracy: 25.544554455445546\n",
      "Activity Training loss: 1.1922067472250155\n",
      "Location Training loss: 0.46126518627204516\n",
      "Activity Test accuracy: 32.291666666666664\n",
      "Location Test accuracy: 24.479166666666668\n",
      "Activity Test loss: 3.0444576740264893\n",
      "Location Test loss: 8.015697956085205\n",
      "Epoch: 9\n"
     ]
    },
    {
     "name": "stderr",
     "output_type": "stream",
     "text": [
      "100%|██████████████████████████████████████████████████████████████████████████████████████████████████████████████████████████████████████████████████████████████████████████████| 16/16 [00:00<00:00, 83.95it/s]\n"
     ]
    },
    {
     "name": "stdout",
     "output_type": "stream",
     "text": [
      "Activity Training accuracy: 54.65346534653465\n",
      "Location Training accuracy: 54.554455445544555\n",
      "Activity Training loss: 1.1258671524501083\n",
      "Location Training loss: 0.3473855434077801\n",
      "Activity Test accuracy: 46.875\n",
      "Location Test accuracy: 53.125\n",
      "Activity Test loss: 1.3716475168863933\n",
      "Location Test loss: 2.1979923248291016\n",
      "Epoch: 10\n"
     ]
    },
    {
     "name": "stderr",
     "output_type": "stream",
     "text": [
      "100%|██████████████████████████████████████████████████████████████████████████████████████████████████████████████████████████████████████████████████████████████████████████████| 16/16 [00:00<00:00, 84.95it/s]\n"
     ]
    },
    {
     "name": "stdout",
     "output_type": "stream",
     "text": [
      "Activity Training accuracy: 65.54455445544555\n",
      "Location Training accuracy: 83.06930693069307\n",
      "Activity Training loss: 0.9986302592966816\n",
      "Location Training loss: 0.2683709371207964\n",
      "Activity Test accuracy: 57.8125\n",
      "Location Test accuracy: 78.64583333333333\n",
      "Activity Test loss: 1.0525096257527669\n",
      "Location Test loss: 0.5806469321250916\n",
      "Epoch: 11\n"
     ]
    },
    {
     "name": "stderr",
     "output_type": "stream",
     "text": [
      "100%|██████████████████████████████████████████████████████████████████████████████████████████████████████████████████████████████████████████████████████████████████████████████| 16/16 [00:00<00:00, 83.67it/s]\n"
     ]
    },
    {
     "name": "stdout",
     "output_type": "stream",
     "text": [
      "Activity Training accuracy: 65.24752475247524\n",
      "Location Training accuracy: 78.21782178217822\n",
      "Activity Training loss: 0.9096830349157352\n",
      "Location Training loss: 0.24892051101911186\n",
      "Activity Test accuracy: 58.854166666666664\n",
      "Location Test accuracy: 73.4375\n",
      "Activity Test loss: 1.1025388638178508\n",
      "Location Test loss: 0.7469182213147482\n",
      "Epoch: 12\n"
     ]
    },
    {
     "name": "stderr",
     "output_type": "stream",
     "text": [
      "100%|██████████████████████████████████████████████████████████████████████████████████████████████████████████████████████████████████████████████████████████████████████████████| 16/16 [00:00<00:00, 84.17it/s]\n"
     ]
    },
    {
     "name": "stdout",
     "output_type": "stream",
     "text": [
      "Activity Training accuracy: 50.2970297029703\n",
      "Location Training accuracy: 59.00990099009901\n",
      "Activity Training loss: 0.848519497106571\n",
      "Location Training loss: 0.20682610851703304\n",
      "Activity Test accuracy: 46.354166666666664\n",
      "Location Test accuracy: 63.541666666666664\n",
      "Activity Test loss: 1.375818133354187\n",
      "Location Test loss: 1.4189627170562744\n",
      "Epoch: 13\n"
     ]
    },
    {
     "name": "stderr",
     "output_type": "stream",
     "text": [
      "100%|██████████████████████████████████████████████████████████████████████████████████████████████████████████████████████████████████████████████████████████████████████████████| 16/16 [00:00<00:00, 84.06it/s]\n"
     ]
    },
    {
     "name": "stdout",
     "output_type": "stream",
     "text": [
      "Activity Training accuracy: 44.65346534653465\n",
      "Location Training accuracy: 29.00990099009901\n",
      "Activity Training loss: 0.8095855675121345\n",
      "Location Training loss: 0.23182106112489606\n",
      "Activity Test accuracy: 40.104166666666664\n",
      "Location Test accuracy: 25.520833333333332\n",
      "Activity Test loss: 1.74798583984375\n",
      "Location Test loss: 6.496231555938721\n",
      "Epoch: 14\n"
     ]
    },
    {
     "name": "stderr",
     "output_type": "stream",
     "text": [
      "100%|██████████████████████████████████████████████████████████████████████████████████████████████████████████████████████████████████████████████████████████████████████████████| 16/16 [00:00<00:00, 84.02it/s]\n"
     ]
    },
    {
     "name": "stdout",
     "output_type": "stream",
     "text": [
      "Activity Training accuracy: 67.32673267326733\n",
      "Location Training accuracy: 72.07920792079207\n",
      "Activity Training loss: 0.7653099437751393\n",
      "Location Training loss: 0.2250380591590806\n",
      "Activity Test accuracy: 61.458333333333336\n",
      "Location Test accuracy: 70.3125\n",
      "Activity Test loss: 1.0731725494066875\n",
      "Location Test loss: 1.0159637133280437\n",
      "Epoch: 15\n"
     ]
    },
    {
     "name": "stderr",
     "output_type": "stream",
     "text": [
      "100%|██████████████████████████████████████████████████████████████████████████████████████████████████████████████████████████████████████████████████████████████████████████████| 16/16 [00:00<00:00, 80.21it/s]\n"
     ]
    },
    {
     "name": "stdout",
     "output_type": "stream",
     "text": [
      "Activity Training accuracy: 52.17821782178218\n",
      "Location Training accuracy: 57.524752475247524\n",
      "Activity Training loss: 0.7422886234698909\n",
      "Location Training loss: 0.2284306545068722\n",
      "Activity Test accuracy: 47.916666666666664\n",
      "Location Test accuracy: 53.125\n",
      "Activity Test loss: 1.4034276405970256\n",
      "Location Test loss: 1.9317216873168945\n",
      "Epoch: 16\n"
     ]
    },
    {
     "name": "stderr",
     "output_type": "stream",
     "text": [
      "100%|██████████████████████████████████████████████████████████████████████████████████████████████████████████████████████████████████████████████████████████████████████████████| 16/16 [00:00<00:00, 82.07it/s]\n"
     ]
    },
    {
     "name": "stdout",
     "output_type": "stream",
     "text": [
      "Activity Training accuracy: 45.742574257425744\n",
      "Location Training accuracy: 46.336633663366335\n",
      "Activity Training loss: 0.6953558289178527\n",
      "Location Training loss: 0.22061576182299322\n",
      "Activity Test accuracy: 41.666666666666664\n",
      "Location Test accuracy: 46.875\n",
      "Activity Test loss: 2.2557597955067954\n",
      "Location Test loss: 3.868195374806722\n",
      "Epoch: 17\n"
     ]
    },
    {
     "name": "stderr",
     "output_type": "stream",
     "text": [
      "100%|██████████████████████████████████████████████████████████████████████████████████████████████████████████████████████████████████████████████████████████████████████████████| 16/16 [00:00<00:00, 85.15it/s]\n"
     ]
    },
    {
     "name": "stdout",
     "output_type": "stream",
     "text": [
      "Activity Training accuracy: 50.198019801980195\n",
      "Location Training accuracy: 51.78217821782178\n",
      "Activity Training loss: 0.6861106494865795\n",
      "Location Training loss: 0.20402914793184487\n",
      "Activity Test accuracy: 46.354166666666664\n",
      "Location Test accuracy: 50.0\n",
      "Activity Test loss: 2.1505142052968345\n",
      "Location Test loss: 5.852750937143962\n",
      "Epoch: 18\n"
     ]
    },
    {
     "name": "stderr",
     "output_type": "stream",
     "text": [
      "100%|██████████████████████████████████████████████████████████████████████████████████████████████████████████████████████████████████████████████████████████████████████████████| 16/16 [00:00<00:00, 86.31it/s]\n"
     ]
    },
    {
     "name": "stdout",
     "output_type": "stream",
     "text": [
      "Activity Training accuracy: 66.83168316831683\n",
      "Location Training accuracy: 60.2970297029703\n",
      "Activity Training loss: 0.6162079612807472\n",
      "Location Training loss: 0.18664141078986743\n",
      "Activity Test accuracy: 57.291666666666664\n",
      "Location Test accuracy: 57.8125\n",
      "Activity Test loss: 1.1514581441879272\n",
      "Location Test loss: 1.8100534280141194\n",
      "Epoch: 19\n"
     ]
    },
    {
     "name": "stderr",
     "output_type": "stream",
     "text": [
      "100%|██████████████████████████████████████████████████████████████████████████████████████████████████████████████████████████████████████████████████████████████████████████████| 16/16 [00:00<00:00, 86.33it/s]\n"
     ]
    },
    {
     "name": "stdout",
     "output_type": "stream",
     "text": [
      "Activity Training accuracy: 83.46534653465346\n",
      "Location Training accuracy: 88.11881188118812\n",
      "Activity Training loss: 0.49187856617540415\n",
      "Location Training loss: 0.13159459369017346\n",
      "Activity Test accuracy: 66.66666666666667\n",
      "Location Test accuracy: 84.89583333333333\n",
      "Activity Test loss: 0.8084425926208496\n",
      "Location Test loss: 0.43607113758722943\n",
      "Epoch: 20\n"
     ]
    },
    {
     "name": "stderr",
     "output_type": "stream",
     "text": [
      "100%|██████████████████████████████████████████████████████████████████████████████████████████████████████████████████████████████████████████████████████████████████████████████| 16/16 [00:00<00:00, 83.27it/s]\n"
     ]
    },
    {
     "name": "stdout",
     "output_type": "stream",
     "text": [
      "Activity Training accuracy: 84.65346534653466\n",
      "Location Training accuracy: 86.83168316831683\n",
      "Activity Training loss: 0.41850858726123774\n",
      "Location Training loss: 0.1306143113882235\n",
      "Activity Test accuracy: 72.91666666666667\n",
      "Location Test accuracy: 81.77083333333333\n",
      "Activity Test loss: 0.7919525901476542\n",
      "Location Test loss: 0.5286770860354105\n",
      "Epoch: 21\n"
     ]
    },
    {
     "name": "stderr",
     "output_type": "stream",
     "text": [
      "100%|██████████████████████████████████████████████████████████████████████████████████████████████████████████████████████████████████████████████████████████████████████████████| 16/16 [00:00<00:00, 85.98it/s]\n"
     ]
    },
    {
     "name": "stdout",
     "output_type": "stream",
     "text": [
      "Activity Training accuracy: 82.37623762376238\n",
      "Location Training accuracy: 88.31683168316832\n",
      "Activity Training loss: 0.36548550860716567\n",
      "Location Training loss: 0.12211398157742943\n",
      "Activity Test accuracy: 69.79166666666667\n",
      "Location Test accuracy: 85.9375\n",
      "Activity Test loss: 0.811168392499288\n",
      "Location Test loss: 0.5290353993574778\n",
      "Epoch: 22\n"
     ]
    },
    {
     "name": "stderr",
     "output_type": "stream",
     "text": [
      "100%|██████████████████████████████████████████████████████████████████████████████████████████████████████████████████████████████████████████████████████████████████████████████| 16/16 [00:00<00:00, 85.82it/s]\n"
     ]
    },
    {
     "name": "stdout",
     "output_type": "stream",
     "text": [
      "Activity Training accuracy: 83.06930693069307\n",
      "Location Training accuracy: 87.22772277227723\n",
      "Activity Training loss: 0.35151201663631026\n",
      "Location Training loss: 0.10291104647192624\n",
      "Activity Test accuracy: 68.22916666666667\n",
      "Location Test accuracy: 81.77083333333333\n",
      "Activity Test loss: 0.7601582010587057\n",
      "Location Test loss: 0.487876017888387\n",
      "Epoch: 23\n"
     ]
    },
    {
     "name": "stderr",
     "output_type": "stream",
     "text": [
      "100%|██████████████████████████████████████████████████████████████████████████████████████████████████████████████████████████████████████████████████████████████████████████████| 16/16 [00:00<00:00, 86.18it/s]\n"
     ]
    },
    {
     "name": "stdout",
     "output_type": "stream",
     "text": [
      "Activity Training accuracy: 89.8019801980198\n",
      "Location Training accuracy: 93.46534653465346\n",
      "Activity Training loss: 0.33707601150663774\n",
      "Location Training loss: 0.10464112428155276\n",
      "Activity Test accuracy: 78.64583333333333\n",
      "Location Test accuracy: 89.0625\n",
      "Activity Test loss: 0.6529605388641357\n",
      "Location Test loss: 0.3423187385002772\n",
      "Epoch: 24\n"
     ]
    },
    {
     "name": "stderr",
     "output_type": "stream",
     "text": [
      "100%|██████████████████████████████████████████████████████████████████████████████████████████████████████████████████████████████████████████████████████████████████████████████| 16/16 [00:00<00:00, 86.46it/s]\n"
     ]
    },
    {
     "name": "stdout",
     "output_type": "stream",
     "text": [
      "Activity Training accuracy: 78.61386138613861\n",
      "Location Training accuracy: 72.87128712871286\n",
      "Activity Training loss: 0.31288296822274086\n",
      "Location Training loss: 0.11217125571600281\n",
      "Activity Test accuracy: 68.22916666666667\n",
      "Location Test accuracy: 69.79166666666667\n",
      "Activity Test loss: 1.0204716722170513\n",
      "Location Test loss: 1.2535810867945354\n",
      "Epoch: 25\n"
     ]
    },
    {
     "name": "stderr",
     "output_type": "stream",
     "text": [
      "100%|██████████████████████████████████████████████████████████████████████████████████████████████████████████████████████████████████████████████████████████████████████████████| 16/16 [00:00<00:00, 87.96it/s]\n"
     ]
    },
    {
     "name": "stdout",
     "output_type": "stream",
     "text": [
      "Activity Training accuracy: 79.10891089108911\n",
      "Location Training accuracy: 69.9009900990099\n",
      "Activity Training loss: 0.2899481792261105\n",
      "Location Training loss: 0.11682604209031208\n",
      "Activity Test accuracy: 66.66666666666667\n",
      "Location Test accuracy: 61.979166666666664\n",
      "Activity Test loss: 1.0612684686978657\n",
      "Location Test loss: 1.2688769896825154\n",
      "Epoch: 26\n"
     ]
    },
    {
     "name": "stderr",
     "output_type": "stream",
     "text": [
      "100%|██████████████████████████████████████████████████████████████████████████████████████████████████████████████████████████████████████████████████████████████████████████████| 16/16 [00:00<00:00, 87.96it/s]\n"
     ]
    },
    {
     "name": "stdout",
     "output_type": "stream",
     "text": [
      "Activity Training accuracy: 85.04950495049505\n",
      "Location Training accuracy: 80.39603960396039\n",
      "Activity Training loss: 0.2452946917845471\n",
      "Location Training loss: 0.1040890115322453\n",
      "Activity Test accuracy: 67.70833333333333\n",
      "Location Test accuracy: 77.60416666666667\n",
      "Activity Test loss: 0.8772095243136088\n",
      "Location Test loss: 0.6657955845197042\n",
      "Epoch: 27\n"
     ]
    },
    {
     "name": "stderr",
     "output_type": "stream",
     "text": [
      "100%|██████████████████████████████████████████████████████████████████████████████████████████████████████████████████████████████████████████████████████████████████████████████| 16/16 [00:00<00:00, 87.66it/s]\n"
     ]
    },
    {
     "name": "stdout",
     "output_type": "stream",
     "text": [
      "Activity Training accuracy: 83.36633663366337\n",
      "Location Training accuracy: 77.72277227722772\n",
      "Activity Training loss: 0.2221551795997242\n",
      "Location Training loss: 0.0967228625080373\n",
      "Activity Test accuracy: 72.39583333333333\n",
      "Location Test accuracy: 73.4375\n",
      "Activity Test loss: 0.8403416872024536\n",
      "Location Test loss: 0.9261503020922343\n",
      "Epoch: 28\n"
     ]
    },
    {
     "name": "stderr",
     "output_type": "stream",
     "text": [
      "100%|██████████████████████████████████████████████████████████████████████████████████████████████████████████████████████████████████████████████████████████████████████████████| 16/16 [00:00<00:00, 85.99it/s]\n"
     ]
    },
    {
     "name": "stdout",
     "output_type": "stream",
     "text": [
      "Activity Training accuracy: 93.36633663366337\n",
      "Location Training accuracy: 96.13861386138613\n",
      "Activity Training loss: 0.22824439860806606\n",
      "Location Training loss: 0.0933013132303068\n",
      "Activity Test accuracy: 80.20833333333333\n",
      "Location Test accuracy: 92.1875\n",
      "Activity Test loss: 0.6238176822662354\n",
      "Location Test loss: 0.22885400553544363\n",
      "Epoch: 29\n"
     ]
    },
    {
     "name": "stderr",
     "output_type": "stream",
     "text": [
      "100%|██████████████████████████████████████████████████████████████████████████████████████████████████████████████████████████████████████████████████████████████████████████████| 16/16 [00:00<00:00, 86.77it/s]\n"
     ]
    },
    {
     "name": "stdout",
     "output_type": "stream",
     "text": [
      "Activity Training accuracy: 96.63366336633663\n",
      "Location Training accuracy: 94.45544554455445\n",
      "Activity Training loss: 0.18826843866027226\n",
      "Location Training loss: 0.083540941937135\n",
      "Activity Test accuracy: 80.72916666666667\n",
      "Location Test accuracy: 90.10416666666667\n",
      "Activity Test loss: 0.5777012705802917\n",
      "Location Test loss: 0.2789854556322098\n",
      "Epoch: 30\n"
     ]
    },
    {
     "name": "stderr",
     "output_type": "stream",
     "text": [
      "100%|██████████████████████████████████████████████████████████████████████████████████████████████████████████████████████████████████████████████████████████████████████████████| 16/16 [00:00<00:00, 85.64it/s]\n"
     ]
    },
    {
     "name": "stdout",
     "output_type": "stream",
     "text": [
      "Activity Training accuracy: 96.93069306930693\n",
      "Location Training accuracy: 96.83168316831683\n",
      "Activity Training loss: 0.14429400793396602\n",
      "Location Training loss: 0.07829437633552173\n",
      "Activity Test accuracy: 80.72916666666667\n",
      "Location Test accuracy: 90.625\n",
      "Activity Test loss: 0.5250626703103384\n",
      "Location Test loss: 0.19807297984759012\n",
      "Epoch: 31\n"
     ]
    },
    {
     "name": "stderr",
     "output_type": "stream",
     "text": [
      "100%|██████████████████████████████████████████████████████████████████████████████████████████████████████████████████████████████████████████████████████████████████████████████| 16/16 [00:00<00:00, 85.18it/s]\n"
     ]
    },
    {
     "name": "stdout",
     "output_type": "stream",
     "text": [
      "Activity Training accuracy: 97.22772277227723\n",
      "Location Training accuracy: 93.36633663366337\n",
      "Activity Training loss: 0.1183333418156841\n",
      "Location Training loss: 0.07543866716989196\n",
      "Activity Test accuracy: 81.77083333333333\n",
      "Location Test accuracy: 89.0625\n",
      "Activity Test loss: 0.5406876007715861\n",
      "Location Test loss: 0.31839388608932495\n",
      "Epoch: 32\n"
     ]
    },
    {
     "name": "stderr",
     "output_type": "stream",
     "text": [
      "100%|██████████████████████████████████████████████████████████████████████████████████████████████████████████████████████████████████████████████████████████████████████████████| 16/16 [00:00<00:00, 85.69it/s]\n"
     ]
    },
    {
     "name": "stdout",
     "output_type": "stream",
     "text": [
      "Activity Training accuracy: 83.26732673267327\n",
      "Location Training accuracy: 92.97029702970298\n",
      "Activity Training loss: 0.11357115920227354\n",
      "Location Training loss: 0.06177711120926507\n",
      "Activity Test accuracy: 67.70833333333333\n",
      "Location Test accuracy: 91.14583333333333\n",
      "Activity Test loss: 1.335050106048584\n",
      "Location Test loss: 0.3175320078929265\n",
      "Epoch: 33\n"
     ]
    },
    {
     "name": "stderr",
     "output_type": "stream",
     "text": [
      "100%|██████████████████████████████████████████████████████████████████████████████████████████████████████████████████████████████████████████████████████████████████████████████| 16/16 [00:00<00:00, 85.99it/s]\n"
     ]
    },
    {
     "name": "stdout",
     "output_type": "stream",
     "text": [
      "Activity Training accuracy: 95.24752475247524\n",
      "Location Training accuracy: 97.72277227722772\n",
      "Activity Training loss: 0.10618103990460387\n",
      "Location Training loss: 0.0629008912804103\n",
      "Activity Test accuracy: 80.20833333333333\n",
      "Location Test accuracy: 92.70833333333333\n",
      "Activity Test loss: 0.6240372260411581\n",
      "Location Test loss: 0.16770635296901068\n",
      "Epoch: 34\n"
     ]
    },
    {
     "name": "stderr",
     "output_type": "stream",
     "text": [
      "100%|██████████████████████████████████████████████████████████████████████████████████████████████████████████████████████████████████████████████████████████████████████████████| 16/16 [00:00<00:00, 84.52it/s]\n"
     ]
    },
    {
     "name": "stdout",
     "output_type": "stream",
     "text": [
      "Activity Training accuracy: 96.33663366336634\n",
      "Location Training accuracy: 98.31683168316832\n",
      "Activity Training loss: 0.09236032773952672\n",
      "Location Training loss: 0.054926273787375725\n",
      "Activity Test accuracy: 82.29166666666667\n",
      "Location Test accuracy: 94.79166666666667\n",
      "Activity Test loss: 0.536892702182134\n",
      "Location Test loss: 0.1660782794157664\n",
      "Epoch: 35\n"
     ]
    },
    {
     "name": "stderr",
     "output_type": "stream",
     "text": [
      "100%|██████████████████████████████████████████████████████████████████████████████████████████████████████████████████████████████████████████████████████████████████████████████| 16/16 [00:00<00:00, 83.98it/s]\n"
     ]
    },
    {
     "name": "stdout",
     "output_type": "stream",
     "text": [
      "Activity Training accuracy: 94.95049504950495\n",
      "Location Training accuracy: 95.34653465346534\n",
      "Activity Training loss: 0.08734199103742543\n",
      "Location Training loss: 0.06418340843502837\n",
      "Activity Test accuracy: 78.64583333333333\n",
      "Location Test accuracy: 90.625\n",
      "Activity Test loss: 0.6146751244862875\n",
      "Location Test loss: 0.227261021733284\n",
      "Epoch: 36\n"
     ]
    },
    {
     "name": "stderr",
     "output_type": "stream",
     "text": [
      "100%|██████████████████████████████████████████████████████████████████████████████████████████████████████████████████████████████████████████████████████████████████████████████| 16/16 [00:00<00:00, 83.29it/s]\n"
     ]
    },
    {
     "name": "stdout",
     "output_type": "stream",
     "text": [
      "Activity Training accuracy: 95.04950495049505\n",
      "Location Training accuracy: 87.12871287128714\n",
      "Activity Training loss: 0.06547915487006159\n",
      "Location Training loss: 0.05093614346910231\n",
      "Activity Test accuracy: 76.04166666666667\n",
      "Location Test accuracy: 81.77083333333333\n",
      "Activity Test loss: 0.6638982097307841\n",
      "Location Test loss: 0.5337627728780111\n",
      "Epoch: 37\n"
     ]
    },
    {
     "name": "stderr",
     "output_type": "stream",
     "text": [
      "100%|██████████████████████████████████████████████████████████████████████████████████████████████████████████████████████████████████████████████████████████████████████████████| 16/16 [00:00<00:00, 85.65it/s]\n"
     ]
    },
    {
     "name": "stdout",
     "output_type": "stream",
     "text": [
      "Activity Training accuracy: 88.21782178217822\n",
      "Location Training accuracy: 77.52475247524752\n",
      "Activity Training loss: 0.053583812713623044\n",
      "Location Training loss: 0.044405687799548156\n",
      "Activity Test accuracy: 74.47916666666667\n",
      "Location Test accuracy: 72.39583333333333\n",
      "Activity Test loss: 0.9328607519467672\n",
      "Location Test loss: 1.0174719889958699\n",
      "Epoch: 38\n"
     ]
    },
    {
     "name": "stderr",
     "output_type": "stream",
     "text": [
      "100%|██████████████████████████████████████████████████████████████████████████████████████████████████████████████████████████████████████████████████████████████████████████████| 16/16 [00:00<00:00, 85.24it/s]\n"
     ]
    },
    {
     "name": "stdout",
     "output_type": "stream",
     "text": [
      "Activity Training accuracy: 98.31683168316832\n",
      "Location Training accuracy: 97.62376237623762\n",
      "Activity Training loss: 0.06768976249317131\n",
      "Location Training loss: 0.03665785482614347\n",
      "Activity Test accuracy: 80.20833333333333\n",
      "Location Test accuracy: 91.14583333333333\n",
      "Activity Test loss: 0.5896402994791666\n",
      "Location Test loss: 0.23794515430927277\n",
      "Epoch: 39\n"
     ]
    },
    {
     "name": "stderr",
     "output_type": "stream",
     "text": [
      "100%|██████████████████████████████████████████████████████████████████████████████████████████████████████████████████████████████████████████████████████████████████████████████| 16/16 [00:00<00:00, 87.12it/s]\n"
     ]
    },
    {
     "name": "stdout",
     "output_type": "stream",
     "text": [
      "Activity Training accuracy: 99.20792079207921\n",
      "Location Training accuracy: 98.01980198019803\n",
      "Activity Training loss: 0.06216548716667855\n",
      "Location Training loss: 0.0410135825081627\n",
      "Activity Test accuracy: 85.9375\n",
      "Location Test accuracy: 93.75\n",
      "Activity Test loss: 0.49484225114186603\n",
      "Location Test loss: 0.15395169456799826\n",
      "Epoch: 40\n"
     ]
    },
    {
     "name": "stderr",
     "output_type": "stream",
     "text": [
      "100%|██████████████████████████████████████████████████████████████████████████████████████████████████████████████████████████████████████████████████████████████████████████████| 16/16 [00:00<00:00, 87.51it/s]\n"
     ]
    },
    {
     "name": "stdout",
     "output_type": "stream",
     "text": [
      "Activity Training accuracy: 99.4059405940594\n",
      "Location Training accuracy: 99.4059405940594\n",
      "Activity Training loss: 0.0540135927719645\n",
      "Location Training loss: 0.04270762854283399\n",
      "Activity Test accuracy: 87.5\n",
      "Location Test accuracy: 93.75\n",
      "Activity Test loss: 0.4356009165445964\n",
      "Location Test loss: 0.14395823578039804\n",
      "Epoch: 41\n"
     ]
    },
    {
     "name": "stderr",
     "output_type": "stream",
     "text": [
      "100%|██████████████████████████████████████████████████████████████████████████████████████████████████████████████████████████████████████████████████████████████████████████████| 16/16 [00:00<00:00, 87.59it/s]\n"
     ]
    },
    {
     "name": "stdout",
     "output_type": "stream",
     "text": [
      "Activity Training accuracy: 99.8019801980198\n",
      "Location Training accuracy: 99.10891089108911\n",
      "Activity Training loss: 0.041096736889074344\n",
      "Location Training loss: 0.04125191728667457\n",
      "Activity Test accuracy: 87.5\n",
      "Location Test accuracy: 93.75\n",
      "Activity Test loss: 0.4225252866744995\n",
      "Location Test loss: 0.16481492420037588\n",
      "Epoch: 42\n"
     ]
    },
    {
     "name": "stderr",
     "output_type": "stream",
     "text": [
      "100%|██████████████████████████████████████████████████████████████████████████████████████████████████████████████████████████████████████████████████████████████████████████████| 16/16 [00:00<00:00, 85.77it/s]\n"
     ]
    },
    {
     "name": "stdout",
     "output_type": "stream",
     "text": [
      "Activity Training accuracy: 100.0\n",
      "Location Training accuracy: 99.5049504950495\n",
      "Activity Training loss: 0.03097350001335144\n",
      "Location Training loss: 0.0380846635539933\n",
      "Activity Test accuracy: 88.02083333333333\n",
      "Location Test accuracy: 95.83333333333333\n",
      "Activity Test loss: 0.42914963761965436\n",
      "Location Test loss: 0.09541473413507144\n",
      "Epoch: 43\n"
     ]
    },
    {
     "name": "stderr",
     "output_type": "stream",
     "text": [
      "100%|██████████████████████████████████████████████████████████████████████████████████████████████████████████████████████████████████████████████████████████████████████████████| 16/16 [00:00<00:00, 85.87it/s]\n"
     ]
    },
    {
     "name": "stdout",
     "output_type": "stream",
     "text": [
      "Activity Training accuracy: 100.0\n",
      "Location Training accuracy: 99.70297029702971\n",
      "Activity Training loss: 0.02582765575682763\n",
      "Location Training loss: 0.030985318493134906\n",
      "Activity Test accuracy: 86.97916666666667\n",
      "Location Test accuracy: 95.3125\n",
      "Activity Test loss: 0.44487573703130084\n",
      "Location Test loss: 0.09504893670479457\n",
      "Epoch: 44\n"
     ]
    },
    {
     "name": "stderr",
     "output_type": "stream",
     "text": [
      "100%|██████████████████████████████████████████████████████████████████████████████████████████████████████████████████████████████████████████████████████████████████████████████| 16/16 [00:00<00:00, 85.60it/s]\n"
     ]
    },
    {
     "name": "stdout",
     "output_type": "stream",
     "text": [
      "Activity Training accuracy: 100.0\n",
      "Location Training accuracy: 99.9009900990099\n",
      "Activity Training loss: 0.024447641573329962\n",
      "Location Training loss: 0.029673500344304757\n",
      "Activity Test accuracy: 87.5\n",
      "Location Test accuracy: 94.79166666666667\n",
      "Activity Test loss: 0.42364593346913654\n",
      "Location Test loss: 0.09861482431491216\n",
      "Epoch: 45\n"
     ]
    },
    {
     "name": "stderr",
     "output_type": "stream",
     "text": [
      "100%|██████████████████████████████████████████████████████████████████████████████████████████████████████████████████████████████████████████████████████████████████████████████| 16/16 [00:00<00:00, 86.96it/s]\n"
     ]
    },
    {
     "name": "stdout",
     "output_type": "stream",
     "text": [
      "Activity Training accuracy: 100.0\n",
      "Location Training accuracy: 99.9009900990099\n",
      "Activity Training loss: 0.022696203347479942\n",
      "Location Training loss: 0.023577813641859752\n",
      "Activity Test accuracy: 88.02083333333333\n",
      "Location Test accuracy: 94.27083333333333\n",
      "Activity Test loss: 0.412100483973821\n",
      "Location Test loss: 0.11438811322053273\n",
      "Epoch: 46\n"
     ]
    },
    {
     "name": "stderr",
     "output_type": "stream",
     "text": [
      "100%|██████████████████████████████████████████████████████████████████████████████████████████████████████████████████████████████████████████████████████████████████████████████| 16/16 [00:00<00:00, 88.40it/s]\n"
     ]
    },
    {
     "name": "stdout",
     "output_type": "stream",
     "text": [
      "Activity Training accuracy: 100.0\n",
      "Location Training accuracy: 99.8019801980198\n",
      "Activity Training loss: 0.02306677764005\n",
      "Location Training loss: 0.02728828767148575\n",
      "Activity Test accuracy: 88.02083333333333\n",
      "Location Test accuracy: 96.875\n",
      "Activity Test loss: 0.41029272476832074\n",
      "Location Test loss: 0.08807017281651497\n",
      "Epoch: 47\n"
     ]
    },
    {
     "name": "stderr",
     "output_type": "stream",
     "text": [
      "100%|██████████████████████████████████████████████████████████████████████████████████████████████████████████████████████████████████████████████████████████████████████████████| 16/16 [00:00<00:00, 87.09it/s]\n"
     ]
    },
    {
     "name": "stdout",
     "output_type": "stream",
     "text": [
      "Activity Training accuracy: 99.60396039603961\n",
      "Location Training accuracy: 99.60396039603961\n",
      "Activity Training loss: 0.023349411475776446\n",
      "Location Training loss: 0.027129241440555837\n",
      "Activity Test accuracy: 85.41666666666667\n",
      "Location Test accuracy: 94.27083333333333\n",
      "Activity Test loss: 0.5127791364987692\n",
      "Location Test loss: 0.1214681826531887\n",
      "Epoch: 48\n"
     ]
    },
    {
     "name": "stderr",
     "output_type": "stream",
     "text": [
      "100%|██████████████████████████████████████████████████████████████████████████████████████████████████████████████████████████████████████████████████████████████████████████████| 16/16 [00:00<00:00, 87.36it/s]\n"
     ]
    },
    {
     "name": "stdout",
     "output_type": "stream",
     "text": [
      "Activity Training accuracy: 100.0\n",
      "Location Training accuracy: 99.3069306930693\n",
      "Activity Training loss: 0.019808778668394183\n",
      "Location Training loss: 0.030174302346635574\n",
      "Activity Test accuracy: 86.45833333333333\n",
      "Location Test accuracy: 92.1875\n",
      "Activity Test loss: 0.4350237051645915\n",
      "Location Test loss: 0.15541022767623267\n",
      "Epoch: 49\n"
     ]
    },
    {
     "name": "stderr",
     "output_type": "stream",
     "text": [
      "100%|██████████████████████████████████████████████████████████████████████████████████████████████████████████████████████████████████████████████████████████████████████████████| 16/16 [00:00<00:00, 87.92it/s]\n"
     ]
    },
    {
     "name": "stdout",
     "output_type": "stream",
     "text": [
      "Activity Training accuracy: 100.0\n",
      "Location Training accuracy: 99.8019801980198\n",
      "Activity Training loss: 0.02025215159548391\n",
      "Location Training loss: 0.021747365800460966\n",
      "Activity Test accuracy: 88.02083333333333\n",
      "Location Test accuracy: 95.3125\n",
      "Activity Test loss: 0.4304150938987732\n",
      "Location Test loss: 0.08581819323201974\n",
      "Epoch: 50\n"
     ]
    },
    {
     "name": "stderr",
     "output_type": "stream",
     "text": [
      "100%|██████████████████████████████████████████████████████████████████████████████████████████████████████████████████████████████████████████████████████████████████████████████| 16/16 [00:00<00:00, 87.76it/s]\n"
     ]
    },
    {
     "name": "stdout",
     "output_type": "stream",
     "text": [
      "Activity Training accuracy: 100.0\n",
      "Location Training accuracy: 99.9009900990099\n",
      "Activity Training loss: 0.023952686904680612\n",
      "Location Training loss: 0.029040677211072185\n",
      "Activity Test accuracy: 88.02083333333333\n",
      "Location Test accuracy: 95.83333333333333\n",
      "Activity Test loss: 0.4319446086883545\n",
      "Location Test loss: 0.12650363395611444\n",
      "Epoch: 51\n"
     ]
    },
    {
     "name": "stderr",
     "output_type": "stream",
     "text": [
      "100%|██████████████████████████████████████████████████████████████████████████████████████████████████████████████████████████████████████████████████████████████████████████████| 16/16 [00:00<00:00, 88.22it/s]\n"
     ]
    },
    {
     "name": "stdout",
     "output_type": "stream",
     "text": [
      "Activity Training accuracy: 100.0\n",
      "Location Training accuracy: 100.0\n",
      "Activity Training loss: 0.0221176542858086\n",
      "Location Training loss: 0.024698046646495858\n",
      "Activity Test accuracy: 88.02083333333333\n",
      "Location Test accuracy: 96.35416666666667\n",
      "Activity Test loss: 0.44399110476175946\n",
      "Location Test loss: 0.08567739898959796\n",
      "Epoch: 52\n"
     ]
    },
    {
     "name": "stderr",
     "output_type": "stream",
     "text": [
      "100%|██████████████████████████████████████████████████████████████████████████████████████████████████████████████████████████████████████████████████████████████████████████████| 16/16 [00:00<00:00, 88.48it/s]\n"
     ]
    },
    {
     "name": "stdout",
     "output_type": "stream",
     "text": [
      "Activity Training accuracy: 99.9009900990099\n",
      "Location Training accuracy: 99.60396039603961\n",
      "Activity Training loss: 0.016532415918784567\n",
      "Location Training loss: 0.026865017738672767\n",
      "Activity Test accuracy: 89.0625\n",
      "Location Test accuracy: 95.83333333333333\n",
      "Activity Test loss: 0.4382265508174896\n",
      "Location Test loss: 0.0934745545188586\n",
      "Epoch: 53\n"
     ]
    },
    {
     "name": "stderr",
     "output_type": "stream",
     "text": [
      "100%|██████████████████████████████████████████████████████████████████████████████████████████████████████████████████████████████████████████████████████████████████████████████| 16/16 [00:00<00:00, 88.13it/s]\n"
     ]
    },
    {
     "name": "stdout",
     "output_type": "stream",
     "text": [
      "Activity Training accuracy: 100.0\n",
      "Location Training accuracy: 99.8019801980198\n",
      "Activity Training loss: 0.0170359341519894\n",
      "Location Training loss: 0.02033858128113322\n",
      "Activity Test accuracy: 86.45833333333333\n",
      "Location Test accuracy: 95.3125\n",
      "Activity Test loss: 0.41735657056172687\n",
      "Location Test loss: 0.11629205631713073\n",
      "Epoch: 54\n"
     ]
    },
    {
     "name": "stderr",
     "output_type": "stream",
     "text": [
      "100%|██████████████████████████████████████████████████████████████████████████████████████████████████████████████████████████████████████████████████████████████████████████████| 16/16 [00:00<00:00, 87.21it/s]\n"
     ]
    },
    {
     "name": "stdout",
     "output_type": "stream",
     "text": [
      "Activity Training accuracy: 100.0\n",
      "Location Training accuracy: 98.81188118811882\n",
      "Activity Training loss: 0.02174265785972671\n",
      "Location Training loss: 0.019790520349351488\n",
      "Activity Test accuracy: 88.54166666666667\n",
      "Location Test accuracy: 93.75\n",
      "Activity Test loss: 0.4175403614838918\n",
      "Location Test loss: 0.16914988060792288\n",
      "Epoch: 55\n"
     ]
    },
    {
     "name": "stderr",
     "output_type": "stream",
     "text": [
      "100%|██████████████████████████████████████████████████████████████████████████████████████████████████████████████████████████████████████████████████████████████████████████████| 16/16 [00:00<00:00, 86.64it/s]\n"
     ]
    },
    {
     "name": "stdout",
     "output_type": "stream",
     "text": [
      "Activity Training accuracy: 93.56435643564356\n",
      "Location Training accuracy: 99.00990099009901\n",
      "Activity Training loss: 0.015846012252392155\n",
      "Location Training loss: 0.01657880650888575\n",
      "Activity Test accuracy: 77.08333333333333\n",
      "Location Test accuracy: 94.27083333333333\n",
      "Activity Test loss: 0.801451047261556\n",
      "Location Test loss: 0.1446759303410848\n",
      "Epoch: 56\n"
     ]
    },
    {
     "name": "stderr",
     "output_type": "stream",
     "text": [
      "100%|██████████████████████████████████████████████████████████████████████████████████████████████████████████████████████████████████████████████████████████████████████████████| 16/16 [00:00<00:00, 87.14it/s]\n"
     ]
    },
    {
     "name": "stdout",
     "output_type": "stream",
     "text": [
      "Activity Training accuracy: 100.0\n",
      "Location Training accuracy: 99.70297029702971\n",
      "Activity Training loss: 0.013479758341713707\n",
      "Location Training loss: 0.02658885696736893\n",
      "Activity Test accuracy: 88.54166666666667\n",
      "Location Test accuracy: 95.83333333333333\n",
      "Activity Test loss: 0.44625015060106915\n",
      "Location Test loss: 0.09793567657470703\n",
      "Epoch: 57\n"
     ]
    },
    {
     "name": "stderr",
     "output_type": "stream",
     "text": [
      "100%|██████████████████████████████████████████████████████████████████████████████████████████████████████████████████████████████████████████████████████████████████████████████| 16/16 [00:00<00:00, 86.66it/s]\n"
     ]
    },
    {
     "name": "stdout",
     "output_type": "stream",
     "text": [
      "Activity Training accuracy: 98.31683168316832\n",
      "Location Training accuracy: 99.8019801980198\n",
      "Activity Training loss: 0.012400862338519333\n",
      "Location Training loss: 0.017724786566035582\n",
      "Activity Test accuracy: 83.33333333333333\n",
      "Location Test accuracy: 93.75\n",
      "Activity Test loss: 0.5952375829219818\n",
      "Location Test loss: 0.1264004943271478\n",
      "Epoch: 58\n"
     ]
    },
    {
     "name": "stderr",
     "output_type": "stream",
     "text": [
      "100%|██████████████████████████████████████████████████████████████████████████████████████████████████████████████████████████████████████████████████████████████████████████████| 16/16 [00:00<00:00, 85.88it/s]\n"
     ]
    },
    {
     "name": "stdout",
     "output_type": "stream",
     "text": [
      "Activity Training accuracy: 96.83168316831683\n",
      "Location Training accuracy: 98.81188118811882\n",
      "Activity Training loss: 0.016025806181501633\n",
      "Location Training loss: 0.01584070935697839\n",
      "Activity Test accuracy: 83.85416666666667\n",
      "Location Test accuracy: 92.1875\n",
      "Activity Test loss: 0.6044221719106039\n",
      "Location Test loss: 0.16752870877583823\n",
      "Epoch: 59\n"
     ]
    },
    {
     "name": "stderr",
     "output_type": "stream",
     "text": [
      "100%|██████████████████████████████████████████████████████████████████████████████████████████████████████████████████████████████████████████████████████████████████████████████| 16/16 [00:00<00:00, 85.77it/s]\n"
     ]
    },
    {
     "name": "stdout",
     "output_type": "stream",
     "text": [
      "Activity Training accuracy: 100.0\n",
      "Location Training accuracy: 99.9009900990099\n",
      "Activity Training loss: 0.014071321487426758\n",
      "Location Training loss: 0.014999960731751848\n",
      "Activity Test accuracy: 86.97916666666667\n",
      "Location Test accuracy: 94.27083333333333\n",
      "Activity Test loss: 0.4522504309813182\n",
      "Location Test loss: 0.10944988578557968\n",
      "Epoch: 60\n"
     ]
    },
    {
     "name": "stderr",
     "output_type": "stream",
     "text": [
      "100%|██████████████████████████████████████████████████████████████████████████████████████████████████████████████████████████████████████████████████████████████████████████████| 16/16 [00:00<00:00, 86.52it/s]\n"
     ]
    },
    {
     "name": "stdout",
     "output_type": "stream",
     "text": [
      "Activity Training accuracy: 100.0\n",
      "Location Training accuracy: 100.0\n",
      "Activity Training loss: 0.010444174662675007\n",
      "Location Training loss: 0.013315653889486105\n",
      "Activity Test accuracy: 88.54166666666667\n",
      "Location Test accuracy: 95.83333333333333\n",
      "Activity Test loss: 0.4314792950948079\n",
      "Location Test loss: 0.0764124399671952\n",
      "Epoch: 61\n"
     ]
    },
    {
     "name": "stderr",
     "output_type": "stream",
     "text": [
      "100%|██████████████████████████████████████████████████████████████████████████████████████████████████████████████████████████████████████████████████████████████████████████████| 16/16 [00:00<00:00, 87.12it/s]\n"
     ]
    },
    {
     "name": "stdout",
     "output_type": "stream",
     "text": [
      "Activity Training accuracy: 100.0\n",
      "Location Training accuracy: 99.9009900990099\n",
      "Activity Training loss: 0.009310235304407555\n",
      "Location Training loss: 0.010588335784355012\n",
      "Activity Test accuracy: 89.0625\n",
      "Location Test accuracy: 96.35416666666667\n",
      "Activity Test loss: 0.4237295587857564\n",
      "Location Test loss: 0.07594270507494609\n",
      "Epoch: 62\n"
     ]
    },
    {
     "name": "stderr",
     "output_type": "stream",
     "text": [
      "100%|██████████████████████████████████████████████████████████████████████████████████████████████████████████████████████████████████████████████████████████████████████████████| 16/16 [00:00<00:00, 86.20it/s]\n"
     ]
    },
    {
     "name": "stdout",
     "output_type": "stream",
     "text": [
      "Activity Training accuracy: 100.0\n",
      "Location Training accuracy: 100.0\n",
      "Activity Training loss: 0.012697665260569884\n",
      "Location Training loss: 0.01826333719314915\n",
      "Activity Test accuracy: 86.97916666666667\n",
      "Location Test accuracy: 94.27083333333333\n",
      "Activity Test loss: 0.43398529291152954\n",
      "Location Test loss: 0.1100766472518444\n",
      "Epoch: 63\n"
     ]
    },
    {
     "name": "stderr",
     "output_type": "stream",
     "text": [
      "100%|██████████████████████████████████████████████████████████████████████████████████████████████████████████████████████████████████████████████████████████████████████████████| 16/16 [00:00<00:00, 84.52it/s]\n"
     ]
    },
    {
     "name": "stdout",
     "output_type": "stream",
     "text": [
      "Activity Training accuracy: 100.0\n",
      "Location Training accuracy: 100.0\n",
      "Activity Training loss: 0.012743645611375866\n",
      "Location Training loss: 0.011877503932112515\n",
      "Activity Test accuracy: 87.5\n",
      "Location Test accuracy: 97.39583333333333\n",
      "Activity Test loss: 0.4275802473227183\n",
      "Location Test loss: 0.0715988241136074\n",
      "Epoch: 64\n"
     ]
    },
    {
     "name": "stderr",
     "output_type": "stream",
     "text": [
      "100%|██████████████████████████████████████████████████████████████████████████████████████████████████████████████████████████████████████████████████████████████████████████████| 16/16 [00:00<00:00, 84.67it/s]\n"
     ]
    },
    {
     "name": "stdout",
     "output_type": "stream",
     "text": [
      "Activity Training accuracy: 100.0\n",
      "Location Training accuracy: 100.0\n",
      "Activity Training loss: 0.013701889346731772\n",
      "Location Training loss: 0.014140578396249525\n",
      "Activity Test accuracy: 89.58333333333333\n",
      "Location Test accuracy: 96.875\n",
      "Activity Test loss: 0.4136398633321126\n",
      "Location Test loss: 0.07793146309753259\n",
      "Epoch: 65\n"
     ]
    },
    {
     "name": "stderr",
     "output_type": "stream",
     "text": [
      "100%|██████████████████████████████████████████████████████████████████████████████████████████████████████████████████████████████████████████████████████████████████████████████| 16/16 [00:00<00:00, 82.60it/s]\n"
     ]
    },
    {
     "name": "stdout",
     "output_type": "stream",
     "text": [
      "Activity Training accuracy: 100.0\n",
      "Location Training accuracy: 100.0\n",
      "Activity Training loss: 0.013305309709936085\n",
      "Location Training loss: 0.013327599530762966\n",
      "Activity Test accuracy: 88.54166666666667\n",
      "Location Test accuracy: 95.83333333333333\n",
      "Activity Test loss: 0.41130049029986065\n",
      "Location Test loss: 0.08442493217686813\n",
      "Epoch: 66\n"
     ]
    },
    {
     "name": "stderr",
     "output_type": "stream",
     "text": [
      "100%|██████████████████████████████████████████████████████████████████████████████████████████████████████████████████████████████████████████████████████████████████████████████| 16/16 [00:00<00:00, 83.89it/s]\n"
     ]
    },
    {
     "name": "stdout",
     "output_type": "stream",
     "text": [
      "Activity Training accuracy: 100.0\n",
      "Location Training accuracy: 100.0\n",
      "Activity Training loss: 0.00981928535027079\n",
      "Location Training loss: 0.01562581180345894\n",
      "Activity Test accuracy: 89.58333333333333\n",
      "Location Test accuracy: 96.35416666666667\n",
      "Activity Test loss: 0.409343163172404\n",
      "Location Test loss: 0.07042586306730907\n",
      "Epoch: 67\n"
     ]
    },
    {
     "name": "stderr",
     "output_type": "stream",
     "text": [
      "100%|██████████████████████████████████████████████████████████████████████████████████████████████████████████████████████████████████████████████████████████████████████████████| 16/16 [00:00<00:00, 84.76it/s]\n"
     ]
    },
    {
     "name": "stdout",
     "output_type": "stream",
     "text": [
      "Activity Training accuracy: 100.0\n",
      "Location Training accuracy: 100.0\n",
      "Activity Training loss: 0.009951401937125933\n",
      "Location Training loss: 0.012374757274542705\n",
      "Activity Test accuracy: 89.58333333333333\n",
      "Location Test accuracy: 95.3125\n",
      "Activity Test loss: 0.4098101059595744\n",
      "Location Test loss: 0.08227118228872617\n",
      "Epoch: 68\n"
     ]
    },
    {
     "name": "stderr",
     "output_type": "stream",
     "text": [
      "100%|██████████████████████████████████████████████████████████████████████████████████████████████████████████████████████████████████████████████████████████████████████████████| 16/16 [00:00<00:00, 88.53it/s]\n"
     ]
    },
    {
     "name": "stdout",
     "output_type": "stream",
     "text": [
      "Activity Training accuracy: 100.0\n",
      "Location Training accuracy: 100.0\n",
      "Activity Training loss: 0.009567750769086404\n",
      "Location Training loss: 0.013341737000068816\n",
      "Activity Test accuracy: 89.58333333333333\n",
      "Location Test accuracy: 96.875\n",
      "Activity Test loss: 0.4367993076642354\n",
      "Location Test loss: 0.06934398412704468\n",
      "Epoch: 69\n"
     ]
    },
    {
     "name": "stderr",
     "output_type": "stream",
     "text": [
      "100%|██████████████████████████████████████████████████████████████████████████████████████████████████████████████████████████████████████████████████████████████████████████████| 16/16 [00:00<00:00, 88.35it/s]\n"
     ]
    },
    {
     "name": "stdout",
     "output_type": "stream",
     "text": [
      "Activity Training accuracy: 100.0\n",
      "Location Training accuracy: 100.0\n",
      "Activity Training loss: 0.008452866455115894\n",
      "Location Training loss: 0.009844335323513144\n",
      "Activity Test accuracy: 90.10416666666667\n",
      "Location Test accuracy: 95.83333333333333\n",
      "Activity Test loss: 0.4196700652440389\n",
      "Location Test loss: 0.07333810875813167\n",
      "Epoch: 70\n"
     ]
    },
    {
     "name": "stderr",
     "output_type": "stream",
     "text": [
      "100%|██████████████████████████████████████████████████████████████████████████████████████████████████████████████████████████████████████████████████████████████████████████████| 16/16 [00:00<00:00, 87.54it/s]\n"
     ]
    },
    {
     "name": "stdout",
     "output_type": "stream",
     "text": [
      "Activity Training accuracy: 100.0\n",
      "Location Training accuracy: 100.0\n",
      "Activity Training loss: 0.012190711645796748\n",
      "Location Training loss: 0.013199095177178335\n",
      "Activity Test accuracy: 88.54166666666667\n",
      "Location Test accuracy: 97.39583333333333\n",
      "Activity Test loss: 0.4287710189819336\n",
      "Location Test loss: 0.07347937176624934\n",
      "Epoch: 71\n"
     ]
    },
    {
     "name": "stderr",
     "output_type": "stream",
     "text": [
      "100%|██████████████████████████████████████████████████████████████████████████████████████████████████████████████████████████████████████████████████████████████████████████████| 16/16 [00:00<00:00, 87.82it/s]\n"
     ]
    },
    {
     "name": "stdout",
     "output_type": "stream",
     "text": [
      "Activity Training accuracy: 100.0\n",
      "Location Training accuracy: 100.0\n",
      "Activity Training loss: 0.009337414402772885\n",
      "Location Training loss: 0.010067297193673578\n",
      "Activity Test accuracy: 89.0625\n",
      "Location Test accuracy: 96.35416666666667\n",
      "Activity Test loss: 0.43304092685381573\n",
      "Location Test loss: 0.07392172887921333\n",
      "Epoch: 72\n"
     ]
    },
    {
     "name": "stderr",
     "output_type": "stream",
     "text": [
      "100%|██████████████████████████████████████████████████████████████████████████████████████████████████████████████████████████████████████████████████████████████████████████████| 16/16 [00:00<00:00, 88.30it/s]\n"
     ]
    },
    {
     "name": "stdout",
     "output_type": "stream",
     "text": [
      "Activity Training accuracy: 100.0\n",
      "Location Training accuracy: 100.0\n",
      "Activity Training loss: 0.009338254916785967\n",
      "Location Training loss: 0.01325394605646039\n",
      "Activity Test accuracy: 88.54166666666667\n",
      "Location Test accuracy: 97.39583333333333\n",
      "Activity Test loss: 0.43175633748372394\n",
      "Location Test loss: 0.07310430767635505\n",
      "Epoch: 73\n"
     ]
    },
    {
     "name": "stderr",
     "output_type": "stream",
     "text": [
      "100%|██████████████████████████████████████████████████████████████████████████████████████████████████████████████████████████████████████████████████████████████████████████████| 16/16 [00:00<00:00, 88.89it/s]\n"
     ]
    },
    {
     "name": "stdout",
     "output_type": "stream",
     "text": [
      "Activity Training accuracy: 100.0\n",
      "Location Training accuracy: 100.0\n",
      "Activity Training loss: 0.008594993317481314\n",
      "Location Training loss: 0.010493848096616198\n",
      "Activity Test accuracy: 88.54166666666667\n",
      "Location Test accuracy: 96.35416666666667\n",
      "Activity Test loss: 0.42318127552668255\n",
      "Location Test loss: 0.07123732256392638\n",
      "Epoch: 74\n"
     ]
    },
    {
     "name": "stderr",
     "output_type": "stream",
     "text": [
      "100%|██████████████████████████████████████████████████████████████████████████████████████████████████████████████████████████████████████████████████████████████████████████████| 16/16 [00:00<00:00, 89.09it/s]\n"
     ]
    },
    {
     "name": "stdout",
     "output_type": "stream",
     "text": [
      "Activity Training accuracy: 100.0\n",
      "Location Training accuracy: 100.0\n",
      "Activity Training loss: 0.01855483072819096\n",
      "Location Training loss: 0.017117305586833765\n",
      "Activity Test accuracy: 89.0625\n",
      "Location Test accuracy: 96.35416666666667\n",
      "Activity Test loss: 0.4173852205276489\n",
      "Location Test loss: 0.08587707703312238\n",
      "Epoch: 75\n"
     ]
    },
    {
     "name": "stderr",
     "output_type": "stream",
     "text": [
      "100%|██████████████████████████████████████████████████████████████████████████████████████████████████████████████████████████████████████████████████████████████████████████████| 16/16 [00:00<00:00, 87.28it/s]\n"
     ]
    },
    {
     "name": "stdout",
     "output_type": "stream",
     "text": [
      "Activity Training accuracy: 100.0\n",
      "Location Training accuracy: 100.0\n",
      "Activity Training loss: 0.00961682406982573\n",
      "Location Training loss: 0.009735663190926655\n",
      "Activity Test accuracy: 88.54166666666667\n",
      "Location Test accuracy: 96.875\n",
      "Activity Test loss: 0.41494322816530865\n",
      "Location Test loss: 0.08194983874758084\n",
      "Epoch: 76\n"
     ]
    },
    {
     "name": "stderr",
     "output_type": "stream",
     "text": [
      "100%|██████████████████████████████████████████████████████████████████████████████████████████████████████████████████████████████████████████████████████████████████████████████| 16/16 [00:00<00:00, 88.82it/s]\n"
     ]
    },
    {
     "name": "stdout",
     "output_type": "stream",
     "text": [
      "Activity Training accuracy: 100.0\n",
      "Location Training accuracy: 100.0\n",
      "Activity Training loss: 0.006408037141998215\n",
      "Location Training loss: 0.007532538694910483\n",
      "Activity Test accuracy: 88.02083333333333\n",
      "Location Test accuracy: 95.83333333333333\n",
      "Activity Test loss: 0.4206562340259552\n",
      "Location Test loss: 0.08283055573701859\n",
      "Epoch: 77\n"
     ]
    },
    {
     "name": "stderr",
     "output_type": "stream",
     "text": [
      "100%|██████████████████████████████████████████████████████████████████████████████████████████████████████████████████████████████████████████████████████████████████████████████| 16/16 [00:00<00:00, 88.74it/s]\n"
     ]
    },
    {
     "name": "stdout",
     "output_type": "stream",
     "text": [
      "Activity Training accuracy: 100.0\n",
      "Location Training accuracy: 100.0\n",
      "Activity Training loss: 0.008246651793470477\n",
      "Location Training loss: 0.011450891949162625\n",
      "Activity Test accuracy: 90.10416666666667\n",
      "Location Test accuracy: 95.83333333333333\n",
      "Activity Test loss: 0.40949174761772156\n",
      "Location Test loss: 0.07921805419027805\n",
      "Epoch: 78\n"
     ]
    },
    {
     "name": "stderr",
     "output_type": "stream",
     "text": [
      "100%|██████████████████████████████████████████████████████████████████████████████████████████████████████████████████████████████████████████████████████████████████████████████| 16/16 [00:00<00:00, 88.32it/s]\n"
     ]
    },
    {
     "name": "stdout",
     "output_type": "stream",
     "text": [
      "Activity Training accuracy: 100.0\n",
      "Location Training accuracy: 100.0\n",
      "Activity Training loss: 0.011473532345625434\n",
      "Location Training loss: 0.01452728793172553\n",
      "Activity Test accuracy: 88.54166666666667\n",
      "Location Test accuracy: 97.39583333333333\n",
      "Activity Test loss: 0.4325509270032247\n",
      "Location Test loss: 0.06952112105985482\n",
      "Epoch: 79\n"
     ]
    },
    {
     "name": "stderr",
     "output_type": "stream",
     "text": [
      "100%|██████████████████████████████████████████████████████████████████████████████████████████████████████████████████████████████████████████████████████████████████████████████| 16/16 [00:00<00:00, 88.77it/s]\n"
     ]
    },
    {
     "name": "stdout",
     "output_type": "stream",
     "text": [
      "Activity Training accuracy: 100.0\n",
      "Location Training accuracy: 100.0\n",
      "Activity Training loss: 0.0075811746982064575\n",
      "Location Training loss: 0.008522965382821488\n",
      "Activity Test accuracy: 89.0625\n",
      "Location Test accuracy: 96.35416666666667\n",
      "Activity Test loss: 0.4157986839612325\n",
      "Location Test loss: 0.07219710325201352\n",
      "Epoch: 80\n"
     ]
    },
    {
     "name": "stderr",
     "output_type": "stream",
     "text": [
      "100%|██████████████████████████████████████████████████████████████████████████████████████████████████████████████████████████████████████████████████████████████████████████████| 16/16 [00:00<00:00, 88.93it/s]\n"
     ]
    },
    {
     "name": "stdout",
     "output_type": "stream",
     "text": [
      "Activity Training accuracy: 100.0\n",
      "Location Training accuracy: 100.0\n",
      "Activity Training loss: 0.007025551943495722\n",
      "Location Training loss: 0.010272284707810619\n",
      "Activity Test accuracy: 90.10416666666667\n",
      "Location Test accuracy: 96.35416666666667\n",
      "Activity Test loss: 0.41882456342379254\n",
      "Location Test loss: 0.06619818819065888\n",
      "Epoch: 81\n"
     ]
    },
    {
     "name": "stderr",
     "output_type": "stream",
     "text": [
      "100%|██████████████████████████████████████████████████████████████████████████████████████████████████████████████████████████████████████████████████████████████████████████████| 16/16 [00:00<00:00, 89.23it/s]\n"
     ]
    },
    {
     "name": "stdout",
     "output_type": "stream",
     "text": [
      "Activity Training accuracy: 100.0\n",
      "Location Training accuracy: 100.0\n",
      "Activity Training loss: 0.009623185611597381\n",
      "Location Training loss: 0.010323037221880242\n",
      "Activity Test accuracy: 89.0625\n",
      "Location Test accuracy: 96.875\n",
      "Activity Test loss: 0.41571734348932904\n",
      "Location Test loss: 0.06570336098472278\n",
      "Epoch: 82\n"
     ]
    },
    {
     "name": "stderr",
     "output_type": "stream",
     "text": [
      "100%|██████████████████████████████████████████████████████████████████████████████████████████████████████████████████████████████████████████████████████████████████████████████| 16/16 [00:00<00:00, 89.17it/s]\n"
     ]
    },
    {
     "name": "stdout",
     "output_type": "stream",
     "text": [
      "Activity Training accuracy: 100.0\n",
      "Location Training accuracy: 100.0\n",
      "Activity Training loss: 0.008663367443155535\n",
      "Location Training loss: 0.00943912820945872\n",
      "Activity Test accuracy: 89.0625\n",
      "Location Test accuracy: 97.39583333333333\n",
      "Activity Test loss: 0.4147874216238658\n",
      "Location Test loss: 0.06761204016705354\n",
      "Epoch: 83\n"
     ]
    },
    {
     "name": "stderr",
     "output_type": "stream",
     "text": [
      "100%|██████████████████████████████████████████████████████████████████████████████████████████████████████████████████████████████████████████████████████████████████████████████| 16/16 [00:00<00:00, 88.97it/s]\n"
     ]
    },
    {
     "name": "stdout",
     "output_type": "stream",
     "text": [
      "Activity Training accuracy: 100.0\n",
      "Location Training accuracy: 100.0\n",
      "Activity Training loss: 0.008560310377933011\n",
      "Location Training loss: 0.017148673578654187\n",
      "Activity Test accuracy: 90.10416666666667\n",
      "Location Test accuracy: 97.39583333333333\n",
      "Activity Test loss: 0.41942548751831055\n",
      "Location Test loss: 0.0645773330082496\n",
      "Epoch: 84\n"
     ]
    },
    {
     "name": "stderr",
     "output_type": "stream",
     "text": [
      "100%|██████████████████████████████████████████████████████████████████████████████████████████████████████████████████████████████████████████████████████████████████████████████| 16/16 [00:00<00:00, 88.74it/s]\n"
     ]
    },
    {
     "name": "stdout",
     "output_type": "stream",
     "text": [
      "Activity Training accuracy: 100.0\n",
      "Location Training accuracy: 100.0\n",
      "Activity Training loss: 0.006200740242948626\n",
      "Location Training loss: 0.008075259684926213\n",
      "Activity Test accuracy: 89.58333333333333\n",
      "Location Test accuracy: 97.39583333333333\n",
      "Activity Test loss: 0.41110490759213764\n",
      "Location Test loss: 0.06788367840150993\n",
      "Epoch: 85\n"
     ]
    },
    {
     "name": "stderr",
     "output_type": "stream",
     "text": [
      "100%|██████████████████████████████████████████████████████████████████████████████████████████████████████████████████████████████████████████████████████████████████████████████| 16/16 [00:00<00:00, 88.99it/s]\n"
     ]
    },
    {
     "name": "stdout",
     "output_type": "stream",
     "text": [
      "Activity Training accuracy: 100.0\n",
      "Location Training accuracy: 100.0\n",
      "Activity Training loss: 0.008132981147506449\n",
      "Location Training loss: 0.01087209819862158\n",
      "Activity Test accuracy: 89.0625\n",
      "Location Test accuracy: 95.83333333333333\n",
      "Activity Test loss: 0.41106440623601276\n",
      "Location Test loss: 0.07334055689473946\n",
      "Epoch: 86\n"
     ]
    },
    {
     "name": "stderr",
     "output_type": "stream",
     "text": [
      "100%|██████████████████████████████████████████████████████████████████████████████████████████████████████████████████████████████████████████████████████████████████████████████| 16/16 [00:00<00:00, 88.91it/s]\n"
     ]
    },
    {
     "name": "stdout",
     "output_type": "stream",
     "text": [
      "Activity Training accuracy: 100.0\n",
      "Location Training accuracy: 100.0\n",
      "Activity Training loss: 0.007496440558150263\n",
      "Location Training loss: 0.009248590425099477\n",
      "Activity Test accuracy: 89.58333333333333\n",
      "Location Test accuracy: 95.83333333333333\n",
      "Activity Test loss: 0.41770416498184204\n",
      "Location Test loss: 0.07209570830066998\n",
      "Epoch: 87\n"
     ]
    },
    {
     "name": "stderr",
     "output_type": "stream",
     "text": [
      "100%|██████████████████████████████████████████████████████████████████████████████████████████████████████████████████████████████████████████████████████████████████████████████| 16/16 [00:00<00:00, 88.56it/s]\n"
     ]
    },
    {
     "name": "stdout",
     "output_type": "stream",
     "text": [
      "Activity Training accuracy: 100.0\n",
      "Location Training accuracy: 100.0\n",
      "Activity Training loss: 0.0071221697743576355\n",
      "Location Training loss: 0.0067824363265887345\n",
      "Activity Test accuracy: 89.0625\n",
      "Location Test accuracy: 96.35416666666667\n",
      "Activity Test loss: 0.42029593388239544\n",
      "Location Test loss: 0.07179097396632035\n",
      "Epoch: 88\n"
     ]
    },
    {
     "name": "stderr",
     "output_type": "stream",
     "text": [
      "100%|██████████████████████████████████████████████████████████████████████████████████████████████████████████████████████████████████████████████████████████████████████████████| 16/16 [00:00<00:00, 86.48it/s]\n"
     ]
    },
    {
     "name": "stdout",
     "output_type": "stream",
     "text": [
      "Activity Training accuracy: 100.0\n",
      "Location Training accuracy: 100.0\n",
      "Activity Training loss: 0.009956728039991737\n",
      "Location Training loss: 0.010700813186640786\n",
      "Activity Test accuracy: 90.10416666666667\n",
      "Location Test accuracy: 96.875\n",
      "Activity Test loss: 0.4165389637152354\n",
      "Location Test loss: 0.06808906358977158\n",
      "Epoch: 89\n"
     ]
    },
    {
     "name": "stderr",
     "output_type": "stream",
     "text": [
      "100%|██████████████████████████████████████████████████████████████████████████████████████████████████████████████████████████████████████████████████████████████████████████████| 16/16 [00:00<00:00, 86.95it/s]\n"
     ]
    },
    {
     "name": "stdout",
     "output_type": "stream",
     "text": [
      "Activity Training accuracy: 100.0\n",
      "Location Training accuracy: 100.0\n",
      "Activity Training loss: 0.011020715283875418\n",
      "Location Training loss: 0.014416014351467095\n",
      "Activity Test accuracy: 89.58333333333333\n",
      "Location Test accuracy: 96.35416666666667\n",
      "Activity Test loss: 0.4256009856859843\n",
      "Location Test loss: 0.06722570645312469\n",
      "Epoch: 90\n"
     ]
    },
    {
     "name": "stderr",
     "output_type": "stream",
     "text": [
      "100%|██████████████████████████████████████████████████████████████████████████████████████████████████████████████████████████████████████████████████████████████████████████████| 16/16 [00:00<00:00, 86.96it/s]\n"
     ]
    },
    {
     "name": "stdout",
     "output_type": "stream",
     "text": [
      "Activity Training accuracy: 100.0\n",
      "Location Training accuracy: 100.0\n",
      "Activity Training loss: 0.007089930713766872\n",
      "Location Training loss: 0.0082538902759552\n",
      "Activity Test accuracy: 90.10416666666667\n",
      "Location Test accuracy: 97.39583333333333\n",
      "Activity Test loss: 0.4167996843655904\n",
      "Location Test loss: 0.06665369619925816\n",
      "Epoch: 91\n"
     ]
    },
    {
     "name": "stderr",
     "output_type": "stream",
     "text": [
      "100%|██████████████████████████████████████████████████████████████████████████████████████████████████████████████████████████████████████████████████████████████████████████████| 16/16 [00:00<00:00, 86.98it/s]\n"
     ]
    },
    {
     "name": "stdout",
     "output_type": "stream",
     "text": [
      "Activity Training accuracy: 100.0\n",
      "Location Training accuracy: 100.0\n",
      "Activity Training loss: 0.007075960019437394\n",
      "Location Training loss: 0.010250876298045167\n",
      "Activity Test accuracy: 88.54166666666667\n",
      "Location Test accuracy: 96.875\n",
      "Activity Test loss: 0.4208594560623169\n",
      "Location Test loss: 0.06890012385944526\n",
      "Epoch: 92\n"
     ]
    },
    {
     "name": "stderr",
     "output_type": "stream",
     "text": [
      "100%|██████████████████████████████████████████████████████████████████████████████████████████████████████████████████████████████████████████████████████████████████████████████| 16/16 [00:00<00:00, 87.11it/s]\n"
     ]
    },
    {
     "name": "stdout",
     "output_type": "stream",
     "text": [
      "Activity Training accuracy: 100.0\n",
      "Location Training accuracy: 100.0\n",
      "Activity Training loss: 0.007656913862960173\n",
      "Location Training loss: 0.011257525481800042\n",
      "Activity Test accuracy: 89.0625\n",
      "Location Test accuracy: 95.83333333333333\n",
      "Activity Test loss: 0.420021116733551\n",
      "Location Test loss: 0.07053173954288165\n",
      "Epoch: 93\n"
     ]
    },
    {
     "name": "stderr",
     "output_type": "stream",
     "text": [
      "100%|██████████████████████████████████████████████████████████████████████████████████████████████████████████████████████████████████████████████████████████████████████████████| 16/16 [00:00<00:00, 87.24it/s]\n"
     ]
    },
    {
     "name": "stdout",
     "output_type": "stream",
     "text": [
      "Activity Training accuracy: 100.0\n",
      "Location Training accuracy: 100.0\n",
      "Activity Training loss: 0.010199544925500851\n",
      "Location Training loss: 0.014971194305632374\n",
      "Activity Test accuracy: 88.54166666666667\n",
      "Location Test accuracy: 96.35416666666667\n",
      "Activity Test loss: 0.41937389969825745\n",
      "Location Test loss: 0.067182881757617\n",
      "Epoch: 94\n"
     ]
    },
    {
     "name": "stderr",
     "output_type": "stream",
     "text": [
      "100%|██████████████████████████████████████████████████████████████████████████████████████████████████████████████████████████████████████████████████████████████████████████████| 16/16 [00:00<00:00, 86.50it/s]\n"
     ]
    },
    {
     "name": "stdout",
     "output_type": "stream",
     "text": [
      "Activity Training accuracy: 100.0\n",
      "Location Training accuracy: 100.0\n",
      "Activity Training loss: 0.007445385963609903\n",
      "Location Training loss: 0.010999922557632522\n",
      "Activity Test accuracy: 90.10416666666667\n",
      "Location Test accuracy: 96.875\n",
      "Activity Test loss: 0.4235268433888753\n",
      "Location Test loss: 0.06448846434553464\n",
      "Epoch: 95\n"
     ]
    },
    {
     "name": "stderr",
     "output_type": "stream",
     "text": [
      "100%|██████████████████████████████████████████████████████████████████████████████████████████████████████████████████████████████████████████████████████████████████████████████| 16/16 [00:00<00:00, 86.90it/s]\n"
     ]
    },
    {
     "name": "stdout",
     "output_type": "stream",
     "text": [
      "Activity Training accuracy: 100.0\n",
      "Location Training accuracy: 100.0\n",
      "Activity Training loss: 0.0064437254230574805\n",
      "Location Training loss: 0.007466650171445148\n",
      "Activity Test accuracy: 88.54166666666667\n",
      "Location Test accuracy: 97.39583333333333\n",
      "Activity Test loss: 0.4179773728052775\n",
      "Location Test loss: 0.06615833565592766\n",
      "Epoch: 96\n"
     ]
    },
    {
     "name": "stderr",
     "output_type": "stream",
     "text": [
      "100%|██████████████████████████████████████████████████████████████████████████████████████████████████████████████████████████████████████████████████████████████████████████████| 16/16 [00:00<00:00, 81.93it/s]\n"
     ]
    },
    {
     "name": "stdout",
     "output_type": "stream",
     "text": [
      "Activity Training accuracy: 100.0\n",
      "Location Training accuracy: 100.0\n",
      "Activity Training loss: 0.006541309586846002\n",
      "Location Training loss: 0.010096180202937363\n",
      "Activity Test accuracy: 88.54166666666667\n",
      "Location Test accuracy: 97.91666666666667\n",
      "Activity Test loss: 0.41418546438217163\n",
      "Location Test loss: 0.06679110353191693\n",
      "Epoch: 97\n"
     ]
    },
    {
     "name": "stderr",
     "output_type": "stream",
     "text": [
      "100%|██████████████████████████████████████████████████████████████████████████████████████████████████████████████████████████████████████████████████████████████████████████████| 16/16 [00:00<00:00, 84.88it/s]\n"
     ]
    },
    {
     "name": "stdout",
     "output_type": "stream",
     "text": [
      "Activity Training accuracy: 100.0\n",
      "Location Training accuracy: 100.0\n",
      "Activity Training loss: 0.005476870350908525\n",
      "Location Training loss: 0.006034261076757223\n",
      "Activity Test accuracy: 89.0625\n",
      "Location Test accuracy: 97.91666666666667\n",
      "Activity Test loss: 0.41317057609558105\n",
      "Location Test loss: 0.0654775978376468\n",
      "Epoch: 98\n"
     ]
    },
    {
     "name": "stderr",
     "output_type": "stream",
     "text": [
      "100%|██████████████████████████████████████████████████████████████████████████████████████████████████████████████████████████████████████████████████████████████████████████████| 16/16 [00:00<00:00, 85.14it/s]\n"
     ]
    },
    {
     "name": "stdout",
     "output_type": "stream",
     "text": [
      "Activity Training accuracy: 100.0\n",
      "Location Training accuracy: 100.0\n",
      "Activity Training loss: 0.00836073635238232\n",
      "Location Training loss: 0.011375161002178003\n",
      "Activity Test accuracy: 89.58333333333333\n",
      "Location Test accuracy: 97.39583333333333\n",
      "Activity Test loss: 0.4195173978805542\n",
      "Location Test loss: 0.06407632616659005\n",
      "Epoch: 99\n"
     ]
    },
    {
     "name": "stderr",
     "output_type": "stream",
     "text": [
      "100%|██████████████████████████████████████████████████████████████████████████████████████████████████████████████████████████████████████████████████████████████████████████████| 16/16 [00:00<00:00, 85.03it/s]\n"
     ]
    },
    {
     "name": "stdout",
     "output_type": "stream",
     "text": [
      "Activity Training accuracy: 100.0\n",
      "Location Training accuracy: 100.0\n",
      "Activity Training loss: 0.006687944434066811\n",
      "Location Training loss: 0.007934338842878247\n",
      "Activity Test accuracy: 88.02083333333333\n",
      "Location Test accuracy: 96.35416666666667\n",
      "Activity Test loss: 0.41616565982500714\n",
      "Location Test loss: 0.06438432695964973\n",
      "Epoch: 100\n"
     ]
    },
    {
     "name": "stderr",
     "output_type": "stream",
     "text": [
      "100%|██████████████████████████████████████████████████████████████████████████████████████████████████████████████████████████████████████████████████████████████████████████████| 16/16 [00:00<00:00, 81.97it/s]\n"
     ]
    },
    {
     "name": "stdout",
     "output_type": "stream",
     "text": [
      "Activity Training accuracy: 100.0\n",
      "Location Training accuracy: 100.0\n",
      "Activity Training loss: 0.006508794087584656\n",
      "Location Training loss: 0.009746962579170076\n",
      "Activity Test accuracy: 89.58333333333333\n",
      "Location Test accuracy: 96.35416666666667\n",
      "Activity Test loss: 0.4153722922007243\n",
      "Location Test loss: 0.0671222172677517\n",
      "Epoch: 101\n"
     ]
    },
    {
     "name": "stderr",
     "output_type": "stream",
     "text": [
      "100%|██████████████████████████████████████████████████████████████████████████████████████████████████████████████████████████████████████████████████████████████████████████████| 16/16 [00:00<00:00, 86.60it/s]\n"
     ]
    },
    {
     "name": "stdout",
     "output_type": "stream",
     "text": [
      "Activity Training accuracy: 100.0\n",
      "Location Training accuracy: 100.0\n",
      "Activity Training loss: 0.008104748064928715\n",
      "Location Training loss: 0.012401965422795551\n",
      "Activity Test accuracy: 88.54166666666667\n",
      "Location Test accuracy: 96.875\n",
      "Activity Test loss: 0.41764824589093524\n",
      "Location Test loss: 0.06431017443537712\n",
      "Epoch: 102\n"
     ]
    },
    {
     "name": "stderr",
     "output_type": "stream",
     "text": [
      "100%|██████████████████████████████████████████████████████████████████████████████████████████████████████████████████████████████████████████████████████████████████████████████| 16/16 [00:00<00:00, 85.39it/s]\n"
     ]
    },
    {
     "name": "stdout",
     "output_type": "stream",
     "text": [
      "Activity Training accuracy: 100.0\n",
      "Location Training accuracy: 100.0\n",
      "Activity Training loss: 0.007250154756083347\n",
      "Location Training loss: 0.012116492502760179\n",
      "Activity Test accuracy: 88.54166666666667\n",
      "Location Test accuracy: 96.35416666666667\n",
      "Activity Test loss: 0.4170943001906077\n",
      "Location Test loss: 0.06594163117309411\n",
      "Epoch: 103\n"
     ]
    },
    {
     "name": "stderr",
     "output_type": "stream",
     "text": [
      "100%|██████████████████████████████████████████████████████████████████████████████████████████████████████████████████████████████████████████████████████████████████████████████| 16/16 [00:00<00:00, 82.98it/s]\n"
     ]
    },
    {
     "name": "stdout",
     "output_type": "stream",
     "text": [
      "Activity Training accuracy: 100.0\n",
      "Location Training accuracy: 100.0\n",
      "Activity Training loss: 0.006986242695019977\n",
      "Location Training loss: 0.010208808785617942\n",
      "Activity Test accuracy: 89.58333333333333\n",
      "Location Test accuracy: 97.39583333333333\n",
      "Activity Test loss: 0.4158874849478404\n",
      "Location Test loss: 0.06407437038918336\n",
      "Epoch: 104\n"
     ]
    },
    {
     "name": "stderr",
     "output_type": "stream",
     "text": [
      "100%|██████████████████████████████████████████████████████████████████████████████████████████████████████████████████████████████████████████████████████████████████████████████| 16/16 [00:00<00:00, 81.95it/s]\n"
     ]
    },
    {
     "name": "stdout",
     "output_type": "stream",
     "text": [
      "Activity Training accuracy: 100.0\n",
      "Location Training accuracy: 100.0\n",
      "Activity Training loss: 0.008075570824122665\n",
      "Location Training loss: 0.011096350833921149\n",
      "Activity Test accuracy: 88.54166666666667\n",
      "Location Test accuracy: 96.35416666666667\n",
      "Activity Test loss: 0.41501015424728394\n",
      "Location Test loss: 0.066497137149175\n",
      "Epoch: 105\n"
     ]
    },
    {
     "name": "stderr",
     "output_type": "stream",
     "text": [
      "100%|██████████████████████████████████████████████████████████████████████████████████████████████████████████████████████████████████████████████████████████████████████████████| 16/16 [00:00<00:00, 85.07it/s]\n"
     ]
    },
    {
     "name": "stdout",
     "output_type": "stream",
     "text": [
      "Activity Training accuracy: 100.0\n",
      "Location Training accuracy: 100.0\n",
      "Activity Training loss: 0.008475125160547766\n",
      "Location Training loss: 0.010926308814841922\n",
      "Activity Test accuracy: 89.0625\n",
      "Location Test accuracy: 96.875\n",
      "Activity Test loss: 0.413838654756546\n",
      "Location Test loss: 0.06625029382606347\n",
      "Epoch: 106\n"
     ]
    },
    {
     "name": "stderr",
     "output_type": "stream",
     "text": [
      "100%|██████████████████████████████████████████████████████████████████████████████████████████████████████████████████████████████████████████████████████████████████████████████| 16/16 [00:00<00:00, 87.34it/s]\n"
     ]
    },
    {
     "name": "stdout",
     "output_type": "stream",
     "text": [
      "Activity Training accuracy: 100.0\n",
      "Location Training accuracy: 100.0\n",
      "Activity Training loss: 0.007672690032142224\n",
      "Location Training loss: 0.009825581990846313\n",
      "Activity Test accuracy: 89.58333333333333\n",
      "Location Test accuracy: 96.875\n",
      "Activity Test loss: 0.4098058044910431\n",
      "Location Test loss: 0.06574386854966481\n",
      "Epoch: 107\n"
     ]
    },
    {
     "name": "stderr",
     "output_type": "stream",
     "text": [
      "100%|██████████████████████████████████████████████████████████████████████████████████████████████████████████████████████████████████████████████████████████████████████████████| 16/16 [00:00<00:00, 88.22it/s]\n"
     ]
    },
    {
     "name": "stdout",
     "output_type": "stream",
     "text": [
      "Activity Training accuracy: 100.0\n",
      "Location Training accuracy: 100.0\n",
      "Activity Training loss: 0.007071362303035094\n",
      "Location Training loss: 0.008297832546257737\n",
      "Activity Test accuracy: 89.58333333333333\n",
      "Location Test accuracy: 96.875\n",
      "Activity Test loss: 0.41780046621958417\n",
      "Location Test loss: 0.06622631661593914\n",
      "Epoch: 108\n"
     ]
    },
    {
     "name": "stderr",
     "output_type": "stream",
     "text": [
      "100%|██████████████████████████████████████████████████████████████████████████████████████████████████████████████████████████████████████████████████████████████████████████████| 16/16 [00:00<00:00, 88.97it/s]\n"
     ]
    },
    {
     "name": "stdout",
     "output_type": "stream",
     "text": [
      "Activity Training accuracy: 100.0\n",
      "Location Training accuracy: 100.0\n",
      "Activity Training loss: 0.008543568598751975\n",
      "Location Training loss: 0.008197506140954424\n",
      "Activity Test accuracy: 88.54166666666667\n",
      "Location Test accuracy: 96.875\n",
      "Activity Test loss: 0.4200440247853597\n",
      "Location Test loss: 0.06629393125573795\n",
      "Epoch: 109\n"
     ]
    },
    {
     "name": "stderr",
     "output_type": "stream",
     "text": [
      "100%|██████████████████████████████████████████████████████████████████████████████████████████████████████████████████████████████████████████████████████████████████████████████| 16/16 [00:00<00:00, 88.94it/s]\n"
     ]
    },
    {
     "name": "stdout",
     "output_type": "stream",
     "text": [
      "Activity Training accuracy: 100.0\n",
      "Location Training accuracy: 100.0\n",
      "Activity Training loss: 0.008603852072564682\n",
      "Location Training loss: 0.009105260050532842\n",
      "Activity Test accuracy: 88.54166666666667\n",
      "Location Test accuracy: 97.39583333333333\n",
      "Activity Test loss: 0.41761868198712665\n",
      "Location Test loss: 0.06551170721650124\n",
      "Epoch: 110\n"
     ]
    },
    {
     "name": "stderr",
     "output_type": "stream",
     "text": [
      "100%|██████████████████████████████████████████████████████████████████████████████████████████████████████████████████████████████████████████████████████████████████████████████| 16/16 [00:00<00:00, 88.89it/s]\n"
     ]
    },
    {
     "name": "stdout",
     "output_type": "stream",
     "text": [
      "Activity Training accuracy: 100.0\n",
      "Location Training accuracy: 100.0\n",
      "Activity Training loss: 0.0074982649619036385\n",
      "Location Training loss: 0.00864444745354133\n",
      "Activity Test accuracy: 89.0625\n",
      "Location Test accuracy: 96.35416666666667\n",
      "Activity Test loss: 0.41198872526486713\n",
      "Location Test loss: 0.06922504616280396\n",
      "Epoch: 111\n"
     ]
    },
    {
     "name": "stderr",
     "output_type": "stream",
     "text": [
      "100%|██████████████████████████████████████████████████████████████████████████████████████████████████████████████████████████████████████████████████████████████████████████████| 16/16 [00:00<00:00, 89.01it/s]\n"
     ]
    },
    {
     "name": "stdout",
     "output_type": "stream",
     "text": [
      "Activity Training accuracy: 100.0\n",
      "Location Training accuracy: 100.0\n",
      "Activity Training loss: 0.005961984735314209\n",
      "Location Training loss: 0.0069097235946372\n",
      "Activity Test accuracy: 89.0625\n",
      "Location Test accuracy: 96.35416666666667\n",
      "Activity Test loss: 0.4173961778481801\n",
      "Location Test loss: 0.0675067522873481\n",
      "Epoch: 112\n"
     ]
    },
    {
     "name": "stderr",
     "output_type": "stream",
     "text": [
      "100%|██████████████████████████████████████████████████████████████████████████████████████████████████████████████████████████████████████████████████████████████████████████████| 16/16 [00:00<00:00, 88.79it/s]\n"
     ]
    },
    {
     "name": "stdout",
     "output_type": "stream",
     "text": [
      "Activity Training accuracy: 100.0\n",
      "Location Training accuracy: 100.0\n",
      "Activity Training loss: 0.00805319612569148\n",
      "Location Training loss: 0.009023931519229813\n",
      "Activity Test accuracy: 88.54166666666667\n",
      "Location Test accuracy: 96.35416666666667\n",
      "Activity Test loss: 0.4262224833170573\n",
      "Location Test loss: 0.06559188105165958\n",
      "Epoch: 113\n"
     ]
    },
    {
     "name": "stderr",
     "output_type": "stream",
     "text": [
      "100%|██████████████████████████████████████████████████████████████████████████████████████████████████████████████████████████████████████████████████████████████████████████████| 16/16 [00:00<00:00, 87.67it/s]\n"
     ]
    },
    {
     "name": "stdout",
     "output_type": "stream",
     "text": [
      "Activity Training accuracy: 100.0\n",
      "Location Training accuracy: 100.0\n",
      "Activity Training loss: 0.010156736663072416\n",
      "Location Training loss: 0.011785414106775038\n",
      "Activity Test accuracy: 89.0625\n",
      "Location Test accuracy: 97.39583333333333\n",
      "Activity Test loss: 0.41934268673261005\n",
      "Location Test loss: 0.06535149055222671\n",
      "Epoch: 114\n"
     ]
    },
    {
     "name": "stderr",
     "output_type": "stream",
     "text": [
      "100%|██████████████████████████████████████████████████████████████████████████████████████████████████████████████████████████████████████████████████████████████████████████████| 16/16 [00:00<00:00, 88.45it/s]\n"
     ]
    },
    {
     "name": "stdout",
     "output_type": "stream",
     "text": [
      "Activity Training accuracy: 100.0\n",
      "Location Training accuracy: 100.0\n",
      "Activity Training loss: 0.015623106962383384\n",
      "Location Training loss: 0.0128030592999836\n",
      "Activity Test accuracy: 87.5\n",
      "Location Test accuracy: 97.39583333333333\n",
      "Activity Test loss: 0.4225880304972331\n",
      "Location Test loss: 0.06680310207108657\n",
      "Epoch: 115\n"
     ]
    },
    {
     "name": "stderr",
     "output_type": "stream",
     "text": [
      "100%|██████████████████████████████████████████████████████████████████████████████████████████████████████████████████████████████████████████████████████████████████████████████| 16/16 [00:00<00:00, 87.91it/s]\n"
     ]
    },
    {
     "name": "stdout",
     "output_type": "stream",
     "text": [
      "Activity Training accuracy: 100.0\n",
      "Location Training accuracy: 100.0\n",
      "Activity Training loss: 0.010685782311576427\n",
      "Location Training loss: 0.009989301122651242\n",
      "Activity Test accuracy: 88.54166666666667\n",
      "Location Test accuracy: 97.39583333333333\n",
      "Activity Test loss: 0.42057130734125775\n",
      "Location Test loss: 0.06362619375189145\n",
      "Epoch: 116\n"
     ]
    },
    {
     "name": "stderr",
     "output_type": "stream",
     "text": [
      "100%|██████████████████████████████████████████████████████████████████████████████████████████████████████████████████████████████████████████████████████████████████████████████| 16/16 [00:00<00:00, 88.88it/s]\n"
     ]
    },
    {
     "name": "stdout",
     "output_type": "stream",
     "text": [
      "Activity Training accuracy: 100.0\n",
      "Location Training accuracy: 100.0\n",
      "Activity Training loss: 0.006089984987041738\n",
      "Location Training loss: 0.0068568120055859634\n",
      "Activity Test accuracy: 88.54166666666667\n",
      "Location Test accuracy: 96.875\n",
      "Activity Test loss: 0.4135243097941081\n",
      "Location Test loss: 0.06500428107877572\n",
      "Epoch: 117\n"
     ]
    },
    {
     "name": "stderr",
     "output_type": "stream",
     "text": [
      "100%|██████████████████████████████████████████████████████████████████████████████████████████████████████████████████████████████████████████████████████████████████████████████| 16/16 [00:00<00:00, 88.41it/s]\n"
     ]
    },
    {
     "name": "stdout",
     "output_type": "stream",
     "text": [
      "Activity Training accuracy: 100.0\n",
      "Location Training accuracy: 100.0\n",
      "Activity Training loss: 0.007107509466091005\n",
      "Location Training loss: 0.00822164495982746\n",
      "Activity Test accuracy: 88.54166666666667\n",
      "Location Test accuracy: 96.35416666666667\n",
      "Activity Test loss: 0.4139549235502879\n",
      "Location Test loss: 0.06865708467861016\n",
      "Epoch: 118\n"
     ]
    },
    {
     "name": "stderr",
     "output_type": "stream",
     "text": [
      "100%|██████████████████████████████████████████████████████████████████████████████████████████████████████████████████████████████████████████████████████████████████████████████| 16/16 [00:00<00:00, 87.51it/s]\n"
     ]
    },
    {
     "name": "stdout",
     "output_type": "stream",
     "text": [
      "Activity Training accuracy: 100.0\n",
      "Location Training accuracy: 100.0\n",
      "Activity Training loss: 0.009551463755640654\n",
      "Location Training loss: 0.012684968925348603\n",
      "Activity Test accuracy: 89.0625\n",
      "Location Test accuracy: 96.875\n",
      "Activity Test loss: 0.4110190471013387\n",
      "Location Test loss: 0.06393275285760562\n",
      "Epoch: 119\n"
     ]
    },
    {
     "name": "stderr",
     "output_type": "stream",
     "text": [
      "100%|██████████████████████████████████████████████████████████████████████████████████████████████████████████████████████████████████████████████████████████████████████████████| 16/16 [00:00<00:00, 87.66it/s]\n"
     ]
    },
    {
     "name": "stdout",
     "output_type": "stream",
     "text": [
      "Activity Training accuracy: 100.0\n",
      "Location Training accuracy: 100.0\n",
      "Activity Training loss: 0.00901209424332817\n",
      "Location Training loss: 0.01712794817320191\n",
      "Activity Test accuracy: 88.54166666666667\n",
      "Location Test accuracy: 96.35416666666667\n",
      "Activity Test loss: 0.41489967703819275\n",
      "Location Test loss: 0.06636802231272061\n",
      "Epoch: 120\n"
     ]
    },
    {
     "name": "stderr",
     "output_type": "stream",
     "text": [
      "100%|██████████████████████████████████████████████████████████████████████████████████████████████████████████████████████████████████████████████████████████████████████████████| 16/16 [00:00<00:00, 88.32it/s]\n"
     ]
    },
    {
     "name": "stdout",
     "output_type": "stream",
     "text": [
      "Activity Training accuracy: 100.0\n",
      "Location Training accuracy: 100.0\n",
      "Activity Training loss: 0.007607465820147259\n",
      "Location Training loss: 0.007832089184534432\n",
      "Activity Test accuracy: 90.10416666666667\n",
      "Location Test accuracy: 97.39583333333333\n",
      "Activity Test loss: 0.4138368268807729\n",
      "Location Test loss: 0.06577721796929836\n",
      "Epoch: 121\n"
     ]
    },
    {
     "name": "stderr",
     "output_type": "stream",
     "text": [
      "100%|██████████████████████████████████████████████████████████████████████████████████████████████████████████████████████████████████████████████████████████████████████████████| 16/16 [00:00<00:00, 88.89it/s]\n"
     ]
    },
    {
     "name": "stdout",
     "output_type": "stream",
     "text": [
      "Activity Training accuracy: 100.0\n",
      "Location Training accuracy: 100.0\n",
      "Activity Training loss: 0.008460567714554248\n",
      "Location Training loss: 0.010642180304125984\n",
      "Activity Test accuracy: 89.0625\n",
      "Location Test accuracy: 95.83333333333333\n",
      "Activity Test loss: 0.41383930047353107\n",
      "Location Test loss: 0.06995736000438531\n",
      "Epoch: 122\n"
     ]
    },
    {
     "name": "stderr",
     "output_type": "stream",
     "text": [
      "100%|██████████████████████████████████████████████████████████████████████████████████████████████████████████████████████████████████████████████████████████████████████████████| 16/16 [00:00<00:00, 88.86it/s]\n"
     ]
    },
    {
     "name": "stdout",
     "output_type": "stream",
     "text": [
      "Activity Training accuracy: 100.0\n",
      "Location Training accuracy: 100.0\n",
      "Activity Training loss: 0.006616162265291308\n",
      "Location Training loss: 0.007794804605517057\n",
      "Activity Test accuracy: 88.54166666666667\n",
      "Location Test accuracy: 95.83333333333333\n",
      "Activity Test loss: 0.4168509542942047\n",
      "Location Test loss: 0.07015943775574367\n",
      "Epoch: 123\n"
     ]
    },
    {
     "name": "stderr",
     "output_type": "stream",
     "text": [
      "100%|██████████████████████████████████████████████████████████████████████████████████████████████████████████████████████████████████████████████████████████████████████████████| 16/16 [00:00<00:00, 88.63it/s]\n"
     ]
    },
    {
     "name": "stdout",
     "output_type": "stream",
     "text": [
      "Activity Training accuracy: 100.0\n",
      "Location Training accuracy: 100.0\n",
      "Activity Training loss: 0.0056272030171781486\n",
      "Location Training loss: 0.0076692942050423955\n",
      "Activity Test accuracy: 88.54166666666667\n",
      "Location Test accuracy: 95.83333333333333\n",
      "Activity Test loss: 0.4178643027941386\n",
      "Location Test loss: 0.07032398631175359\n",
      "Epoch: 124\n"
     ]
    },
    {
     "name": "stderr",
     "output_type": "stream",
     "text": [
      "100%|██████████████████████████████████████████████████████████████████████████████████████████████████████████████████████████████████████████████████████████████████████████████| 16/16 [00:00<00:00, 88.61it/s]\n"
     ]
    },
    {
     "name": "stdout",
     "output_type": "stream",
     "text": [
      "Activity Training accuracy: 100.0\n",
      "Location Training accuracy: 100.0\n",
      "Activity Training loss: 0.006315359974851702\n",
      "Location Training loss: 0.006883848347876332\n",
      "Activity Test accuracy: 89.0625\n",
      "Location Test accuracy: 96.35416666666667\n",
      "Activity Test loss: 0.41354159514109295\n",
      "Location Test loss: 0.06689148458341758\n",
      "Epoch: 125\n"
     ]
    },
    {
     "name": "stderr",
     "output_type": "stream",
     "text": [
      "100%|██████████████████████████████████████████████████████████████████████████████████████████████████████████████████████████████████████████████████████████████████████████████| 16/16 [00:00<00:00, 88.59it/s]\n"
     ]
    },
    {
     "name": "stdout",
     "output_type": "stream",
     "text": [
      "Activity Training accuracy: 100.0\n",
      "Location Training accuracy: 100.0\n",
      "Activity Training loss: 0.00844284082108205\n",
      "Location Training loss: 0.010399270633069595\n",
      "Activity Test accuracy: 88.54166666666667\n",
      "Location Test accuracy: 96.35416666666667\n",
      "Activity Test loss: 0.4176996350288391\n",
      "Location Test loss: 0.06796130289634068\n",
      "Epoch: 126\n"
     ]
    },
    {
     "name": "stderr",
     "output_type": "stream",
     "text": [
      "100%|██████████████████████████████████████████████████████████████████████████████████████████████████████████████████████████████████████████████████████████████████████████████| 16/16 [00:00<00:00, 88.09it/s]\n"
     ]
    },
    {
     "name": "stdout",
     "output_type": "stream",
     "text": [
      "Activity Training accuracy: 100.0\n",
      "Location Training accuracy: 100.0\n",
      "Activity Training loss: 0.006322181106793999\n",
      "Location Training loss: 0.007931253476308124\n",
      "Activity Test accuracy: 89.0625\n",
      "Location Test accuracy: 96.35416666666667\n",
      "Activity Test loss: 0.41629382967948914\n",
      "Location Test loss: 0.06769011728465557\n",
      "Epoch: 127\n"
     ]
    },
    {
     "name": "stderr",
     "output_type": "stream",
     "text": [
      "100%|██████████████████████████████████████████████████████████████████████████████████████████████████████████████████████████████████████████████████████████████████████████████| 16/16 [00:00<00:00, 88.88it/s]\n"
     ]
    },
    {
     "name": "stdout",
     "output_type": "stream",
     "text": [
      "Activity Training accuracy: 100.0\n",
      "Location Training accuracy: 100.0\n",
      "Activity Training loss: 0.005641899589854892\n",
      "Location Training loss: 0.0055383971274489225\n",
      "Activity Test accuracy: 89.0625\n",
      "Location Test accuracy: 96.875\n",
      "Activity Test loss: 0.41320378581682843\n",
      "Location Test loss: 0.06703751844664414\n",
      "Epoch: 128\n"
     ]
    },
    {
     "name": "stderr",
     "output_type": "stream",
     "text": [
      "100%|██████████████████████████████████████████████████████████████████████████████████████████████████████████████████████████████████████████████████████████████████████████████| 16/16 [00:00<00:00, 88.51it/s]\n"
     ]
    },
    {
     "name": "stdout",
     "output_type": "stream",
     "text": [
      "Activity Training accuracy: 100.0\n",
      "Location Training accuracy: 100.0\n",
      "Activity Training loss: 0.007433309944549409\n",
      "Location Training loss: 0.012352758852562101\n",
      "Activity Test accuracy: 88.54166666666667\n",
      "Location Test accuracy: 96.875\n",
      "Activity Test loss: 0.42062265674273175\n",
      "Location Test loss: 0.06797696401675542\n",
      "Epoch: 129\n"
     ]
    },
    {
     "name": "stderr",
     "output_type": "stream",
     "text": [
      "100%|██████████████████████████████████████████████████████████████████████████████████████████████████████████████████████████████████████████████████████████████████████████████| 16/16 [00:00<00:00, 88.66it/s]\n"
     ]
    },
    {
     "name": "stdout",
     "output_type": "stream",
     "text": [
      "Activity Training accuracy: 100.0\n",
      "Location Training accuracy: 100.0\n",
      "Activity Training loss: 0.005914220804035073\n",
      "Location Training loss: 0.006934612133715413\n",
      "Activity Test accuracy: 89.0625\n",
      "Location Test accuracy: 97.91666666666667\n",
      "Activity Test loss: 0.4189220070838928\n",
      "Location Test loss: 0.06551819480955601\n",
      "Epoch: 130\n"
     ]
    },
    {
     "name": "stderr",
     "output_type": "stream",
     "text": [
      "100%|██████████████████████████████████████████████████████████████████████████████████████████████████████████████████████████████████████████████████████████████████████████████| 16/16 [00:00<00:00, 88.43it/s]\n"
     ]
    },
    {
     "name": "stdout",
     "output_type": "stream",
     "text": [
      "Activity Training accuracy: 100.0\n",
      "Location Training accuracy: 100.0\n",
      "Activity Training loss: 0.006794354688413072\n",
      "Location Training loss: 0.009066918861157824\n",
      "Activity Test accuracy: 88.54166666666667\n",
      "Location Test accuracy: 96.875\n",
      "Activity Test loss: 0.41534273823102313\n",
      "Location Test loss: 0.0659368218233188\n",
      "Epoch: 131\n"
     ]
    },
    {
     "name": "stderr",
     "output_type": "stream",
     "text": [
      "100%|██████████████████████████████████████████████████████████████████████████████████████████████████████████████████████████████████████████████████████████████████████████████| 16/16 [00:00<00:00, 88.24it/s]\n"
     ]
    },
    {
     "name": "stdout",
     "output_type": "stream",
     "text": [
      "Activity Training accuracy: 100.0\n",
      "Location Training accuracy: 100.0\n",
      "Activity Training loss: 0.005873421277150069\n",
      "Location Training loss: 0.007193553137897265\n",
      "Activity Test accuracy: 88.54166666666667\n",
      "Location Test accuracy: 95.83333333333333\n",
      "Activity Test loss: 0.4160187741120656\n",
      "Location Test loss: 0.06736886501312256\n",
      "Epoch: 132\n"
     ]
    },
    {
     "name": "stderr",
     "output_type": "stream",
     "text": [
      "100%|██████████████████████████████████████████████████████████████████████████████████████████████████████████████████████████████████████████████████████████████████████████████| 16/16 [00:00<00:00, 88.38it/s]\n"
     ]
    },
    {
     "name": "stdout",
     "output_type": "stream",
     "text": [
      "Activity Training accuracy: 100.0\n",
      "Location Training accuracy: 100.0\n",
      "Activity Training loss: 0.007047847149395707\n",
      "Location Training loss: 0.008424631425059668\n",
      "Activity Test accuracy: 88.54166666666667\n",
      "Location Test accuracy: 95.83333333333333\n",
      "Activity Test loss: 0.41770098606745404\n",
      "Location Test loss: 0.0695563970754544\n",
      "Epoch: 133\n"
     ]
    },
    {
     "name": "stderr",
     "output_type": "stream",
     "text": [
      "100%|██████████████████████████████████████████████████████████████████████████████████████████████████████████████████████████████████████████████████████████████████████████████| 16/16 [00:00<00:00, 88.62it/s]\n"
     ]
    },
    {
     "name": "stdout",
     "output_type": "stream",
     "text": [
      "Activity Training accuracy: 100.0\n",
      "Location Training accuracy: 100.0\n",
      "Activity Training loss: 0.006823588804443284\n",
      "Location Training loss: 0.011424206698885058\n",
      "Activity Test accuracy: 89.58333333333333\n",
      "Location Test accuracy: 96.875\n",
      "Activity Test loss: 0.40926942229270935\n",
      "Location Test loss: 0.06632638225952785\n",
      "Epoch: 134\n"
     ]
    },
    {
     "name": "stderr",
     "output_type": "stream",
     "text": [
      "100%|██████████████████████████████████████████████████████████████████████████████████████████████████████████████████████████████████████████████████████████████████████████████| 16/16 [00:00<00:00, 88.67it/s]\n"
     ]
    },
    {
     "name": "stdout",
     "output_type": "stream",
     "text": [
      "Activity Training accuracy: 100.0\n",
      "Location Training accuracy: 100.0\n",
      "Activity Training loss: 0.00794054915999422\n",
      "Location Training loss: 0.012953503400382428\n",
      "Activity Test accuracy: 88.54166666666667\n",
      "Location Test accuracy: 97.39583333333333\n",
      "Activity Test loss: 0.41735342144966125\n",
      "Location Test loss: 0.0649032002935807\n",
      "Epoch: 135\n"
     ]
    },
    {
     "name": "stderr",
     "output_type": "stream",
     "text": [
      "100%|██████████████████████████████████████████████████████████████████████████████████████████████████████████████████████████████████████████████████████████████████████████████| 16/16 [00:00<00:00, 88.39it/s]\n"
     ]
    },
    {
     "name": "stdout",
     "output_type": "stream",
     "text": [
      "Activity Training accuracy: 100.0\n",
      "Location Training accuracy: 100.0\n",
      "Activity Training loss: 0.005963412576382703\n",
      "Location Training loss: 0.007213579885440298\n",
      "Activity Test accuracy: 89.58333333333333\n",
      "Location Test accuracy: 95.83333333333333\n",
      "Activity Test loss: 0.41007675727208454\n",
      "Location Test loss: 0.0673690674205621\n",
      "Epoch: 136\n"
     ]
    },
    {
     "name": "stderr",
     "output_type": "stream",
     "text": [
      "100%|██████████████████████████████████████████████████████████████████████████████████████████████████████████████████████████████████████████████████████████████████████████████| 16/16 [00:00<00:00, 89.15it/s]\n"
     ]
    },
    {
     "name": "stdout",
     "output_type": "stream",
     "text": [
      "Activity Training accuracy: 100.0\n",
      "Location Training accuracy: 100.0\n",
      "Activity Training loss: 0.0067316435056157635\n",
      "Location Training loss: 0.008725862057492284\n",
      "Activity Test accuracy: 88.54166666666667\n",
      "Location Test accuracy: 96.35416666666667\n",
      "Activity Test loss: 0.41841796040534973\n",
      "Location Test loss: 0.06590157250563304\n",
      "Epoch: 137\n"
     ]
    },
    {
     "name": "stderr",
     "output_type": "stream",
     "text": [
      "100%|██████████████████████████████████████████████████████████████████████████████████████████████████████████████████████████████████████████████████████████████████████████████| 16/16 [00:00<00:00, 88.89it/s]\n"
     ]
    },
    {
     "name": "stdout",
     "output_type": "stream",
     "text": [
      "Activity Training accuracy: 100.0\n",
      "Location Training accuracy: 100.0\n",
      "Activity Training loss: 0.006517951957660147\n",
      "Location Training loss: 0.011061853155641272\n",
      "Activity Test accuracy: 89.0625\n",
      "Location Test accuracy: 97.39583333333333\n",
      "Activity Test loss: 0.4202701350053151\n",
      "Location Test loss: 0.0660047388325135\n",
      "Epoch: 138\n"
     ]
    },
    {
     "name": "stderr",
     "output_type": "stream",
     "text": [
      "100%|██████████████████████████████████████████████████████████████████████████████████████████████████████████████████████████████████████████████████████████████████████████████| 16/16 [00:00<00:00, 88.95it/s]\n"
     ]
    },
    {
     "name": "stdout",
     "output_type": "stream",
     "text": [
      "Activity Training accuracy: 100.0\n",
      "Location Training accuracy: 100.0\n",
      "Activity Training loss: 0.006664169896947275\n",
      "Location Training loss: 0.008791360111519842\n",
      "Activity Test accuracy: 89.0625\n",
      "Location Test accuracy: 97.91666666666667\n",
      "Activity Test loss: 0.42032278577486676\n",
      "Location Test loss: 0.06512914846340816\n",
      "Epoch: 139\n"
     ]
    },
    {
     "name": "stderr",
     "output_type": "stream",
     "text": [
      "100%|██████████████████████████████████████████████████████████████████████████████████████████████████████████████████████████████████████████████████████████████████████████████| 16/16 [00:00<00:00, 88.63it/s]\n"
     ]
    },
    {
     "name": "stdout",
     "output_type": "stream",
     "text": [
      "Activity Training accuracy: 100.0\n",
      "Location Training accuracy: 100.0\n",
      "Activity Training loss: 0.009969575290042575\n",
      "Location Training loss: 0.008665217326419188\n",
      "Activity Test accuracy: 88.54166666666667\n",
      "Location Test accuracy: 96.35416666666667\n",
      "Activity Test loss: 0.419209490219752\n",
      "Location Test loss: 0.06740846795340379\n",
      "Epoch: 140\n"
     ]
    },
    {
     "name": "stderr",
     "output_type": "stream",
     "text": [
      "100%|██████████████████████████████████████████████████████████████████████████████████████████████████████████████████████████████████████████████████████████████████████████████| 16/16 [00:00<00:00, 88.71it/s]\n"
     ]
    },
    {
     "name": "stdout",
     "output_type": "stream",
     "text": [
      "Activity Training accuracy: 100.0\n",
      "Location Training accuracy: 100.0\n",
      "Activity Training loss: 0.006458108510711405\n",
      "Location Training loss: 0.008748276915290568\n",
      "Activity Test accuracy: 89.0625\n",
      "Location Test accuracy: 96.35416666666667\n",
      "Activity Test loss: 0.4158768951892853\n",
      "Location Test loss: 0.06848297268152237\n",
      "Epoch: 141\n"
     ]
    },
    {
     "name": "stderr",
     "output_type": "stream",
     "text": [
      "100%|██████████████████████████████████████████████████████████████████████████████████████████████████████████████████████████████████████████████████████████████████████████████| 16/16 [00:00<00:00, 88.84it/s]\n"
     ]
    },
    {
     "name": "stdout",
     "output_type": "stream",
     "text": [
      "Activity Training accuracy: 100.0\n",
      "Location Training accuracy: 100.0\n",
      "Activity Training loss: 0.005824768838315907\n",
      "Location Training loss: 0.007911847989157875\n",
      "Activity Test accuracy: 89.58333333333333\n",
      "Location Test accuracy: 97.39583333333333\n",
      "Activity Test loss: 0.40885908404986065\n",
      "Location Test loss: 0.06606118194758892\n",
      "Epoch: 142\n"
     ]
    },
    {
     "name": "stderr",
     "output_type": "stream",
     "text": [
      "100%|██████████████████████████████████████████████████████████████████████████████████████████████████████████████████████████████████████████████████████████████████████████████| 16/16 [00:00<00:00, 88.69it/s]\n"
     ]
    },
    {
     "name": "stdout",
     "output_type": "stream",
     "text": [
      "Activity Training accuracy: 100.0\n",
      "Location Training accuracy: 100.0\n",
      "Activity Training loss: 0.008066497816897856\n",
      "Location Training loss: 0.01152256733120078\n",
      "Activity Test accuracy: 88.02083333333333\n",
      "Location Test accuracy: 97.39583333333333\n",
      "Activity Test loss: 0.4166870315869649\n",
      "Location Test loss: 0.06394948375721772\n",
      "Epoch: 143\n"
     ]
    },
    {
     "name": "stderr",
     "output_type": "stream",
     "text": [
      "100%|██████████████████████████████████████████████████████████████████████████████████████████████████████████████████████████████████████████████████████████████████████████████| 16/16 [00:00<00:00, 88.29it/s]\n"
     ]
    },
    {
     "name": "stdout",
     "output_type": "stream",
     "text": [
      "Activity Training accuracy: 100.0\n",
      "Location Training accuracy: 100.0\n",
      "Activity Training loss: 0.0061297801314014015\n",
      "Location Training loss: 0.006418894069029553\n",
      "Activity Test accuracy: 90.10416666666667\n",
      "Location Test accuracy: 97.91666666666667\n",
      "Activity Test loss: 0.41604910294214886\n",
      "Location Test loss: 0.06492880297203858\n",
      "Epoch: 144\n"
     ]
    },
    {
     "name": "stderr",
     "output_type": "stream",
     "text": [
      "100%|██████████████████████████████████████████████████████████████████████████████████████████████████████████████████████████████████████████████████████████████████████████████| 16/16 [00:00<00:00, 87.74it/s]\n"
     ]
    },
    {
     "name": "stdout",
     "output_type": "stream",
     "text": [
      "Activity Training accuracy: 100.0\n",
      "Location Training accuracy: 100.0\n",
      "Activity Training loss: 0.008795695670760504\n",
      "Location Training loss: 0.009248434095689565\n",
      "Activity Test accuracy: 88.54166666666667\n",
      "Location Test accuracy: 95.83333333333333\n",
      "Activity Test loss: 0.41393229365348816\n",
      "Location Test loss: 0.07113022295137246\n",
      "Epoch: 145\n"
     ]
    },
    {
     "name": "stderr",
     "output_type": "stream",
     "text": [
      "100%|██████████████████████████████████████████████████████████████████████████████████████████████████████████████████████████████████████████████████████████████████████████████| 16/16 [00:00<00:00, 87.41it/s]\n"
     ]
    },
    {
     "name": "stdout",
     "output_type": "stream",
     "text": [
      "Activity Training accuracy: 100.0\n",
      "Location Training accuracy: 100.0\n",
      "Activity Training loss: 0.006874087511902989\n",
      "Location Training loss: 0.007767490319686361\n",
      "Activity Test accuracy: 89.58333333333333\n",
      "Location Test accuracy: 96.875\n",
      "Activity Test loss: 0.4133860468864441\n",
      "Location Test loss: 0.06595036511619885\n",
      "Epoch: 146\n"
     ]
    },
    {
     "name": "stderr",
     "output_type": "stream",
     "text": [
      "100%|██████████████████████████████████████████████████████████████████████████████████████████████████████████████████████████████████████████████████████████████████████████████| 16/16 [00:00<00:00, 88.94it/s]\n"
     ]
    },
    {
     "name": "stdout",
     "output_type": "stream",
     "text": [
      "Activity Training accuracy: 100.0\n",
      "Location Training accuracy: 100.0\n",
      "Activity Training loss: 0.0062438403910929615\n",
      "Location Training loss: 0.006873490875310237\n",
      "Activity Test accuracy: 90.10416666666667\n",
      "Location Test accuracy: 96.875\n",
      "Activity Test loss: 0.4109310507774353\n",
      "Location Test loss: 0.06609560300906499\n",
      "Epoch: 147\n"
     ]
    },
    {
     "name": "stderr",
     "output_type": "stream",
     "text": [
      "100%|██████████████████████████████████████████████████████████████████████████████████████████████████████████████████████████████████████████████████████████████████████████████| 16/16 [00:00<00:00, 88.89it/s]\n"
     ]
    },
    {
     "name": "stdout",
     "output_type": "stream",
     "text": [
      "Activity Training accuracy: 100.0\n",
      "Location Training accuracy: 100.0\n",
      "Activity Training loss: 0.007571759938013436\n",
      "Location Training loss: 0.014031972492685412\n",
      "Activity Test accuracy: 89.58333333333333\n",
      "Location Test accuracy: 97.91666666666667\n",
      "Activity Test loss: 0.41815073291460675\n",
      "Location Test loss: 0.06469812989234924\n",
      "Epoch: 148\n"
     ]
    },
    {
     "name": "stderr",
     "output_type": "stream",
     "text": [
      "100%|██████████████████████████████████████████████████████████████████████████████████████████████████████████████████████████████████████████████████████████████████████████████| 16/16 [00:00<00:00, 87.93it/s]\n"
     ]
    },
    {
     "name": "stdout",
     "output_type": "stream",
     "text": [
      "Activity Training accuracy: 100.0\n",
      "Location Training accuracy: 100.0\n",
      "Activity Training loss: 0.005845293387918189\n",
      "Location Training loss: 0.008790370158039698\n",
      "Activity Test accuracy: 88.54166666666667\n",
      "Location Test accuracy: 96.875\n",
      "Activity Test loss: 0.4112081627051036\n",
      "Location Test loss: 0.06612746976315975\n",
      "Epoch: 149\n"
     ]
    },
    {
     "name": "stderr",
     "output_type": "stream",
     "text": [
      "100%|██████████████████████████████████████████████████████████████████████████████████████████████████████████████████████████████████████████████████████████████████████████████| 16/16 [00:00<00:00, 86.44it/s]\n"
     ]
    },
    {
     "name": "stdout",
     "output_type": "stream",
     "text": [
      "Activity Training accuracy: 100.0\n",
      "Location Training accuracy: 100.0\n",
      "Activity Training loss: 0.009533445404307677\n",
      "Location Training loss: 0.01190699449565151\n",
      "Activity Test accuracy: 89.58333333333333\n",
      "Location Test accuracy: 97.39583333333333\n",
      "Activity Test loss: 0.41321608424186707\n",
      "Location Test loss: 0.06698996759951115\n",
      "Epoch: 150\n"
     ]
    },
    {
     "name": "stderr",
     "output_type": "stream",
     "text": [
      "100%|██████████████████████████████████████████████████████████████████████████████████████████████████████████████████████████████████████████████████████████████████████████████| 16/16 [00:00<00:00, 88.36it/s]\n"
     ]
    },
    {
     "name": "stdout",
     "output_type": "stream",
     "text": [
      "Activity Training accuracy: 100.0\n",
      "Location Training accuracy: 100.0\n",
      "Activity Training loss: 0.007018064464082812\n",
      "Location Training loss: 0.010322789228198553\n",
      "Activity Test accuracy: 89.0625\n",
      "Location Test accuracy: 96.875\n",
      "Activity Test loss: 0.41892774899800617\n",
      "Location Test loss: 0.06641172120968501\n",
      "Epoch: 151\n"
     ]
    },
    {
     "name": "stderr",
     "output_type": "stream",
     "text": [
      "100%|██████████████████████████████████████████████████████████████████████████████████████████████████████████████████████████████████████████████████████████████████████████████| 16/16 [00:00<00:00, 88.23it/s]\n"
     ]
    },
    {
     "name": "stdout",
     "output_type": "stream",
     "text": [
      "Activity Training accuracy: 100.0\n",
      "Location Training accuracy: 100.0\n",
      "Activity Training loss: 0.00883397505720063\n",
      "Location Training loss: 0.012162870773584536\n",
      "Activity Test accuracy: 90.10416666666667\n",
      "Location Test accuracy: 97.39583333333333\n",
      "Activity Test loss: 0.41329145431518555\n",
      "Location Test loss: 0.06344073762496312\n",
      "Epoch: 152\n"
     ]
    },
    {
     "name": "stderr",
     "output_type": "stream",
     "text": [
      "100%|██████████████████████████████████████████████████████████████████████████████████████████████████████████████████████████████████████████████████████████████████████████████| 16/16 [00:00<00:00, 88.42it/s]\n"
     ]
    },
    {
     "name": "stdout",
     "output_type": "stream",
     "text": [
      "Activity Training accuracy: 100.0\n",
      "Location Training accuracy: 100.0\n",
      "Activity Training loss: 0.009873230150430509\n",
      "Location Training loss: 0.01081905077294548\n",
      "Activity Test accuracy: 89.0625\n",
      "Location Test accuracy: 96.875\n",
      "Activity Test loss: 0.42138952016830444\n",
      "Location Test loss: 0.06642977769176166\n",
      "Epoch: 153\n"
     ]
    },
    {
     "name": "stderr",
     "output_type": "stream",
     "text": [
      "100%|██████████████████████████████████████████████████████████████████████████████████████████████████████████████████████████████████████████████████████████████████████████████| 16/16 [00:00<00:00, 88.37it/s]\n"
     ]
    },
    {
     "name": "stdout",
     "output_type": "stream",
     "text": [
      "Activity Training accuracy: 100.0\n",
      "Location Training accuracy: 100.0\n",
      "Activity Training loss: 0.006604884889456306\n",
      "Location Training loss: 0.011607338170899022\n",
      "Activity Test accuracy: 89.0625\n",
      "Location Test accuracy: 97.91666666666667\n",
      "Activity Test loss: 0.4189933439095815\n",
      "Location Test loss: 0.0642504704495271\n",
      "Epoch: 154\n"
     ]
    },
    {
     "name": "stderr",
     "output_type": "stream",
     "text": [
      "100%|██████████████████████████████████████████████████████████████████████████████████████████████████████████████████████████████████████████████████████████████████████████████| 16/16 [00:00<00:00, 88.44it/s]\n"
     ]
    },
    {
     "name": "stdout",
     "output_type": "stream",
     "text": [
      "Activity Training accuracy: 100.0\n",
      "Location Training accuracy: 100.0\n",
      "Activity Training loss: 0.008022825552685426\n",
      "Location Training loss: 0.013997165312861453\n",
      "Activity Test accuracy: 88.02083333333333\n",
      "Location Test accuracy: 96.35416666666667\n",
      "Activity Test loss: 0.4151671826839447\n",
      "Location Test loss: 0.06948585249483585\n",
      "Epoch: 155\n"
     ]
    },
    {
     "name": "stderr",
     "output_type": "stream",
     "text": [
      "100%|██████████████████████████████████████████████████████████████████████████████████████████████████████████████████████████████████████████████████████████████████████████████| 16/16 [00:00<00:00, 88.35it/s]\n"
     ]
    },
    {
     "name": "stdout",
     "output_type": "stream",
     "text": [
      "Activity Training accuracy: 100.0\n",
      "Location Training accuracy: 100.0\n",
      "Activity Training loss: 0.007057000829441712\n",
      "Location Training loss: 0.011464478503359427\n",
      "Activity Test accuracy: 88.54166666666667\n",
      "Location Test accuracy: 97.39583333333333\n",
      "Activity Test loss: 0.4166357119878133\n",
      "Location Test loss: 0.06552233050266902\n",
      "Epoch: 156\n"
     ]
    },
    {
     "name": "stderr",
     "output_type": "stream",
     "text": [
      "100%|██████████████████████████████████████████████████████████████████████████████████████████████████████████████████████████████████████████████████████████████████████████████| 16/16 [00:00<00:00, 88.67it/s]\n"
     ]
    },
    {
     "name": "stdout",
     "output_type": "stream",
     "text": [
      "Activity Training accuracy: 100.0\n",
      "Location Training accuracy: 100.0\n",
      "Activity Training loss: 0.005857559374653467\n",
      "Location Training loss: 0.010592807386771288\n",
      "Activity Test accuracy: 89.0625\n",
      "Location Test accuracy: 97.39583333333333\n",
      "Activity Test loss: 0.4192059238751729\n",
      "Location Test loss: 0.06490230808655421\n",
      "Epoch: 157\n"
     ]
    },
    {
     "name": "stderr",
     "output_type": "stream",
     "text": [
      "100%|██████████████████████████████████████████████████████████████████████████████████████████████████████████████████████████████████████████████████████████████████████████████| 16/16 [00:00<00:00, 88.45it/s]\n"
     ]
    },
    {
     "name": "stdout",
     "output_type": "stream",
     "text": [
      "Activity Training accuracy: 100.0\n",
      "Location Training accuracy: 100.0\n",
      "Activity Training loss: 0.0065691616718131715\n",
      "Location Training loss: 0.007810142385487509\n",
      "Activity Test accuracy: 88.54166666666667\n",
      "Location Test accuracy: 96.875\n",
      "Activity Test loss: 0.41779982050259906\n",
      "Location Test loss: 0.06623527966439724\n",
      "Epoch: 158\n"
     ]
    },
    {
     "name": "stderr",
     "output_type": "stream",
     "text": [
      "100%|██████████████████████████████████████████████████████████████████████████████████████████████████████████████████████████████████████████████████████████████████████████████| 16/16 [00:00<00:00, 88.88it/s]\n"
     ]
    },
    {
     "name": "stdout",
     "output_type": "stream",
     "text": [
      "Activity Training accuracy: 100.0\n",
      "Location Training accuracy: 100.0\n",
      "Activity Training loss: 0.006632963929435995\n",
      "Location Training loss: 0.012004368567820823\n",
      "Activity Test accuracy: 89.58333333333333\n",
      "Location Test accuracy: 96.35416666666667\n",
      "Activity Test loss: 0.40920913219451904\n",
      "Location Test loss: 0.06698523337642352\n",
      "Epoch: 159\n"
     ]
    },
    {
     "name": "stderr",
     "output_type": "stream",
     "text": [
      "100%|██████████████████████████████████████████████████████████████████████████████████████████████████████████████████████████████████████████████████████████████████████████████| 16/16 [00:00<00:00, 88.88it/s]\n"
     ]
    },
    {
     "name": "stdout",
     "output_type": "stream",
     "text": [
      "Activity Training accuracy: 100.0\n",
      "Location Training accuracy: 100.0\n",
      "Activity Training loss: 0.007930005039318953\n",
      "Location Training loss: 0.00932041825634418\n",
      "Activity Test accuracy: 89.0625\n",
      "Location Test accuracy: 96.35416666666667\n",
      "Activity Test loss: 0.41148115197817486\n",
      "Location Test loss: 0.06690253255267938\n",
      "Epoch: 160\n"
     ]
    },
    {
     "name": "stderr",
     "output_type": "stream",
     "text": [
      "100%|██████████████████████████████████████████████████████████████████████████████████████████████████████████████████████████████████████████████████████████████████████████████| 16/16 [00:00<00:00, 88.69it/s]\n"
     ]
    },
    {
     "name": "stdout",
     "output_type": "stream",
     "text": [
      "Activity Training accuracy: 100.0\n",
      "Location Training accuracy: 100.0\n",
      "Activity Training loss: 0.006807834278829027\n",
      "Location Training loss: 0.009463152731999313\n",
      "Activity Test accuracy: 88.54166666666667\n",
      "Location Test accuracy: 97.39583333333333\n",
      "Activity Test loss: 0.41744730869929\n",
      "Location Test loss: 0.06481290049850941\n",
      "Epoch: 161\n"
     ]
    },
    {
     "name": "stderr",
     "output_type": "stream",
     "text": [
      "100%|██████████████████████████████████████████████████████████████████████████████████████████████████████████████████████████████████████████████████████████████████████████████| 16/16 [00:00<00:00, 88.36it/s]\n"
     ]
    },
    {
     "name": "stdout",
     "output_type": "stream",
     "text": [
      "Activity Training accuracy: 100.0\n",
      "Location Training accuracy: 100.0\n",
      "Activity Training loss: 0.006384862206950046\n",
      "Location Training loss: 0.008380111284775308\n",
      "Activity Test accuracy: 89.58333333333333\n",
      "Location Test accuracy: 96.875\n",
      "Activity Test loss: 0.4129075010617574\n",
      "Location Test loss: 0.06768599587182204\n",
      "Epoch: 162\n"
     ]
    },
    {
     "name": "stderr",
     "output_type": "stream",
     "text": [
      "100%|██████████████████████████████████████████████████████████████████████████████████████████████████████████████████████████████████████████████████████████████████████████████| 16/16 [00:00<00:00, 88.50it/s]\n"
     ]
    },
    {
     "name": "stdout",
     "output_type": "stream",
     "text": [
      "Activity Training accuracy: 100.0\n",
      "Location Training accuracy: 100.0\n",
      "Activity Training loss: 0.0068277044313968995\n",
      "Location Training loss: 0.007871392767618198\n",
      "Activity Test accuracy: 89.0625\n",
      "Location Test accuracy: 97.39583333333333\n",
      "Activity Test loss: 0.4140305121739705\n",
      "Location Test loss: 0.06570904453595479\n",
      "Epoch: 163\n"
     ]
    },
    {
     "name": "stderr",
     "output_type": "stream",
     "text": [
      "100%|██████████████████████████████████████████████████████████████████████████████████████████████████████████████████████████████████████████████████████████████████████████████| 16/16 [00:00<00:00, 88.55it/s]\n"
     ]
    },
    {
     "name": "stdout",
     "output_type": "stream",
     "text": [
      "Activity Training accuracy: 100.0\n",
      "Location Training accuracy: 100.0\n",
      "Activity Training loss: 0.00640326311977783\n",
      "Location Training loss: 0.010803585846235256\n",
      "Activity Test accuracy: 89.58333333333333\n",
      "Location Test accuracy: 97.39583333333333\n",
      "Activity Test loss: 0.4153766433397929\n",
      "Location Test loss: 0.065863652775685\n",
      "Epoch: 164\n"
     ]
    },
    {
     "name": "stderr",
     "output_type": "stream",
     "text": [
      "100%|██████████████████████████████████████████████████████████████████████████████████████████████████████████████████████████████████████████████████████████████████████████████| 16/16 [00:00<00:00, 88.77it/s]\n"
     ]
    },
    {
     "name": "stdout",
     "output_type": "stream",
     "text": [
      "Activity Training accuracy: 100.0\n",
      "Location Training accuracy: 100.0\n",
      "Activity Training loss: 0.008519075781402022\n",
      "Location Training loss: 0.01759550134734352\n",
      "Activity Test accuracy: 88.54166666666667\n",
      "Location Test accuracy: 95.83333333333333\n",
      "Activity Test loss: 0.41716055075327557\n",
      "Location Test loss: 0.06798551169534524\n",
      "Epoch: 165\n"
     ]
    },
    {
     "name": "stderr",
     "output_type": "stream",
     "text": [
      "100%|██████████████████████████████████████████████████████████████████████████████████████████████████████████████████████████████████████████████████████████████████████████████| 16/16 [00:00<00:00, 86.68it/s]\n"
     ]
    },
    {
     "name": "stdout",
     "output_type": "stream",
     "text": [
      "Activity Training accuracy: 100.0\n",
      "Location Training accuracy: 100.0\n",
      "Activity Training loss: 0.0071785469604010626\n",
      "Location Training loss: 0.009331128429068197\n",
      "Activity Test accuracy: 89.58333333333333\n",
      "Location Test accuracy: 96.35416666666667\n",
      "Activity Test loss: 0.4158773918946584\n",
      "Location Test loss: 0.06634624861180782\n",
      "Epoch: 166\n"
     ]
    },
    {
     "name": "stderr",
     "output_type": "stream",
     "text": [
      "100%|██████████████████████████████████████████████████████████████████████████████████████████████████████████████████████████████████████████████████████████████████████████████| 16/16 [00:00<00:00, 85.49it/s]\n"
     ]
    },
    {
     "name": "stdout",
     "output_type": "stream",
     "text": [
      "Activity Training accuracy: 100.0\n",
      "Location Training accuracy: 100.0\n",
      "Activity Training loss: 0.008012667091766207\n",
      "Location Training loss: 0.010148821328536119\n",
      "Activity Test accuracy: 89.0625\n",
      "Location Test accuracy: 97.39583333333333\n",
      "Activity Test loss: 0.42067482074101764\n",
      "Location Test loss: 0.06549331111212571\n",
      "Epoch: 167\n"
     ]
    },
    {
     "name": "stderr",
     "output_type": "stream",
     "text": [
      "100%|██████████████████████████████████████████████████████████████████████████████████████████████████████████████████████████████████████████████████████████████████████████████| 16/16 [00:00<00:00, 86.48it/s]\n"
     ]
    },
    {
     "name": "stdout",
     "output_type": "stream",
     "text": [
      "Activity Training accuracy: 100.0\n",
      "Location Training accuracy: 100.0\n",
      "Activity Training loss: 0.006345277508296589\n",
      "Location Training loss: 0.008523127569420502\n",
      "Activity Test accuracy: 89.0625\n",
      "Location Test accuracy: 97.39583333333333\n",
      "Activity Test loss: 0.4171047806739807\n",
      "Location Test loss: 0.06594472502668698\n",
      "Epoch: 168\n"
     ]
    },
    {
     "name": "stderr",
     "output_type": "stream",
     "text": [
      "100%|██████████████████████████████████████████████████████████████████████████████████████████████████████████████████████████████████████████████████████████████████████████████| 16/16 [00:00<00:00, 85.28it/s]\n"
     ]
    },
    {
     "name": "stdout",
     "output_type": "stream",
     "text": [
      "Activity Training accuracy: 100.0\n",
      "Location Training accuracy: 100.0\n",
      "Activity Training loss: 0.006105414106704221\n",
      "Location Training loss: 0.008039611356683296\n",
      "Activity Test accuracy: 88.54166666666667\n",
      "Location Test accuracy: 97.39583333333333\n",
      "Activity Test loss: 0.4186674952507019\n",
      "Location Test loss: 0.06473134023447831\n",
      "Epoch: 169\n"
     ]
    },
    {
     "name": "stderr",
     "output_type": "stream",
     "text": [
      "100%|██████████████████████████████████████████████████████████████████████████████████████████████████████████████████████████████████████████████████████████████████████████████| 16/16 [00:00<00:00, 85.50it/s]\n"
     ]
    },
    {
     "name": "stdout",
     "output_type": "stream",
     "text": [
      "Activity Training accuracy: 100.0\n",
      "Location Training accuracy: 100.0\n",
      "Activity Training loss: 0.007302334786641716\n",
      "Location Training loss: 0.009889024171498742\n",
      "Activity Test accuracy: 89.58333333333333\n",
      "Location Test accuracy: 96.875\n",
      "Activity Test loss: 0.41387884815533954\n",
      "Location Test loss: 0.06479788882037003\n",
      "Epoch: 170\n"
     ]
    },
    {
     "name": "stderr",
     "output_type": "stream",
     "text": [
      "100%|██████████████████████████████████████████████████████████████████████████████████████████████████████████████████████████████████████████████████████████████████████████████| 16/16 [00:00<00:00, 86.32it/s]\n"
     ]
    },
    {
     "name": "stdout",
     "output_type": "stream",
     "text": [
      "Activity Training accuracy: 100.0\n",
      "Location Training accuracy: 100.0\n",
      "Activity Training loss: 0.008917658178523035\n",
      "Location Training loss: 0.009712595013108585\n",
      "Activity Test accuracy: 89.0625\n",
      "Location Test accuracy: 96.35416666666667\n",
      "Activity Test loss: 0.41902069250742596\n",
      "Location Test loss: 0.06695341877639294\n",
      "Epoch: 171\n"
     ]
    },
    {
     "name": "stderr",
     "output_type": "stream",
     "text": [
      "100%|██████████████████████████████████████████████████████████████████████████████████████████████████████████████████████████████████████████████████████████████████████████████| 16/16 [00:00<00:00, 85.71it/s]\n"
     ]
    },
    {
     "name": "stdout",
     "output_type": "stream",
     "text": [
      "Activity Training accuracy: 100.0\n",
      "Location Training accuracy: 100.0\n",
      "Activity Training loss: 0.008467619932524048\n",
      "Location Training loss: 0.009332501253869275\n",
      "Activity Test accuracy: 88.02083333333333\n",
      "Location Test accuracy: 96.35416666666667\n",
      "Activity Test loss: 0.4209738075733185\n",
      "Location Test loss: 0.06547745876014233\n",
      "Epoch: 172\n"
     ]
    },
    {
     "name": "stderr",
     "output_type": "stream",
     "text": [
      "100%|██████████████████████████████████████████████████████████████████████████████████████████████████████████████████████████████████████████████████████████████████████████████| 16/16 [00:00<00:00, 84.33it/s]\n"
     ]
    },
    {
     "name": "stdout",
     "output_type": "stream",
     "text": [
      "Activity Training accuracy: 100.0\n",
      "Location Training accuracy: 100.0\n",
      "Activity Training loss: 0.007433424093345604\n",
      "Location Training loss: 0.006822865685023884\n",
      "Activity Test accuracy: 89.0625\n",
      "Location Test accuracy: 96.875\n",
      "Activity Test loss: 0.41492678721745807\n",
      "Location Test loss: 0.06437262892723083\n",
      "Epoch: 173\n"
     ]
    },
    {
     "name": "stderr",
     "output_type": "stream",
     "text": [
      "100%|██████████████████████████████████████████████████████████████████████████████████████████████████████████████████████████████████████████████████████████████████████████████| 16/16 [00:00<00:00, 84.83it/s]\n"
     ]
    },
    {
     "name": "stdout",
     "output_type": "stream",
     "text": [
      "Activity Training accuracy: 100.0\n",
      "Location Training accuracy: 100.0\n",
      "Activity Training loss: 0.00803621415749635\n",
      "Location Training loss: 0.008800089196993573\n",
      "Activity Test accuracy: 89.58333333333333\n",
      "Location Test accuracy: 97.39583333333333\n",
      "Activity Test loss: 0.41480974356333417\n",
      "Location Test loss: 0.06401386919120948\n",
      "Epoch: 174\n"
     ]
    },
    {
     "name": "stderr",
     "output_type": "stream",
     "text": [
      "100%|██████████████████████████████████████████████████████████████████████████████████████████████████████████████████████████████████████████████████████████████████████████████| 16/16 [00:00<00:00, 85.83it/s]\n"
     ]
    },
    {
     "name": "stdout",
     "output_type": "stream",
     "text": [
      "Activity Training accuracy: 100.0\n",
      "Location Training accuracy: 100.0\n",
      "Activity Training loss: 0.006723490563949736\n",
      "Location Training loss: 0.009119934684569293\n",
      "Activity Test accuracy: 88.54166666666667\n",
      "Location Test accuracy: 95.83333333333333\n",
      "Activity Test loss: 0.417167325814565\n",
      "Location Test loss: 0.06774498211840789\n",
      "Epoch: 175\n"
     ]
    },
    {
     "name": "stderr",
     "output_type": "stream",
     "text": [
      "100%|██████████████████████████████████████████████████████████████████████████████████████████████████████████████████████████████████████████████████████████████████████████████| 16/16 [00:00<00:00, 85.88it/s]\n"
     ]
    },
    {
     "name": "stdout",
     "output_type": "stream",
     "text": [
      "Activity Training accuracy: 100.0\n",
      "Location Training accuracy: 100.0\n",
      "Activity Training loss: 0.008225080710236388\n",
      "Location Training loss: 0.009810154862923198\n",
      "Activity Test accuracy: 89.0625\n",
      "Location Test accuracy: 97.91666666666667\n",
      "Activity Test loss: 0.4179314871629079\n",
      "Location Test loss: 0.06418994814157486\n",
      "Epoch: 176\n"
     ]
    },
    {
     "name": "stderr",
     "output_type": "stream",
     "text": [
      "100%|██████████████████████████████████████████████████████████████████████████████████████████████████████████████████████████████████████████████████████████████████████████████| 16/16 [00:00<00:00, 83.01it/s]\n"
     ]
    },
    {
     "name": "stdout",
     "output_type": "stream",
     "text": [
      "Activity Training accuracy: 100.0\n",
      "Location Training accuracy: 100.0\n",
      "Activity Training loss: 0.006962889005051981\n",
      "Location Training loss: 0.008786414622670354\n",
      "Activity Test accuracy: 89.58333333333333\n",
      "Location Test accuracy: 97.39583333333333\n",
      "Activity Test loss: 0.41293444236119586\n",
      "Location Test loss: 0.06489932474990685\n",
      "Epoch: 177\n"
     ]
    },
    {
     "name": "stderr",
     "output_type": "stream",
     "text": [
      "100%|██████████████████████████████████████████████████████████████████████████████████████████████████████████████████████████████████████████████████████████████████████████████| 16/16 [00:00<00:00, 83.75it/s]\n"
     ]
    },
    {
     "name": "stdout",
     "output_type": "stream",
     "text": [
      "Activity Training accuracy: 100.0\n",
      "Location Training accuracy: 100.0\n",
      "Activity Training loss: 0.006378896534442902\n",
      "Location Training loss: 0.00949466364218457\n",
      "Activity Test accuracy: 88.02083333333333\n",
      "Location Test accuracy: 97.39583333333333\n",
      "Activity Test loss: 0.41920087734858197\n",
      "Location Test loss: 0.0664421630402406\n",
      "Epoch: 178\n"
     ]
    },
    {
     "name": "stderr",
     "output_type": "stream",
     "text": [
      "100%|██████████████████████████████████████████████████████████████████████████████████████████████████████████████████████████████████████████████████████████████████████████████| 16/16 [00:00<00:00, 84.60it/s]\n"
     ]
    },
    {
     "name": "stdout",
     "output_type": "stream",
     "text": [
      "Activity Training accuracy: 100.0\n",
      "Location Training accuracy: 100.0\n",
      "Activity Training loss: 0.008306780442743017\n",
      "Location Training loss: 0.010051430761814117\n",
      "Activity Test accuracy: 89.0625\n",
      "Location Test accuracy: 96.875\n",
      "Activity Test loss: 0.41729244589805603\n",
      "Location Test loss: 0.0675502127657334\n",
      "Epoch: 179\n"
     ]
    },
    {
     "name": "stderr",
     "output_type": "stream",
     "text": [
      "100%|██████████████████████████████████████████████████████████████████████████████████████████████████████████████████████████████████████████████████████████████████████████████| 16/16 [00:00<00:00, 84.66it/s]\n"
     ]
    },
    {
     "name": "stdout",
     "output_type": "stream",
     "text": [
      "Activity Training accuracy: 100.0\n",
      "Location Training accuracy: 100.0\n",
      "Activity Training loss: 0.007542168149853697\n",
      "Location Training loss: 0.00843348905886754\n",
      "Activity Test accuracy: 88.54166666666667\n",
      "Location Test accuracy: 97.39583333333333\n",
      "Activity Test loss: 0.4196932315826416\n",
      "Location Test loss: 0.06555210116008918\n",
      "Epoch: 180\n"
     ]
    },
    {
     "name": "stderr",
     "output_type": "stream",
     "text": [
      "100%|██████████████████████████████████████████████████████████████████████████████████████████████████████████████████████████████████████████████████████████████████████████████| 16/16 [00:00<00:00, 85.49it/s]\n"
     ]
    },
    {
     "name": "stdout",
     "output_type": "stream",
     "text": [
      "Activity Training accuracy: 100.0\n",
      "Location Training accuracy: 100.0\n",
      "Activity Training loss: 0.007661473810082615\n",
      "Location Training loss: 0.008887529682995068\n",
      "Activity Test accuracy: 89.0625\n",
      "Location Test accuracy: 97.91666666666667\n",
      "Activity Test loss: 0.41577399770418805\n",
      "Location Test loss: 0.06514650707443555\n",
      "Epoch: 181\n"
     ]
    },
    {
     "name": "stderr",
     "output_type": "stream",
     "text": [
      "100%|██████████████████████████████████████████████████████████████████████████████████████████████████████████████████████████████████████████████████████████████████████████████| 16/16 [00:00<00:00, 85.16it/s]\n"
     ]
    },
    {
     "name": "stdout",
     "output_type": "stream",
     "text": [
      "Activity Training accuracy: 100.0\n",
      "Location Training accuracy: 100.0\n",
      "Activity Training loss: 0.007771048259617079\n",
      "Location Training loss: 0.01068773083757646\n",
      "Activity Test accuracy: 89.0625\n",
      "Location Test accuracy: 97.39583333333333\n",
      "Activity Test loss: 0.41906847556432086\n",
      "Location Test loss: 0.06664247686664264\n",
      "Epoch: 182\n"
     ]
    },
    {
     "name": "stderr",
     "output_type": "stream",
     "text": [
      "100%|██████████████████████████████████████████████████████████████████████████████████████████████████████████████████████████████████████████████████████████████████████████████| 16/16 [00:00<00:00, 85.70it/s]\n"
     ]
    },
    {
     "name": "stdout",
     "output_type": "stream",
     "text": [
      "Activity Training accuracy: 100.0\n",
      "Location Training accuracy: 100.0\n",
      "Activity Training loss: 0.005521151497222409\n",
      "Location Training loss: 0.01208733326137656\n",
      "Activity Test accuracy: 88.02083333333333\n",
      "Location Test accuracy: 96.35416666666667\n",
      "Activity Test loss: 0.41807790597279865\n",
      "Location Test loss: 0.06851164810359478\n",
      "Epoch: 183\n"
     ]
    },
    {
     "name": "stderr",
     "output_type": "stream",
     "text": [
      "100%|██████████████████████████████████████████████████████████████████████████████████████████████████████████████████████████████████████████████████████████████████████████████| 16/16 [00:00<00:00, 85.24it/s]\n"
     ]
    },
    {
     "name": "stdout",
     "output_type": "stream",
     "text": [
      "Activity Training accuracy: 100.0\n",
      "Location Training accuracy: 100.0\n",
      "Activity Training loss: 0.0064415603728577644\n",
      "Location Training loss: 0.008570025728480651\n",
      "Activity Test accuracy: 90.10416666666667\n",
      "Location Test accuracy: 96.875\n",
      "Activity Test loss: 0.41600067416826886\n",
      "Location Test loss: 0.06677435400585334\n",
      "Epoch: 184\n"
     ]
    },
    {
     "name": "stderr",
     "output_type": "stream",
     "text": [
      "100%|██████████████████████████████████████████████████████████████████████████████████████████████████████████████████████████████████████████████████████████████████████████████| 16/16 [00:00<00:00, 85.31it/s]\n"
     ]
    },
    {
     "name": "stdout",
     "output_type": "stream",
     "text": [
      "Activity Training accuracy: 100.0\n",
      "Location Training accuracy: 100.0\n",
      "Activity Training loss: 0.006966374932539345\n",
      "Location Training loss: 0.008982629587154577\n",
      "Activity Test accuracy: 88.54166666666667\n",
      "Location Test accuracy: 96.875\n",
      "Activity Test loss: 0.4205830494562785\n",
      "Location Test loss: 0.0666566751897335\n",
      "Epoch: 185\n"
     ]
    },
    {
     "name": "stderr",
     "output_type": "stream",
     "text": [
      "100%|██████████████████████████████████████████████████████████████████████████████████████████████████████████████████████████████████████████████████████████████████████████████| 16/16 [00:00<00:00, 85.43it/s]\n"
     ]
    },
    {
     "name": "stdout",
     "output_type": "stream",
     "text": [
      "Activity Training accuracy: 100.0\n",
      "Location Training accuracy: 100.0\n",
      "Activity Training loss: 0.007732962868591347\n",
      "Location Training loss: 0.012182636485241427\n",
      "Activity Test accuracy: 88.54166666666667\n",
      "Location Test accuracy: 97.39583333333333\n",
      "Activity Test loss: 0.42214574416478473\n",
      "Location Test loss: 0.06510839362939198\n",
      "Epoch: 186\n"
     ]
    },
    {
     "name": "stderr",
     "output_type": "stream",
     "text": [
      "100%|██████████████████████████████████████████████████████████████████████████████████████████████████████████████████████████████████████████████████████████████████████████████| 16/16 [00:00<00:00, 86.04it/s]\n"
     ]
    },
    {
     "name": "stdout",
     "output_type": "stream",
     "text": [
      "Activity Training accuracy: 100.0\n",
      "Location Training accuracy: 100.0\n",
      "Activity Training loss: 0.0072895908857336135\n",
      "Location Training loss: 0.00854417506125894\n",
      "Activity Test accuracy: 88.54166666666667\n",
      "Location Test accuracy: 96.875\n",
      "Activity Test loss: 0.41927627722422284\n",
      "Location Test loss: 0.06435214169323444\n",
      "Epoch: 187\n"
     ]
    },
    {
     "name": "stderr",
     "output_type": "stream",
     "text": [
      "100%|██████████████████████████████████████████████████████████████████████████████████████████████████████████████████████████████████████████████████████████████████████████████| 16/16 [00:00<00:00, 85.14it/s]\n"
     ]
    },
    {
     "name": "stdout",
     "output_type": "stream",
     "text": [
      "Activity Training accuracy: 100.0\n",
      "Location Training accuracy: 100.0\n",
      "Activity Training loss: 0.006621873319739163\n",
      "Location Training loss: 0.01358136012412534\n",
      "Activity Test accuracy: 88.54166666666667\n",
      "Location Test accuracy: 97.39583333333333\n",
      "Activity Test loss: 0.418161282936732\n",
      "Location Test loss: 0.06549115851521492\n",
      "Epoch: 188\n"
     ]
    },
    {
     "name": "stderr",
     "output_type": "stream",
     "text": [
      "100%|██████████████████████████████████████████████████████████████████████████████████████████████████████████████████████████████████████████████████████████████████████████████| 16/16 [00:00<00:00, 85.19it/s]\n"
     ]
    },
    {
     "name": "stdout",
     "output_type": "stream",
     "text": [
      "Activity Training accuracy: 100.0\n",
      "Location Training accuracy: 100.0\n",
      "Activity Training loss: 0.007749876188169611\n",
      "Location Training loss: 0.011539543634003932\n",
      "Activity Test accuracy: 88.02083333333333\n",
      "Location Test accuracy: 97.39583333333333\n",
      "Activity Test loss: 0.41836513082186383\n",
      "Location Test loss: 0.06561361191173394\n",
      "Epoch: 189\n"
     ]
    },
    {
     "name": "stderr",
     "output_type": "stream",
     "text": [
      "100%|██████████████████████████████████████████████████████████████████████████████████████████████████████████████████████████████████████████████████████████████████████████████| 16/16 [00:00<00:00, 85.41it/s]\n"
     ]
    },
    {
     "name": "stdout",
     "output_type": "stream",
     "text": [
      "Activity Training accuracy: 100.0\n",
      "Location Training accuracy: 100.0\n",
      "Activity Training loss: 0.008190434049851824\n",
      "Location Training loss: 0.009856469368580544\n",
      "Activity Test accuracy: 88.02083333333333\n",
      "Location Test accuracy: 96.875\n",
      "Activity Test loss: 0.41670238971710205\n",
      "Location Test loss: 0.06265515461564064\n",
      "Epoch: 190\n"
     ]
    },
    {
     "name": "stderr",
     "output_type": "stream",
     "text": [
      "100%|██████████████████████████████████████████████████████████████████████████████████████████████████████████████████████████████████████████████████████████████████████████████| 16/16 [00:00<00:00, 85.35it/s]\n"
     ]
    },
    {
     "name": "stdout",
     "output_type": "stream",
     "text": [
      "Activity Training accuracy: 100.0\n",
      "Location Training accuracy: 100.0\n",
      "Activity Training loss: 0.007201100428505699\n",
      "Location Training loss: 0.010588647513696463\n",
      "Activity Test accuracy: 90.10416666666667\n",
      "Location Test accuracy: 95.83333333333333\n",
      "Activity Test loss: 0.4118419388930003\n",
      "Location Test loss: 0.06733304262161255\n",
      "Epoch: 191\n"
     ]
    },
    {
     "name": "stderr",
     "output_type": "stream",
     "text": [
      "100%|██████████████████████████████████████████████████████████████████████████████████████████████████████████████████████████████████████████████████████████████████████████████| 16/16 [00:00<00:00, 85.62it/s]\n"
     ]
    },
    {
     "name": "stdout",
     "output_type": "stream",
     "text": [
      "Activity Training accuracy: 100.0\n",
      "Location Training accuracy: 100.0\n",
      "Activity Training loss: 0.005092708205822671\n",
      "Location Training loss: 0.008919004904161585\n",
      "Activity Test accuracy: 89.0625\n",
      "Location Test accuracy: 96.875\n",
      "Activity Test loss: 0.41328854362169903\n",
      "Location Test loss: 0.0639440647015969\n",
      "Epoch: 192\n"
     ]
    },
    {
     "name": "stderr",
     "output_type": "stream",
     "text": [
      "100%|██████████████████████████████████████████████████████████████████████████████████████████████████████████████████████████████████████████████████████████████████████████████| 16/16 [00:00<00:00, 86.11it/s]\n"
     ]
    },
    {
     "name": "stdout",
     "output_type": "stream",
     "text": [
      "Activity Training accuracy: 100.0\n",
      "Location Training accuracy: 100.0\n",
      "Activity Training loss: 0.005584167843998069\n",
      "Location Training loss: 0.0078094913227723375\n",
      "Activity Test accuracy: 89.58333333333333\n",
      "Location Test accuracy: 97.91666666666667\n",
      "Activity Test loss: 0.4161466558774312\n",
      "Location Test loss: 0.06433757332464059\n",
      "Epoch: 193\n"
     ]
    },
    {
     "name": "stderr",
     "output_type": "stream",
     "text": [
      "100%|██████████████████████████████████████████████████████████████████████████████████████████████████████████████████████████████████████████████████████████████████████████████| 16/16 [00:00<00:00, 85.94it/s]\n"
     ]
    },
    {
     "name": "stdout",
     "output_type": "stream",
     "text": [
      "Activity Training accuracy: 100.0\n",
      "Location Training accuracy: 100.0\n",
      "Activity Training loss: 0.0073703763213488135\n",
      "Location Training loss: 0.0076658728984322876\n",
      "Activity Test accuracy: 88.02083333333333\n",
      "Location Test accuracy: 96.875\n",
      "Activity Test loss: 0.4226376513640086\n",
      "Location Test loss: 0.06497056720157464\n",
      "Epoch: 194\n"
     ]
    },
    {
     "name": "stderr",
     "output_type": "stream",
     "text": [
      "100%|██████████████████████████████████████████████████████████████████████████████████████████████████████████████████████████████████████████████████████████████████████████████| 16/16 [00:00<00:00, 85.47it/s]\n"
     ]
    },
    {
     "name": "stdout",
     "output_type": "stream",
     "text": [
      "Activity Training accuracy: 100.0\n",
      "Location Training accuracy: 100.0\n",
      "Activity Training loss: 0.008414093825486626\n",
      "Location Training loss: 0.011560460689044235\n",
      "Activity Test accuracy: 88.54166666666667\n",
      "Location Test accuracy: 97.91666666666667\n",
      "Activity Test loss: 0.4210793375968933\n",
      "Location Test loss: 0.06251728596786658\n",
      "Epoch: 195\n"
     ]
    },
    {
     "name": "stderr",
     "output_type": "stream",
     "text": [
      "100%|██████████████████████████████████████████████████████████████████████████████████████████████████████████████████████████████████████████████████████████████████████████████| 16/16 [00:00<00:00, 85.82it/s]\n"
     ]
    },
    {
     "name": "stdout",
     "output_type": "stream",
     "text": [
      "Activity Training accuracy: 100.0\n",
      "Location Training accuracy: 100.0\n",
      "Activity Training loss: 0.00678324035488733\n",
      "Location Training loss: 0.008473440798202364\n",
      "Activity Test accuracy: 89.0625\n",
      "Location Test accuracy: 96.875\n",
      "Activity Test loss: 0.4130382239818573\n",
      "Location Test loss: 0.06730660051107407\n",
      "Epoch: 196\n"
     ]
    },
    {
     "name": "stderr",
     "output_type": "stream",
     "text": [
      "100%|██████████████████████████████████████████████████████████████████████████████████████████████████████████████████████████████████████████████████████████████████████████████| 16/16 [00:00<00:00, 84.59it/s]\n"
     ]
    },
    {
     "name": "stdout",
     "output_type": "stream",
     "text": [
      "Activity Training accuracy: 100.0\n",
      "Location Training accuracy: 100.0\n",
      "Activity Training loss: 0.008351366812049753\n",
      "Location Training loss: 0.009991248601143903\n",
      "Activity Test accuracy: 89.58333333333333\n",
      "Location Test accuracy: 95.83333333333333\n",
      "Activity Test loss: 0.41329895456631977\n",
      "Location Test loss: 0.0680413165440162\n",
      "Epoch: 197\n"
     ]
    },
    {
     "name": "stderr",
     "output_type": "stream",
     "text": [
      "100%|██████████████████████████████████████████████████████████████████████████████████████████████████████████████████████████████████████████████████████████████████████████████| 16/16 [00:00<00:00, 83.79it/s]\n"
     ]
    },
    {
     "name": "stdout",
     "output_type": "stream",
     "text": [
      "Activity Training accuracy: 100.0\n",
      "Location Training accuracy: 100.0\n",
      "Activity Training loss: 0.0071025157919024475\n",
      "Location Training loss: 0.008745669153067145\n",
      "Activity Test accuracy: 89.0625\n",
      "Location Test accuracy: 97.91666666666667\n",
      "Activity Test loss: 0.4174634615580241\n",
      "Location Test loss: 0.06478966524203618\n",
      "Epoch: 198\n"
     ]
    },
    {
     "name": "stderr",
     "output_type": "stream",
     "text": [
      "100%|██████████████████████████████████████████████████████████████████████████████████████████████████████████████████████████████████████████████████████████████████████████████| 16/16 [00:00<00:00, 85.17it/s]\n"
     ]
    },
    {
     "name": "stdout",
     "output_type": "stream",
     "text": [
      "Activity Training accuracy: 100.0\n",
      "Location Training accuracy: 100.0\n",
      "Activity Training loss: 0.006774770770922746\n",
      "Location Training loss: 0.008799081598177995\n",
      "Activity Test accuracy: 88.54166666666667\n",
      "Location Test accuracy: 97.39583333333333\n",
      "Activity Test loss: 0.41828500231107074\n",
      "Location Test loss: 0.06470859112838905\n",
      "Epoch: 199\n"
     ]
    },
    {
     "name": "stderr",
     "output_type": "stream",
     "text": [
      "100%|██████████████████████████████████████████████████████████████████████████████████████████████████████████████████████████████████████████████████████████████████████████████| 16/16 [00:00<00:00, 84.47it/s]\n"
     ]
    },
    {
     "name": "stdout",
     "output_type": "stream",
     "text": [
      "Activity Training accuracy: 100.0\n",
      "Location Training accuracy: 100.0\n",
      "Activity Training loss: 0.006455832395223108\n",
      "Location Training loss: 0.008650432851645027\n",
      "Activity Test accuracy: 88.54166666666667\n",
      "Location Test accuracy: 96.875\n",
      "Activity Test loss: 0.4155151943365733\n",
      "Location Test loss: 0.06651890960832436\n",
      "90.104\n"
     ]
    }
   ],
   "source": [
    "for epoch in range(num_epochs):\n",
    "    print('Epoch:', epoch)\n",
    "    aplnet.train()\n",
    "    scheduler.step()\n",
    "    # for i, (samples, labels) in enumerate(train_data_loader):\n",
    "    loss_x = 0\n",
    "    loss_y = 0\n",
    "    for (samples, labels) in tqdm(train_data_loader):\n",
    "        samplesV = Variable(samples.cuda())\n",
    "        labels_act = labels[:, 0].squeeze()\n",
    "        labels_loc = labels[:, 1].squeeze()\n",
    "        labelsV_act = Variable(labels_act.cuda())\n",
    "        labelsV_loc = Variable(labels_loc.cuda())\n",
    "\n",
    "        # Forward + Backward + Optimize\n",
    "        optimizer.zero_grad()\n",
    "        predict_label_act, predict_label_loc,_,_,_,_,_,_,_ = aplnet(samplesV)\n",
    "\n",
    "        loss_act = criterion(predict_label_act, labelsV_act)\n",
    "        loss_loc = criterion(predict_label_loc, labelsV_loc)\n",
    "\n",
    "        loss = loss_act + loss_loc\n",
    "        # loss = loss_loc\n",
    "        # print(loss.item())\n",
    "        loss.backward()\n",
    "        optimizer.step()\n",
    "\n",
    "        # loss = loss1+0.5*loss2+0.25*loss3+0.25*loss4\n",
    "        # loss = loss1+loss2+loss3+loss4\n",
    "\n",
    "        loss_x += loss_act.item()\n",
    "        loss_y += loss_loc.item()\n",
    "\n",
    "        # loss.backward()\n",
    "        # optimizer.step()\n",
    "\n",
    "    train_loss_act[epoch] = loss_x / num_train_instances\n",
    "    train_loss_loc[epoch] = loss_y / num_train_instances\n",
    "\n",
    "    aplnet.eval()\n",
    "    # loss_x = 0\n",
    "    correct_train_act = 0\n",
    "    correct_train_loc = 0\n",
    "    for i, (samples, labels) in enumerate(train_data_loader):\n",
    "        with torch.no_grad():\n",
    "            samplesV = Variable(samples.cuda())\n",
    "            labels = labels.squeeze()\n",
    "\n",
    "            labels_act = labels[:, 0].squeeze()\n",
    "            labels_loc = labels[:, 1].squeeze()\n",
    "            labelsV_act = Variable(labels_act.cuda())\n",
    "            labelsV_loc = Variable(labels_loc.cuda())\n",
    "\n",
    "            predict_label_act, predict_label_loc,_,_,_,_,_,_,_ = aplnet(samplesV)\n",
    "\n",
    "            prediction = predict_label_loc.data.max(1)[1]\n",
    "            correct_train_loc += prediction.eq(labelsV_loc.data.long()).sum()\n",
    "\n",
    "            prediction = predict_label_act.data.max(1)[1]\n",
    "            correct_train_act += prediction.eq(labelsV_act.data.long()).sum()\n",
    "\n",
    "            loss_act = criterion(predict_label_act, labelsV_act)\n",
    "            loss_loc = criterion(predict_label_loc, labelsV_loc)\n",
    "            # loss_x += loss.item()\n",
    "\n",
    "    print(\"Activity Training accuracy:\", (100 * float(correct_train_act) / num_train_instances))\n",
    "    print(\"Location Training accuracy:\", (100 * float(correct_train_loc) / num_train_instances))\n",
    "    print(\"Activity Training loss:\", loss_x / num_train_instances )\n",
    "    print(\"Location Training loss:\", loss_y / num_train_instances)\n",
    "\n",
    "    # train_loss[epoch] = loss_x / num_train_instances\n",
    "    train_acc_act[epoch] = 100 * float(correct_train_act) / num_train_instances\n",
    "    train_acc_loc[epoch] = 100 * float(correct_train_loc) / num_train_instances\n",
    "\n",
    "\n",
    "    trainacc_act = str(100 * float(correct_train_act) / num_train_instances)[0:6]\n",
    "    trainacc_loc = str(100 * float(correct_train_loc) / num_train_instances)[0:6]\n",
    "    \n",
    "\n",
    "    loss_x = 0\n",
    "    loss_y = 0\n",
    "    correct_test_act = 0\n",
    "    correct_test_loc = 0\n",
    "    for i, (samples, labels) in enumerate(test_data_loader):\n",
    "        with torch.no_grad():\n",
    "            samplesV = Variable(samples.cuda())\n",
    "            labels_act = labels[:, 0].squeeze()\n",
    "            labels_loc = labels[:, 1].squeeze()\n",
    "            labelsV_act = Variable(labels_act.cuda())\n",
    "            labelsV_loc = Variable(labels_loc.cuda())\n",
    "\n",
    "        predict_label_act, predict_label_loc,_,_,_,_,_,_,_ = aplnet(samplesV)\n",
    "        prediction = predict_label_act.data.max(1)[1]\n",
    "        correct_test_act += prediction.eq(labelsV_act.data.long()).sum()\n",
    "\n",
    "        prediction = predict_label_loc.data.max(1)[1]\n",
    "        correct_test_loc += prediction.eq(labelsV_loc.data.long()).sum()\n",
    "\n",
    "        loss_act = criterion(predict_label_act, labelsV_act)\n",
    "        loss_loc = criterion(predict_label_loc, labelsV_loc)\n",
    "        loss_x += loss_act.item()\n",
    "        loss_y += loss_loc.item()\n",
    "\n",
    "    print(\"Activity Test accuracy:\", (100 * float(correct_test_act) / num_test_instances))\n",
    "    print(\"Location Test accuracy:\", (100 * float(correct_test_loc) / num_test_instances))\n",
    "    print(\"Activity Test loss:\", loss_x / num_test_instances )\n",
    "    print(\"Location Test loss:\", loss_y / num_test_instances)\n",
    "\n",
    "    test_loss_act[epoch] = loss_x / num_test_instances\n",
    "    test_acc_act[epoch] = 100 * float(correct_test_act) / num_test_instances\n",
    "\n",
    "    test_loss_loc[epoch] = loss_y / num_test_instances\n",
    "    test_acc_loc[epoch] = 100 * float(correct_test_loc) / num_test_instances\n",
    "\n",
    "    testacc_act = str(100 * float(correct_test_act) / num_test_instances)[0:6]\n",
    "    testacc_loc = str(100 * float(correct_test_loc) / num_test_instances)[0:6]\n",
    "\n",
    "    if epoch == 0:\n",
    "        temp_test = correct_test_act\n",
    "        temp_train = correct_train_act\n",
    "    elif correct_test_act > temp_test:\n",
    "        torch.save(aplnet, 'weights/net1111epoch' + str(\n",
    "            epoch) + 'Train' + trainacc_act + 'Test' + testacc_act + 'Train' + trainacc_loc + 'Test' + testacc_loc + '.pkl')\n",
    "\n",
    "        temp_test = correct_test_act\n",
    "        temp_train = correct_train_act\n",
    "\n",
    "\n",
    "# for learning curves\n",
    "sio.savemat(\n",
    "    'result/net1111TrainLossAct_Train' + str(100 * float(temp_train) / num_train_instances)[\n",
    "                                                                 0:6] + 'Test' + str(\n",
    "        100 * float(temp_test) / num_test_instances)[0:6] + '.mat', {'train_loss': train_loss_act})\n",
    "sio.savemat(\n",
    "    'result/net1111TestLossACT_Train' + str(100 * float(temp_train) / num_train_instances)[\n",
    "                                                                0:6] + 'Test' + str(\n",
    "        100 * float(temp_test) / num_test_instances)[0:6] + '.mat', {'test_loss': test_loss_act})\n",
    "sio.savemat(\n",
    "    'result/net1111TrainLossLOC_Train' + str(100 * float(temp_train) / num_train_instances)[\n",
    "                                 0:6] + 'Test' + str(\n",
    "        100 * float(temp_test) / num_test_instances)[0:6] + '.mat', {'train_loss': train_loss_loc})\n",
    "sio.savemat(\n",
    "    'result/net1111TestLossLOC_Train' + str(100 * float(temp_train) / num_train_instances)[\n",
    "                                 0:6] + 'Test' + str(\n",
    "        100 * float(temp_test) / num_test_instances)[0:6] + '.mat', {'test_loss': test_loss_loc})\n",
    "\n",
    "sio.savemat('result/net1111TrainAccuracyACT_Train' + str(\n",
    "    100 * float(temp_train) / num_train_instances)[0:6] + 'Test' + str(100 * float(temp_test) / num_test_instances)[\n",
    "                                                                   0:6] + '.mat', {'train_acc': train_acc_act})\n",
    "sio.savemat('result/net1111TestAccuracyACT_Train' + str(\n",
    "    100 * float(temp_train) / num_train_instances)[0:6] + 'Test' + str(100 * float(temp_test) / num_test_instances)[\n",
    "                                                                   0:6] + '.mat', {'test_acc': test_acc_act})\n",
    "print(str(100 * float(temp_test) / num_test_instances)[0:6])\n",
    "\n",
    "sio.savemat('result/net1111TrainAccuracyLOC_Train' + str(\n",
    "    100 * float(temp_train) / num_train_instances)[0:6] + 'Test' + str(100 * float(temp_test) / num_test_instances)[\n",
    "                                                                   0:6] + '.mat', {'train_acc': train_acc_loc})\n",
    "sio.savemat('result/net1111TestAccuracyLOC_Train' + str(\n",
    "    100 * float(temp_train) / num_train_instances)[0:6] + 'Test' + str(100 * float(temp_test) / num_test_instances)[\n",
    "                                                                   0:6] + '.mat', {'test_acc': test_acc_loc})"
   ]
  },
  {
   "cell_type": "code",
   "execution_count": 81,
   "id": "9fc56b6c",
   "metadata": {},
   "outputs": [],
   "source": [
    "import pandas as pd"
   ]
  },
  {
   "cell_type": "code",
   "execution_count": 82,
   "id": "0716815b",
   "metadata": {},
   "outputs": [
    {
     "data": {
      "text/plain": [
       "<AxesSubplot:>"
      ]
     },
     "execution_count": 82,
     "metadata": {},
     "output_type": "execute_result"
    },
    {
     "data": {
      "image/png": "[encoded data removed]",
      "text/plain": [
       "<Figure size 432x288 with 1 Axes>"
      ]
     },
     "metadata": {
      "needs_background": "light"
     },
     "output_type": "display_data"
    }
   ],
   "source": [
    "# train loss act vs loc\n",
    "train_loss_act_df = pd.DataFrame(train_loss_act)\n",
    "train_loss_act_df = train_loss_act_df.rename(columns={0:'train_loss_act'})\n",
    "train_loss_loc_df = pd.DataFrame(train_loss_loc)\n",
    "train_loss_loc_df = train_loss_loc_df.rename(columns={0:'train_loss_loc'})\n",
    "pd.concat([train_loss_act_df,train_loss_loc_df], axis=1).plot()"
   ]
  },
  {
   "cell_type": "code",
   "execution_count": 83,
   "id": "79fdc218",
   "metadata": {},
   "outputs": [
    {
     "data": {
      "text/plain": [
       "<AxesSubplot:>"
      ]
     },
     "execution_count": 83,
     "metadata": {},
     "output_type": "execute_result"
    },
    {
     "data": {
      "image/png": "[encoded data removed]",
      "text/plain": [
       "<Figure size 432x288 with 1 Axes>"
      ]
     },
     "metadata": {
      "needs_background": "light"
     },
     "output_type": "display_data"
    }
   ],
   "source": [
    "# train acc act vs loc\n",
    "train_acc_act_df = pd.DataFrame(train_acc_act)\n",
    "train_acc_act_df = train_acc_act_df.rename(columns={0:'train_acc_act'})\n",
    "train_acc_loc_df = pd.DataFrame(train_acc_loc)\n",
    "train_acc_loc_df = train_acc_loc_df.rename(columns={0:'train_acc_loc'})\n",
    "pd.concat([train_acc_act_df,train_acc_loc_df], axis=1).plot()"
   ]
  },
  {
   "cell_type": "code",
   "execution_count": 84,
   "id": "54ced2be",
   "metadata": {},
   "outputs": [
    {
     "data": {
      "text/plain": [
       "<AxesSubplot:>"
      ]
     },
     "execution_count": 84,
     "metadata": {},
     "output_type": "execute_result"
    },
    {
     "data": {
      "image/png": "[encoded data removed]",
      "text/plain": [
       "<Figure size 432x288 with 1 Axes>"
      ]
     },
     "metadata": {
      "needs_background": "light"
     },
     "output_type": "display_data"
    }
   ],
   "source": [
    "# test loss act vs loc\n",
    "test_loss_act_df = pd.DataFrame(test_loss_act)\n",
    "test_loss_act_df = test_loss_act_df.rename(columns={0:'test_loss_act'})\n",
    "test_loss_loc_df = pd.DataFrame(test_loss_loc)\n",
    "test_loss_loc_df = test_loss_loc_df.rename(columns={0:'test_loss_loc'})\n",
    "pd.concat([test_loss_act_df,test_loss_loc_df], axis=1).plot()"
   ]
  },
  {
   "cell_type": "code",
   "execution_count": 85,
   "id": "6b878bac",
   "metadata": {},
   "outputs": [
    {
     "data": {
      "text/plain": [
       "<AxesSubplot:>"
      ]
     },
     "execution_count": 85,
     "metadata": {},
     "output_type": "execute_result"
    },
    {
     "data": {
      "image/png": "[encoded data removed]",
      "text/plain": [
       "<Figure size 432x288 with 1 Axes>"
      ]
     },
     "metadata": {
      "needs_background": "light"
     },
     "output_type": "display_data"
    }
   ],
   "source": [
    "# test acc act vs loc\n",
    "test_acc_act_df = pd.DataFrame(test_acc_act)\n",
    "test_acc_act_df = test_acc_act_df.rename(columns={0:'test_acc_act'})\n",
    "test_acc_loc_df = pd.DataFrame(test_acc_loc)\n",
    "test_acc_loc_df = test_acc_loc_df.rename(columns={0:'test_acc_loc'})\n",
    "pd.concat([test_acc_act_df,test_acc_loc_df], axis=1).plot()"
   ]
  },
  {
   "cell_type": "code",
   "execution_count": 86,
   "id": "ce48b644",
   "metadata": {},
   "outputs": [],
   "source": [
    "resnet_df = pd.concat([train_loss_act_df,train_loss_loc_df,train_acc_act_df,train_acc_loc_df,test_loss_act_df,test_loss_loc_df,test_acc_act_df,test_acc_loc_df], axis=1)"
   ]
  },
  {
   "cell_type": "code",
   "execution_count": 87,
   "id": "5c203d5e",
   "metadata": {},
   "outputs": [
    {
     "data": {
      "text/html": [
       "<div>\n",
       "<style scoped>\n",
       "    .dataframe tbody tr th:only-of-type {\n",
       "        vertical-align: middle;\n",
       "    }\n",
       "\n",
       "    .dataframe tbody tr th {\n",
       "        vertical-align: top;\n",
       "    }\n",
       "\n",
       "    .dataframe thead th {\n",
       "        text-align: right;\n",
       "    }\n",
       "</style>\n",
       "<table border=\"1\" class=\"dataframe\">\n",
       "  <thead>\n",
       "    <tr style=\"text-align: right;\">\n",
       "      <th></th>\n",
       "      <th>train_loss_act</th>\n",
       "      <th>train_loss_loc</th>\n",
       "      <th>train_acc_act</th>\n",
       "      <th>train_acc_loc</th>\n",
       "      <th>test_loss_act</th>\n",
       "      <th>test_loss_loc</th>\n",
       "      <th>test_acc_act</th>\n",
       "      <th>test_acc_loc</th>\n",
       "    </tr>\n",
       "  </thead>\n",
       "  <tbody>\n",
       "    <tr>\n",
       "      <th>0</th>\n",
       "      <td>1.939374</td>\n",
       "      <td>2.063436</td>\n",
       "      <td>16.732673</td>\n",
       "      <td>19.108911</td>\n",
       "      <td>1.886625</td>\n",
       "      <td>2.804619</td>\n",
       "      <td>17.187500</td>\n",
       "      <td>19.791667</td>\n",
       "    </tr>\n",
       "    <tr>\n",
       "      <th>1</th>\n",
       "      <td>1.794703</td>\n",
       "      <td>1.259842</td>\n",
       "      <td>19.306931</td>\n",
       "      <td>12.178218</td>\n",
       "      <td>1.817001</td>\n",
       "      <td>4.230514</td>\n",
       "      <td>19.270833</td>\n",
       "      <td>9.375000</td>\n",
       "    </tr>\n",
       "    <tr>\n",
       "      <th>2</th>\n",
       "      <td>1.711397</td>\n",
       "      <td>1.009163</td>\n",
       "      <td>21.386139</td>\n",
       "      <td>44.950495</td>\n",
       "      <td>1.805400</td>\n",
       "      <td>1.883145</td>\n",
       "      <td>20.312500</td>\n",
       "      <td>42.187500</td>\n",
       "    </tr>\n",
       "    <tr>\n",
       "      <th>3</th>\n",
       "      <td>1.637413</td>\n",
       "      <td>1.007424</td>\n",
       "      <td>22.673267</td>\n",
       "      <td>26.138614</td>\n",
       "      <td>1.708712</td>\n",
       "      <td>2.822200</td>\n",
       "      <td>21.875000</td>\n",
       "      <td>30.729167</td>\n",
       "    </tr>\n",
       "    <tr>\n",
       "      <th>4</th>\n",
       "      <td>1.526672</td>\n",
       "      <td>0.859498</td>\n",
       "      <td>26.435644</td>\n",
       "      <td>24.356436</td>\n",
       "      <td>2.077803</td>\n",
       "      <td>5.814908</td>\n",
       "      <td>22.916667</td>\n",
       "      <td>25.520833</td>\n",
       "    </tr>\n",
       "    <tr>\n",
       "      <th>...</th>\n",
       "      <td>...</td>\n",
       "      <td>...</td>\n",
       "      <td>...</td>\n",
       "      <td>...</td>\n",
       "      <td>...</td>\n",
       "      <td>...</td>\n",
       "      <td>...</td>\n",
       "      <td>...</td>\n",
       "    </tr>\n",
       "    <tr>\n",
       "      <th>195</th>\n",
       "      <td>0.006783</td>\n",
       "      <td>0.008473</td>\n",
       "      <td>100.000000</td>\n",
       "      <td>100.000000</td>\n",
       "      <td>0.413038</td>\n",
       "      <td>0.067307</td>\n",
       "      <td>89.062500</td>\n",
       "      <td>96.875000</td>\n",
       "    </tr>\n",
       "    <tr>\n",
       "      <th>196</th>\n",
       "      <td>0.008351</td>\n",
       "      <td>0.009991</td>\n",
       "      <td>100.000000</td>\n",
       "      <td>100.000000</td>\n",
       "      <td>0.413299</td>\n",
       "      <td>0.068041</td>\n",
       "      <td>89.583333</td>\n",
       "      <td>95.833333</td>\n",
       "    </tr>\n",
       "    <tr>\n",
       "      <th>197</th>\n",
       "      <td>0.007103</td>\n",
       "      <td>0.008746</td>\n",
       "      <td>100.000000</td>\n",
       "      <td>100.000000</td>\n",
       "      <td>0.417463</td>\n",
       "      <td>0.064790</td>\n",
       "      <td>89.062500</td>\n",
       "      <td>97.916667</td>\n",
       "    </tr>\n",
       "    <tr>\n",
       "      <th>198</th>\n",
       "      <td>0.006775</td>\n",
       "      <td>0.008799</td>\n",
       "      <td>100.000000</td>\n",
       "      <td>100.000000</td>\n",
       "      <td>0.418285</td>\n",
       "      <td>0.064709</td>\n",
       "      <td>88.541667</td>\n",
       "      <td>97.395833</td>\n",
       "    </tr>\n",
       "    <tr>\n",
       "      <th>199</th>\n",
       "      <td>0.006456</td>\n",
       "      <td>0.008650</td>\n",
       "      <td>100.000000</td>\n",
       "      <td>100.000000</td>\n",
       "      <td>0.415515</td>\n",
       "      <td>0.066519</td>\n",
       "      <td>88.541667</td>\n",
       "      <td>96.875000</td>\n",
       "    </tr>\n",
       "  </tbody>\n",
       "</table>\n",
       "<p>200 rows × 8 columns</p>\n",
       "</div>"
      ],
      "text/plain": [
       "     train_loss_act  train_loss_loc  train_acc_act  train_acc_loc  \\\n",
       "0          1.939374        2.063436      16.732673      19.108911   \n",
       "1          1.794703        1.259842      19.306931      12.178218   \n",
       "2          1.711397        1.009163      21.386139      44.950495   \n",
       "3          1.637413        1.007424      22.673267      26.138614   \n",
       "4          1.526672        0.859498      26.435644      24.356436   \n",
       "..              ...             ...            ...            ...   \n",
       "195        0.006783        0.008473     100.000000     100.000000   \n",
       "196        0.008351        0.009991     100.000000     100.000000   \n",
       "197        0.007103        0.008746     100.000000     100.000000   \n",
       "198        0.006775        0.008799     100.000000     100.000000   \n",
       "199        0.006456        0.008650     100.000000     100.000000   \n",
       "\n",
       "     test_loss_act  test_loss_loc  test_acc_act  test_acc_loc  \n",
       "0         1.886625       2.804619     17.187500     19.791667  \n",
       "1         1.817001       4.230514     19.270833      9.375000  \n",
       "2         1.805400       1.883145     20.312500     42.187500  \n",
       "3         1.708712       2.822200     21.875000     30.729167  \n",
       "4         2.077803       5.814908     22.916667     25.520833  \n",
       "..             ...            ...           ...           ...  \n",
       "195       0.413038       0.067307     89.062500     96.875000  \n",
       "196       0.413299       0.068041     89.583333     95.833333  \n",
       "197       0.417463       0.064790     89.062500     97.916667  \n",
       "198       0.418285       0.064709     88.541667     97.395833  \n",
       "199       0.415515       0.066519     88.541667     96.875000  \n",
       "\n",
       "[200 rows x 8 columns]"
      ]
     },
     "execution_count": 87,
     "metadata": {},
     "output_type": "execute_result"
    }
   ],
   "source": [
    "resnet_df"
   ]
  },
  {
   "cell_type": "code",
   "execution_count": null,
   "id": "859c62be",
   "metadata": {},
   "outputs": [],
   "source": []
  }
 ],
 "metadata": {
  "kernelspec": {
   "display_name": "Python [conda env:torch_cuda111] *",
   "language": "python",
   "name": "conda-env-torch_cuda111-py"
  },
  "language_info": {
   "codemirror_mode": {
    "name": "ipython",
    "version": 3
   },
   "file_extension": ".py",
   "mimetype": "text/x-python",
   "name": "python",
   "nbconvert_exporter": "python",
   "pygments_lexer": "ipython3",
   "version": "3.8.0"
  }
 },
 "nbformat": 4,
 "nbformat_minor": 5
}
